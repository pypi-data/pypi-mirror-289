{
 "cells": [
  {
   "cell_type": "markdown",
   "id": "e1ebbea8-4f28-4ec2-8e67-88b9e5e13fa9",
   "metadata": {},
   "source": [
    "### Custom kernels"
   ]
  },
  {
   "cell_type": "markdown",
   "id": "412e7f8b-9632-4c0b-a90a-9d65869c3501",
   "metadata": {},
   "source": [
    "Let's say you don't want to be stuck with vanilla quasi-periodic Gaussian Process kernels to describe your correlated noise. We want to be agnostic about your noise so that we can generalize to diverse science use cases, after all! \n",
    "\n",
    "Enter: tinygp (https://tinygp.readthedocs.io/en/stable/; Dan Foreman-Mackey and friends). We provide an interface with tinygp -- simply define your correlated noise kernel in tinygp, and then pass the kernel object into the gaspery covariance matrix class."
   ]
  },
  {
   "cell_type": "code",
   "execution_count": 1,
   "id": "022cda23-e418-4018-bef8-e4d5304e976e",
   "metadata": {},
   "outputs": [
    {
     "name": "stdout",
     "output_type": "stream",
     "text": [
      "1.22.3\n",
      "1.7.3\n"
     ]
    }
   ],
   "source": [
    "import numpy as np \n",
    "import scipy\n",
    "print(np.__version__)\n",
    "print(scipy.__version__)\n",
    "import pandas as pd\n",
    "import random\n",
    "import exoplanet\n",
    "import astropy \n",
    "import pymc3\n",
    "import pymc3_ext\n",
    "import tinygp\n",
    "from tinygp import kernels, GaussianProcess\n",
    "from numpy.linalg import inv, det, solve, cond\n",
    "from tqdm import tqdm\n",
    "from astropy.time import Time\n",
    "\n",
    "import matplotlib.pyplot as plt\n",
    "import matplotlib\n",
    "\n",
    "import jax\n",
    "import jax.numpy as jnp\n",
    "from jax import grad, jit, vmap\n",
    "#from jax import random\n",
    "\n",
    "from gaspery import calculate_fi, strategies, utils\n",
    "\n"
   ]
  },
  {
   "cell_type": "code",
   "execution_count": 2,
   "id": "d38f5075-dff0-43c7-b3dd-6b23c2bf3902",
   "metadata": {},
   "outputs": [],
   "source": [
    "import matplotlib.pylab as pylab\n",
    "pylab_params = {'legend.fontsize': 'large',\n",
    "         'axes.labelsize': 'x-large',\n",
    "         'axes.titlesize':'x-large',\n",
    "         'xtick.labelsize':'large',\n",
    "         'ytick.labelsize':'large'}\n",
    "pylab.rcParams.update(pylab_params)\n",
    "\n",
    "path = '/Users/chrislam/Desktop/gaspery/'"
   ]
  },
  {
   "cell_type": "markdown",
   "id": "64a96fe7-576e-4c03-8050-69443303b15c",
   "metadata": {},
   "source": [
    "List Planet Class parameters "
   ]
  },
  {
   "cell_type": "code",
   "execution_count": 4,
   "id": "6dfdd36d-7cb8-49c5-9ab4-41f48c8ce6ff",
   "metadata": {},
   "outputs": [],
   "source": [
    "### Planet parameters\n",
    "p = 8.46 # orbital period, days\n",
    "K = 850 # cm/s\n",
    "T0 = 2458651.993 # central transit time, in BJD, on 19 June 2019\n",
    "\n",
    "### choose start time as date of this writing\n",
    "start = '2023-03-01T10:00:00'\n",
    "start = Time(start, format='isot', scale='utc').jd"
   ]
  },
  {
   "cell_type": "markdown",
   "id": "eb2ed13b-af8d-4529-ac23-5fccccd9e648",
   "metadata": {},
   "source": [
    "List Star Class parameters, but these won't necessarily go into a quasiperiodic GP kernel."
   ]
  },
  {
   "cell_type": "code",
   "execution_count": 5,
   "id": "448289bd-0449-4de6-9885-d822a84682a9",
   "metadata": {},
   "outputs": [],
   "source": [
    "### correlated noise parameters, from Klein+ 2021 for AU Mic\n",
    "Prot = 4.86 # rotation period, days\n",
    "Tau = 100/np.sqrt(2) # active region lifetime; days\n",
    "eta = 0.4/np.sqrt(2) # 0.1, 0.3, 0.58, 0.9 # smoothing parameter\n",
    "sigma_qp_rv = 47 # modified Jeffreys prior +11, -8 [m/s]\n",
    "sigma_wn_rv = 5 # photon noise level [m/s]\n",
    "\n",
    "params = [sigma_wn_rv, Tau, eta, Prot, sigma_qp_rv]\n",
    "theta = [K, p, T0]"
   ]
  },
  {
   "cell_type": "markdown",
   "id": "ea79d65e-1c97-4d86-9d7a-70f128052b7a",
   "metadata": {},
   "source": [
    "Define an observing strategy"
   ]
  },
  {
   "cell_type": "code",
   "execution_count": 10,
   "id": "f22e5b07-c112-4c03-ac82-46f9b3b3279c",
   "metadata": {},
   "outputs": [],
   "source": [
    "# build strategy aka time series of observations\n",
    "cadence = 1 # observe once a day every day\n",
    "n_obs = 30\n",
    "strategy = strategies.Strategy(n_obs = n_obs, start = start, offs=[], dropout=0.)\n",
    "strat = strategy.gappy(cadence)"
   ]
  },
  {
   "cell_type": "markdown",
   "id": "defbe302-232a-46ad-9bf8-c8a32c5c6451",
   "metadata": {},
   "source": [
    "#### Define a custom kernel with tinygp\n",
    "\n",
    "Here we re-invent the wheel by custom defining a quasi-periodic kernel. But you can imagine truly going wild with your own kernel, if your use case calls for going beyond what the tinygp toolkit gives you!"
   ]
  },
  {
   "cell_type": "code",
   "execution_count": 12,
   "id": "4968d23b-4860-4b43-88b0-d1f226e29e1e",
   "metadata": {},
   "outputs": [],
   "source": [
    "class Quasiperiodic(tinygp.kernels.Kernel):\n",
    "    \n",
    "    def __init__(self, Tau, eta, Prot, sigma_qp_rv):\n",
    "        self.sigma_wn_rv = sigma_wn_rv\n",
    "        self.Tau = Tau\n",
    "        self.eta = eta\n",
    "        self.Prot = Prot\n",
    "        self.sigma_qp_rv = sigma_qp_rv\n",
    "\n",
    "    def evaluate(self, X1, X2):\n",
    "        tdiff = jnp.abs(X1 - X2) \n",
    "        term1 = (tdiff**2) / (2*self.Tau**2)\n",
    "        term2 = (1/(2*self.eta**2)) * (jnp.sin(jnp.pi * (tdiff)/self.Prot))**2\n",
    "        arg = -term1 - term2\n",
    "        k = jnp.exp(arg)\n",
    "        K = self.sigma_qp_rv**2 * k\n",
    "        return K\n",
    "            \n",
    "\n",
    "def build_gp(params, strat):\n",
    "\n",
    "    kernel = Quasiperiodic(\n",
    "        params[1], params[2], params[3], params[4] # omit the first param, which is for white noise and will be applied later\n",
    "    )\n",
    "\n",
    "    return kernel\n",
    "\n",
    "# instantiate kernel object\n",
    "kernel = build_gp(params, strat)\n",
    "\n",
    "# call kernel on observation strategy time series to get covariance matrix with correlated noise terms only\n",
    "k = kernel(strat, strat)\n",
    "\n",
    "# add white noise to correlated noise kernel\n",
    "k = k * sigma_wn_rv**2 * jnp.diag(np.ones(len(strat)))\n",
    "k += 1e-6 \n",
    "\n",
    "\n"
   ]
  },
  {
   "cell_type": "code",
   "execution_count": 23,
   "id": "9800dd6d-188a-4934-8779-109d9a270488",
   "metadata": {},
   "outputs": [
    {
     "name": "stderr",
     "output_type": "stream",
     "text": [
      "  0%|                                                                          | 0/96 [00:00<?, ?it/s]/var/folders/h2/sp_lfvz5515bhg_y92psw7f80000gn/T/ipykernel_88168/2798112378.py:41: RuntimeWarning: invalid value encountered in sqrt\n",
      "  sigma_k = np.sqrt(inv_fim)[0][0]\n",
      "100%|████████████████████████████████████████████████████████████████| 96/96 [00:00<00:00, 187.71it/s]\n"
     ]
    }
   ],
   "source": [
    "sigma_ks_qp = []\n",
    "for n_obs in tqdm(range(100)[4:]):\n",
    "    \n",
    "    # instantiate Star object in order to feed covariance matrix with white/correlated noise\n",
    "    star = calculate_fi.Star(sigma_wn_rv = sigma_wn_rv, Tau = Tau, eta = eta, \n",
    "                             Prot = Prot, sigma_qp_rv = sigma_qp_rv)\n",
    "    \n",
    "    # populate list of parameters to feed into cov_matrix_jax()\n",
    "    params = star.param_list()\n",
    "    \n",
    "    # instantiate Planets object in order to feed Fisher Info calculation machinery\n",
    "    planet = calculate_fi.Planets(K = K, p = p, T0 = T0)\n",
    "    \n",
    "    # populate list of parameters to feed into clam_jax_fim()\n",
    "    theta = planet.theta_list()\n",
    "    \n",
    "    # instantiate Strategy object in order to build time series of observations\n",
    "    strategy = strategies.Strategy(n_obs = n_obs, start = start, offs=[], dropout=0.)\n",
    "    \n",
    "    # build strategy aka time series of observations\n",
    "    strat = strategy.gappy(cadence)\n",
    "    \n",
    "    # build covariance matrix, characterized by a custom quasi-periodic noise model of the stellar signal\n",
    "    kernel = build_gp(params, strat)\n",
    "    \n",
    "    #sigma = calculate_fi.cov_matrix_jax(strat, params) # non-object-oriented\n",
    "    #sigma = star.cov_matrix(strat) # object-oriented but w/manual QP GP kernel\n",
    "    sigma = star.cov_matrix_general(strat, kernel) # object-oriented with custom kernels\n",
    "    sigma += 1e-6 \n",
    "\n",
    "    # populate arguments for Fisher Info calculator\n",
    "    args = np.array(strat), sigma, jnp.array(theta, dtype=float)\n",
    "    \n",
    "    # calculate FI\n",
    "    fim = calculate_fi.clam_jax_fim(*args).block_until_ready()\n",
    "    \n",
    "    # invert FI matrix\n",
    "    inv_fim = inv(fim)\n",
    "    \n",
    "    # top left element of matrix corresponds with RV semi-amplitude, K\n",
    "    sigma_k = np.sqrt(inv_fim)[0][0]\n",
    "    \n",
    "    sigma_ks_qp.append(sigma_k)\n",
    "    "
   ]
  },
  {
   "cell_type": "code",
   "execution_count": 24,
   "id": "9dc691a9-0882-4b7a-885f-bdb9f38e15e6",
   "metadata": {},
   "outputs": [
    {
     "data": {
      "image/png": "[encoded data removed]",
      "text/plain": [
       "<Figure size 640x480 with 1 Axes>"
      ]
     },
     "metadata": {},
     "output_type": "display_data"
    }
   ],
   "source": [
    "plt.plot(np.arange(len(sigma_ks_qp))+5, sigma_ks_qp, label='calculated $\\sigma_K$, correlated noise')\n",
    "plt.xlabel('number of observations')\n",
    "plt.ylabel(r\"$\\sigma_k$[m/s]\")\n",
    "plt.title(f\"cadence: {cadence} day(s)\")\n",
    "plt.legend()\n",
    "#plt.ylim([0,200])\n",
    "plt.show()"
   ]
  },
  {
   "cell_type": "markdown",
   "id": "05ddb081-aaf7-412a-bae2-2ef0d78d0c51",
   "metadata": {},
   "source": [
    "And again with an out-of-the-box quasi-periodic GP kernel from tinygp. "
   ]
  },
  {
   "cell_type": "code",
   "execution_count": 19,
   "id": "d0afcd84-9a81-4f83-86bd-d8c98628053d",
   "metadata": {},
   "outputs": [
    {
     "name": "stderr",
     "output_type": "stream",
     "text": [
      "  0%|                                                                          | 0/96 [00:00<?, ?it/s]/var/folders/h2/sp_lfvz5515bhg_y92psw7f80000gn/T/ipykernel_88168/241485815.py:46: RuntimeWarning: invalid value encountered in sqrt\n",
      "  sigma_k = np.sqrt(inv_fim)[0][0]\n",
      "100%|█████████████████████████████████████████████████████████████████| 96/96 [00:05<00:00, 16.13it/s]\n"
     ]
    }
   ],
   "source": [
    "sigma_ks_qp = []\n",
    "for n_obs in tqdm(range(100)[4:]):\n",
    "    \n",
    "    # instantiate Star object in order to feed covariance matrix with white/correlated noise\n",
    "    star = calculate_fi.Star(sigma_wn_rv = sigma_wn_rv, Tau = Tau, eta = eta, \n",
    "                             Prot = Prot, sigma_qp_rv = sigma_qp_rv)\n",
    "    \n",
    "    # populate list of parameters to feed into cov_matrix_jax()\n",
    "    params = star.param_list()\n",
    "    \n",
    "    # instantiate Planets object in order to feed Fisher Info calculation machinery\n",
    "    planet = calculate_fi.Planets(K = K, p = p, T0 = T0)\n",
    "    \n",
    "    # populate list of parameters to feed into clam_jax_fim()\n",
    "    theta = planet.theta_list()\n",
    "    \n",
    "    # instantiate Strategy object in order to build time series of observations\n",
    "    strategy = strategies.Strategy(n_obs = n_obs, start = start, offs=[], dropout=0.)\n",
    "    \n",
    "    # build strategy aka time series of observations\n",
    "    strat = strategy.gappy(cadence)\n",
    "    \n",
    "    # build covariance matrix, characterized by a correlated noise model of the stellar signal\n",
    "    kernel = kernels.ExpSineSquared(scale=Prot, gamma=1/(2*eta**2)) # first term of exponential\n",
    "    kernel *= kernels.ExpSquared(scale=Tau) # other term of exponential\n",
    "    kernel *= sigma_qp_rv**2 # multiply by scalar\n",
    "    \n",
    "    #sigma = calculate_fi.cov_matrix_jax(strat, params) # non-object-oriented\n",
    "    #sigma = star.cov_matrix(strat) # object-oriented but w/manual QP GP kernel\n",
    "    sigma = star.cov_matrix_general(strat, kernel) # object-oriented with custom kernels\n",
    "    sigma += 1e-6 \n",
    "\n",
    "    #print(strat, sigma)\n",
    "    #fadsfa\n",
    "    \n",
    "    # populate arguments for Fisher Info calculator\n",
    "    args = np.array(strat), sigma, jnp.array(theta, dtype=float)\n",
    "    \n",
    "    # calculate FI\n",
    "    fim = calculate_fi.clam_jax_fim(*args).block_until_ready()\n",
    "    \n",
    "    # invert FI matrix\n",
    "    inv_fim = inv(fim)\n",
    "    \n",
    "    # top left element of matrix corresponds with RV semi-amplitude, K\n",
    "    sigma_k = np.sqrt(inv_fim)[0][0]\n",
    "    \n",
    "    sigma_ks_qp.append(sigma_k)\n",
    "    "
   ]
  },
  {
   "cell_type": "code",
   "execution_count": 22,
   "id": "ab55aed6-163f-4074-a5ef-d06dec132423",
   "metadata": {},
   "outputs": [
    {
     "data": {
      "image/png": "[encoded data removed]",
      "text/plain": [
       "<Figure size 640x480 with 1 Axes>"
      ]
     },
     "metadata": {},
     "output_type": "display_data"
    }
   ],
   "source": [
    "plt.plot(np.arange(len(sigma_ks_qp))+5, sigma_ks_qp, label='calculated $\\sigma_K$, correlated noise')\n",
    "plt.xlabel('number of observations')\n",
    "plt.ylabel(r\"$\\sigma_k$[m/s]\")\n",
    "plt.title(f\"cadence: {cadence} day(s)\")\n",
    "plt.legend()\n",
    "#plt.ylim([0,200])\n",
    "plt.show()"
   ]
  },
  {
   "cell_type": "markdown",
   "id": "6553fa5a-c71d-40b0-812d-3bde50569295",
   "metadata": {},
   "source": [
    "Except for a dropped point where the covariance matrix based on the custom kernel is singular (and thus can't be inverted), the custom quasi-periodic Gaussian Process kernel matches the result from the out-of-the-box quasi-periodic GP kernel."
   ]
  },
  {
   "cell_type": "code",
   "execution_count": null,
   "id": "847b96e7-124d-4632-972b-beffb46fe447",
   "metadata": {},
   "outputs": [],
   "source": []
  }
 ],
 "metadata": {
  "kernelspec": {
   "display_name": "Python 3 (ipykernel)",
   "language": "python",
   "name": "python3"
  },
  "language_info": {
   "codemirror_mode": {
    "name": "ipython",
    "version": 3
   },
   "file_extension": ".py",
   "mimetype": "text/x-python",
   "name": "python",
   "nbconvert_exporter": "python",
   "pygments_lexer": "ipython3",
   "version": "3.11.0"
  }
 },
 "nbformat": 4,
 "nbformat_minor": 5
}
