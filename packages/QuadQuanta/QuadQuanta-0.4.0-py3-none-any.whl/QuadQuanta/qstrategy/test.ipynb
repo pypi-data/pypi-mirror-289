{
 "cells": [
  {
   "cell_type": "code",
   "execution_count": null,
   "metadata": {},
   "outputs": [],
   "source": [
    "from QuadQuanta.data.mongodb_api import insert_mongodb, save_mongodb, query_mongodb"
   ]
  },
  {
   "cell_type": "code",
   "execution_count": null,
   "metadata": {},
   "outputs": [],
   "source": [
    "daily_limit_dict = query_mongodb('QuadQuanta', 'daily_double_limit', sql={\n",
    "                    '_id': '2022-03-17'})"
   ]
  },
  {
   "cell_type": "code",
   "execution_count": null,
   "metadata": {},
   "outputs": [],
   "source": [
    "daily_limit_dict"
   ]
  },
  {
   "cell_type": "code",
   "execution_count": null,
   "metadata": {},
   "outputs": [],
   "source": [
    "daily_limit_symbol = [symbol_data['code'] for symbol_data in daily_limit_dict]"
   ]
  },
  {
   "cell_type": "code",
   "execution_count": null,
   "metadata": {},
   "outputs": [],
   "source": [
    "daily_limit_symbol"
   ]
  },
  {
   "cell_type": "code",
   "execution_count": 2,
   "metadata": {},
   "outputs": [],
   "source": [
    "import jqdatasdk as jq"
   ]
  },
  {
   "cell_type": "code",
   "execution_count": 3,
   "metadata": {},
   "outputs": [
    {
     "name": "stdout",
     "output_type": "stream",
     "text": [
      "auth success \n"
     ]
    }
   ],
   "source": [
    "jq.auth(\"13044190486\",\"JQdata-2022\")"
   ]
  },
  {
   "cell_type": "code",
   "execution_count": 4,
   "metadata": {},
   "outputs": [
    {
     "data": {
      "text/html": [
       "<div>\n",
       "<style scoped>\n",
       "    .dataframe tbody tr th:only-of-type {\n",
       "        vertical-align: middle;\n",
       "    }\n",
       "\n",
       "    .dataframe tbody tr th {\n",
       "        vertical-align: top;\n",
       "    }\n",
       "\n",
       "    .dataframe thead th {\n",
       "        text-align: right;\n",
       "    }\n",
       "</style>\n",
       "<table border=\"1\" class=\"dataframe\">\n",
       "  <thead>\n",
       "    <tr style=\"text-align: right;\">\n",
       "      <th></th>\n",
       "      <th>display_name</th>\n",
       "      <th>name</th>\n",
       "      <th>start_date</th>\n",
       "      <th>end_date</th>\n",
       "      <th>type</th>\n",
       "    </tr>\n",
       "  </thead>\n",
       "  <tbody>\n",
       "    <tr>\n",
       "      <th>000001.XSHG</th>\n",
       "      <td>上证指数</td>\n",
       "      <td>SZZS</td>\n",
       "      <td>1991-07-15</td>\n",
       "      <td>2200-01-01</td>\n",
       "      <td>index</td>\n",
       "    </tr>\n",
       "    <tr>\n",
       "      <th>000002.XSHG</th>\n",
       "      <td>A股指数</td>\n",
       "      <td>AGZS</td>\n",
       "      <td>1992-02-21</td>\n",
       "      <td>2200-01-01</td>\n",
       "      <td>index</td>\n",
       "    </tr>\n",
       "    <tr>\n",
       "      <th>000003.XSHG</th>\n",
       "      <td>B股指数</td>\n",
       "      <td>BGZS</td>\n",
       "      <td>1992-02-21</td>\n",
       "      <td>2200-01-01</td>\n",
       "      <td>index</td>\n",
       "    </tr>\n",
       "    <tr>\n",
       "      <th>000004.XSHG</th>\n",
       "      <td>工业指数</td>\n",
       "      <td>GYZS</td>\n",
       "      <td>1993-05-03</td>\n",
       "      <td>2200-01-01</td>\n",
       "      <td>index</td>\n",
       "    </tr>\n",
       "    <tr>\n",
       "      <th>000005.XSHG</th>\n",
       "      <td>商业指数</td>\n",
       "      <td>SYZS</td>\n",
       "      <td>1993-05-03</td>\n",
       "      <td>2200-01-01</td>\n",
       "      <td>index</td>\n",
       "    </tr>\n",
       "    <tr>\n",
       "      <th>...</th>\n",
       "      <td>...</td>\n",
       "      <td>...</td>\n",
       "      <td>...</td>\n",
       "      <td>...</td>\n",
       "      <td>...</td>\n",
       "    </tr>\n",
       "    <tr>\n",
       "      <th>399994.XSHE</th>\n",
       "      <td>中证信息安全主题指数</td>\n",
       "      <td>XXAQ</td>\n",
       "      <td>2015-03-12</td>\n",
       "      <td>2200-01-01</td>\n",
       "      <td>index</td>\n",
       "    </tr>\n",
       "    <tr>\n",
       "      <th>399995.XSHE</th>\n",
       "      <td>中证基建工程指数</td>\n",
       "      <td>JJGC</td>\n",
       "      <td>2015-03-12</td>\n",
       "      <td>2200-01-01</td>\n",
       "      <td>index</td>\n",
       "    </tr>\n",
       "    <tr>\n",
       "      <th>399996.XSHE</th>\n",
       "      <td>中证智能家居指数</td>\n",
       "      <td>ZNJJ</td>\n",
       "      <td>2014-09-17</td>\n",
       "      <td>2200-01-01</td>\n",
       "      <td>index</td>\n",
       "    </tr>\n",
       "    <tr>\n",
       "      <th>399997.XSHE</th>\n",
       "      <td>中证白酒指数</td>\n",
       "      <td>ZZBJ</td>\n",
       "      <td>2015-01-21</td>\n",
       "      <td>2200-01-01</td>\n",
       "      <td>index</td>\n",
       "    </tr>\n",
       "    <tr>\n",
       "      <th>399998.XSHE</th>\n",
       "      <td>中证煤炭指数</td>\n",
       "      <td>ZZMT</td>\n",
       "      <td>2015-02-13</td>\n",
       "      <td>2200-01-01</td>\n",
       "      <td>index</td>\n",
       "    </tr>\n",
       "  </tbody>\n",
       "</table>\n",
       "<p>705 rows × 5 columns</p>\n",
       "</div>"
      ],
      "text/plain": [
       "            display_name  name start_date   end_date   type\n",
       "000001.XSHG         上证指数  SZZS 1991-07-15 2200-01-01  index\n",
       "000002.XSHG         A股指数  AGZS 1992-02-21 2200-01-01  index\n",
       "000003.XSHG         B股指数  BGZS 1992-02-21 2200-01-01  index\n",
       "000004.XSHG         工业指数  GYZS 1993-05-03 2200-01-01  index\n",
       "000005.XSHG         商业指数  SYZS 1993-05-03 2200-01-01  index\n",
       "...                  ...   ...        ...        ...    ...\n",
       "399994.XSHE   中证信息安全主题指数  XXAQ 2015-03-12 2200-01-01  index\n",
       "399995.XSHE     中证基建工程指数  JJGC 2015-03-12 2200-01-01  index\n",
       "399996.XSHE     中证智能家居指数  ZNJJ 2014-09-17 2200-01-01  index\n",
       "399997.XSHE       中证白酒指数  ZZBJ 2015-01-21 2200-01-01  index\n",
       "399998.XSHE       中证煤炭指数  ZZMT 2015-02-13 2200-01-01  index\n",
       "\n",
       "[705 rows x 5 columns]"
      ]
     },
     "execution_count": 4,
     "metadata": {},
     "output_type": "execute_result"
    }
   ],
   "source": [
    "jq.get_all_securities(types=['index'], date=None)"
   ]
  },
  {
   "cell_type": "code",
   "execution_count": 5,
   "metadata": {},
   "outputs": [],
   "source": [
    "    columns = [\n",
    "         'open', 'close', 'high', 'low', 'volume',  'pre_close'\n",
    "    ]"
   ]
  },
  {
   "cell_type": "code",
   "execution_count": 6,
   "metadata": {},
   "outputs": [
    {
     "name": "stderr",
     "output_type": "stream",
     "text": [
      "d:\\Quant\\QuadQuanta\\.venv\\QuadQuanta\\lib\\site-packages\\jqdatasdk\\api.py:34: PanelObsoleteWarning: 当前环境 pandas 版本高于 0.25，get_price 与 get_fundamentals_continuously 接口的 panel 参数将固定为 False（0.25 及以上版本的 pandas 不再支持 panel，如使用该数据结构和相关函数请注意修改）\n",
      "  warnings.warn(PandasChecker.VERSION_NOTICE_MESSAGE, PanelObsoleteWarning)\n"
     ]
    }
   ],
   "source": [
    "index_pd = jq.get_price(\"399006.XSHE\",start_date=\"2018-01-01\",end_date=\"2023-01-10\",fields=columns)"
   ]
  },
  {
   "cell_type": "code",
   "execution_count": 7,
   "metadata": {},
   "outputs": [],
   "source": [
    "index_pd['close_rate'] = 100 * (index_pd['close'] - index_pd['pre_close'])/index_pd['pre_close']"
   ]
  },
  {
   "cell_type": "code",
   "execution_count": 8,
   "metadata": {},
   "outputs": [
    {
     "data": {
      "text/plain": [
       "2018-01-02    0.971101\n",
       "2018-01-03    1.452813\n",
       "2018-01-04   -0.042888\n",
       "2018-01-05    0.379470\n",
       "2018-01-08    0.263126\n",
       "                ...   \n",
       "2022-10-14    3.553425\n",
       "2022-10-17    0.032865\n",
       "2022-10-18    0.489113\n",
       "2022-10-19   -0.856992\n",
       "2022-10-20   -0.999239\n",
       "Name: close_rate, Length: 1164, dtype: float64"
      ]
     },
     "execution_count": 8,
     "metadata": {},
     "output_type": "execute_result"
    }
   ],
   "source": [
    "index_pd['close_rate']"
   ]
  },
  {
   "cell_type": "code",
   "execution_count": 9,
   "metadata": {},
   "outputs": [
    {
     "data": {
      "text/plain": [
       "DatetimeIndex(['2018-01-02', '2018-01-03', '2018-01-04', '2018-01-05',\n",
       "               '2018-01-08', '2018-01-09', '2018-01-10', '2018-01-11',\n",
       "               '2018-01-12', '2018-01-15',\n",
       "               ...\n",
       "               '2022-09-30', '2022-10-10', '2022-10-11', '2022-10-12',\n",
       "               '2022-10-13', '2022-10-14', '2022-10-17', '2022-10-18',\n",
       "               '2022-10-19', '2022-10-20'],\n",
       "              dtype='datetime64[ns]', length=1164, freq=None)"
      ]
     },
     "execution_count": 9,
     "metadata": {},
     "output_type": "execute_result"
    }
   ],
   "source": [
    "index_pd['close_rate'].index"
   ]
  },
  {
   "cell_type": "code",
   "execution_count": 10,
   "metadata": {},
   "outputs": [
    {
     "name": "stdout",
     "output_type": "stream",
     "text": [
      "date:2018-02-12 00:00:00, rate:3.4888320952458662\n",
      "date:2018-02-26 00:00:00, rate:3.6145083681381664\n",
      "date:2018-03-09 00:00:00, rate:3.5260592676860627\n",
      "date:2018-03-26 00:00:00, rate:3.162767522971919\n",
      "date:2018-03-27 00:00:00, rate:3.598766714777529\n",
      "date:2018-03-30 00:00:00, rate:3.164168733952522\n",
      "date:2018-04-24 00:00:00, rate:3.0695074299078717\n",
      "date:2018-06-29 00:00:00, rate:4.084448648018343\n",
      "date:2018-07-12 00:00:00, rate:3.302602030697188\n",
      "date:2018-08-09 00:00:00, rate:3.443250262474437\n",
      "date:2018-10-19 00:00:00, rate:3.7227288947163246\n",
      "date:2018-10-22 00:00:00, rate:5.204457992303318\n",
      "date:2018-11-02 00:00:00, rate:4.81602699151851\n",
      "date:2018-11-12 00:00:00, rate:3.4743693445113912\n",
      "date:2018-12-03 00:00:00, rate:3.2646552178066526\n",
      "date:2019-02-01 00:00:00, rate:3.5244586682301953\n",
      "date:2019-02-11 00:00:00, rate:3.5263948649775365\n",
      "date:2019-02-18 00:00:00, rate:4.1065221233724145\n",
      "date:2019-02-22 00:00:00, rate:3.0979653673524283\n",
      "date:2019-02-25 00:00:00, rate:5.498180319989009\n",
      "date:2019-03-04 00:00:00, rate:3.306396576246765\n",
      "date:2019-03-05 00:00:00, rate:3.51050496693852\n",
      "date:2019-03-11 00:00:00, rate:4.43097268644718\n",
      "date:2019-03-29 00:00:00, rate:4.101867446920989\n",
      "date:2019-04-01 00:00:00, rate:3.976262879749647\n",
      "date:2019-05-10 00:00:00, rate:4.381822141165574\n",
      "date:2019-05-27 00:00:00, rate:3.3385281385281416\n",
      "date:2019-06-11 00:00:00, rate:3.9131163804546785\n",
      "date:2019-07-01 00:00:00, rate:3.7479077214176613\n",
      "date:2019-08-19 00:00:00, rate:3.498109044062775\n",
      "date:2020-02-04 00:00:00, rate:4.840263508133005\n",
      "date:2020-02-05 00:00:00, rate:3.023864789211173\n",
      "date:2020-02-06 00:00:00, rate:3.7445479011352796\n",
      "date:2020-02-17 00:00:00, rate:3.71927586240226\n",
      "date:2020-03-02 00:00:00, rate:3.082203353012445\n",
      "date:2020-03-25 00:00:00, rate:3.246825900016507\n",
      "date:2020-04-07 00:00:00, rate:3.309959248322987\n",
      "date:2020-04-14 00:00:00, rate:3.2421948124883073\n",
      "date:2020-06-01 00:00:00, rate:3.428908260529922\n",
      "date:2020-07-09 00:00:00, rate:3.984962122497626\n",
      "date:2020-07-13 00:00:00, rate:3.9939390885598423\n",
      "date:2020-07-29 00:00:00, rate:3.7832080764442084\n",
      "date:2020-10-09 00:00:00, rate:3.8127825506066433\n",
      "date:2020-10-12 00:00:00, rate:3.9080709184303384\n",
      "date:2020-12-21 00:00:00, rate:3.6576726255335843\n",
      "date:2020-12-30 00:00:00, rate:3.1119800924280114\n",
      "date:2021-01-04 00:00:00, rate:3.7707416072765\n",
      "date:2021-01-20 00:00:00, rate:3.9046973729854875\n",
      "date:2021-03-26 00:00:00, rate:3.36596385542169\n",
      "date:2021-04-19 00:00:00, rate:4.144616058950127\n",
      "date:2021-05-14 00:00:00, rate:3.0639144998335404\n",
      "date:2021-07-07 00:00:00, rate:3.5723073277865476\n",
      "date:2021-07-12 00:00:00, rate:3.6796301890998553\n",
      "date:2021-07-29 00:00:00, rate:5.321286363138211\n",
      "date:2021-08-23 00:00:00, rate:3.159196968273353\n",
      "date:2021-09-06 00:00:00, rate:4.060100446788355\n",
      "date:2022-02-15 00:00:00, rate:3.0903986442216476\n",
      "date:2022-03-16 00:00:00, rate:5.202053673376493\n",
      "date:2022-03-30 00:00:00, rate:4.01748004952423\n",
      "date:2022-04-27 00:00:00, rate:5.517760903227599\n",
      "date:2022-04-29 00:00:00, rate:4.1070186070522645\n",
      "date:2022-05-11 00:00:00, rate:3.066765070244337\n",
      "date:2022-06-06 00:00:00, rate:3.921472911734301\n",
      "date:2022-06-23 00:00:00, rate:3.0930530499124096\n",
      "date:2022-10-12 00:00:00, rate:3.5992024369001285\n",
      "date:2022-10-14 00:00:00, rate:3.553424739119141\n"
     ]
    }
   ],
   "source": [
    "for i in index_pd['close_rate'].index:\n",
    "    if index_pd['close_rate'][i] > 3:\n",
    "        print(f\"date:{i}, rate:{index_pd['close_rate'][i]}\")"
   ]
  },
  {
   "cell_type": "code",
   "execution_count": null,
   "metadata": {},
   "outputs": [],
   "source": []
  },
  {
   "cell_type": "code",
   "execution_count": null,
   "metadata": {},
   "outputs": [],
   "source": []
  }
 ],
 "metadata": {
  "interpreter": {
   "hash": "4afe65dcadc8e88c70160d77ea272aff77e7284cbd9f696b9ea16f0a78284544"
  },
  "kernelspec": {
   "display_name": "Python 3.8.8 64-bit ('python38': conda)",
   "language": "python",
   "name": "python3"
  },
  "language_info": {
   "codemirror_mode": {
    "name": "ipython",
    "version": 3
   },
   "file_extension": ".py",
   "mimetype": "text/x-python",
   "name": "python",
   "nbconvert_exporter": "python",
   "pygments_lexer": "ipython3",
   "version": "3.8.8"
  },
  "orig_nbformat": 4
 },
 "nbformat": 4,
 "nbformat_minor": 2
}
