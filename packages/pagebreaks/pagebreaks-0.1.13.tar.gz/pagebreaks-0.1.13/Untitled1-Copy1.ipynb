{
 "cells": [
  {
   "cell_type": "code",
   "execution_count": null,
   "id": "cdfee1fe-da24-457b-96c9-76a91bf06637",
   "metadata": {},
   "outputs": [],
   "source": []
  }
 ],
 "metadata": {
  "kernelspec": {
   "display_name": "",
   "name": ""
  },
  "language_info": {
   "name": ""
  }
 },
 "nbformat": 4,
 "nbformat_minor": 5
}
