{
 "cells": [
  {
   "cell_type": "markdown",
   "id": "ed2aef37-da28-41ec-bf37-bfb6a19ea19b",
   "metadata": {
    "deletable": false,
    "pagebreakheader": true
   },
   "source": [
    "# New Pagebreak "
   ]
  },
  {
   "cell_type": "code",
   "execution_count": 3,
   "id": "aa3d1d37-9bc5-4ef2-a2b3-5028d56dd457",
   "metadata": {},
   "outputs": [],
   "source": [
    "a = 2"
   ]
  },
  {
   "cell_type": "raw",
   "id": "3ccc6611-2ec5-4706-8472-7ea0679209f9",
   "metadata": {
    "deletable": false,
    "pagebreak": true
   },
   "source": [
    "export { a }"
   ]
  },
  {
   "cell_type": "code",
   "execution_count": 4,
   "id": "b3a18b84-3cec-42d6-8469-874b3d150425",
   "metadata": {},
   "outputs": [
    {
     "name": "stdout",
     "output_type": "stream",
     "text": [
      "2\n"
     ]
    }
   ],
   "source": [
    "print(a)"
   ]
  },
  {
   "cell_type": "code",
   "execution_count": null,
   "id": "eeba0973-0ec1-4867-a4a5-c1f0e6458a30",
   "metadata": {},
   "outputs": [],
   "source": []
  }
 ],
 "metadata": {
  "kernelspec": {
   "display_name": "Python 3 (ipykernel)",
   "language": "python",
   "name": "python3"
  },
  "language_info": {
   "codemirror_mode": {
    "name": "ipython",
    "version": 3
   },
   "file_extension": ".py",
   "mimetype": "text/x-python",
   "name": "python",
   "nbconvert_exporter": "python",
   "pygments_lexer": "ipython3",
   "version": "3.12.3"
  }
 },
 "nbformat": 4,
 "nbformat_minor": 5
}
