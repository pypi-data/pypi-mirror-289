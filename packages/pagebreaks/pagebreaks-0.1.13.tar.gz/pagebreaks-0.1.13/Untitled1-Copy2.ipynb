{
 "cells": [
  {
   "cell_type": "markdown",
   "id": "ed2aef37-da28-41ec-bf37-bfb6a19ea19b",
   "metadata": {
    "deletable": false,
    "deleteable": true,
    "pagebreakheader": false
   },
   "source": [
    "# New Pagebreak "
   ]
  },
  {
   "cell_type": "code",
   "execution_count": 1,
   "id": "aa3d1d37-9bc5-4ef2-a2b3-5028d56dd457",
   "metadata": {},
   "outputs": [],
   "source": [
    "# a = 2\n",
    "\n",
    "pb_0_a = 2"
   ]
  },
  {
   "cell_type": "code",
   "execution_count": 2,
   "id": "3ccc6611-2ec5-4706-8472-7ea0679209f9",
   "metadata": {
    "deletable": false,
    "deleteable": true,
    "pagebreak": false
   },
   "outputs": [],
   "source": [
    "pb_export_a = pb_0_a "
   ]
  },
  {
   "cell_type": "code",
   "execution_count": 3,
   "id": "b3a18b84-3cec-42d6-8469-874b3d150425",
   "metadata": {},
   "outputs": [
    {
     "name": "stdout",
     "output_type": "stream",
     "text": [
      "2\n"
     ]
    }
   ],
   "source": [
    "# print(a)\n",
    "\n",
    "print(pb_export_a)"
   ]
  },
  {
   "cell_type": "code",
   "execution_count": null,
   "id": "eeba0973-0ec1-4867-a4a5-c1f0e6458a30",
   "metadata": {},
   "outputs": [],
   "source": [
    "# \n"
   ]
  }
 ],
 "metadata": {
  "kernelspec": {
   "display_name": "Python 3 (ipykernel)",
   "language": "python",
   "name": "python3"
  },
  "language_info": {
   "codemirror_mode": {
    "name": "ipython",
    "version": 3
   },
   "file_extension": ".py",
   "mimetype": "text/x-python",
   "name": "python",
   "nbconvert_exporter": "python",
   "pygments_lexer": "ipython3",
   "version": "3.12.3"
  }
 },
 "nbformat": 4,
 "nbformat_minor": 5
}
