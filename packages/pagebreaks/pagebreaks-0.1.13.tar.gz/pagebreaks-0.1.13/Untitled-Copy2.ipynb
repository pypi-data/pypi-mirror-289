{
 "cells": [
  {
   "cell_type": "markdown",
   "id": "96213e44-5add-4916-99aa-bdf92ee22c2e",
   "metadata": {
    "deletable": false,
    "deleteable": true,
    "pagebreakheader": false
   },
   "source": [
    "# New Pagebreak "
   ]
  },
  {
   "cell_type": "code",
   "execution_count": 2,
   "id": "3a7c2ec7-28d6-4333-9cca-1a5830504fd3",
   "metadata": {},
   "outputs": [],
   "source": [
    "# a = 3\n",
    "# c = 2\n",
    "\n",
    "pb_0_a = 3\n",
    "pb_0_c = 2"
   ]
  },
  {
   "cell_type": "code",
   "execution_count": null,
   "id": "bdbb7230-eb78-437a-a298-db99f0cab3c8",
   "metadata": {
    "deletable": false,
    "deleteable": true,
    "pagebreak": false
   },
   "outputs": [],
   "source": [
    "pb_export_a = pb_0_a\n",
    "pb_export_b = pb_0_b"
   ]
  },
  {
   "cell_type": "markdown",
   "id": "c20d84b7-61a5-4255-aa09-24285a3b9c08",
   "metadata": {
    "deletable": false,
    "deleteable": true,
    "pagebreakheader": false
   },
   "source": [
    "# New Pagebreak "
   ]
  },
  {
   "cell_type": "code",
   "execution_count": 2,
   "id": "ea972339-1123-465f-a881-d165edfdaa26",
   "metadata": {},
   "outputs": [],
   "source": [
    "# c = 3\n",
    "# print(b)\n",
    "\n",
    "pb_1_c = 3\n",
    "print(b)"
   ]
  },
  {
   "cell_type": "code",
   "execution_count": null,
   "id": "0f02ee7d-318d-42b2-b9d1-874cef777c8c",
   "metadata": {
    "deletable": false,
    "deleteable": true,
    "pagebreak": false
   },
   "outputs": [],
   "source": []
  },
  {
   "cell_type": "markdown",
   "id": "b50e91d7-1d06-41bd-b5d5-d02598d40926",
   "metadata": {
    "deletable": false,
    "deleteable": true,
    "pagebreakheader": false
   },
   "source": [
    "# New Pagebreak "
   ]
  },
  {
   "cell_type": "code",
   "execution_count": 3,
   "id": "5aadb64c-c5cc-4b4a-b0c8-e818627ade38",
   "metadata": {},
   "outputs": [
    {
     "name": "stdout",
     "output_type": "stream",
     "text": [
      "3\n"
     ]
    }
   ],
   "source": [
    "# print(c)\n",
    "\n",
    "print(c)"
   ]
  },
  {
   "cell_type": "code",
   "execution_count": 1,
   "id": "f382994c-0c95-4c35-bb8f-30e13cdf3df5",
   "metadata": {
    "deletable": false,
    "deleteable": true,
    "pagebreak": false
   },
   "outputs": [
    {
     "name": "stdout",
     "output_type": "stream",
     "text": [
      "[{\"index\": 1, \"id\": \"3a7c2ec7-28d6-4333-9cca-1a5830504fd3\", \"type\": \"code\", \"variables\": [], \"source\": \"a = 3\", \"newText\": \"pb_0_a = 3\"}, {\"index\": 2, \"id\": \"bdbb7230-eb78-437a-a298-db99f0cab3c8\", \"type\": \"pagebreak\", \"variables\": [[\"a\"]], \"pbNum\": 0, \"newText\": \"pb_export_pagebreaks_simulated = pb_0_pagebreaks_simulated\"}, {\"index\": 4, \"id\": \"5aadb64c-c5cc-4b4a-b0c8-e818627ade38\", \"type\": \"code\", \"variables\": [], \"source\": \"print(a)\", \"newText\": \"print(pb_0_a)\"}, {\"index\": 5, \"id\": \"f382994c-0c95-4c35-bb8f-30e13cdf3df5\", \"type\": \"pagebreak\", \"variables\": [[]], \"pbNum\": 1, \"newText\": \"\"}, {\"index\": 6, \"id\": \"42afe96b-0bc3-4fd7-b130-fa0e79a3e0b3\", \"type\": \"code\", \"variables\": [], \"source\": \"\", \"newText\": \"\"}]\n"
     ]
    }
   ],
   "source": [
    "%%pb_transform\n",
    "[{\"index\":1,\"id\":\"3a7c2ec7-28d6-4333-9cca-1a5830504fd3\",\"type\":\"code\",\"variables\":[],\"source\":\"a = 3\"},{\"index\":2,\"id\":\"bdbb7230-eb78-437a-a298-db99f0cab3c8\",\"type\":\"pagebreak\",\"variables\":[[\"a\"]],\"pbNum\":0},{\"index\":4,\"id\":\"5aadb64c-c5cc-4b4a-b0c8-e818627ade38\",\"type\":\"code\",\"variables\":[],\"source\":\"print(a)\"},{\"index\":5,\"id\":\"f382994c-0c95-4c35-bb8f-30e13cdf3df5\",\"type\":\"pagebreak\",\"variables\":[[]],\"pbNum\":1},{\"index\":6,\"id\":\"42afe96b-0bc3-4fd7-b130-fa0e79a3e0b3\",\"type\":\"code\",\"variables\":[],\"source\":\"\"}]"
   ]
  },
  {
   "cell_type": "code",
   "execution_count": 1,
   "id": "42afe96b-0bc3-4fd7-b130-fa0e79a3e0b3",
   "metadata": {},
   "outputs": [
    {
     "name": "stdout",
     "output_type": "stream",
     "text": [
      "[{\"index\": 1, \"id\": \"3a7c2ec7-28d6-4333-9cca-1a5830504fd3\", \"type\": \"code\", \"variables\": [], \"source\": \"a = 3\", \"newText\": \"pb_0_a = 3\"}, {\"index\": 2, \"id\": \"bdbb7230-eb78-437a-a298-db99f0cab3c8\", \"type\": \"pagebreak\", \"variables\": [[\"a\"]], \"pbNum\": 0, \"newText\": \"pb_export_a = pb_0_a\"}, {\"index\": 4, \"id\": \"5aadb64c-c5cc-4b4a-b0c8-e818627ade38\", \"type\": \"code\", \"variables\": [], \"source\": \"print(a)\", \"newText\": \"print(a)\"}, {\"index\": 5, \"id\": \"f382994c-0c95-4c35-bb8f-30e13cdf3df5\", \"type\": \"pagebreak\", \"variables\": [[]], \"pbNum\": 1, \"newText\": \"\"}, {\"index\": 6, \"id\": \"42afe96b-0bc3-4fd7-b130-fa0e79a3e0b3\", \"type\": \"code\", \"variables\": [], \"source\": \"\", \"newText\": \"\"}]\n"
     ]
    }
   ],
   "source": [
    "# %%pb_transform \n",
    "# [{\"index\":1,\"id\":\"3a7c2ec7-28d6-4333-9cca-1a5830504fd3\",\"type\":\"code\",\"variables\":[],\"source\":\"a = 3\"},{\"index\":2,\"id\":\"bdbb7230-eb78-437a-a298-db99f0cab3c8\",\"type\":\"pagebreak\",\"variables\":[[\"a\"]],\"pbNum\":0},{\"index\":4,\"id\":\"5aadb64c-c5cc-4b4a-b0c8-e818627ade38\",\"type\":\"code\",\"variables\":[],\"source\":\"print(a)\"},{\"index\":5,\"id\":\"f382994c-0c95-4c35-bb8f-30e13cdf3df5\",\"type\":\"pagebreak\",\"variables\":[[]],\"pbNum\":1},{\"index\":6,\"id\":\"42afe96b-0bc3-4fd7-b130-fa0e79a3e0b3\",\"type\":\"code\",\"variables\":[],\"source\":\"\"}]\n",
    "\n",
    "get_ipython().run_cell_magic('pb_transform', '', '[{\"index\":1,\"id\":\"3a7c2ec7-28d6-4333-9cca-1a5830504fd3\",\"type\":\"code\",\"variables\":[],\"source\":\"a = 3\"},{\"index\":2,\"id\":\"bdbb7230-eb78-437a-a298-db99f0cab3c8\",\"type\":\"pagebreak\",\"variables\":[[\"a\"]],\"pbNum\":0},{\"index\":4,\"id\":\"5aadb64c-c5cc-4b4a-b0c8-e818627ade38\",\"type\":\"code\",\"variables\":[],\"source\":\"print(a)\"},{\"index\":5,\"id\":\"f382994c-0c95-4c35-bb8f-30e13cdf3df5\",\"type\":\"pagebreak\",\"variables\":[[]],\"pbNum\":1},{\"index\":6,\"id\":\"42afe96b-0bc3-4fd7-b130-fa0e79a3e0b3\",\"type\":\"code\",\"variables\":[],\"source\":\"\"}]\\n')"
   ]
  },
  {
   "cell_type": "code",
   "execution_count": null,
   "id": "be1ea651-7993-4396-9d0e-a4226de83598",
   "metadata": {},
   "outputs": [],
   "source": [
    "# \n",
    "\n"
   ]
  }
 ],
 "metadata": {
  "kernelspec": {
   "display_name": "Python 3 (ipykernel)",
   "language": "python",
   "name": "python3"
  },
  "language_info": {
   "codemirror_mode": {
    "name": "ipython",
    "version": 3
   },
   "file_extension": ".py",
   "mimetype": "text/x-python",
   "name": "python",
   "nbconvert_exporter": "python",
   "pygments_lexer": "ipython3",
   "version": "3.12.3"
  }
 },
 "nbformat": 4,
 "nbformat_minor": 5
}
