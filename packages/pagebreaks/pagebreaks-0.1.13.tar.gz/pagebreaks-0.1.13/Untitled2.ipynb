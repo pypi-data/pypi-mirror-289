{
 "cells": [
  {
   "cell_type": "markdown",
   "id": "d406ae3f-5479-4814-9794-4a20efd1ad4e",
   "metadata": {
    "deletable": false,
    "pagebreakheader": true
   },
   "source": [
    "# New Pagebreak "
   ]
  },
  {
   "cell_type": "code",
   "execution_count": 1,
   "id": "28999418-87bf-49c0-9295-316ec6c4b46b",
   "metadata": {},
   "outputs": [],
   "source": [
    "a = 3 "
   ]
  },
  {
   "cell_type": "raw",
   "id": "a344644b-91c2-452d-9f01-938aa2e5268d",
   "metadata": {
    "deletable": false,
    "pagebreak": true
   },
   "source": [
    "export { a }"
   ]
  },
  {
   "cell_type": "markdown",
   "id": "ce8c3916-119b-4991-b708-704386dadbd2",
   "metadata": {
    "deletable": false,
    "pagebreakheader": true
   },
   "source": [
    "# New Pagebreak "
   ]
  },
  {
   "cell_type": "code",
   "execution_count": 2,
   "id": "aa0d069a-c231-464e-9c43-92f1c73386e3",
   "metadata": {},
   "outputs": [
    {
     "name": "stdout",
     "output_type": "stream",
     "text": [
      "3\n"
     ]
    }
   ],
   "source": [
    "print(a)"
   ]
  },
  {
   "cell_type": "raw",
   "id": "158993b0-83f4-4318-945c-ea68b4da3f64",
   "metadata": {
    "deletable": false,
    "pagebreak": true
   },
   "source": [
    "export {  }"
   ]
  },
  {
   "cell_type": "code",
   "execution_count": null,
   "id": "edd51a1a-14e5-4d5d-8095-46de452d5233",
   "metadata": {},
   "outputs": [],
   "source": []
  }
 ],
 "metadata": {
  "kernelspec": {
   "display_name": "Python 3 (ipykernel)",
   "language": "python",
   "name": "python3"
  },
  "language_info": {
   "codemirror_mode": {
    "name": "ipython",
    "version": 3
   },
   "file_extension": ".py",
   "mimetype": "text/x-python",
   "name": "python",
   "nbconvert_exporter": "python",
   "pygments_lexer": "ipython3",
   "version": "3.12.3"
  }
 },
 "nbformat": 4,
 "nbformat_minor": 5
}
