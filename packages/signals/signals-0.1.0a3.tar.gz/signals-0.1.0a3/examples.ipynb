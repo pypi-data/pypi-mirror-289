{
 "cells": [
  {
   "cell_type": "code",
   "execution_count": 1,
   "metadata": {},
   "outputs": [
    {
     "data": {
      "application/vnd.dataresource+json": {
       "data": [
        {
         "age": 30,
         "name": "Alice"
        },
        {
         "age": 25,
         "name": "Bob"
        }
       ],
       "schema": {
        "fields": [
         {
          "name": "name",
          "type": "string"
         },
         {
          "name": "age",
          "type": "integer"
         }
        ]
       }
      },
      "text/plain": [
       "<__main__.DataResource at 0x111f4f890>"
      ]
     },
     "execution_count": 1,
     "metadata": {},
     "output_type": "execute_result"
    }
   ],
   "source": [
    "class DataResource:\n",
    "    def __init__(self, data):\n",
    "        self.data = data\n",
    "\n",
    "    # The media type for this is `application/vnd.dataresource+json`.\n",
    "    # The only `_repr*_` method to emit this is to use `_repr_mimebundle_`.\n",
    "    # For more details, refer to: https://ipython.readthedocs.io/en/stable/config/integrating.html\n",
    "    def _repr_mimebundle_(self, include=None, exclude=None):\n",
    "        return {\n",
    "            'application/vnd.dataresource+json': self.data\n",
    "        }\n",
    "\n",
    "# Example usage\n",
    "data = {\n",
    "    \"schema\": {\n",
    "        \"fields\": [\n",
    "            {\"name\": \"name\", \"type\": \"string\"},\n",
    "            {\"name\": \"age\", \"type\": \"integer\"}\n",
    "        ]\n",
    "    },\n",
    "    \"data\": [\n",
    "        {\"name\": \"Alice\", \"age\": 30},\n",
    "        {\"name\": \"Bob\", \"age\": 25}\n",
    "    ]\n",
    "}\n",
    "\n",
    "resource = DataResource(data)\n",
    "resource \n"
   ]
  },
  {
   "cell_type": "code",
   "execution_count": 2,
   "metadata": {},
   "outputs": [
    {
     "name": "stdout",
     "output_type": "stream",
     "text": [
      "Collecting signals==0.1.0a1\n",
      "  Using cached signals-0.1.0a1-py3-none-any.whl.metadata (2.7 kB)\n",
      "Using cached signals-0.1.0a1-py3-none-any.whl (8.1 kB)\n",
      "Installing collected packages: signals\n",
      "Successfully installed signals-0.1.0a1\n",
      "\n",
      "\u001b[1m[\u001b[0m\u001b[34;49mnotice\u001b[0m\u001b[1;39;49m]\u001b[0m\u001b[39;49m A new release of pip is available: \u001b[0m\u001b[31;49m24.0\u001b[0m\u001b[39;49m -> \u001b[0m\u001b[32;49m24.2\u001b[0m\n",
      "\u001b[1m[\u001b[0m\u001b[34;49mnotice\u001b[0m\u001b[1;39;49m]\u001b[0m\u001b[39;49m To update, run: \u001b[0m\u001b[32;49mpip install --upgrade pip\u001b[0m\n",
      "Note: you may need to restart the kernel to use updated packages.\n"
     ]
    }
   ],
   "source": [
    "%pip install signals==0.1.0a1"
   ]
  },
  {
   "cell_type": "code",
   "execution_count": 4,
   "metadata": {},
   "outputs": [
    {
     "name": "stdout",
     "output_type": "stream",
     "text": [
      "2\n",
      "3\n",
      "4\n",
      "1 3 4\n",
      "2 3 5\n"
     ]
    }
   ],
   "source": [
    "from signals import Signal, computed, effect\n",
    "\n",
    "a = Signal(0)\n",
    "b = Signal(2)\n",
    "c = computed(lambda: a.value + b.value)\n",
    "\n",
    "print(c.value) # 2\n",
    "\n",
    "a.value = 1\n",
    "print(c.value) # 3\n",
    "\n",
    "b.value = 3\n",
    "print(c.value) # 4\n",
    "\n",
    "# Log the values of a, b, c whenever one changes\n",
    "@effect\n",
    "def log_abc():\n",
    "    print(a.value, b.value, c.value)\n",
    "\n",
    "a.value = 2 # prints (2, 3, 5)"
   ]
  },
  {
   "cell_type": "code",
   "execution_count": 5,
   "metadata": {},
   "outputs": [],
   "source": [
    "%load_ext signals\n",
    "from signals import Signal\n",
    "\n",
    "a = Signal(0)\n",
    "b = Signal(2)"
   ]
  },
  {
   "cell_type": "code",
   "execution_count": 6,
   "metadata": {},
   "outputs": [
    {
     "data": {
      "application/vnd.jupyter.widget-view+json": {
       "model_id": "4148632793d1420588e5571c61d1fd6c",
       "version_major": 2,
       "version_minor": 0
      },
      "text/plain": [
       "Output()"
      ]
     },
     "metadata": {},
     "output_type": "display_data"
    }
   ],
   "source": [
    "%%effect\n",
    "a.value + b.value # re-evaluates the cell whenever a or b changes"
   ]
  },
  {
   "cell_type": "code",
   "execution_count": 8,
   "metadata": {},
   "outputs": [],
   "source": [
    "a.value = 23"
   ]
  },
  {
   "cell_type": "code",
   "execution_count": 10,
   "metadata": {},
   "outputs": [
    {
     "name": "stdout",
     "output_type": "stream",
     "text": [
      "Collecting anywidget\n",
      "  Downloading anywidget-0.9.13-py3-none-any.whl.metadata (7.2 kB)\n",
      "Requirement already satisfied: ipywidgets>=7.6.0 in /Users/kylekelley/.pyenv/versions/miniconda3-latest/lib/python3.11/site-packages (from anywidget) (8.1.1)\n",
      "Collecting psygnal>=0.8.1 (from anywidget)\n",
      "  Downloading psygnal-0.11.1-py3-none-any.whl.metadata (7.2 kB)\n",
      "Requirement already satisfied: typing-extensions>=4.2.0 in /Users/kylekelley/.pyenv/versions/miniconda3-latest/lib/python3.11/site-packages (from anywidget) (4.11.0)\n",
      "Requirement already satisfied: comm>=0.1.3 in /Users/kylekelley/.pyenv/versions/miniconda3-latest/lib/python3.11/site-packages (from ipywidgets>=7.6.0->anywidget) (0.2.1)\n",
      "Requirement already satisfied: ipython>=6.1.0 in /Users/kylekelley/.pyenv/versions/miniconda3-latest/lib/python3.11/site-packages (from ipywidgets>=7.6.0->anywidget) (8.21.0)\n",
      "Requirement already satisfied: traitlets>=4.3.1 in /Users/kylekelley/.pyenv/versions/miniconda3-latest/lib/python3.11/site-packages (from ipywidgets>=7.6.0->anywidget) (5.14.3)\n",
      "Requirement already satisfied: widgetsnbextension~=4.0.9 in /Users/kylekelley/.pyenv/versions/miniconda3-latest/lib/python3.11/site-packages (from ipywidgets>=7.6.0->anywidget) (4.0.9)\n",
      "Requirement already satisfied: jupyterlab-widgets~=3.0.9 in /Users/kylekelley/.pyenv/versions/miniconda3-latest/lib/python3.11/site-packages (from ipywidgets>=7.6.0->anywidget) (3.0.9)\n",
      "Requirement already satisfied: decorator in /Users/kylekelley/.pyenv/versions/miniconda3-latest/lib/python3.11/site-packages (from ipython>=6.1.0->ipywidgets>=7.6.0->anywidget) (5.1.1)\n",
      "Requirement already satisfied: jedi>=0.16 in /Users/kylekelley/.pyenv/versions/miniconda3-latest/lib/python3.11/site-packages (from ipython>=6.1.0->ipywidgets>=7.6.0->anywidget) (0.18.1)\n",
      "Requirement already satisfied: matplotlib-inline in /Users/kylekelley/.pyenv/versions/miniconda3-latest/lib/python3.11/site-packages (from ipython>=6.1.0->ipywidgets>=7.6.0->anywidget) (0.1.6)\n",
      "Requirement already satisfied: prompt-toolkit<3.1.0,>=3.0.41 in /Users/kylekelley/.pyenv/versions/miniconda3-latest/lib/python3.11/site-packages (from ipython>=6.1.0->ipywidgets>=7.6.0->anywidget) (3.0.43)\n",
      "Requirement already satisfied: pygments>=2.4.0 in /Users/kylekelley/.pyenv/versions/miniconda3-latest/lib/python3.11/site-packages (from ipython>=6.1.0->ipywidgets>=7.6.0->anywidget) (2.17.2)\n",
      "Requirement already satisfied: stack-data in /Users/kylekelley/.pyenv/versions/miniconda3-latest/lib/python3.11/site-packages (from ipython>=6.1.0->ipywidgets>=7.6.0->anywidget) (0.2.0)\n",
      "Requirement already satisfied: pexpect>4.3 in /Users/kylekelley/.pyenv/versions/miniconda3-latest/lib/python3.11/site-packages (from ipython>=6.1.0->ipywidgets>=7.6.0->anywidget) (4.9.0)\n",
      "Requirement already satisfied: parso<0.9.0,>=0.8.0 in /Users/kylekelley/.pyenv/versions/miniconda3-latest/lib/python3.11/site-packages (from jedi>=0.16->ipython>=6.1.0->ipywidgets>=7.6.0->anywidget) (0.8.3)\n",
      "Requirement already satisfied: ptyprocess>=0.5 in /Users/kylekelley/.pyenv/versions/miniconda3-latest/lib/python3.11/site-packages (from pexpect>4.3->ipython>=6.1.0->ipywidgets>=7.6.0->anywidget) (0.7.0)\n",
      "Requirement already satisfied: wcwidth in /Users/kylekelley/.pyenv/versions/miniconda3-latest/lib/python3.11/site-packages (from prompt-toolkit<3.1.0,>=3.0.41->ipython>=6.1.0->ipywidgets>=7.6.0->anywidget) (0.2.13)\n",
      "Requirement already satisfied: executing in /Users/kylekelley/.pyenv/versions/miniconda3-latest/lib/python3.11/site-packages (from stack-data->ipython>=6.1.0->ipywidgets>=7.6.0->anywidget) (0.8.3)\n",
      "Requirement already satisfied: asttokens in /Users/kylekelley/.pyenv/versions/miniconda3-latest/lib/python3.11/site-packages (from stack-data->ipython>=6.1.0->ipywidgets>=7.6.0->anywidget) (2.0.5)\n",
      "Requirement already satisfied: pure-eval in /Users/kylekelley/.pyenv/versions/miniconda3-latest/lib/python3.11/site-packages (from stack-data->ipython>=6.1.0->ipywidgets>=7.6.0->anywidget) (0.2.2)\n",
      "Requirement already satisfied: six in /Users/kylekelley/.pyenv/versions/miniconda3-latest/lib/python3.11/site-packages (from asttokens->stack-data->ipython>=6.1.0->ipywidgets>=7.6.0->anywidget) (1.16.0)\n",
      "Downloading anywidget-0.9.13-py3-none-any.whl (213 kB)\n",
      "\u001b[2K   \u001b[38;2;114;156;31m━━━━━━━━━━━━━━━━━━━━━━━━━━━━━━━━━━━━━━━━\u001b[0m \u001b[32m213.7/213.7 kB\u001b[0m \u001b[31m4.0 MB/s\u001b[0m eta \u001b[36m0:00:00\u001b[0m[31m4.9 MB/s\u001b[0m eta \u001b[36m0:00:01\u001b[0m\n",
      "\u001b[?25hDownloading psygnal-0.11.1-py3-none-any.whl (76 kB)\n",
      "\u001b[2K   \u001b[38;2;114;156;31m━━━━━━━━━━━━━━━━━━━━━━━━━━━━━━━━━━━━━━━━\u001b[0m \u001b[32m77.0/77.0 kB\u001b[0m \u001b[31m6.6 MB/s\u001b[0m eta \u001b[36m0:00:00\u001b[0m\n",
      "\u001b[?25hInstalling collected packages: psygnal, anywidget\n",
      "Successfully installed anywidget-0.9.13 psygnal-0.11.1\n",
      "\n",
      "\u001b[1m[\u001b[0m\u001b[34;49mnotice\u001b[0m\u001b[1;39;49m]\u001b[0m\u001b[39;49m A new release of pip is available: \u001b[0m\u001b[31;49m24.0\u001b[0m\u001b[39;49m -> \u001b[0m\u001b[32;49m24.2\u001b[0m\n",
      "\u001b[1m[\u001b[0m\u001b[34;49mnotice\u001b[0m\u001b[1;39;49m]\u001b[0m\u001b[39;49m To update, run: \u001b[0m\u001b[32;49mpip install --upgrade pip\u001b[0m\n",
      "Note: you may need to restart the kernel to use updated packages.\n"
     ]
    }
   ],
   "source": [
    "%pip install anywidget"
   ]
  },
  {
   "cell_type": "code",
   "execution_count": 11,
   "metadata": {},
   "outputs": [
    {
     "ename": "AttributeError",
     "evalue": "module 'anywidget' has no attribute 'dataclass'",
     "output_type": "error",
     "traceback": [
      "\u001b[0;31m---------------------------------------------------------------------------\u001b[0m",
      "\u001b[0;31mAttributeError\u001b[0m                            Traceback (most recent call last)",
      "Cell \u001b[0;32mIn[11], line 3\u001b[0m\n\u001b[1;32m      1\u001b[0m \u001b[38;5;28;01mimport\u001b[39;00m \u001b[38;5;21;01manywidget\u001b[39;00m\n\u001b[0;32m----> 3\u001b[0m \u001b[38;5;129m@anywidget\u001b[39m\u001b[38;5;241m.\u001b[39mdataclass\n\u001b[1;32m      4\u001b[0m \u001b[38;5;28;01mclass\u001b[39;00m \u001b[38;5;21;01mCounter\u001b[39;00m:\n\u001b[1;32m      5\u001b[0m     count: \u001b[38;5;28mint\u001b[39m\n\u001b[1;32m      7\u001b[0m a \u001b[38;5;241m=\u001b[39m Counter(count\u001b[38;5;241m=\u001b[39m\u001b[38;5;241m0\u001b[39m) \u001b[38;5;66;03m# creates a signal internally\u001b[39;00m\n",
      "\u001b[0;31mAttributeError\u001b[0m: module 'anywidget' has no attribute 'dataclass'"
     ]
    }
   ],
   "source": [
    "import anywidget\n",
    "\n",
    "@anywidget.dataclass\n",
    "class Counter:\n",
    "    count: int\n",
    "\n",
    "a = Counter(count=0) # creates a signal internally\n",
    "\n",
    "shared_count = Signal(0)\n",
    "b = Counter(count=shared_count) # creates a signal internally\n",
    "c = Counter(count=shared_count) # creates a signal internally\n",
    "\n",
    "# behind the scenes, creating Counter creates an effect to update the frontend view\n",
    "# when the count changes. E.g.,\n",
    "# @effect\n",
    "# def update():\n",
    "#     self.comm.send('update', self.count)\n",
    "#\n",
    "# Updates b/c views because they share a signal, and have separate effects\n",
    "shared_count.value += 1\n"
   ]
  },
  {
   "cell_type": "code",
   "execution_count": 36,
   "metadata": {},
   "outputs": [
    {
     "data": {
      "application/vnd.jupyter.widget-view+json": {
       "model_id": "d8126716d5814712adf4e13147751b9b",
       "version_major": 2,
       "version_minor": 0
      },
      "text/plain": [
       "IntSlider(value=2, description='n', max=20, min=1)"
      ]
     },
     "metadata": {},
     "output_type": "display_data"
    }
   ],
   "source": [
    "import matplotlib.pyplot as plt\n",
    "import numpy as np\n",
    "import ipywidgets as widgets\n",
    "from signals import Signal\n",
    "\n",
    "# Create signal\n",
    "n = Signal(2)\n",
    "\n",
    "def on_slider_change(change):\n",
    "    n.value = change['new']\n",
    "\n",
    "slider = widgets.IntSlider(value=2, min=1, max=20, step=1, description='n')\n",
    "slider.observe(on_slider_change, names='value')\n",
    "display(slider)"
   ]
  },
  {
   "cell_type": "code",
   "execution_count": 38,
   "metadata": {},
   "outputs": [
    {
     "data": {
      "application/vnd.jupyter.widget-view+json": {
       "model_id": "1c7e6fa6e1e547a08f21d66183f5e0d1",
       "version_major": 2,
       "version_minor": 0
      },
      "text/plain": [
       "Output()"
      ]
     },
     "metadata": {},
     "output_type": "display_data"
    }
   ],
   "source": [
    "%%effect\n",
    "\n",
    "# Initial plot\n",
    "fig, ax = plt.subplots()\n",
    "x = np.linspace(0, n.value*np.pi, 100)\n",
    "y = np.sin(x)\n",
    "\n",
    "line, = ax.plot(x, y)"
   ]
  },
  {
   "cell_type": "code",
   "execution_count": 39,
   "metadata": {},
   "outputs": [
    {
     "ename": "ModuleNotFoundError",
     "evalue": "No module named 'signals.inputs'",
     "output_type": "error",
     "traceback": [
      "\u001b[0;31m---------------------------------------------------------------------------\u001b[0m",
      "\u001b[0;31mModuleNotFoundError\u001b[0m                       Traceback (most recent call last)",
      "Cell \u001b[0;32mIn[39], line 2\u001b[0m\n\u001b[1;32m      1\u001b[0m \u001b[38;5;28;01mfrom\u001b[39;00m \u001b[38;5;21;01msignals\u001b[39;00m \u001b[38;5;28;01mimport\u001b[39;00m Signal\n\u001b[0;32m----> 2\u001b[0m \u001b[38;5;28;01mimport\u001b[39;00m \u001b[38;5;21;01msignals\u001b[39;00m\u001b[38;5;21;01m.\u001b[39;00m\u001b[38;5;21;01minputs\u001b[39;00m \u001b[38;5;28;01mas\u001b[39;00m \u001b[38;5;21;01mInputs\u001b[39;00m\n\u001b[1;32m      4\u001b[0m a \u001b[38;5;241m=\u001b[39m Signal(\u001b[38;5;241m10\u001b[39m)\n\u001b[1;32m      5\u001b[0m b \u001b[38;5;241m=\u001b[39m Signal(\u001b[38;5;241m10\u001b[39m)\n",
      "\u001b[0;31mModuleNotFoundError\u001b[0m: No module named 'signals.inputs'"
     ]
    }
   ],
   "source": [
    "from signals import Signal\n",
    "import signals.inputs as Inputs\n",
    "\n",
    "a = Signal(10)\n",
    "b = Signal(10)"
   ]
  },
  {
   "cell_type": "code",
   "execution_count": null,
   "metadata": {},
   "outputs": [],
   "source": []
  }
 ],
 "metadata": {
  "language_info": {
   "name": "python"
  }
 },
 "nbformat": 4,
 "nbformat_minor": 2
}
