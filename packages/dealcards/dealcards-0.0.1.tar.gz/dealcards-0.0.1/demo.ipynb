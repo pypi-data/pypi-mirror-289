{
 "cells": [
  {
   "cell_type": "code",
   "execution_count": 1,
   "id": "db879cde-3c60-4001-9e71-e836c1fa8378",
   "metadata": {
    "execution": {
     "iopub.execute_input": "2024-08-11T12:27:53.355499Z",
     "iopub.status.busy": "2024-08-11T12:27:53.354681Z",
     "iopub.status.idle": "2024-08-11T12:27:53.441686Z",
     "shell.execute_reply": "2024-08-11T12:27:53.441266Z",
     "shell.execute_reply.started": "2024-08-11T12:27:53.355445Z"
    }
   },
   "outputs": [],
   "source": [
    "import anywidget\n",
    "import traitlets\n",
    "\n",
    "class Widget(anywidget.AnyWidget):\n",
    "    _esm = \"./src/dealcards/static/widget.js\"\n",
    "    _css = \"./src/dealcards/static/widget.css\"\n",
    "    def click(self):\n",
    "        self.send({\"type\": \"click\"})\n",
    "    value = traitlets.Int(13).tag(sync=True)"
   ]
  },
  {
   "cell_type": "code",
   "execution_count": 2,
   "id": "21582bca-7d98-4c93-a1fa-feeef9b29ea2",
   "metadata": {
    "execution": {
     "iopub.execute_input": "2024-08-11T12:27:59.083245Z",
     "iopub.status.busy": "2024-08-11T12:27:59.082522Z",
     "iopub.status.idle": "2024-08-11T12:27:59.101564Z",
     "shell.execute_reply": "2024-08-11T12:27:59.100679Z",
     "shell.execute_reply.started": "2024-08-11T12:27:59.083186Z"
    }
   },
   "outputs": [
    {
     "data": {
      "application/vnd.jupyter.widget-view+json": {
       "model_id": "61b5095d3aac4a6d8a40b80ffa8e3329",
       "version_major": 2,
       "version_minor": 1
      },
      "text/plain": [
       "Widget()"
      ]
     },
     "execution_count": 2,
     "metadata": {},
     "output_type": "execute_result"
    }
   ],
   "source": [
    "w = Widget()\n",
    "w"
   ]
  },
  {
   "cell_type": "code",
   "execution_count": 6,
   "id": "2ce86540-aab8-4000-845c-14eeb5e8b351",
   "metadata": {
    "execution": {
     "iopub.execute_input": "2024-08-11T12:28:36.612387Z",
     "iopub.status.busy": "2024-08-11T12:28:36.611698Z",
     "iopub.status.idle": "2024-08-11T12:28:36.618762Z",
     "shell.execute_reply": "2024-08-11T12:28:36.617295Z",
     "shell.execute_reply.started": "2024-08-11T12:28:36.612334Z"
    }
   },
   "outputs": [],
   "source": [
    "w.click()"
   ]
  },
  {
   "cell_type": "code",
   "execution_count": 5,
   "id": "7c712fd0-ddd5-4822-ab6d-7b6590cf6011",
   "metadata": {
    "execution": {
     "iopub.execute_input": "2024-08-11T12:28:33.746900Z",
     "iopub.status.busy": "2024-08-11T12:28:33.746373Z",
     "iopub.status.idle": "2024-08-11T12:28:33.754980Z",
     "shell.execute_reply": "2024-08-11T12:28:33.753846Z",
     "shell.execute_reply.started": "2024-08-11T12:28:33.746847Z"
    }
   },
   "outputs": [
    {
     "data": {
      "text/plain": [
       "3"
      ]
     },
     "execution_count": 5,
     "metadata": {},
     "output_type": "execute_result"
    }
   ],
   "source": [
    "w.value"
   ]
  },
  {
   "cell_type": "code",
   "execution_count": 4,
   "id": "39b73bbf-02a9-41f4-89d7-7ba4fd6b2775",
   "metadata": {
    "execution": {
     "iopub.execute_input": "2024-08-11T12:28:20.141804Z",
     "iopub.status.busy": "2024-08-11T12:28:20.141296Z",
     "iopub.status.idle": "2024-08-11T12:28:20.148376Z",
     "shell.execute_reply": "2024-08-11T12:28:20.146849Z",
     "shell.execute_reply.started": "2024-08-11T12:28:20.141754Z"
    }
   },
   "outputs": [],
   "source": [
    "w.value = 3"
   ]
  },
  {
   "cell_type": "code",
   "execution_count": 6,
   "id": "53fdcff8-9940-4e03-9c72-40389a600072",
   "metadata": {
    "execution": {
     "iopub.execute_input": "2024-08-11T11:13:52.121637Z",
     "iopub.status.busy": "2024-08-11T11:13:52.121048Z",
     "iopub.status.idle": "2024-08-11T11:13:52.130543Z",
     "shell.execute_reply": "2024-08-11T11:13:52.129138Z",
     "shell.execute_reply.started": "2024-08-11T11:13:52.121584Z"
    }
   },
   "outputs": [
    {
     "data": {
      "application/vnd.jupyter.widget-view+json": {
       "model_id": "d7034557f9fb442894945f8b058ad6d1",
       "version_major": 2,
       "version_minor": 1
      },
      "text/plain": [
       "Widget()"
      ]
     },
     "execution_count": 6,
     "metadata": {},
     "output_type": "execute_result"
    }
   ],
   "source": [
    "w.value\n",
    "w"
   ]
  },
  {
   "cell_type": "code",
   "execution_count": 7,
   "id": "6a757e07-0db8-41ff-a6cc-2656e810149e",
   "metadata": {
    "execution": {
     "iopub.execute_input": "2024-08-11T11:14:08.315616Z",
     "iopub.status.busy": "2024-08-11T11:14:08.315005Z",
     "iopub.status.idle": "2024-08-11T11:14:08.325274Z",
     "shell.execute_reply": "2024-08-11T11:14:08.323936Z",
     "shell.execute_reply.started": "2024-08-11T11:14:08.315503Z"
    }
   },
   "outputs": [
    {
     "data": {
      "application/vnd.jupyter.widget-view+json": {
       "model_id": "d7034557f9fb442894945f8b058ad6d1",
       "version_major": 2,
       "version_minor": 1
      },
      "text/plain": [
       "Widget(value=3)"
      ]
     },
     "execution_count": 7,
     "metadata": {},
     "output_type": "execute_result"
    }
   ],
   "source": [
    "w.value = 3\n",
    "w"
   ]
  },
  {
   "cell_type": "code",
   "execution_count": 8,
   "id": "d3b3acf0-0e61-4278-9ebf-ffc425b03df7",
   "metadata": {
    "execution": {
     "iopub.execute_input": "2024-08-11T11:07:40.029276Z",
     "iopub.status.busy": "2024-08-11T11:07:40.028754Z",
     "iopub.status.idle": "2024-08-11T11:07:40.037344Z",
     "shell.execute_reply": "2024-08-11T11:07:40.036194Z",
     "shell.execute_reply.started": "2024-08-11T11:07:40.029223Z"
    }
   },
   "outputs": [
    {
     "data": {
      "text/plain": [
       "3"
      ]
     },
     "execution_count": 8,
     "metadata": {},
     "output_type": "execute_result"
    }
   ],
   "source": [
    "w.value"
   ]
  },
  {
   "cell_type": "code",
   "execution_count": 9,
   "id": "bb02e01d-916f-483f-ae74-25b43f8f2135",
   "metadata": {
    "execution": {
     "iopub.execute_input": "2024-08-11T11:07:41.979416Z",
     "iopub.status.busy": "2024-08-11T11:07:41.978885Z",
     "iopub.status.idle": "2024-08-11T11:07:41.986254Z",
     "shell.execute_reply": "2024-08-11T11:07:41.984774Z",
     "shell.execute_reply.started": "2024-08-11T11:07:41.979362Z"
    }
   },
   "outputs": [],
   "source": [
    "w.click()"
   ]
  },
  {
   "cell_type": "code",
   "execution_count": null,
   "id": "8cc0386f-412b-4081-b7b1-947ada6e5416",
   "metadata": {},
   "outputs": [],
   "source": [
    "w = Widget()\n",
    "w"
   ]
  },
  {
   "cell_type": "code",
   "execution_count": null,
   "id": "aa62f29e-eb18-46e5-8ce5-fb9783b3da73",
   "metadata": {},
   "outputs": [],
   "source": []
  }
 ],
 "metadata": {
  "kernelspec": {
   "display_name": "Python 3 (ipykernel)",
   "language": "python",
   "name": "python3"
  },
  "language_info": {
   "codemirror_mode": {
    "name": "ipython",
    "version": 3
   },
   "file_extension": ".py",
   "mimetype": "text/x-python",
   "name": "python",
   "nbconvert_exporter": "python",
   "pygments_lexer": "ipython3",
   "version": "3.10.12"
  }
 },
 "nbformat": 4,
 "nbformat_minor": 5
}
