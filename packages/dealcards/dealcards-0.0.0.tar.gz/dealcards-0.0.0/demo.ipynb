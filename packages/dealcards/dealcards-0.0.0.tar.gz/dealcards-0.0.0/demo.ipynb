{
 "cells": [
  {
   "cell_type": "code",
   "execution_count": 1,
   "id": "6387c405-5f00-4630-af6d-12fde3d84363",
   "metadata": {
    "execution": {
     "iopub.execute_input": "2024-08-07T14:10:50.996928Z",
     "iopub.status.busy": "2024-08-07T14:10:50.996401Z",
     "iopub.status.idle": "2024-08-07T14:10:51.144678Z",
     "shell.execute_reply": "2024-08-07T14:10:51.143864Z",
     "shell.execute_reply.started": "2024-08-07T14:10:50.996875Z"
    }
   },
   "outputs": [
    {
     "ename": "ModuleNotFoundError",
     "evalue": "No module named 'dealcards'",
     "output_type": "error",
     "traceback": [
      "\u001b[0;31m---------------------------------------------------------------------------\u001b[0m",
      "\u001b[0;31mModuleNotFoundError\u001b[0m                       Traceback (most recent call last)",
      "Cell \u001b[0;32mIn[1], line 1\u001b[0m\n\u001b[0;32m----> 1\u001b[0m \u001b[38;5;28;01mimport\u001b[39;00m \u001b[38;5;21;01mdealcards\u001b[39;00m\n",
      "\u001b[0;31mModuleNotFoundError\u001b[0m: No module named 'dealcards'"
     ]
    }
   ],
   "source": [
    "import anywidget\n",
    "import traitlets\n",
    "\n",
    "class CardsWidget(anywidget.AnyWidget):\n",
    "    _esm = \"draw.js\"\n",
    "    _css = \"style.css\"\n",
    "    def click(self):\n",
    "        self.send({\"type\": \"click\"})\n",
    "    value = traitlets.Int(13).tag(sync=True)"
   ]
  },
  {
   "cell_type": "code",
   "execution_count": 2,
   "id": "43b54c7d-36c2-40d1-ba8f-1f5adf0862b2",
   "metadata": {
    "execution": {
     "iopub.execute_input": "2024-06-20T12:48:54.521239Z",
     "iopub.status.busy": "2024-06-20T12:48:54.520732Z",
     "iopub.status.idle": "2024-06-20T12:48:54.539431Z",
     "shell.execute_reply": "2024-06-20T12:48:54.538418Z",
     "shell.execute_reply.started": "2024-06-20T12:48:54.521188Z"
    }
   },
   "outputs": [
    {
     "data": {
      "application/vnd.jupyter.widget-view+json": {
       "model_id": "6c8fbc06d6594d04951bf939faa6277e",
       "version_major": 2,
       "version_minor": 1
      },
      "text/plain": [
       "CardsWidget()"
      ]
     },
     "execution_count": 2,
     "metadata": {},
     "output_type": "execute_result"
    }
   ],
   "source": [
    "w = CardsWidget()\n",
    "w"
   ]
  },
  {
   "cell_type": "code",
   "execution_count": null,
   "id": "7c712fd0-ddd5-4822-ab6d-7b6590cf6011",
   "metadata": {},
   "outputs": [],
   "source": []
  }
 ],
 "metadata": {
  "kernelspec": {
   "display_name": "Python 3 (ipykernel)",
   "language": "python",
   "name": "python3"
  },
  "language_info": {
   "codemirror_mode": {
    "name": "ipython",
    "version": 3
   },
   "file_extension": ".py",
   "mimetype": "text/x-python",
   "name": "python",
   "nbconvert_exporter": "python",
   "pygments_lexer": "ipython3",
   "version": "3.10.12"
  }
 },
 "nbformat": 4,
 "nbformat_minor": 5
}
