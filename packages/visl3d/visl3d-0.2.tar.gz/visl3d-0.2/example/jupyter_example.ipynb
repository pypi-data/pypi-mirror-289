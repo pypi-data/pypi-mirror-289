{
 "cells": [
  {
   "cell_type": "markdown",
   "metadata": {},
   "source": [
    "# Example to create 3D visualisations with **VisL3D**\n",
    "\n",
    "**ViSL3D** (Visualisation of Spectral Lines in 3D) provides a straightforward method to create 3D visualisations of datacubes, with the possibility of customising the visualisation in many ways. This template describes how to create different 3D visualisations with the **ViSL3D** package.\n",
    "\n",
    "Apart from the provided examples, many other visualisations can be created by combining the different parameters available in the functions *vis.prep_one*, *vis.prep_mult*, *vis.prep_overlay*. See the documentation of each function for more information.\n",
    "\n",
    "Even though those functions are recommended to create the visualisations, they can also be created from scratch with only the vis.Cube object and functions in the writers submodule."
   ]
  },
  {
   "cell_type": "code",
   "execution_count": 1,
   "metadata": {},
   "outputs": [],
   "source": [
    "from visl3d import visual as vis\n",
    "import astropy.units as u"
   ]
  },
  {
   "cell_type": "markdown",
   "metadata": {},
   "source": [
    "## Prepare datacube\n",
    "\n",
    "### Default visualisation\n",
    "\n",
    "In the simplest case, a 3D visualisation of an entire datacube can be created with just giving the name of a FITS file as input:"
   ]
  },
  {
   "cell_type": "code",
   "execution_count": 2,
   "metadata": {},
   "outputs": [
    {
     "name": "stdout",
     "output_type": "stream",
     "text": [
      "Warning: Cube with polarization axis. Using first.\n"
     ]
    }
   ],
   "source": [
    "cube_default = vis.prep_one('HCG16.fits')"
   ]
  },
  {
   "cell_type": "markdown",
   "metadata": {},
   "source": [
    "The function *vis.prep_one* returns a Cube object with all the information needed to create a 3D visualisation.<br>\n",
    "\n",
    "### Custom visualisation, single spectral line\n",
    "\n",
    "Several parameters can be introduced in *vis.prep_one* to customise the visualisation:"
   ]
  },
  {
   "cell_type": "code",
   "execution_count": 3,
   "metadata": {},
   "outputs": [
    {
     "name": "stdout",
     "output_type": "stream",
     "text": [
      "Warning: Cube with polarization axis. Using first.\n"
     ]
    },
    {
     "name": "stderr",
     "output_type": "stream",
     "text": [
      "WARNING: InputWarning: Coordinate string is being interpreted as an ICRS coordinate. [astroquery.utils.commons]\n"
     ]
    }
   ],
   "source": [
    "lims = [[32.2*u.deg,32.7*u.deg],\n",
    "        [-10.4*u.deg,-10.2*u.deg],\n",
    "        [3800*u.km/u.s,4000*u.km/u.s]]\n",
    "\n",
    "galaxies = ['HCG91a','HCG91b', 'HCG91c', 'HCG16d']\n",
    "\n",
    "cube_custom = vis.prep_one('HCG16.fits', lims=lims, unit='rms', isolevels=[3,4,5,7,10],\n",
    "                    colormap='magma_r', image2d='DSS2 Blue', galaxies=galaxies)"
   ]
  },
  {
   "cell_type": "markdown",
   "metadata": {},
   "source": [
    "### Multiple spectral lines\n",
    "\n",
    "Visualisations with several subcubes can be created to represent different spectral lines.\n",
    "In this case the spectral_lims parameter is mandatory."
   ]
  },
  {
   "cell_type": "code",
   "execution_count": 4,
   "metadata": {},
   "outputs": [
    {
     "name": "stdout",
     "output_type": "stream",
     "text": [
      "Warning: Cube with polarization axis. Using first.\n"
     ]
    }
   ],
   "source": [
    "spectral_lims = [[3600*u.km/u.s,3700*u.km/u.s],\n",
    "                 [3800*u.km/u.s,3900*u.km/u.s]]\n",
    "\n",
    "spatial_lims = [[[32.3*u.deg,32.5*u.deg],[-10.4*u.deg,-10.3*u.deg]],\n",
    "                [[32.6*u.deg,32.7*u.deg],[-10.2*u.deg,-10.1*u.deg]]]\n",
    "\n",
    "lines = ['First', 'Second']\n",
    "\n",
    "cube_multiple = vis.prep_mult('HCG16.fits', spectral_lims=spectral_lims, spatial_lims=spatial_lims,\n",
    "                     lines = lines, unit='rms')"
   ]
  },
  {
   "cell_type": "markdown",
   "metadata": {},
   "source": [
    "### Spectral line overlay\n",
    "\n",
    "Instead of plotting different spectral lines separately, they can be overlaid in the same volume.<br>\n",
    "The subcubes can be definead as with *vis.prep_mult* or with the lines parameter as a dictionary."
   ]
  },
  {
   "cell_type": "code",
   "execution_count": 5,
   "metadata": {},
   "outputs": [
    {
     "name": "stdout",
     "output_type": "stream",
     "text": [
      "Warning: Cube with polarization axis. Using first.\n"
     ]
    }
   ],
   "source": [
    "lines = {'Line 1': (3600*u.km/u.s, 200*u.km/u.s), 'Line 2': (3850*u.km/u.s, 20)}\n",
    "\n",
    "spatial_lims = [[[32.3*u.deg,32.5*u.deg],[-10.4*u.deg,-10.3*u.deg]],\n",
    "                [[32.6*u.deg,32.7*u.deg],[-10.25*u.deg,-10.1*u.deg]]]\n",
    "\n",
    "cube_overlay = vis.prep_overlay('HCG16.fits', lines=lines, spatial_lims=spatial_lims,\n",
    "                        unit='percent', colormap=['Reds', 'Blues'])"
   ]
  },
  {
   "cell_type": "markdown",
   "metadata": {},
   "source": [
    "## Embedded 3D model\n",
    "\n",
    "This method creates a single HTML file including the X3D model of the datacube. The file can be opened in any browser that supports X3D and X3DOM, which includes most modern browsers.<br>"
   ]
  },
  {
   "cell_type": "code",
   "execution_count": 6,
   "metadata": {},
   "outputs": [],
   "source": [
    "vis.createVis(cube_default, 'results/HCG16_default_em.html')\n",
    "vis.createVis(cube_custom, 'results/HCG16_custom_em.html')\n",
    "vis.createVis(cube_multiple, 'results/HCG16_multiple_em.html')\n",
    "vis.createVis(cube_overlay, 'results/HCG16_overlay_em.html')"
   ]
  },
  {
   "cell_type": "markdown",
   "metadata": {},
   "source": [
    "## External 3D model\n",
    "\n",
    "The alternative option is to create an HTML file and an X3D file separately. This can be useful in order to use the 3D model with other software.\n",
    "\n",
    "**REMEMBER THAT THESE VISUALISATIONS MUST BE OPENED THROUGH A SERVER, NOT DIRECTLY FROM THE FILE SYSTEM.**"
   ]
  },
  {
   "cell_type": "code",
   "execution_count": 2,
   "metadata": {},
   "outputs": [
    {
     "name": "stdout",
     "output_type": "stream",
     "text": [
      "Warning: Cube with polarization axis. Using first.\n",
      "If the path leads to a local server, the visualisation can be accessed in a web browser with \"localhost/path/from/DocumentRoot/HCG16_default.html\"\n"
     ]
    }
   ],
   "source": [
    "vis.createX3D(cube_default, 'results/HCG16_default_ex.x3d')\n",
    "vis.createHTML(cube_default, 'results/HCG16_default_ex.html')\n",
    "\n",
    "vis.createX3D(cube_custom, 'results/HCG16_custom_ex.x3d')\n",
    "vis.createHTML(cube_custom, 'results/HCG16_custom_ex.html')\n",
    "\n",
    "vis.createX3D(cube_multiple, 'results/HCG16_mult_ex.x3d')\n",
    "vis.createHTML(cube_multiple, 'results/HCG16_mult_ex.html')\n",
    "\n",
    "vis.createX3D(cube_overlay, 'results/HCG16_overlay_ex.x3d')\n",
    "vis.createHTML(cube_overlay, 'results/HCG16_overlay_ex.html')"
   ]
  },
  {
   "cell_type": "markdown",
   "metadata": {},
   "source": [
    "## Manual method\n",
    "\n",
    "We can make the whole process manually. We can load and prepare data without *vis.prep_one*,<br>\n",
    "*vis.prep_mult* or *vis.prep_overlay* directly with e.g. Astropy or Spectral-Cube."
   ]
  },
  {
   "cell_type": "code",
   "execution_count": 9,
   "metadata": {},
   "outputs": [
    {
     "name": "stderr",
     "output_type": "stream",
     "text": [
      "WARNING: StokesWarning: Cube is a Stokes cube, returning spectral cube for I component [spectral_cube.io.core]\n"
     ]
    },
    {
     "name": "stdout",
     "output_type": "stream",
     "text": [
      "(133, 280, 315)\n",
      "(0.00166666666667, 0.00166666666667, 5513.42184924)\n",
      "[[ 3.23056917e+01  3.27701427e+01]\n",
      " [-1.04694518e+01 -1.00711173e+01]\n",
      " [ 3.65003088e+06  4.15726569e+06]]\n",
      "0.00038725222\n"
     ]
    },
    {
     "name": "stderr",
     "output_type": "stream",
     "text": [
      "WARNING: InputWarning: Coordinate string is being interpreted as an ICRS coordinate. [astroquery.utils.commons]\n"
     ]
    }
   ],
   "source": [
    "from spectral_cube import SpectralCube\n",
    "import numpy as np\n",
    "from visl3d import misc\n",
    "from scipy.stats import norm\n",
    "from astropy.coordinates import SkyCoord\n",
    "\n",
    "# Read the fits file and save header\n",
    "data = SpectralCube.read(\"HCG16.fits\")\n",
    "cubehead = data.header\n",
    "nz, ny, nx = data.shape\n",
    "print(data.shape)\n",
    "dra, ddec, dv = cubehead['CDELT1'], cubehead['CDELT2'], cubehead['CDELT3']\n",
    "units = [cubehead['BUNIT'], cubehead['CUNIT1'], cubehead['CUNIT2'], cubehead['CUNIT3']]\n",
    "mags = [cubehead['BTYPE'], cubehead['CTYPE1'], cubehead['CTYPE2'], cubehead['CTYPE3']]\n",
    "delta = (np.abs(dra), np.abs(ddec), np.abs(dv))\n",
    "print(delta)\n",
    "\n",
    "# Limits to crop the cube, no HI there. Subtract 1 to wanted number, e.g. nz-1.\n",
    "limx = [25, nx-16]\n",
    "limy = [20, ny-21]\n",
    "limz = [10, nz-31]\n",
    "\n",
    "# Calculate coordinates from limits\n",
    "ralim = data.spatial_coordinate_map[1][0,:][limx][::int(np.sign(cubehead[\"CDELT1\"]))]\n",
    "ramean = np.mean(ralim)\n",
    "declim = data.spatial_coordinate_map[0][:,0][limy][::int(np.sign(cubehead[\"CDELT2\"]))]\n",
    "decmean = np.mean(declim)\n",
    "vlim = data.spectral_axis[limz][::int(np.sign(dv))]\n",
    "vmean = np.mean(vlim).to_value()\n",
    "\n",
    "coords = np.array([ralim, declim, vlim])\n",
    "print(coords)\n",
    "\n",
    "# create cropped array\n",
    "data = data.unmasked_data[limz[0]:limz[1]+1,limy[0]:limy[1]+1,limx[0]:limx[1]+1].to_value()\n",
    "# Slice data, transpose to (ra,dec,v) and flip axes if needed (see if step in FITS header is + or -)\n",
    "data = misc.transpose(data, (dra,ddec,dv))\n",
    "\n",
    "# calculate rms of data from negative values in the cube\n",
    "_, rms = norm.fit(np.hstack([data[data<0].flatten(),-data[data<0].flatten()]))\n",
    "print(rms)\n",
    "\n",
    "# Divide the cube by the RMS\n",
    "data = data/rms\n",
    "units[0] = 'RMS'\n",
    "\n",
    "isolevels = np.array([3, 3.5, 4, 4.5, 5, 6, 7, 8 ,9, 10, 15])\n",
    "\n",
    "galaxies = ['HCG16a','HCG16b', 'HCG16c', 'HCG16d', 'NCG848']\n",
    "trans = (2000/nx, 2000/ny, 2000/nz)\n",
    "galdict = misc.get_galaxies(galaxies, coords, units, cubehead['OBJECT'], delta, trans)\n",
    "\n",
    "color = misc.create_colormap('CMRmap_r', isolevels)\n",
    "\n",
    "pixels = 1000\n",
    "co = SkyCoord(ra=np.mean(coords[0])*u.Unit(units[1]), dec=np.mean(coords[1])*u.Unit(units[2]))\n",
    "co = co.to_string('hmsdms')\n",
    "imcol, img_shape, _ = misc.get_imcol(position=co, survey='DSS2 Blue',pixels=f'{pixels}',\n",
    "        coordinates='J2000', width=np.diff(coords[0])[0]*u.Unit(units[1]),\n",
    "        height=np.diff(coords[1])[0]*u.Unit(units[2]))\n",
    "image2d = imcol, img_shape\n",
    "\n",
    "cube = vis.Cube(l_cubes=[data], name=cubehead['OBJECT'], coords=coords, units=units,\n",
    "                 mags=mags, l_colors=[color], rms=rms, image2d=image2d, delta=delta,\n",
    "                 galaxies=galdict, l_isolevels=[isolevels])"
   ]
  },
  {
   "cell_type": "markdown",
   "metadata": {},
   "source": [
    "Now that we have defined the Cube object, we can create the X3D and HTML files with the *writers* submodule.<br>\n",
    "The previous step can be done with *vis.prep_one*, *vis.prep_mult* or *vis.prep_overlay* and still create the files with the *writers* submodule."
   ]
  },
  {
   "cell_type": "code",
   "execution_count": 10,
   "metadata": {},
   "outputs": [],
   "source": [
    "from visl3d import writers\n",
    "\n",
    "x3d = writers.WriteX3D('results/HCG16_manual.x3d', cube)\n",
    "x3d.make_layers()\n",
    "x3d.make_outline()\n",
    "x3d.make_galaxies()\n",
    "x3d.make_image2d()\n",
    "x3d.make_ticklines()\n",
    "x3d.make_animation()\n",
    "x3d.make_labels()"
   ]
  },
  {
   "cell_type": "markdown",
   "metadata": {},
   "source": [
    "We can add functionalities that are not implemented by *vis.createX3D* and *vis.createHTML*,<br>\n",
    "such as adding a marker directly in the X3D model."
   ]
  },
  {
   "cell_type": "code",
   "execution_count": 11,
   "metadata": {},
   "outputs": [],
   "source": [
    "# variables needed to create markers\n",
    "delta = cube.delta\n",
    "nx, ny, nz = cube.l_cubes[0].shape\n",
    "trans = [2000/nx, 2000/ny, 2000/nz]"
   ]
  },
  {
   "cell_type": "code",
   "execution_count": 12,
   "metadata": {},
   "outputs": [],
   "source": [
    "# coordinates to create markers, in units of the cube.\n",
    "tub = [np.array([[32.4, -10.1, 3850000], [32.6, -10.2, 4050000]]),\n",
    "          np.array([[32.5, -10.3, 3900000], [32.7, -10.4, 4000000], [32.4, -10.2, 4100000]])]\n",
    "sph = [[32.35,-10.15,3820000],[32.45,-10.45,3910000]]\n",
    "box = [[32.4,-10.2,4100000],[32.6,-10.4,3900000]]\n",
    "con = [[32.5,-10.3,3950000],[32.7,-10.1,4050000]]"
   ]
  },
  {
   "cell_type": "code",
   "execution_count": 13,
   "metadata": {},
   "outputs": [],
   "source": [
    "# create markers in the x3d model and close.\n",
    "x3d.make_markers(geom='tube', points=tub, shape=[50,10], delta=delta,\n",
    "                 trans=trans, color=['1 0 0','0 1 0'], labels=['TUBE1','TUBE2'])\n",
    "x3d.make_markers(geom='sphere', points=sph, shape=[50,40], delta=delta,\n",
    "                 trans=trans, color=['1 0 1','0 1 1'], labels=['SPHERE1', 'SPHERE2'])\n",
    "x3d.make_markers(geom='box', points=box, shape=[[100,50,50],[40,40,40]], delta=delta,\n",
    "                 trans=trans, color=['1 1 0','0 0 1'], labels=['BOX1', 'BOX2'])\n",
    "x3d.make_markers(geom='cone', points=con, shape=[[60,200],[40,100]], delta=delta,\n",
    "                 trans=trans, color=['0 1 1','1 1 0'], labels=['CONE1', 'CONE2'])\n",
    "x3d.close()"
   ]
  },
  {
   "cell_type": "markdown",
   "metadata": {},
   "source": [
    "We also have to define give the coordinates of the markers in the HTML file to be able to interact with them.<br>\n",
    "These are needed in *func_pymarkers()*, *func_buttons()* and *func_scalev()*.\n",
    "\n",
    "Another functionality is adding custom viewpoints to give a better perspective of certain features in the data.<br>\n",
    "This is done by adding points in *viewpoints()* and names in *buttons()*."
   ]
  },
  {
   "cell_type": "code",
   "execution_count": 14,
   "metadata": {},
   "outputs": [],
   "source": [
    "html = writers.WriteHTML('results/HCG16_manual.html', cube)\n",
    "html.func_layers()\n",
    "html.func_galaxies()\n",
    "html.func_grids()\n",
    "html.func_axes()\n",
    "html.func_animation()\n",
    "html.func_pymarkers(tube=tub, sphere=sph, box=box, cone=con)\n",
    "html.start_x3d()\n",
    "html.viewpoints(point=[[1,1,1],[-2,1,0]])\n",
    "html.close_x3d('HCG16_manual.html')\n",
    "html.buttons(tube=tub, sphere=sph, box=box, cone=con, viewpoint=['Tidal tail', 'HII region'])\n",
    "html.func_galsize()\n",
    "html.func_image2d()\n",
    "html.func_move2dimage()\n",
    "html.func_scalev(tube=tub, sphere=sph, box=box, cone=con, delta=delta, trans=trans)\n",
    "html.func_markers()\n",
    "html.func_background()\n",
    "html.func_colormaps()\n",
    "html.close_html()"
   ]
  }
 ],
 "metadata": {
  "kernelspec": {
   "display_name": "x3d",
   "language": "python",
   "name": "python3"
  },
  "language_info": {
   "codemirror_mode": {
    "name": "ipython",
    "version": 3
   },
   "file_extension": ".py",
   "mimetype": "text/x-python",
   "name": "python",
   "nbconvert_exporter": "python",
   "pygments_lexer": "ipython3",
   "version": "3.10.8"
  }
 },
 "nbformat": 4,
 "nbformat_minor": 2
}
