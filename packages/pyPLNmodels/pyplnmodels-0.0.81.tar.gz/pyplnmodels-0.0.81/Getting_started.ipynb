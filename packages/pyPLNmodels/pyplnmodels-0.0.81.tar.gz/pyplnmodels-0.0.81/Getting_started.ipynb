{
 "cells": [
  {
   "cell_type": "markdown",
   "id": "ed43eb9b",
   "metadata": {},
   "source": [
    "## Installation"
   ]
  },
  {
   "cell_type": "code",
   "execution_count": null,
   "id": "23df6e63",
   "metadata": {},
   "outputs": [],
   "source": [
    "!pip install pyPLNmodels"
   ]
  },
  {
   "cell_type": "markdown",
   "id": "0f39390e",
   "metadata": {},
   "source": [
    "### Getting Started with the PLN Model Package\n",
    "\n",
    "We assume the data follows a Poisson log-normal (PLN) model:\n",
    "\n",
    "$$ \\mathbf{Y}_i \\sim \\mathcal{P}(\\exp(\\mathbf{Z}_i)), \\quad \\mathbf{Z}_i \\sim \\mathcal{N}(\\mathbf{o}_i + \\mathbf{B}^{\\top} \\mathbf{x}_i, \\mathbf{\\Sigma}). $$\n",
    "\n",
    "The package aims to retrieve the latent variables $\\mathbf{Z}$ from the observed counts and to infer the parameters $\\mathbf{B}$ (`coef` in the package) and $\\mathbf{\\Sigma}$ (`covariance`), of size $d\\times p $ and $p\\times p$ respectively. Users can provide:\n",
    "\n",
    "- A matrix of counts $\\mathbf{Y}$ of size $n \\times p$ (`endog`)\n",
    "- A matrix of covariates $\\mathbf{X}$ of size $n \\times d$ (`exog`)\n",
    "- An offsets matrix of size $n \\times p$ (`offsets`)\n",
    "\n",
    "Default values are available for the covariates and offsets if they are not provided, but the count matrix is required. \n",
    "\n",
    "In the following, we consider the `Pln` class implementing the PLN model as well as two variants of PLN: `PlnPCA` and `ZIPln`. We begin by analyzing a dataset without covariates, followed by an analysis that includes covariates.\n",
    "\n"
   ]
  },
  {
   "cell_type": "markdown",
   "id": "f148b725",
   "metadata": {},
   "source": [
    "### How to specify a model\n",
    "Each model can be specified in two distinct manners:\n",
    "\n",
    "* by formula (similar to R), where a data frame is passed and the formula is specified using the  ```from_formula``` initialization:\n",
    "\n",
    "```model = Model.from_formula(\"endog ~ 1  + covariate_name \", data = data)# not run```\n",
    "\n",
    "We rely to the [patsy](https://github.com/pydata/patsy) package for the formula parsing.\n",
    "\n",
    "* by specifying the endog, exog, and offsets matrices directly:\n",
    "\n",
    "```model = Model(endog = endog, exog = exog, offsets = offsets)# not run```\n"
   ]
  },
  {
   "cell_type": "markdown",
   "id": "4c8197c4",
   "metadata": {},
   "source": [
    "### Import the needed functions"
   ]
  },
  {
   "cell_type": "code",
   "execution_count": null,
   "id": "5a8e0140",
   "metadata": {},
   "outputs": [],
   "source": [
    "from pyPLNmodels import load_scrna, load_model, Pln, PlnPCA, PlnPCAcollection, ZIPln, load_microcosm\n",
    "import matplotlib.pyplot as plt"
   ]
  },
  {
   "cell_type": "markdown",
   "id": "e39dcc7a",
   "metadata": {},
   "source": [
    "# Without covariates"
   ]
  },
  {
   "cell_type": "markdown",
   "id": "1d5f48ff",
   "metadata": {},
   "source": [
    "### Load the data\n",
    "\n",
    "We load a subsample of the [scMARK](https://www.biorxiv.org/content/10.1101/2021.12.08.471773v1) dataset. The loaded dataset consists of 469 cells (rows) and 200 genes (columns). The counts represent the number of reads sequenced for each cell, mapped to each gene. The cell types are also provided."
   ]
  },
  {
   "cell_type": "code",
   "execution_count": null,
   "id": "cee623e0",
   "metadata": {},
   "outputs": [],
   "source": [
    "data  = load_scrna(return_labels=True) \n",
    "counts = data[\"endog\"]\n",
    "labels = data[\"labels\"]"
   ]
  },
  {
   "cell_type": "markdown",
   "id": "27a4761f",
   "metadata": {},
   "source": [
    "### `Pln`\n",
    "\n",
    "This is the building-block of the models implemented in this package. It fits a Poisson lognormal model to the data:"
   ]
  },
  {
   "cell_type": "code",
   "execution_count": null,
   "id": "ef9f6c70",
   "metadata": {},
   "outputs": [],
   "source": [
    "pln = Pln(counts)\n",
    "pln.fit()"
   ]
  },
  {
   "cell_type": "code",
   "execution_count": null,
   "id": "1deff79e",
   "metadata": {},
   "outputs": [],
   "source": [
    "print(pln)"
   ]
  },
  {
   "cell_type": "markdown",
   "id": "b2c256e3",
   "metadata": {},
   "source": [
    "#### Once fitted, we can extract multiple variables:"
   ]
  },
  {
   "cell_type": "code",
   "execution_count": null,
   "id": "182e24a2",
   "metadata": {},
   "outputs": [],
   "source": [
    "gaussians = pln.latent_variables\n",
    "print(gaussians.shape)"
   ]
  },
  {
   "cell_type": "code",
   "execution_count": null,
   "id": "b8e7b983",
   "metadata": {},
   "outputs": [],
   "source": [
    "model_param = pln.model_parameters\n",
    "print(model_param[\"coef\"].shape)\n",
    "print(model_param[\"covariance\"].shape)"
   ]
  },
  {
   "cell_type": "markdown",
   "id": "7d695005",
   "metadata": {},
   "source": [
    "### `PlnPCA` \n",
    "This model excels in dimension reduction and is capable of scaling to\n",
    "high-dimensional count data ($p >> 1$). It represents a variant of the PLN\n",
    "model, incorporating a rank constraint on the covariance matrix. This can be\n",
    "interpreted as an extension of the [probabilistic\n",
    "PCA](https://academic.oup.com/jrsssb/article/61/3/611/7083217) for\n",
    "count data, where the rank determines the number of components in the\n",
    "probabilistic PCA. Users have the flexibility to define the rank of the\n",
    "covariance matrix via the `rank` keyword of the `PlnPCA` object. \n"
   ]
  },
  {
   "cell_type": "code",
   "execution_count": null,
   "id": "0a4fe7a4",
   "metadata": {
    "scrolled": true
   },
   "outputs": [],
   "source": [
    "pca = PlnPCA(counts, add_const = True, rank = 5)\n",
    "pca.fit()"
   ]
  },
  {
   "cell_type": "code",
   "execution_count": null,
   "id": "93db535a",
   "metadata": {},
   "outputs": [],
   "source": [
    "print(pca)"
   ]
  },
  {
   "cell_type": "code",
   "execution_count": null,
   "id": "c8321820",
   "metadata": {},
   "outputs": [],
   "source": [
    "print(pca.latent_variables.shape)"
   ]
  },
  {
   "cell_type": "code",
   "execution_count": null,
   "id": "b3e7db70",
   "metadata": {},
   "outputs": [],
   "source": [
    "print(pca.model_parameters[\"components\"].shape)\n",
    "print(pca.model_parameters[\"coef\"].shape)"
   ]
  },
  {
   "cell_type": "markdown",
   "id": "31c211f1",
   "metadata": {},
   "source": [
    "### Save the model in order to load it back after:"
   ]
  },
  {
   "cell_type": "code",
   "execution_count": null,
   "id": "f81ccaf7",
   "metadata": {},
   "outputs": [],
   "source": [
    "pca.save() ## You can set a name to the file saved.\n",
    "dict_init = load_model(\"PlnPCA_nbcov_1_dim_200_rank_5\")\n",
    "loaded_pca = PlnPCA(counts, add_const = True, dict_initialization=  dict_init)\n",
    "print(loaded_pca)"
   ]
  },
  {
   "cell_type": "markdown",
   "id": "cc179431",
   "metadata": {},
   "source": [
    "### One can specify multiple ranks simultaneously within the `PlnPCAcollection` object, and then select the optimal model based on either the AIC (default) or BIC criterion:"
   ]
  },
  {
   "cell_type": "code",
   "execution_count": null,
   "id": "084290d5",
   "metadata": {},
   "outputs": [],
   "source": [
    "pca_col = PlnPCAcollection(counts, ranks = [5,15,25,40,50])\n",
    "pca_col.fit()\n",
    "best_model = pca_col.best_model()"
   ]
  },
  {
   "cell_type": "code",
   "execution_count": null,
   "id": "65f42831",
   "metadata": {},
   "outputs": [],
   "source": [
    "pca_col.show()"
   ]
  },
  {
   "cell_type": "markdown",
   "id": "e7645830",
   "metadata": {},
   "source": [
    "### `ZIPln`\n",
    "\n",
    "The `ZiPln` model, a variant of the PLN model, is designed to handle zero\n",
    "inflation in the data. It is defined as follows:\n",
    "\n",
    "$$Y_{ij}\\sim \\mathcal W_{ij} \\times  P(\\exp(Z_{ij})), \\quad \\mathbf Z_i \\sim \\mathcal N(\\mathbf o_i + \\mathbf B ^{\\top} \\mathbf x_i, \\mathbf \\Sigma), \\quad W_{ij} \\sim \\mathcal B(\\sigma( \\mathbf x_i^{0^{\\top}}\\mathbf B^0_j))$$\n",
    "\n",
    "This model is particularly beneficial when the data contains a significant\n",
    "number of zeros. It incorporates additional covariates for the zero inflation\n",
    "coefficient, which are specified following the pipe `|` symbol in the formula, or via the `exog_inflation` keyword. The inflation can also be row-wise (see the [documentation](https://bbatardiere.pages.mia.inra.fr/pyplnmodels/zipln.html)). \n"
   ]
  },
  {
   "cell_type": "code",
   "execution_count": null,
   "id": "bfae29d5",
   "metadata": {},
   "outputs": [],
   "source": [
    "zi = ZIPln(counts)\n",
    "zi.fit()\n",
    "print(zi)"
   ]
  },
  {
   "cell_type": "markdown",
   "id": "96ebfc2e",
   "metadata": {},
   "source": [
    "# Visualization\n",
    "\n",
    "A set of visualization methods is given to help the user interpret the outputs. The `viz` method performs PCA on the latent variables, while the `viz_positions` function\n",
    "carries out PCA on the latent variables, adjusted for covariates. Additionally,\n",
    "the `viz_prob` function provides a visual representation of the zero-inflation\n",
    "probability."
   ]
  },
  {
   "cell_type": "markdown",
   "id": "08853a48",
   "metadata": {},
   "source": [
    "#### Visualization with `Pln`"
   ]
  },
  {
   "cell_type": "code",
   "execution_count": null,
   "id": "8be11bac",
   "metadata": {},
   "outputs": [],
   "source": [
    "pln.viz(colors=labels)\n",
    "plt.show()"
   ]
  },
  {
   "cell_type": "markdown",
   "id": "9d52b06e",
   "metadata": {},
   "source": [
    "### Visualization with `PlnPCA`"
   ]
  },
  {
   "cell_type": "code",
   "execution_count": null,
   "id": "212f3777",
   "metadata": {},
   "outputs": [],
   "source": [
    "best_pca = pca_col.best_model()\n",
    "best_pca.viz(colors = labels)\n",
    "plt.show()"
   ]
  },
  {
   "cell_type": "markdown",
   "id": "68893aea",
   "metadata": {},
   "source": [
    "#### Visualization with `ZIPln`"
   ]
  },
  {
   "cell_type": "code",
   "execution_count": null,
   "id": "b7fa3759",
   "metadata": {},
   "outputs": [],
   "source": [
    "zi.viz(colors = labels)"
   ]
  },
  {
   "cell_type": "markdown",
   "id": "b9de5a25",
   "metadata": {},
   "source": [
    "### What would give a PCA on the log normalize data ? "
   ]
  },
  {
   "cell_type": "code",
   "execution_count": null,
   "id": "20407247",
   "metadata": {},
   "outputs": [],
   "source": [
    "from sklearn.decomposition import PCA\n",
    "import numpy as np\n",
    "import seaborn as sns"
   ]
  },
  {
   "cell_type": "code",
   "execution_count": null,
   "id": "29830551",
   "metadata": {},
   "outputs": [],
   "source": [
    "sk_pca = PCA(n_components = 2)\n",
    "pca_log_counts = sk_pca.fit_transform(np.log(counts + (counts == 0)))\n",
    "_ = sns.scatterplot(x = pca_log_counts[:,0], y = pca_log_counts[:,1], hue = labels)"
   ]
  },
  {
   "cell_type": "markdown",
   "id": "ad3ab44e",
   "metadata": {},
   "source": [
    "### Visualization of the variables"
   ]
  },
  {
   "cell_type": "code",
   "execution_count": null,
   "id": "18bde994",
   "metadata": {},
   "outputs": [],
   "source": [
    "pln.plot_pca_correlation_circle([\"var_1\",\"var_2\"], indices_of_variables = [0,1])\n",
    "plt.show()"
   ]
  },
  {
   "cell_type": "code",
   "execution_count": null,
   "id": "fda1732e",
   "metadata": {},
   "outputs": [],
   "source": [
    "best_pca.plot_pca_correlation_circle([\"var_1\",\"var_2\"], indices_of_variables = [0,1])\n",
    "plt.show()"
   ]
  },
  {
   "cell_type": "markdown",
   "id": "7e9adc1b",
   "metadata": {},
   "source": [
    "### Visualization of each components of the PCA\n"
   ]
  },
  {
   "cell_type": "code",
   "execution_count": null,
   "id": "e87031f5",
   "metadata": {
    "scrolled": true
   },
   "outputs": [],
   "source": [
    "pln.pca_pairplot(colors = labels, n_components = 5)"
   ]
  },
  {
   "cell_type": "markdown",
   "id": "9ba5c0e4",
   "metadata": {},
   "source": [
    "# With covariates"
   ]
  },
  {
   "cell_type": "markdown",
   "id": "7ecebba8",
   "metadata": {},
   "source": [
    "### High benefits of zero-inflation\n",
    "Some datasets are highly inflated (> 90% of zeros) and one need to take into account this zero-inflation. We load (a subsample of) the [microcosm](https://pubmed.ncbi.nlm.nih.gov/37308970/) dataset. In this dataset, three body\n",
    "sites (for 45 cows) in addition to the milk of the 4 teats were sampled (vagina (V), milk (M),\n",
    "Oral (O), Nasal (N)) at 4 times points: 1 week before calving (except for the milk), 1 month (1M),\n",
    "3 months (3M) and 7 months (7M) after calving. \n",
    "\n",
    "We want to **remove the effect of the site in order to observe only the effect of the time**. We compare the `ZIPln` and the `Pln`. Using the ZIPln model will remove the noise induced by the zero inflation."
   ]
  },
  {
   "cell_type": "code",
   "execution_count": null,
   "id": "452556eb",
   "metadata": {},
   "outputs": [],
   "source": [
    "data_mic = load_microcosm(n_samples =  500, dim =300)"
   ]
  },
  {
   "cell_type": "code",
   "execution_count": null,
   "id": "05e1ed63",
   "metadata": {},
   "outputs": [],
   "source": [
    "print(\"Pourcentage of zeros: \", np.round(np.mean(np.mean(data_mic[\"endog\"] == 0))*100), \"%\")"
   ]
  },
  {
   "cell_type": "code",
   "execution_count": null,
   "id": "faa72011",
   "metadata": {},
   "outputs": [],
   "source": [
    "data_mic.keys()"
   ]
  },
  {
   "cell_type": "markdown",
   "id": "969fc118",
   "metadata": {},
   "source": [
    "#### Classic Pln "
   ]
  },
  {
   "cell_type": "code",
   "execution_count": null,
   "id": "e9a5143c",
   "metadata": {},
   "outputs": [],
   "source": [
    "no_inflation = Pln.from_formula(\"endog ~ 1+site\", data = data_mic)\n",
    "no_inflation.fit()\n",
    "no_inflation.viz(colors = data_mic[\"site\"])"
   ]
  },
  {
   "cell_type": "markdown",
   "id": "96c21103",
   "metadata": {},
   "source": [
    "### With zero-inflation"
   ]
  },
  {
   "cell_type": "code",
   "execution_count": null,
   "id": "6e5a9965",
   "metadata": {
    "scrolled": true
   },
   "outputs": [],
   "source": [
    "inflation = ZIPln.from_formula(\"endog ~ 1 + site\", data = data_mic)\n",
    "inflation.fit()\n",
    "inflation.viz(colors = data_mic[\"site\"])"
   ]
  },
  {
   "cell_type": "markdown",
   "id": "bc391d75",
   "metadata": {},
   "source": [
    "The data is very well separated. We have to remove the effect of the site to see the effect of the time.\n",
    "\n",
    "#### The `viz_positions` method remove the effect of covariates specified in the formula: "
   ]
  },
  {
   "cell_type": "code",
   "execution_count": null,
   "id": "3de5f50d",
   "metadata": {},
   "outputs": [],
   "source": [
    "_ = inflation.viz_positions(colors = data_mic[\"time\"])\n",
    "_ = inflation.viz_positions(colors = data_mic[\"site\"])"
   ]
  },
  {
   "cell_type": "markdown",
   "id": "11cd2d95",
   "metadata": {},
   "source": [
    "#### However, the effect of the time is still present:"
   ]
  },
  {
   "cell_type": "code",
   "execution_count": null,
   "id": "76c51b1d",
   "metadata": {},
   "outputs": [],
   "source": [
    "_ = inflation.viz_positions(colors = data_mic[\"time\"])"
   ]
  },
  {
   "cell_type": "markdown",
   "id": "16c0e05a",
   "metadata": {},
   "source": [
    "The effect of the site is completely absent, but the effect of the time is present. If you want to extract those \"not-site-dependent\" positions, you can use the `latent_positions` attribute:\n"
   ]
  },
  {
   "cell_type": "code",
   "execution_count": null,
   "id": "93e6e53c",
   "metadata": {
    "collapsed": true
   },
   "outputs": [],
   "source": [
    "latent_pos = inflation.latent_positions"
   ]
  },
  {
   "cell_type": "markdown",
   "id": "6a6c6cae",
   "metadata": {},
   "source": [
    "Specifiying \"endog ~ 1 + time\" in the formula, the `latent_positions` attribute would contain the effect on the site only. "
   ]
  },
  {
   "cell_type": "markdown",
   "id": "de62c495",
   "metadata": {},
   "source": [
    "#### One can also visualize the latent probabilites"
   ]
  },
  {
   "cell_type": "code",
   "execution_count": 36,
   "id": "62744907",
   "metadata": {},
   "outputs": [
    {
     "data": {
      "image/png": "[encoded data removed]",
      "text/plain": [
       "<Figure size 640x480 with 1 Axes>"
      ]
     },
     "metadata": {},
     "output_type": "display_data"
    }
   ],
   "source": [
    "_ = inflation.viz_prob(colors = data_mic[\"site\"])"
   ]
  }
 ],
 "metadata": {
  "kernelspec": {
   "display_name": "Python 3 (ipykernel)",
   "language": "python",
   "name": "python3"
  },
  "language_info": {
   "codemirror_mode": {
    "name": "ipython",
    "version": 3
   },
   "file_extension": ".py",
   "mimetype": "text/x-python",
   "name": "python",
   "nbconvert_exporter": "python",
   "pygments_lexer": "ipython3",
   "version": "3.10.14"
  }
 },
 "nbformat": 4,
 "nbformat_minor": 5
}
