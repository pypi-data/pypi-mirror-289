{
 "cells": [
  {
   "attachments": {},
   "cell_type": "markdown",
   "metadata": {},
   "source": [
    "# Derivative Operation\n"
   ]
  },
  {
   "attachments": {},
   "cell_type": "markdown",
   "metadata": {},
   "source": [
    "## Finite Difference\n",
    "\n",
    "The finite difference is a simple way to calculate the derivative of a function $f(x)$.\n",
    "There are three different ways of calculation scheme: forward, backward and central difference.\n",
    "Each of them is defined as follows:\n",
    "\n",
    "$$\n",
    "\\begin{align}\n",
    "f'_i &= \\frac{f_{i+1} - f_i}{h} \\quad \\text{forward} \\\\\n",
    "f'_i &= \\frac{f_i - f_{i-1}}{h} \\quad \\text{backward} \\\\\n",
    "f'_i &= \\frac{f_{i+1} - f_{i-1}}{2h} \\quad \\text{central} \n",
    "\\end{align}\n",
    "$$\n",
    "\n",
    "where $f_i \\equiv f(x_i)$, $f'_i \\equiv df/dx|_{x=x_i}$ and $h \\equiv x_i - x_{i-1}$ is the step\n",
    "size between adjacent grid points $x_i$ and $x_{i-1}$. The grid points are assumed to be equally\n",
    "spaced."
   ]
  },
  {
   "cell_type": "markdown",
   "metadata": {},
   "source": [
    "## 1-D Derivative Matrix"
   ]
  },
  {
   "cell_type": "markdown",
   "metadata": {},
   "source": [
    "Let us compute the derivative matrix by considering $f'_i$ for $i=0, 1, 2$.\n",
    "If using the forward difference, we have the following equations:\n",
    "\n",
    "$$\n",
    "\\begin{align}\n",
    "\\begin{bmatrix}\n",
    "f'_0 \\\\\n",
    "f'_1 \\\\\n",
    "f'_2\n",
    "\\end{bmatrix}\n",
    "&=\n",
    "\\frac{1}{h}\n",
    "\\begin{bmatrix}\n",
    "f_1 - f_0 \\\\\n",
    "f_2 - f_1 \\\\\n",
    "0 - f_2\n",
    "\\end{bmatrix}\\nonumber\\\\\n",
    "&=\n",
    "\\frac{1}{h}\n",
    "\\begin{bmatrix}\n",
    "-1 & 1 & 0 \\\\\n",
    "0 & -1 & 1 \\\\\n",
    "0 & 0 & -1\n",
    "\\end{bmatrix}\n",
    "\\begin{bmatrix}\n",
    "f_0 \\\\\n",
    "f_1 \\\\\n",
    "f_2\n",
    "\\end{bmatrix},\n",
    "\\end{align}\n",
    "$$\n",
    "\n",
    "where we regarded out-of-boundary values as zero (dirichlet boundary condition)."
   ]
  },
  {
   "cell_type": "markdown",
   "metadata": {},
   "source": [
    "Similarly, we can obtain the derivative matrix for the backward difference:\n",
    "\n",
    "$$\n",
    "\\begin{equation}\n",
    "\\begin{bmatrix}\n",
    "f'_0 \\\\\n",
    "f'_1 \\\\\n",
    "f'_2\n",
    "\\end{bmatrix}\n",
    "=\n",
    "\\frac{1}{h}\n",
    "\\begin{bmatrix}\n",
    "1 & 0 & 0 \\\\\n",
    "-1 & 1 & 0 \\\\\n",
    "0 & -1 & 1\n",
    "\\end{bmatrix}\n",
    "\\begin{bmatrix}\n",
    "f_0 \\\\\n",
    "f_1 \\\\\n",
    "f_2\n",
    "\\end{bmatrix}.\n",
    "\\end{equation}\n",
    "$$\n",
    "\n",
    "These two matrices are called **derivative matrices**.\n"
   ]
  },
  {
   "cell_type": "markdown",
   "metadata": {},
   "source": [
    "If we consider the second derivative, we have the following numerical approximation:\n",
    "\n",
    "$$\n",
    "\\begin{equation}\n",
    "f''_i\n",
    "= \\frac{\\frac{f_{i+1} - f_{i}}{h} - \\frac{f_i - f_{i-1}}{h}}{h}\n",
    "= \\frac{f_{i+1} - 2f_i + f_{i-1}}{h^2}.\\label{eq:second-derivative}\n",
    "\\end{equation}\n",
    "$$"
   ]
  },
  {
   "cell_type": "markdown",
   "metadata": {},
   "source": [
    "Then, the second derivative matrix with $i=0, 1, 2, 3$ is given by\n",
    "\n",
    "$$\n",
    "\\begin{equation}\n",
    "\\begin{bmatrix}\n",
    "f''_0 \\\\\n",
    "f''_1 \\\\\n",
    "f''_2 \\\\\n",
    "f''_3\n",
    "\\end{bmatrix}\n",
    "=\n",
    "\\frac{1}{h^2}\n",
    "\\begin{bmatrix}\n",
    "-2 & 1 & 0 & 0 \\\\\n",
    "1 & -2 & 1 & 0 \\\\\n",
    "0 & 1 & -2 & 1 \\\\\n",
    "0 & 0 & 1 & -2\n",
    "\\end{bmatrix}\n",
    "\\begin{bmatrix}\n",
    "f_0 \\\\\n",
    "f_1 \\\\\n",
    "f_2 \\\\\n",
    "f_3\n",
    "\\end{bmatrix}.\n",
    "\\end{equation}\n",
    "$$\n",
    "\n",
    "In this case, the second derivative is expressed by the tridiagonal matrix: $\\text{tridiag}(1, -2, 1)/h^2$."
   ]
  },
  {
   "cell_type": "markdown",
   "metadata": {},
   "source": [
    "## 2-D Derivative Matrix"
   ]
  },
  {
   "cell_type": "markdown",
   "metadata": {},
   "source": [
    "If we consider 2-D function $f(x, y)$ like images, we can calculate the derivative matrix in $x$ and\n",
    "$y$ directions separately.\n",
    "\n",
    "Let us consider only 9 grid points for simplicity, each of which is denoted by $f_{i,j}$ for\n",
    "$i, j = 0, 1, 2$, where $i$ and $j$ are indices for $x$ and $y$ directions, respectively.\n",
    "\n",
    "The grid configuration looks like the following:"
   ]
  },
  {
   "cell_type": "raw",
   "metadata": {
    "raw_mimetype": "text/restructuredtext"
   },
   "source": [
    ".. figure:: ../../_static/images/2d_image_grid.svg\n",
    "   :align: center\n",
    "\n",
    "   The example 3x3 grid of images."
   ]
  },
  {
   "cell_type": "markdown",
   "metadata": {},
   "source": [
    "When applying the derivative matrix to an image, we need to flatten the image to a 1-D\n",
    "vector:\n",
    "\n",
    "$$\n",
    "\\begin{bmatrix}\n",
    "f_{0, 0} & f_{0, 1} & f_{0, 2} & f_{1, 0} & f_{1, 1} & f_{1, 2} & f_{2, 0} & f_{2, 1} & f_{2, 2}\n",
    "\\end{bmatrix}^\\mathsf{T}.\n",
    "$$"
   ]
  },
  {
   "cell_type": "markdown",
   "metadata": {},
   "source": [
    "So, the derivative matrix $\\mathbf{D}_y^{(\\text{f})}$ along $y$ direction using the forward scheme can be\n",
    "expressed as follows:\n",
    "\n",
    "$$\n",
    "\\begin{equation}\n",
    "\\mathbf{D}_y^{(\\text{f})}\n",
    "=\n",
    "\\frac{1}{h_y}\n",
    "\\begin{bmatrix}\n",
    "-1 & 1 &  &  &  &  &  &  &  \\\\\n",
    " & -1 & 1 &  &  &  &  &  &  \\\\\n",
    " &  & -1 & 0 &  &  &  &  &  \\\\\n",
    " &  &  & -1 & 1 &  &  &  &  \\\\\n",
    " &  &  &  & -1 & 1 &  &  &  \\\\\n",
    " &  &  &  &  & -1 & 0 &  &  \\\\\n",
    " &  &  &  &  &  & -1 & 1 &  \\\\\n",
    " &  &  &  &  &  &  & -1 & 1 \\\\\n",
    " &  &  &  &  &  &  &  & -1\n",
    "\\end{bmatrix},\n",
    "\\end{equation}\n",
    "$$\n",
    "\n",
    "where $h_y$ is the step size along $y$ direction."
   ]
  },
  {
   "cell_type": "markdown",
   "metadata": {},
   "source": [
    "We can see that some elements next to the diagonal ones are zero.\n",
    "This is because the derivative at rightmost column is not related to one at the next grid point\n",
    "(leftmost column).\n",
    "Additionally, we assumed the dirichlet boundary condition outside the grid and set the values to\n",
    "zero, i.e. $f_{i, 2}' = (0 - f_{i, 2})/h$ for $i=0, 1, 2$."
   ]
  },
  {
   "cell_type": "markdown",
   "metadata": {},
   "source": [
    "## Laplacian Matrix"
   ]
  },
  {
   "cell_type": "markdown",
   "metadata": {},
   "source": [
    "The laplacian operation to a 2-D function $f(x, y)$ is defined as follows and aproximated by the\n",
    "finite difference:\n",
    "\n",
    "$$\n",
    "\\begin{align}\n",
    "&\\nabla^2 f = \\frac{\\partial^2 f}{\\partial x^2} + \\frac{\\partial^2 f}{\\partial y^2},\\\\\n",
    "&\\nabla^2 f_{i,j} = \\frac{f_{i+1, j} - 2f_{i, j} + f_{i-1, j}}{h_x^2}\n",
    "                  + \\frac{f_{i, j+1} - 2f_{i, j} + f_{i, j-1}}{h_y^2},\\\\ \n",
    "\\end{align}\n",
    "$$\n",
    "\n",
    "where $h_x$ and $h_y$ are the step sizes along $x$ and $y$ directions, respectively."
   ]
  },
  {
   "cell_type": "markdown",
   "metadata": {},
   "source": [
    "The finite laplacian formula can be seen as the sum of the second derivative\n",
    "\\eqref{eq:second-derivative} along $x$ and $y$ directions.\n",
    "\n",
    "This means that the **laplacian matrix** $\\mathbf{L}$ can be obtained by adding the second\n",
    "derivative matrices along each direction, that is:\n",
    "\n",
    "$$\n",
    "\\begin{equation}\n",
    "\\mathbf{L} \\equiv \\frac{\\mathbf{D}_x^{(f)} - \\mathbf{D}_x^{(b)}}{h_x}\n",
    "                + \\frac{\\mathbf{D}_y^{(f)} - \\mathbf{D}_y^{(b)}}{h_y},\n",
    "\\end{equation}\n",
    "$$\n",
    "\n",
    "where $\\mathbf{D}_\\alpha^{(f)}$ and $\\mathbf{D}_\\alpha^{(b)}$ are the derivative matrices along\n",
    "$\\alpha$ direction using the forward and backward schemes, respectively."
   ]
  },
  {
   "cell_type": "markdown",
   "metadata": {},
   "source": [
    "Moreover, considering the second derivative along the diagonal direction (i.e. $f_{i+1, j+1}$ and\n",
    "$f_{i-1, j-1}$ and $f_{i+1, j-1}$ and $f_{i-1, j+1}$), we can obtain the another laplacian matrix.\n",
    "In this case the step size along such diagonal direction is $\\sqrt{h_x^2 + h_y^2}$."
   ]
  },
  {
   "cell_type": "markdown",
   "metadata": {},
   "source": [
    "## Example and Implementation"
   ]
  },
  {
   "cell_type": "raw",
   "metadata": {
    "raw_mimetype": "text/restructuredtext"
   },
   "source": [
    "The functionalities to calculate the derivative and laplacian matrices are implemented in\n",
    ":obj:`cherab.inversion.derivative` module.\n",
    "\n",
    "The example calculation can be found in `a notebook`_.\n",
    "\n",
    ".. _a notebook: ../../notebooks/others/derivative_operator.ipynb"
   ]
  }
 ],
 "metadata": {
  "kernelspec": {
   "display_name": "cherab-phix-dev",
   "language": "python",
   "name": "python3"
  },
  "language_info": {
   "codemirror_mode": {
    "name": "ipython",
    "version": 3
   },
   "file_extension": ".py",
   "mimetype": "text/x-python",
   "name": "python",
   "nbconvert_exporter": "python",
   "pygments_lexer": "ipython3",
   "version": "3.11.7"
  },
  "orig_nbformat": 4,
  "vscode": {
   "interpreter": {
    "hash": "2725905a4c02db19e04df9b8fdbbe5ec65a73ea52bebaf9474aa1cc98819834c"
   }
  }
 },
 "nbformat": 4,
 "nbformat_minor": 2
}
