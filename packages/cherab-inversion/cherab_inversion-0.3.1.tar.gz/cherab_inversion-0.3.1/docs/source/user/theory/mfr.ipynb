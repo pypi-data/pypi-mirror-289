{
 "cells": [
  {
   "cell_type": "markdown",
   "metadata": {},
   "source": [
    "# Minimum Fisher Regularization\n"
   ]
  },
  {
   "cell_type": "markdown",
   "metadata": {},
   "source": [
    "## Derivation\n",
    "\n",
    "The MFR (Minimum Fisher Regularization) employs the Fisher information as a objective functional\n",
    "$O(x)$ introduced in the [Generalized Tikhonov Regularization](./inversion.ipynb#Generalized-Tikhonov-Regularization) section.\n",
    "The Fisher information is expressed as\n",
    "\n",
    "$$\n",
    "\\begin{equation}\n",
    "O(x) = \\int_{\\mathbb{R}^3}\\frac{\\|\\nabla x(\\mathbf{r})\\|_2^2}{x(\\mathbf{r})}\\mathrm{d}^3\\mathbf{r},\n",
    "\\end{equation}\n",
    "$$\n",
    "where $x(\\mathbf{r})$ is the unknown function parameterized by $\\mathbf{r} \\in \\mathbb{R}^3$.\n",
    "Using this functional has the advantage of seeking a solution that is smooth and has a localized structure.\n",
    "This non-linear functional can be linearized in the next section."
   ]
  },
  {
   "cell_type": "markdown",
   "metadata": {},
   "source": [
    "## Definition\n",
    "\n",
    "The first application of the MFR method to a fusion device was developped to resolve the ill-posedness of the tomography problem for TCV tokamak plasma <cite data-footcite=\"Anton1996-ik\"></cite> and later for the ASDEX Upgrade tokamak <cite data-footcite=\"Odstrcil2016-va\"></cite>.\n",
    "In the MFR method, the linearized Fisher information is employed as a objective functional,\n",
    "and the regularization matrix $\\mathbf{H}$ is defined as follows:\n",
    "\n",
    "$$\n",
    "\\begin{align}\n",
    "\\mathbf{H} & = \\sum_{i, j} \\alpha_{ij} \\mathbf{D}_i^\\mathsf{T} \\mathbf{W} \\mathbf{D}_j\\\\\n",
    "\\mathbf{W} & = \\rm{diag}\n",
    "    \\left(\n",
    "        \\cdots,\\frac{1}{\\max\\left\\{\\mathbf{x}_\\mathit{i}, \\epsilon_0\\right\\}},\\cdots\n",
    "    \\right),\n",
    "\\end{align}\n",
    "$$\n",
    "\n",
    "where $\\mathbf{D}_{i,j}$ is derivative matrices along the $i$ or $j$ coordinate direction, $\\alpha_{ij}$ is the anisotropic parameter, $\\mathbf{W}$ is the weight matrix, $\\mathbf{x}_\\mathit{i}$ is the $i$-th element of the unknown solution $\\mathbf{x}$, and $\\epsilon_0$ is a small positive number to avoid division by zero and to push the solution to be positive."
   ]
  },
  {
   "cell_type": "markdown",
   "metadata": {},
   "source": [
    "## Implementation\n"
   ]
  },
  {
   "cell_type": "markdown",
   "metadata": {},
   "source": [
    "The MFR method is the iterative method, and the iteration formula is:\n",
    "\n",
    "1. Put $\\mathbf{x}^{(0)} = \\mathbf{1}$ as the initial guess;\n",
    "2. Compute $\\mathbf{W}^{(k)}, \\mathbf{H}^{(k)}$ with $\\mathbf{x}^{(k)}$;\n",
    "3. Solve $\\mathbf{x}^{(k+1)}$ optimizing regularization parameter $\\lambda$ by non-iterative inversion methods;\n",
    "\n",
    "where $k$ is the iteration number, and the iteration between step 2 and 3 is repeated until the convergence criterion is satisfied or the maximum iteration number is reached.\n",
    "\n",
    "Several non-iterative inversion methods (e.g. L-curve method) can be used in step 3.\n",
    "This workflow is illustrated in the following figure.\n"
   ]
  },
  {
   "cell_type": "raw",
   "metadata": {
    "raw_mimetype": "text/restructuredtext",
    "vscode": {
     "languageId": "raw"
    }
   },
   "source": [
    ".. figure:: ../../_static/images/mfr_workflow.svg\n",
    "   :align: center\n",
    "   :figwidth: 80%\n",
    "\n",
    "   The MFR solution is derived iteratively in the above workflow.\n"
   ]
  },
  {
   "cell_type": "markdown",
   "metadata": {},
   "source": [
    "## Example\n",
    "\n",
    "The example shows in [Example/MFR tomography](../../notebooks/iterative/01-mfr-tomography.ipynb).\n"
   ]
  },
  {
   "cell_type": "markdown",
   "metadata": {},
   "source": [
    "## References\n"
   ]
  },
  {
   "cell_type": "raw",
   "metadata": {
    "raw_mimetype": "text/restructuredtext"
   },
   "source": [
    ".. footbibliography::"
   ]
  }
 ],
 "metadata": {
  "language_info": {
   "name": "python"
  }
 },
 "nbformat": 4,
 "nbformat_minor": 2
}
