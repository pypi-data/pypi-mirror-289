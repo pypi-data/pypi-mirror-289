{
 "cells": [
  {
   "cell_type": "markdown",
   "metadata": {},
   "source": [
    "# L-curve criterion\n"
   ]
  },
  {
   "cell_type": "markdown",
   "metadata": {},
   "source": [
    "## Definition\n"
   ]
  },
  {
   "cell_type": "markdown",
   "metadata": {
    "raw_mimetype": "text/restructuredtext"
   },
   "source": [
    "The L-curve criterion is proposed by <cite data-footcite-t=\"Hansen1992-pf\">Hansen</cite><cite data-footcite=\"Hansen2000-zf\"></cite>.\n",
    "Let us consider the same ill-posed linear inverse problem introduced in the [Theory of inversion problem](inversion.ipynb):\n"
   ]
  },
  {
   "cell_type": "markdown",
   "metadata": {},
   "source": [
    "$$\n",
    "\\mathbf{x}_\\lambda := \\arg\\min_{\\mathbf{x}}\n",
    "\\left[\n",
    "    \\| \\mathbf{T} \\mathbf{x} - \\mathbf{b} \\|_\\mathbf{Q}^2 + \\lambda\\|\\mathbf{x}\\|_\\mathbf{H}^2\n",
    "\\right].\n",
    "$$\n"
   ]
  },
  {
   "cell_type": "markdown",
   "metadata": {},
   "source": [
    "The L-curve is precisely following points curve:\n",
    "\n",
    "$$\n",
    "\\begin{equation}\n",
    "\\left(\n",
    "    \\| \\mathbf{T}\\mathbf{x}_\\lambda - \\mathbf{b} \\|_\\mathbf{Q},\n",
    "    \\;\n",
    "    \\|\\mathbf{x}_\\lambda\\|_\\mathbf{H}\n",
    "\\right)\n",
    "=\n",
    "\\left(\\sqrt{\\rho}, \\sqrt{\\eta}\\right).\n",
    "\\end{equation}\n",
    "$$\n",
    "\n",
    "Here $\\rho$ and $\\eta$ are defined in the [inversion theory section](inversion.ipynb#Expression-of-the-squared-norm-using-the-series-expansion).\n",
    "\n",
    "This curve is monotonically decreasing varying $\\lambda$ from $0$ to $\\infty$.\n"
   ]
  },
  {
   "cell_type": "markdown",
   "metadata": {},
   "source": [
    "The L-curve criterion gives a way to choose the optimal regularization parameter $\\lambda$ by\n",
    "finding the corner of the L-curve plotted in the log-log scale in figure below.\n",
    "The reason way the corner of the L-curve is optimal is discussed in the [below section](#miscellaneous).\n"
   ]
  },
  {
   "cell_type": "raw",
   "metadata": {
    "raw_mimetype": "text/restructuredtext"
   },
   "source": [
    ".. figure:: ../../_static/images/l_curve.svg\n",
    "   :align: center\n",
    "\n",
    "   The schematic diagram of the L-curve.\n",
    "   The dot on the curve indicates the L-curve's corner point."
   ]
  },
  {
   "cell_type": "markdown",
   "metadata": {},
   "source": [
    "## Derivation of the curvature of the L-curve\n"
   ]
  },
  {
   "cell_type": "markdown",
   "metadata": {},
   "source": [
    "To mathematically determine the L-curve's corner, its curvature is derived, and the corner is defined as the point where the curvature is maximal.\n",
    "\n",
    "Recall the definition of the [series-expansion form of the solution](inversion.ipynb#Series-expansion-of-the-solution),\n",
    "and Let\n",
    "\n",
    "$$\n",
    "\\begin{equation}\n",
    "\\hat{\\rho} \\equiv \\log \\rho,\n",
    "\\quad\n",
    "\\hat{\\eta} \\equiv \\log \\eta\n",
    "\\end{equation}\n",
    "$$\n",
    "\n",
    "such that the L-curve is a plot of $(\\hat{\\rho}/2,\\; \\hat{\\eta}/2)$.\n",
    "\n",
    "Then the curvature $\\kappa(\\lambda)$ of the L-curve is defined as follows:\n",
    "\n",
    "$$\n",
    "\\begin{align}\n",
    "\\kappa(\\lambda)\n",
    "&\\equiv\n",
    "\\frac{\n",
    "    \\left(\\hat{\\rho}/2\\right)''\\left(\\hat{\\eta}/2\\right)'\n",
    "    - \\left(\\hat{\\rho}/2\\right)'\\left(\\hat{\\eta}/2\\right)''\n",
    "    }{\n",
    "    \\left[\n",
    "        \\left((\\hat{\\rho}/2)'\\right)^2\n",
    "        + \\left((\\hat{\\eta}/2)'\\right)^2\n",
    "    \\right]^{3/2}\n",
    "    }\\nonumber\\\\\n",
    "&=\n",
    "2\\frac{\n",
    "    \\hat{\\rho}''\\hat{\\eta}'\n",
    "    - \\hat{\\rho}'\\hat{\\eta}''\n",
    "    }{\n",
    "    \\left[\n",
    "        (\\hat{\\rho}')^2 + (\\hat{\\eta}')^2\n",
    "    \\right]^{3/2}\n",
    "    },\n",
    "\\end{align}\n",
    "$$\n",
    "\n",
    "where the prime denotes the derivative with respect to $\\lambda$.\n",
    "If $\\kappa(\\lambda) > 0$, the L-curve is convex at $\\lambda$,\n",
    "and if $\\kappa(\\lambda) < 0$, the L-curve is concave at $\\lambda$.\n"
   ]
  },
  {
   "cell_type": "markdown",
   "metadata": {},
   "source": [
    "Before expressing $\\hat{\\rho}'$, $\\hat{\\eta}'$, ... etc., the following calculation is useful:\n",
    "\n",
    "$$\n",
    "\\begin{align}\n",
    "f_{\\lambda, i} - 1\n",
    "&=\n",
    "\\frac{\\sigma_i^2}{\\sigma_i^2 + \\lambda}\\ - 1\\nonumber\\\\\n",
    "&=\n",
    "-\\frac{\\lambda}{\\sigma_i^2 + \\lambda}\\nonumber\\\\\n",
    "&=\n",
    "-\\frac{\\lambda}{\\sigma_i^2}f_{\\lambda, i},\\label{eq:flambda-1}\n",
    "\\end{align}\n",
    "$$\n",
    "\n",
    "$$\n",
    "\\begin{align*}\n",
    "\\frac{\\partial}{\\partial \\lambda}f_{\\lambda, i}^2\n",
    "&=\n",
    "2f_{\\lambda, i}f_{\\lambda, i}',\n",
    "\\end{align*}\n",
    "$$\n",
    "\n",
    "$$\n",
    "\\begin{align*}\n",
    "\\frac{\\partial}{\\partial \\lambda}(f_{\\lambda, i} - 1)^2\n",
    "&=\n",
    "2(f_{\\lambda, i} - 1)f_{\\lambda, i}'\\\\\n",
    "&=\n",
    "-2 \\frac{\\lambda}{\\sigma_i^2}f_{\\lambda, i}f_{\\lambda, i}'\\\\\n",
    "&=\n",
    "-\\lambda\\frac{\\partial}{\\partial \\lambda}\\frac{f_{\\lambda, i}^2}{\\sigma_i^2}.\n",
    "\\end{align*}\n",
    "$$\n"
   ]
  },
  {
   "cell_type": "markdown",
   "metadata": {},
   "source": [
    "Therefore, the following relation is obtained by calculating the derivative of $\\rho$ and $\\eta$:\n",
    "\n",
    "$$\n",
    "\\begin{align}\n",
    "\\rho'\n",
    "&=\n",
    "\\sum_{i=1}^r \\frac{\\partial}{\\partial \\lambda}(f_{\\lambda, i} - 1)^2 (\\mathbf{u}_i^\\mathsf{T}\\hat{\\mathbf{b}})^2\\nonumber\\\\\n",
    "&=\n",
    "-\\lambda\\sum_{i=1}^r \\frac{\\partial}{\\partial \\lambda}\\frac{f_{\\lambda, i}^2}{\\sigma_i^2} (\\mathbf{u}_i^\\mathsf{T}\\hat{\\mathbf{b}})^2\\nonumber\\\\\n",
    "&=\n",
    "-\\lambda \\eta'.\\label{eq:rho'-eta'}\n",
    "\\end{align}\n",
    "$$\n"
   ]
  },
  {
   "cell_type": "markdown",
   "metadata": {},
   "source": [
    "Now let us represent $\\hat{\\rho}', \\hat{\\rho}'', \\hat{\\eta}', \\hat{\\eta}''$ in terms of $\\rho, \\eta, \\eta', \\eta''$:\n",
    "\n",
    "$$\n",
    "\\begin{align*}\n",
    "&\\hat{\\rho}' = \\frac{\\rho'}{\\rho} = -\\lambda\\frac{\\eta'}{\\rho},\\\\\n",
    "&\\hat{\\eta}' = \\frac{\\eta'}{\\eta},\\\\\n",
    "&\\hat{\\rho}'' = -\\frac{\\eta'}{\\rho} - \\lambda\\frac{\\eta''}{\\rho} - \\lambda^2\\frac{(\\eta')^2}{\\rho^2},\\\\\n",
    "&\\hat{\\eta}'' = \\frac{\\eta''}{\\eta} - \\frac{(\\eta')^2}{\\eta^2}.\n",
    "\\end{align*}\n",
    "$$\n"
   ]
  },
  {
   "cell_type": "markdown",
   "metadata": {},
   "source": [
    "Substituting these into the curvature $\\kappa(\\lambda)$, we obtain the following:\n",
    "\n",
    "$$\n",
    "\\begin{align*}\n",
    "\\text{numerator of } \\frac{\\kappa(\\lambda)}{2}\n",
    "&=\n",
    "\\hat{\\rho}''\\hat{\\eta}' - \\hat{\\rho}'\\hat{\\eta}''\\\\\n",
    "&=\n",
    "\\left(\n",
    "    -\\frac{\\eta'}{\\rho} - \\lambda\\frac{\\eta''}{\\rho} - \\lambda^2\\frac{(\\eta')^2}{\\rho^2}\n",
    "\\right)\n",
    "\\left(\n",
    "    \\frac{\\eta'}{\\eta}\n",
    "\\right)\n",
    "-\n",
    "\\left(\n",
    "    -\\lambda\\frac{\\eta'}{\\rho}\n",
    "\\right)\n",
    "\\left(\n",
    "    \\frac{\\eta''}{\\eta} - \\frac{(\\eta')^2}{\\eta^2}\n",
    "\\right)\n",
    "\\\\\n",
    "&=\n",
    "-\\lambda\\frac{(\\eta')^3}{\\rho\\eta^2} - \\frac{(\\eta')^2}{\\rho\\eta} - \\lambda^2\\frac{(\\eta')^3}{\\rho^2\\eta}\\\\\n",
    "&=\n",
    "-\\frac{(\\eta')^3}{\\rho^2\\eta^2}\n",
    "\\left(\n",
    "    \\lambda^2\\eta + \\lambda\\rho + \\rho\\eta/\\eta'\n",
    "\\right).\\\\\n",
    "\\end{align*}\n",
    "$$\n",
    "\n",
    "$$\n",
    "\\begin{align*}\n",
    "\\text{denominator of } \\kappa(\\lambda)\n",
    "&=\n",
    "\\left[\n",
    "    \\left(\\hat{\\rho}'\\right)^2\n",
    "    + \\left(\\hat{\\eta}'\\right)^2\n",
    "\\right]^{3/2}\\\\\n",
    "&=\n",
    "\\left[\n",
    "    \\left(\n",
    "        -\\lambda\\frac{\\eta'}{\\rho}\n",
    "    \\right)^2\n",
    "    + \\left(\n",
    "        \\frac{\\eta'}{\\eta}\n",
    "    \\right)^2\n",
    "\\right]^{3/2}\\\\\n",
    "&=\n",
    "\\left[\n",
    "    \\left(\n",
    "        \\frac{\\eta'}{\\rho\\eta}\n",
    "    \\right)^2\n",
    "    \\left(\n",
    "        \\lambda^2\\eta^2 + \\rho^2\n",
    "    \\right)\n",
    "\\right]^{3/2}\\\\\n",
    "&=\n",
    "\\frac{(\\eta')^3}{\\rho^3\\eta^3}\n",
    "\\left(\n",
    "    \\lambda^2\\eta^2 + \\rho^2\n",
    "\\right)^{3/2}.\n",
    "\\end{align*}\n",
    "$$\n"
   ]
  },
  {
   "cell_type": "markdown",
   "metadata": {},
   "source": [
    "$$\n",
    "\\begin{equation}\n",
    "\\therefore\n",
    "\\kappa(\\lambda)\n",
    "=\n",
    "-2\\rho\\eta\\frac{\\lambda^2\\eta + \\lambda\\rho + \\rho\\eta/\\eta'}{(\\lambda^2\\eta^2 + \\rho^2)^{3/2}}.\n",
    "\\label{eq: curvature}\n",
    "\\end{equation}\n",
    "$$\n"
   ]
  },
  {
   "cell_type": "markdown",
   "metadata": {},
   "source": [
    "### Express $\\eta'$ with series expansion components\n"
   ]
  },
  {
   "cell_type": "markdown",
   "metadata": {},
   "source": [
    "Let us express $\\eta'$ with series expansion components $\\mathbf{S}$, $\\mathbf{U}$, $\\mathbf{V}$, etc.\n",
    "\n",
    "Firstly the derivative of $f_{\\lambda, i}$ with respect to $\\lambda$ can be expressed as follows:\n",
    "\n",
    "$$\n",
    "\\begin{align*}\n",
    "f_{\\lambda, i}'\n",
    "&=\n",
    "\\frac{\\partial}{\\partial \\lambda}\\left(\\frac{\\sigma_i^2}{\\sigma_i^2 + \\lambda}\\right)\\\\\n",
    "&=\n",
    "-\\frac{\\sigma_i^2}{(\\sigma_i^2 + \\lambda)^2}\\\\\n",
    "&=\n",
    "\\frac{1}{\\lambda}\\cdot -\\frac{\\lambda}{\\sigma_i^2}f_{\\lambda, i} \\cdot f_{\\lambda, i}\\\\\n",
    "&=\n",
    "\\frac{1}{\\lambda}(f_{\\lambda, i} - 1)f_{\\lambda, i}. \\qquad(\\because \\eqref{eq:flambda-1} )\n",
    "\\end{align*}\n",
    "$$\n"
   ]
  },
  {
   "cell_type": "markdown",
   "metadata": {},
   "source": [
    "Therefore, $\\eta'$ is expressed as follows:\n",
    "\n",
    "$$\n",
    "\\begin{align}\n",
    "\\eta'\n",
    "&=\n",
    "\\frac{\\partial}{\\partial \\lambda}\\eta\\nonumber\\\\\n",
    "&=\n",
    "\\frac{\\partial}{\\partial \\lambda} \\sum_{i=1}^r \\frac{f_{\\lambda, i}^2}{\\sigma_i^2} (\\mathbf{u}_i^\\mathsf{T}\\hat{\\mathbf{b}})^2\\nonumber\\\\\n",
    "&=\n",
    "\\sum_{i=1}^r 2f_{\\lambda, i}f_{\\lambda, i}'\\frac{1}{\\sigma_i^2} (\\mathbf{u}_i^\\mathsf{T}\\hat{\\mathbf{b}})^2\\nonumber\\\\\n",
    "&=\n",
    "\\frac{2}{\\lambda} \\sum_{i=1}^r (f_{\\lambda, i} - 1)f_{\\lambda, i}^2 \\frac{1}{\\sigma_i^2} (\\mathbf{u}_i^\\mathsf{T}\\hat{\\mathbf{b}})^2\\nonumber\\\\\n",
    "&=\n",
    "\\frac{2}{\\lambda}\n",
    "(\\mathbf{U}^\\mathsf{T}\\hat{\\mathbf{b}})^\\mathsf{T}\n",
    "(\\mathbf{F}_\\lambda - \\mathbf{I}_r)\\mathbf{F}_\\lambda^2\\mathbf{S}^{-2}\\ \\mathbf{U}^\\mathsf{T}\\hat{\\mathbf{b}}.\n",
    "\\end{align}\n",
    "$$\n"
   ]
  },
  {
   "cell_type": "markdown",
   "metadata": {},
   "source": [
    "## Miscellaneous\n"
   ]
  },
  {
   "cell_type": "markdown",
   "metadata": {},
   "source": [
    "### Theorem 1.\n",
    "\n",
    "> The L-curve is monotonically decreasing varying $\\lambda$ from $0$ to $\\infty$.\n",
    "\n",
    "**Proof**:<br>\n",
    "Let us calculate the derivative of $\\sqrt{\\eta}$ as a function of $\\sqrt{\\rho}$:\n",
    "\n",
    "$$\n",
    "\\begin{align*}\n",
    "\\frac{\\partial \\sqrt{\\eta}}{\\partial \\sqrt{\\rho}}\n",
    "&=\n",
    "\\frac{\\partial \\sqrt{\\eta} / \\partial \\lambda}{\\partial \\sqrt{\\rho} / \\partial \\lambda}\\\\\n",
    "&=\n",
    "\\frac{\\eta'}{\\rho'}\\frac{\\rho}{\\eta}\\\\\n",
    "&=\n",
    "-\\frac{\\rho}{\\lambda\\eta}\\qquad(\\because \\eqref{eq:rho'-eta'})\\\\\n",
    "&< 0. \\qquad(\\because \\rho, \\eta > 0 \\text{ and } \\lambda \\in (0, \\infty))\n",
    "\\end{align*}\n",
    "$$\n"
   ]
  },
  {
   "cell_type": "markdown",
   "metadata": {},
   "source": [
    "### Theorem 2.\n",
    "\n",
    "> The following asymptotic behavior of the L-curve is obtained:\n",
    ">\n",
    "> $$\n",
    "> \\begin{equation}\n",
    "> \\lim_{\\lambda \\to 0} \\left(\\sqrt{\\rho},\\; \\sqrt{\\eta} \\right) = \\left(0,\\; \\|\\mathbf{x}_0\\|_\\mathbf{H}\\right),\n",
    "> \\quad\n",
    "> \\lim_{\\lambda \\to \\infty} \\left(\\sqrt{\\rho},\\; \\sqrt{\\eta}\\right) = \\left(\\|\\hat{\\mathbf{b}}\\|,\\; 0 \\right).\n",
    "> \\end{equation}\n",
    "> $$\n",
    ">\n",
    "> where $\\mathbf{x}_0 = (\\mathbf{T}^\\mathsf{T}\\mathbf{Q}\\mathbf{T})^{-1}\\mathbf{T}^\\mathsf{T}\\mathbf{Q}\\mathbf{b}$, which is the least-squares solution.\n",
    "\n",
    "**Proof**:<br>\n",
    "\n",
    "$$\n",
    "f_{\\lambda, i} = \\frac{1}{1 + \\lambda/\\sigma_i^2}\n",
    "\\to\n",
    "\\begin{cases}\n",
    "1 \\quad (\\lambda \\to 0)\\\\\n",
    "0 \\quad (\\lambda \\to \\infty)\n",
    "\\end{cases}.\n",
    "$$\n",
    "\n",
    "$$\n",
    "\\therefore\n",
    "\\mathbf{F}_\\lambda\n",
    "\\to\n",
    "\\begin{cases}\n",
    "\\mathbf{I}_r \\quad (\\lambda \\to 0)\\\\\n",
    "\\mathbf{0} \\quad (\\lambda \\to \\infty)\n",
    "\\end{cases}.\n",
    "$$\n",
    "\n",
    "According to the [Expression of the squared norm using the series expansion](inversion.ipynb#Expression-of-the-squared-norm-using-the-series-expansion), $\\rho$ and $\\eta$ are asymptotically expressed as follows:\n",
    "\n",
    "$$\n",
    "\\begin{align*}\n",
    "\\rho\n",
    "&=\n",
    "\\|\n",
    "    \\mathbf{U}(\\mathbf{F}_\\lambda - \\mathbf{I}_r)\\mathbf{U}^\\mathsf{T}\\hat{\\mathbf{b}}\n",
    "\\|^2\n",
    "\\to\n",
    "\\begin{cases}\n",
    "0 \\quad &(\\lambda \\to 0)\\\\\n",
    "\\|\\hat{\\mathbf{b}}\\|^2 \\quad &(\\lambda \\to \\infty)\n",
    "\\end{cases},\\\\\n",
    "\\eta\n",
    "&=\\|\\mathbf{x}_\\lambda\\|_\\mathbf{H}^2\n",
    "\\to\n",
    "\\begin{cases}\n",
    "\\|\\mathbf{x}_0\\|_\\mathbf{H}^2 \\quad &(\\lambda \\to 0)\\\\\n",
    "0 \\quad &(\\lambda \\to \\infty)\n",
    "\\end{cases}.\n",
    "\\end{align*}\n",
    "$$\n"
   ]
  },
  {
   "cell_type": "markdown",
   "metadata": {},
   "source": [
    "### Characteristics of the L-curve\n"
   ]
  },
  {
   "cell_type": "markdown",
   "metadata": {},
   "source": [
    "The given data is often noisy, and the data $\\mathbf{b}$ can be written as\n",
    "\n",
    "$$\n",
    "\\begin{equation}\n",
    "\\mathbf{b} = \\bar{\\mathbf{b}} + \\mathbf{e},\\qquad \\bar{\\mathbf{b}} = \\mathbf{T}\\bar{\\mathbf{x}},\n",
    "\\end{equation}\n",
    "$$\n",
    "\n",
    "where $\\bar{\\mathbf{b}}$ represents the exact unperturbed data,\n",
    "$\\bar{\\mathbf{x}}$ represents the exact solution,\n",
    "and $\\mathbf{e}$ represents the errors in the data.\n"
   ]
  },
  {
   "cell_type": "markdown",
   "metadata": {},
   "source": [
    "> Assuming the following conditions:\n",
    ">\n",
    "> 1. $|\\mathbf{u}_i^\\mathsf{T}\\mathbf{B}\\bar{\\mathbf{b}}|$ decay faster than $\\sigma_i$. (Discrete Picard condition (**DPC**))\n",
    "> 2. $\\mathbf{e}$ is the white noise.\n",
    "> 3. Sufficient SNR (Signal-to-Noise Ratio) is given, i.e. $\\|\\bar{\\mathbf{b}}\\|/\\|\\mathbf{e}\\| \\gg 1$.\n",
    ">\n",
    "> Then the L-curve has the corner where the residual norm $\\|\\mathbf{T}\\mathbf{x}_\\lambda - \\mathbf{b}\\|_\\mathbf{Q}$ is approximated to be equal to $\\|\\mathbf{e}\\|_\\mathbf{Q}$.\n"
   ]
  },
  {
   "cell_type": "markdown",
   "metadata": {},
   "source": [
    "**Description**<br>\n",
    "The $\\eta$ is written as\n",
    "\n",
    "$$\n",
    "\\begin{align}\n",
    "\\eta\n",
    "=\n",
    "\\sum_{i=1}^r\n",
    "\\left(\n",
    "    f_{\\lambda, i} \\frac{\\mathbf{u}_i^\\mathsf{T}\\mathbf{B}\\bar{\\mathbf{b}}}{\\sigma_i}\n",
    "    + f_{\\lambda, i} \\frac{\\mathbf{u}_i^\\mathsf{T}\\mathbf{B}\\mathbf{e}}{\\sigma_i}\n",
    "\\right)^2\n",
    "\\end{align}\n",
    "$$\n",
    "\n",
    "According to the first condition, $\\frac{\\mathbf{u}_i^\\mathsf{T}\\mathbf{B}\\bar{\\mathbf{b}}}{\\sigma_i}$ does not become large as $i$ increases, while $\\frac{\\mathbf{u}_i^\\mathsf{T}\\mathbf{B}\\mathbf{e}}{\\sigma_i}$ becomes large because it does not satisfy the DPC. So, the $\\eta$ is dominated by the second term in $\\lambda \\ll 1$.\n",
    "Increasing $\\lambda$, the $\\eta$ decreases because the high-frequency components of the second term are suppressed by the $f_{\\lambda, i}$, then the $\\eta$ is dominated by the first term where the L-curve is horizontal.\n",
    "Somewhere in between, there is a range of $\\lambda$-values that correspond to a transition between the two domination L-curves.\n"
   ]
  },
  {
   "cell_type": "markdown",
   "metadata": {},
   "source": [
    "When we find the L-curve corner numerically, it is important to set the range of $\\lambda$.\n",
    "Regińska proved that\n",
    "\n",
    "> The log-log L-curve is always strictly concave for\n",
    "> $$\n",
    "> \\begin{equation}\n",
    "> \\sigma_r^2\\leq \\lambda\\leq\\sigma_1^2,\n",
    "> \\end{equation}\n",
    "> $$\n",
    "> where $\\sigma_1$ and $\\sigma_r$ are the largest and smallest singular values, respectively <cite data-footcite=Reginska2012-dh></cite>.\n",
    "\n",
    "Hansen also presented the reason using the curvature expression \\eqref{eq: curvature} and modeling\n",
    "$|\\mathbf{u}_i^\\mathsf{T}\\hat{\\mathbf{b}}|$ as a power-law function of $\\sigma_i$ at Section 6 in <cite data-footcite=Hansen2000-zf></cite>."
   ]
  },
  {
   "cell_type": "markdown",
   "metadata": {},
   "source": [
    "## Example\n",
    "\n",
    "The example script shows in [notebooks/non-iterative/L_curve.ipynb](../../notebooks/non-iterative/L_curve.ipynb)."
   ]
  },
  {
   "cell_type": "markdown",
   "metadata": {},
   "source": [
    "## References\n"
   ]
  },
  {
   "cell_type": "raw",
   "metadata": {
    "raw_mimetype": "text/restructuredtext"
   },
   "source": [
    ".. footbibliography::"
   ]
  }
 ],
 "metadata": {
  "language_info": {
   "name": "python"
  }
 },
 "nbformat": 4,
 "nbformat_minor": 2
}
