{
 "cells": [
  {
   "cell_type": "markdown",
   "metadata": {},
   "source": [
    "# MFR tomography with anisotropic smoothing\n"
   ]
  },
  {
   "cell_type": "markdown",
   "metadata": {},
   "source": [
    "On this page, we try to solve the same inversion problem as in the [previous page](./01-mfr-tomography.ipynb), but with anisotropic smoothing.\n",
    "We will use the same dataset and model, but we will change the derivative matrix according to the gradient of the scalar function.\n",
    "Therefore, please compare the results of this page with the previous one to see the effect of the anisotropy."
   ]
  },
  {
   "cell_type": "code",
   "execution_count": null,
   "metadata": {
    "jupyter": {
     "source_hidden": true
    }
   },
   "outputs": [],
   "source": [
    "import pickle\n",
    "from pathlib import Path\n",
    "from pprint import pprint\n",
    "\n",
    "import numpy as np\n",
    "from matplotlib import pyplot as plt\n",
    "from matplotlib.cm import ScalarMappable\n",
    "from matplotlib.colors import AsinhNorm, ListedColormap, Normalize\n",
    "from matplotlib.ticker import (\n",
    "    MultipleLocator,\n",
    "    PercentFormatter,\n",
    ")\n",
    "from mpl_toolkits.axes_grid1 import ImageGrid\n",
    "\n",
    "from cherab.inversion import Mfr\n",
    "from cherab.inversion.data import get_sample_data\n",
    "from cherab.inversion.derivative import Derivative\n",
    "\n",
    "plt.rcParams[\"figure.dpi\"] = 150\n",
    "\n",
    "# custom Red colormap extracted from \"RdBu_r\"\n",
    "cmap = plt.get_cmap(\"RdBu_r\")\n",
    "CMAP_RED = ListedColormap(cmap(np.linspace(0.5, 1.0, 256)))\n",
    "\n",
    "# path to the directory to store the MFR results\n",
    "store_dir = Path().cwd() / \"02-mfr\"\n",
    "store_dir.mkdir(exist_ok=True)"
   ]
  },
  {
   "cell_type": "markdown",
   "metadata": {},
   "source": [
    "## Prepare the data\n",
    "\n",
    "Load the same data as in the [previous tomography example](./01-mfr-tomography.ipynb)."
   ]
  },
  {
   "cell_type": "code",
   "execution_count": null,
   "metadata": {
    "jupyter": {
     "source_hidden": true
    }
   },
   "outputs": [],
   "source": [
    "# Load the sample data\n",
    "grid_data = get_sample_data(\"bolo.npz\")\n",
    "\n",
    "# Extract the data\n",
    "grids = grid_data[\"grid_centres\"]\n",
    "voxel_map = grid_data[\"voxel_map\"].squeeze()\n",
    "mask = grid_data[\"mask\"].squeeze()\n",
    "T = grid_data[\"sensitivity_matrix\"]\n",
    "\n",
    "print(f\"{grids.shape = }\")\n",
    "print(f\"{voxel_map.shape = }\")\n",
    "print(f\"{mask.shape = }\")\n",
    "print(f\"{T.shape = }\")\n",
    "print(f\"T density: {np.count_nonzero(T) / T.size:.2%}\")"
   ]
  },
  {
   "cell_type": "markdown",
   "metadata": {},
   "source": [
    "### Define Phantom emission profile\n",
    "\n",
    "The emission profile remains unchanged."
   ]
  },
  {
   "cell_type": "code",
   "execution_count": null,
   "metadata": {
    "jupyter": {
     "source_hidden": true
    }
   },
   "outputs": [],
   "source": [
    "PLASMA_AXIS = np.array([1.5, 1.5])\n",
    "LCFS_RADIUS = 1\n",
    "RING_RADIUS = 0.5\n",
    "\n",
    "RADIATION_PEAK = 1\n",
    "CENTRE_PEAK_WIDTH = 0.05\n",
    "RING_WIDTH = 0.025\n",
    "\n",
    "\n",
    "def emission_function_2d(rz_point: np.ndarray) -> float:\n",
    "    direction = rz_point - PLASMA_AXIS\n",
    "    bearing = np.arctan2(direction[1], direction[0])\n",
    "\n",
    "    # calculate radius of coordinate from magnetic axis\n",
    "    radius_from_axis = np.hypot(*direction)\n",
    "    closest_ring_point = PLASMA_AXIS + (0.5 * direction / radius_from_axis)\n",
    "    radius_from_ring = np.hypot(*(rz_point - closest_ring_point))\n",
    "\n",
    "    # evaluate pedestal -> core function\n",
    "    if radius_from_axis <= LCFS_RADIUS:\n",
    "        central_radiatior = RADIATION_PEAK * np.exp(-(radius_from_axis**2) / CENTRE_PEAK_WIDTH)\n",
    "\n",
    "        ring_radiator = (\n",
    "            RADIATION_PEAK * np.cos(bearing) * np.exp(-(radius_from_ring**2) / RING_WIDTH)\n",
    "        )\n",
    "        ring_radiator = max(0, ring_radiator)\n",
    "\n",
    "        return central_radiatior + ring_radiator\n",
    "    else:\n",
    "        return 0\n",
    "\n",
    "\n",
    "# Create a 2-D phantom\n",
    "nr, nz = voxel_map.shape\n",
    "phantom_2d = np.full((nr, nz), np.nan)\n",
    "for ir, iz in np.ndindex(nr, nz):\n",
    "    if not mask[ir, iz]:\n",
    "        continue\n",
    "    phantom_2d[ir, iz] = emission_function_2d(grids[ir, iz])\n",
    "\n",
    "# Create a 1-D phantom for the inversion\n",
    "phantom = phantom_2d[mask]"
   ]
  },
  {
   "cell_type": "code",
   "execution_count": null,
   "metadata": {
    "jupyter": {
     "source_hidden": true
    }
   },
   "outputs": [],
   "source": [
    "fig, ax = plt.subplots(layout=\"constrained\")\n",
    "image = ax.pcolormesh(\n",
    "    grids[:, 0, 0],\n",
    "    grids[0, :, 1],\n",
    "    phantom_2d.T,\n",
    "    cmap=CMAP_RED,\n",
    ")\n",
    "ax.set_aspect(\"equal\")\n",
    "cbar = plt.colorbar(image, pad=0.0)\n",
    "cbar.set_label(\"[W/m$^3$]\")\n",
    "ax.set_title(\"Phantom emissivity\")\n",
    "ax.set_xlabel(\"$R$ [m]\")\n",
    "ax.set_ylabel(\"$Z$ [m]\")\n",
    "ax.tick_params(axis=\"both\", which=\"both\", direction=\"in\", top=True, right=True)"
   ]
  },
  {
   "cell_type": "markdown",
   "metadata": {},
   "source": [
    "### Compute the measurement data\n",
    "\n",
    "Let us prepare the measurement data $\\mathbf{b}$ using the geometry matrix $\\mathbf{T}$: $\\mathbf{b} = \\mathbf{T} \\mathbf{x} + \\mathbf{e}$, where $\\mathbf{e}$ represents the noise.\n",
    "We will introduce 10% Gaussian noise based on the maximum value of the measurement data."
   ]
  },
  {
   "cell_type": "code",
   "execution_count": null,
   "metadata": {
    "jupyter": {
     "source_hidden": true
    }
   },
   "outputs": [],
   "source": [
    "T /= 4.0 * np.pi  # Divide by 4π steradians for use with power measurements in [W]\n",
    "data = T @ phantom\n",
    "\n",
    "rng = np.random.default_rng()\n",
    "data_w_noise = data + rng.normal(0, data.max() * 1.0e-2, data.size)\n",
    "data_w_noise = np.clip(data_w_noise, 0, None)"
   ]
  },
  {
   "cell_type": "markdown",
   "metadata": {},
   "source": [
    "## Anisotropic smoothing matrix $\\mathbf{H}$\n",
    "\n",
    "### Definition\n",
    "\n",
    "To apply the anisotropic smoothing, we propose the following anisotropic smoothing matrix (regularization matrix) $\\mathbf{H}$ <cite data-footcite=\"Odstrcil2012-ta\">(Odstrcil et al. 2012)</cite> :\n",
    "\n",
    "$$\n",
    "\\mathbf{H}\n",
    "\\equiv\n",
    "    \\mathrm{sig}(\\alpha)\\mathbf{D}_\\parallel^\\mathsf{T}\\mathbf{W}\\mathbf{D}_\\parallel\n",
    "    + \\mathrm{sig}(-\\alpha)\\mathbf{D}_\\perp^\\mathsf{T}\\mathbf{W}\\mathbf{D}_\\perp,\n",
    "$$\n",
    "\n",
    "where $\\mathbf{D}_\\parallel$ and $\\mathbf{D}_\\perp$ are derivative matrices in the parallel directions along the gradient of a specific scalar function, $\\nabla f(R, Z)$, and perpendicular to it, respectively. The degree of anisotropy is determined by the coefficient $\\mathrm{sig}(\\alpha)$, which is the sigmoid function with a parameter $\\alpha$ that regulates the strength of the anisotropy."
   ]
  },
  {
   "cell_type": "markdown",
   "metadata": {},
   "source": [
    "The differentiation of $\\mathbf{D}_\\parallel$ and $\\mathbf{D}_\\perp$ depends on the scalar function $f(R, Z)$. We utilize a simple monotonically increasing function from the point $(R_0, Z_0)$, defined as follows:\n",
    "\n",
    "$$\n",
    "f(R, Z) = \\sqrt{(R - R_0)^2 + (Z - Z_0)^2}.\n",
    "$$\n",
    "\n",
    "The gradient and its orthogonal vector are shown below."
   ]
  },
  {
   "cell_type": "code",
   "execution_count": null,
   "metadata": {
    "jupyter": {
     "source_hidden": true
    }
   },
   "outputs": [],
   "source": [
    "def scalar_func(r, z):\n",
    "    \"\"\"Scalar function to be used for the demonstration.\"\"\"\n",
    "    return np.hypot(r - PLASMA_AXIS[0], z - PLASMA_AXIS[1])\n",
    "\n",
    "\n",
    "# Compute scalar function values at each grid point.\n",
    "fvals = np.zeros_like(grids[:, :, 0])\n",
    "for ir, iz in np.ndindex(grids.shape[:2]):\n",
    "    fvals[ir, iz] = scalar_func(grids[ir, iz, 0], grids[ir, iz, 1])\n",
    "\n",
    "# Compute gradients of scalar function\n",
    "grad_r, grad_z = np.gradient(fvals, grids[:, 0, 0], grids[0, :, 1])\n",
    "\n",
    "# Mask values outside the plasma\n",
    "fvals[voxel_map < 0] = np.nan\n",
    "grad_r[voxel_map < 0] = np.nan\n",
    "grad_z[voxel_map < 0] = np.nan\n",
    "\n",
    "# Let us show the scalar function, its gradient, and orthogonal vectors.\n",
    "fig, (ax1, ax2, ax3) = plt.subplots(1, 3, sharey=True, layout=\"constrained\")\n",
    "ax1.pcolormesh(\n",
    "    grids[:, 0, 0],\n",
    "    grids[0, :, 1],\n",
    "    fvals.T,\n",
    "    cmap=CMAP_RED,\n",
    ")\n",
    "ax1.set_aspect(\"equal\")\n",
    "ax1.set_title(\"Scalar function $f(R, Z)$\")\n",
    "ax1.set_xlabel(\"$R$ [m]\")\n",
    "ax1.set_ylabel(\"$Z$ [m]\")\n",
    "\n",
    "ax2.quiver(\n",
    "    grids[:, 0, 0][1::3],\n",
    "    grids[0, :, 1][::3],\n",
    "    grad_r[1::3, ::3].T,\n",
    "    grad_z[1::3, ::3].T,\n",
    "    scale=15,\n",
    "    color=\"black\",\n",
    "    width=0.007,\n",
    ")\n",
    "ax2.set_aspect(\"equal\")\n",
    "ax2.set(xlim=ax1.get_xlim(), ylim=ax1.get_ylim())\n",
    "ax2.set_title(\"$\\\\nabla f(R,Z)$\")\n",
    "ax2.set_xlabel(\"$R$ [m]\")\n",
    "\n",
    "ax3.quiver(\n",
    "    grids[:, 0, 0][1::3],\n",
    "    grids[0, :, 1][::3],\n",
    "    -grad_z[1::3, ::3].T,\n",
    "    grad_r[1::3, ::3].T,\n",
    "    scale=15,\n",
    "    color=\"black\",\n",
    "    width=0.007,\n",
    ")\n",
    "ax3.set_aspect(\"equal\")\n",
    "ax3.set(xlim=ax1.get_xlim(), ylim=ax1.get_ylim())\n",
    "ax3.set_title(\"Orthogonal to $\\\\nabla f(R,Z)$\")\n",
    "ax3.set_xlabel(\"$R$ [m]\");"
   ]
  },
  {
   "cell_type": "raw",
   "metadata": {
    "raw_mimetype": "text/restructuredtext",
    "vscode": {
     "languageId": "raw"
    }
   },
   "source": [
    "Derivative matrices can be generated with the `~.Derivative.matrix_gradient` method in the `.Derivative` class."
   ]
  },
  {
   "cell_type": "code",
   "execution_count": null,
   "metadata": {
    "jupyter": {
     "source_hidden": true
    }
   },
   "outputs": [],
   "source": [
    "deriv = Derivative(grids, voxel_map)\n",
    "dmat_para, dmat_perp = deriv.matrix_gradient(scalar_func)\n",
    "\n",
    "dmat_pairs = [(dmat_para, dmat_para), (dmat_perp, dmat_perp)]\n",
    "pprint(dmat_pairs)"
   ]
  },
  {
   "cell_type": "markdown",
   "metadata": {},
   "source": [
    "### Optimize the anisotropic parameter $\\alpha$\n",
    "\n",
    "When reconstructing the profile, we need to choose the optimal value of the anisotropic parameter $\\alpha$, which is often optimized by reconstructing several test cases and seeking the best solution in terms of some criteria (e.g. [relative error](https://en.wikipedia.org/wiki/Approximation_error), [SSIM](https://en.wikipedia.org/wiki/Structural_similarity_index_measure), [RMSD](https://en.wikipedia.org/wiki/Root_mean_square_deviation), etc.).\n",
    "\n",
    "Because the phantom profile in this example is spread out in the circumferential direction to some extent, we try to strengthen the anisotropy in the same direction: set the anisotropic parameter $\\alpha$ to be negative.\n",
    "Let us plot the sigmoid function with setting parameters $\\alpha$."
   ]
  },
  {
   "cell_type": "code",
   "execution_count": null,
   "metadata": {
    "jupyter": {
     "source_hidden": true
    }
   },
   "outputs": [],
   "source": [
    "def sigmoid(x):\n",
    "    \"\"\"Sigmoid function.\"\"\"\n",
    "    return 1 / (1 + np.exp(-x))"
   ]
  },
  {
   "cell_type": "code",
   "execution_count": null,
   "metadata": {
    "jupyter": {
     "source_hidden": true
    }
   },
   "outputs": [],
   "source": [
    "x = np.linspace(-8, 8)\n",
    "alphas = np.linspace(-5, 0, 20)  # selected alphas\n",
    "\n",
    "plt.plot(x, sigmoid(x), label=\"Sigmoid function\", zorder=0)\n",
    "plt.scatter(alphas, sigmoid(alphas), marker=\"x\", color=\"red\", label=\"Selected $\\\\alpha$\")\n",
    "plt.axhline(0.5, color=\"black\", linestyle=\"--\", zorder=-1)\n",
    "plt.axvline(0, color=\"black\", linestyle=\"--\", zorder=-1)\n",
    "plt.xlabel(\"Anisotropic Parameter $\\\\alpha$\")\n",
    "plt.ylabel(\"$\\\\mathrm{sig}(\\\\alpha)$\")\n",
    "plt.xlim(x.min(), x.max())\n",
    "plt.legend();"
   ]
  },
  {
   "cell_type": "markdown",
   "metadata": {},
   "source": [
    "Let us define criterion functions: [relative error](https://en.wikipedia.org/wiki/Approximation_error) $\\varepsilon_\\mathrm{rel}$ and [structual similarity index](https://en.wikipedia.org/wiki/Structural_similarity_index_measure) $\\mathrm{SSIM}$.\n",
    "They are given as follows:\n",
    "\n",
    "$$\n",
    "\\begin{align}\n",
    "\\varepsilon_\\mathrm{rel} &\\equiv \\frac{\\|\\mathbf{x}_\\mathrm{true} - \\mathbf{x}_\\mathrm{rec}\\|}{\\|\\mathbf{x}_\\mathrm{true}\\|},\\\\\n",
    "\\mathrm{SSIM} & \\equiv \\frac{(2\\mu_x\\mu_y + C_1)(2\\sigma_{xy} + C_2)}{(\\mu_x^2 + \\mu_y^2 + C_1)(\\sigma_x^2 + \\sigma_y^2 + C_2)},\n",
    "\\end{align}\n",
    "$$\n",
    "\n",
    "where $\\mathbf{x}_\\mathrm{true}$ is the true profile, $\\mathbf{x}_\\mathrm{rec}$ is the reconstructed profile, $\\mu_x, \\mu_y$ are the average values of $\\mathbf{x}_\\mathrm{true}$ and $\\mathbf{x}_\\mathrm{rec}$, respectively, $\\sigma_x, \\sigma_y$ are the standard deviations of $\\mathbf{x}_\\mathrm{true}$ and $\\mathbf{x}_\\mathrm{rec}$, respectively, $\\sigma_{xy}$ is the covariance of $\\mathbf{x}_\\mathrm{true}$ and $\\mathbf{x}_\\mathrm{rec}$, $C_1, C_2$ are constants, and $\\|\\cdot\\|$ is the Euclidean norm.\n",
    "Here $C_1 = (k_1L)^2, C_2 = (k_2L)^2$ are constants, where $k_1=0.01, k_2=0.03$, and $L$ is the dynamic range of the profile values."
   ]
  },
  {
   "cell_type": "code",
   "execution_count": null,
   "metadata": {
    "jupyter": {
     "source_hidden": true
    }
   },
   "outputs": [],
   "source": [
    "def relative_error(x, true):\n",
    "    \"\"\"Compute relative error.\"\"\"\n",
    "    return np.linalg.norm(true - x) / np.linalg.norm(true)\n",
    "\n",
    "\n",
    "def ssim(x, y):\n",
    "    \"\"\"Compute Structural Similarity Index.\"\"\"\n",
    "    ux, uy = np.mean(x), np.mean(y)\n",
    "    vx, vy = np.var(x), np.var(y)\n",
    "    vxy = (x - ux) @ (y - uy) / (x.size - 1)\n",
    "    x_range, y_range = x.max() - x.min(), y.max() - y.min()\n",
    "    data_range = max(x_range, y_range)\n",
    "    c1, c2 = (0.01 * data_range) ** 2, (0.03 * data_range) ** 2\n",
    "    return (2 * ux * uy + c1) * (2 * vxy + c2) / ((ux**2 + uy**2 + c1) * (vx + vy + c2))"
   ]
  },
  {
   "cell_type": "markdown",
   "metadata": {},
   "source": [
    "Let us try to solve the problem with the MFR method varying the anisotropic parameter $\\alpha$."
   ]
  },
  {
   "cell_type": "code",
   "execution_count": null,
   "metadata": {
    "jupyter": {
     "source_hidden": true
    }
   },
   "outputs": [],
   "source": [
    "num_mfi = 4  # number of MFR iterations\n",
    "eps = 1.0e-6  # small positive number to avoid division by zero\n",
    "tol = 1.0e-2  # tolerance for the convergence criterion\n",
    "\n",
    "mfr = Mfr(T, dmat_pairs, data=data_w_noise)\n",
    "\n",
    "errors = []\n",
    "ssims = []\n",
    "\n",
    "for alpha in alphas:\n",
    "    sol, stats = mfr.solve(\n",
    "        derivative_weights=[sigmoid(alpha), sigmoid(-alpha)],\n",
    "        miter=num_mfi,\n",
    "        eps=eps,\n",
    "        tol=tol,\n",
    "        store_regularizers=False,\n",
    "        spinner=False,\n",
    "    )\n",
    "    errors.append(relative_error(sol, phantom))\n",
    "    ssims.append(ssim(phantom, sol))"
   ]
  },
  {
   "cell_type": "markdown",
   "metadata": {},
   "source": [
    "Plot the relative error and SSIM for each $\\alpha$. Lower relative error and higher SSIM are better."
   ]
  },
  {
   "cell_type": "code",
   "execution_count": null,
   "metadata": {
    "jupyter": {
     "source_hidden": true
    }
   },
   "outputs": [],
   "source": [
    "fig, ax1 = plt.subplots(layout=\"constrained\")\n",
    "ax2 = ax1.twinx()\n",
    "\n",
    "# Plot the relative error\n",
    "ax1.plot(alphas, errors, marker=\".\")\n",
    "ax1.set_xlabel(\"Anisotropic Parameter $\\\\alpha$\")\n",
    "ax1.set_ylabel(\"Relative Error\")\n",
    "ax1.set_title(\"Effect of Anisotropic Regularization\")\n",
    "ax1.yaxis.set_major_formatter(PercentFormatter(xmax=1))\n",
    "ax2.spines[\"left\"].set_color(\"C0\")\n",
    "ax1.yaxis.label.set_color(\"C0\")\n",
    "ax1.tick_params(axis=\"y\", colors=\"C0\")\n",
    "line1 = ax1.axvline(\n",
    "    alphas[np.argmin(errors)], color=\"C0\", linestyle=\"--\", lw=1, label=\"Minimum Error\"\n",
    ")\n",
    "\n",
    "\n",
    "# Plot the SSIM\n",
    "ax2.plot(alphas, ssims, marker=\".\", color=\"C1\")\n",
    "ax2.set_ylabel(\"SSIM\")\n",
    "ax2.yaxis.set_major_formatter(PercentFormatter(xmax=1))\n",
    "ax2.spines[\"right\"].set_color(\"C1\")\n",
    "ax2.yaxis.label.set_color(\"C1\")\n",
    "ax2.tick_params(axis=\"y\", colors=\"C1\")\n",
    "line2 = ax2.axvline(\n",
    "    alphas[np.argmax(ssims)], color=\"C1\", linestyle=\"--\", lw=0.7, label=\"Maximum SSIM\"\n",
    ")\n",
    "\n",
    "lines = [line1, line2]\n",
    "ax2.legend(lines, [line.get_label() for line in lines], loc=0);"
   ]
  },
  {
   "cell_type": "markdown",
   "metadata": {},
   "source": [
    "## Evaluate the best reconstruction with the optimized $\\alpha$\n",
    "\n",
    "We are assessing the optimal reconstruction using the optimized parameter $\\alpha$, which aims to maximize the SSIM."
   ]
  },
  {
   "cell_type": "code",
   "execution_count": null,
   "metadata": {
    "jupyter": {
     "source_hidden": true
    }
   },
   "outputs": [],
   "source": [
    "opt_alpha = alphas[np.argmax(ssims)]\n",
    "\n",
    "sol, stats = mfr.solve(\n",
    "    derivative_weights=[sigmoid(opt_alpha), sigmoid(-opt_alpha)],\n",
    "    miter=num_mfi,\n",
    "    eps=eps,\n",
    "    tol=tol,\n",
    "    store_regularizers=True,\n",
    "    spinner=False,\n",
    "    path=store_dir,\n",
    ")"
   ]
  },
  {
   "cell_type": "markdown",
   "metadata": {},
   "source": [
    "Let's plot the L-curve and its curvature to use as a regularization criterion, so we can determine the optimal value of the regularization parameter."
   ]
  },
  {
   "cell_type": "code",
   "execution_count": null,
   "metadata": {
    "jupyter": {
     "source_hidden": true
    }
   },
   "outputs": [],
   "source": [
    "lcurve = stats[\"regularizer\"]\n",
    "fig, axes = plt.subplots(1, 2, dpi=150, figsize=(9, 4), layout=\"constrained\")\n",
    "lcurve.plot_L_curve(fig, axes[0])\n",
    "lcurve.plot_curvature(fig, axes[1]);"
   ]
  },
  {
   "cell_type": "markdown",
   "metadata": {},
   "source": [
    "### Compare profiles\n",
    "\n",
    "Now, we will compare the reconstructed profile with the phantom and assess the quality of the reconstruction."
   ]
  },
  {
   "cell_type": "code",
   "execution_count": null,
   "metadata": {
    "jupyter": {
     "source_hidden": true
    },
    "tags": [
     "nbsphinx-thumbnail"
    ]
   },
   "outputs": [],
   "source": [
    "vmax = max(np.abs(phantom).max(), np.abs(sol).max())\n",
    "\n",
    "fig = plt.figure(figsize=(10, 5))\n",
    "axes = ImageGrid(fig, 111, nrows_ncols=(1, 2), axes_pad=0.05, cbar_mode=\"single\")\n",
    "norm = Normalize(vmin=-vmax, vmax=vmax)\n",
    "for ax, profile, label in zip(\n",
    "    axes.axes_all,\n",
    "    [phantom, sol],\n",
    "    [\"Phantom\", f\"Reconstruction ($\\\\alpha_{{\\\\mathrm{{opt}}}} = ${opt_alpha:.2f})\"],\n",
    "    strict=True,\n",
    "):\n",
    "    profile_2d = np.full(voxel_map.shape, np.nan)\n",
    "    profile_2d[mask] = profile\n",
    "\n",
    "    ax.pcolormesh(\n",
    "        grids[:, 0, 0],\n",
    "        grids[0, :, 1],\n",
    "        profile_2d.T,\n",
    "        cmap=\"RdBu_r\",\n",
    "        norm=norm,\n",
    "    )\n",
    "    ax.set_title(label)\n",
    "    ax.set_xlabel(\"$R$ [m]\")\n",
    "\n",
    "    ax.tick_params(axis=\"both\", which=\"both\", direction=\"in\", top=True, right=True)\n",
    "\n",
    "axes[0].set_ylabel(\"$Z$ [m]\")\n",
    "mappable = ScalarMappable(cmap=\"RdBu_r\", norm=norm)\n",
    "cbar = plt.colorbar(mappable, cax=axes.cbar_axes[0])\n",
    "cbar.set_label(\"Emissivity [W/m$^3$]\");"
   ]
  },
  {
   "cell_type": "code",
   "execution_count": null,
   "metadata": {
    "jupyter": {
     "source_hidden": true
    }
   },
   "outputs": [],
   "source": [
    "dr, dz = grids[1, 0, 0] - grids[0, 0, 0], grids[0, 1, 1] - grids[0, 0, 1]\n",
    "rmin, rmax = grids[0, 0, 0] - dr * 0.5, grids[-1, 0, 0] + dr * 0.5\n",
    "zmin, zmax = grids[0, 0, 1] - dz * 0.5, grids[0, -1, 1] + dz * 0.5\n",
    "\n",
    "vmax = max(np.amax(np.abs(sol)), np.amax(np.abs(phantom)))\n",
    "levels = np.linspace(-vmax, vmax, 20)\n",
    "sol_2d = np.full_like(phantom_2d, np.nan)\n",
    "sol_2d[mask] = sol\n",
    "norm = Normalize(vmin=-vmax, vmax=vmax)\n",
    "\n",
    "fig, ax = plt.subplots(layout=\"constrained\")\n",
    "for profile, ls in zip([phantom_2d, sol_2d], [\"--\", \"-\"], strict=True):\n",
    "    ax.contour(\n",
    "        profile.T,\n",
    "        cmap=\"RdBu_r\",\n",
    "        norm=norm,\n",
    "        linestyles=ls,\n",
    "        levels=levels,\n",
    "        extent=[rmin, rmax, zmin, zmax],\n",
    "    )\n",
    "\n",
    "proxy = [plt.Line2D([], [], c=\"k\", ls=\"dotted\"), plt.Line2D([], [], c=\"k\", ls=\"solid\")]\n",
    "ax.legend(proxy, [\"Phantom\", \"Reconstruction\"], loc=\"upper right\")\n",
    "\n",
    "ax.set_aspect(\"equal\")\n",
    "ax.set_xlabel(\"$R$ [m]\")\n",
    "ax.set_ylabel(\"$Z$ [m]\")\n",
    "ax.set_title(\"Contour plot of Phantom and Reconstruction\")\n",
    "ax.tick_params(axis=\"both\", which=\"both\", direction=\"in\", top=True, right=True)\n",
    "\n",
    "mappable = ScalarMappable(cmap=\"RdBu_r\", norm=norm)\n",
    "cbar = plt.colorbar(mappable=mappable, ax=ax, pad=0.0)\n",
    "cbar.set_label(\"W/m$^3$\")"
   ]
  },
  {
   "cell_type": "markdown",
   "metadata": {},
   "source": [
    "### Compare the measurement powers\n",
    "\n",
    "The measured power calculated by multiplying the geometry matrix by the emission vector and the back-calculated power calculated by multiplying the geometry matrix by the inverted emissivity are all in good agreement."
   ]
  },
  {
   "cell_type": "code",
   "execution_count": null,
   "metadata": {
    "jupyter": {
     "source_hidden": true
    }
   },
   "outputs": [],
   "source": [
    "back_calculated_measurements = T @ sol\n",
    "\n",
    "fig, (ax1, ax2) = plt.subplots(2, 1, layout=\"constrained\", figsize=(8, 6), sharex=True)\n",
    "\n",
    "# Plot the phantom and the back-calculated measurements\n",
    "ax1.bar(np.arange(data.size), data, label=\"Matrix-based measurements\")\n",
    "ax1.plot(back_calculated_measurements, \".\", color=\"C1\", label=\"Back-calculated from inversion\")\n",
    "ax1.legend()\n",
    "ax1.set_ylabel(\"Power [W]\")\n",
    "ax1.ticklabel_format(style=\"sci\", axis=\"y\", useMathText=True)\n",
    "ax1.tick_params(axis=\"both\", which=\"both\", direction=\"in\", top=True, right=True)\n",
    "ax1.set_xlim(-1, data.size)\n",
    "ax1.xaxis.set_major_locator(MultipleLocator(base=5))\n",
    "ax1.xaxis.set_minor_locator(MultipleLocator(base=1))\n",
    "\n",
    "# Plot the residuals between the measurements b and the back-calculated Tx (b - Tx)\n",
    "ax2.axhline(0, color=\"k\", linestyle=\"--\")\n",
    "ax2.bar(np.arange(data.size), data - back_calculated_measurements, color=\"C2\")\n",
    "ax2.set_xlabel(\"channel of bolometers\")\n",
    "ax2.set_ylabel(\"Residual [W]\")\n",
    "ax2.ticklabel_format(style=\"sci\", axis=\"y\", useMathText=True)\n",
    "ax2.tick_params(axis=\"both\", which=\"both\", direction=\"in\", top=True, right=True)"
   ]
  },
  {
   "cell_type": "code",
   "execution_count": null,
   "metadata": {
    "jupyter": {
     "source_hidden": true
    }
   },
   "outputs": [],
   "source": [
    "print(\n",
    "    \"The relative error of power measurements is\",\n",
    "    f\"{relative_error(back_calculated_measurements, data):.2%}\",\n",
    ")"
   ]
  },
  {
   "cell_type": "markdown",
   "metadata": {},
   "source": [
    "### Quantitative evaluation\n",
    "\n",
    "We evaluate the reconstruction quality by measuring quantitative metrics such as relative error, SSIM, and the total/negative power of the reconstructed profile."
   ]
  },
  {
   "cell_type": "code",
   "execution_count": null,
   "metadata": {
    "jupyter": {
     "source_hidden": true
    }
   },
   "outputs": [],
   "source": [
    "dr = grids[1, 0, 0] - grids[0, 0, 0]\n",
    "dz = grids[0, 1, 1] - grids[0, 0, 1]\n",
    "\n",
    "volumes = dr * dz * 2.0 * np.pi * grids[..., 0]\n",
    "volumes = volumes[mask]\n",
    "\n",
    "print(f\"Relative error : {relative_error(sol, phantom):.2%}\")\n",
    "print(f\"SSIM           : {ssim(sol, phantom):.2%}\")\n",
    "print(\"--------------------------------------------\")\n",
    "print(f\"Total power of phantom       : {phantom @ volumes:.4g} W\")\n",
    "print(f\"Total power of reconstruction: {sol @ volumes:.4g} W\")\n",
    "print(f\"Total negative power of reconstruction: {sol[sol < 0] @ volumes[sol < 0]:.4g} W\")"
   ]
  },
  {
   "cell_type": "markdown",
   "metadata": {},
   "source": [
    "### Solution basis\n",
    "\n",
    "The [solution bases](../../user/theory/inversion.ipynb#Series-expansion-of-the-solution) from 0-th to 18-th are shown below."
   ]
  },
  {
   "cell_type": "code",
   "execution_count": null,
   "metadata": {
    "jupyter": {
     "source_hidden": true
    }
   },
   "outputs": [],
   "source": [
    "# Plot solution bases\n",
    "fig = plt.figure(figsize=(16, 10))\n",
    "axes = ImageGrid(\n",
    "    fig,\n",
    "    111,\n",
    "    nrows_ncols=(3, 6),\n",
    "    axes_pad=0.0,\n",
    "    cbar_mode=None,\n",
    ")\n",
    "\n",
    "for i, ax in enumerate(axes.axes_all):\n",
    "    profile2d = np.full(voxel_map.shape, np.nan)\n",
    "    profile2d[mask] = lcurve.basis[:, i]\n",
    "\n",
    "    absolute = np.abs(lcurve.basis[:, i]).max()\n",
    "    norm = AsinhNorm(vmin=-1 * absolute, vmax=absolute, linear_width=absolute * 1e-1)\n",
    "\n",
    "    ax.pcolormesh(\n",
    "        grids[:, 0, 0],\n",
    "        grids[0, :, 1],\n",
    "        profile2d.T,\n",
    "        cmap=\"RdBu_r\",\n",
    "        norm=norm,\n",
    "    )\n",
    "    # ax.set_aspect(\"equal\")\n",
    "    ax.set_xlabel(\"$R$ [m]\") if i >= 12 else None\n",
    "    ax.set_ylabel(\"$Z$ [m]\") if i % 6 == 0 else None\n",
    "    ax.tick_params(axis=\"both\", which=\"both\", direction=\"in\", top=True, right=True)\n",
    "\n",
    "    ax.text(\n",
    "        0.5,\n",
    "        0.93,\n",
    "        f\"basis {i}\",\n",
    "        horizontalalignment=\"center\",\n",
    "        verticalalignment=\"center\",\n",
    "        transform=ax.transAxes,\n",
    "    )"
   ]
  },
  {
   "cell_type": "markdown",
   "metadata": {},
   "source": [
    "## Iteration history\n"
   ]
  },
  {
   "cell_type": "markdown",
   "metadata": {},
   "source": [
    "As described in the [MFR definition section](../../user/theory/mfr.ipynb), MFR is the iterative method.\n",
    "To see the convergence behavior, we investigate the iteration history."
   ]
  },
  {
   "cell_type": "markdown",
   "metadata": {},
   "source": [
    "### Reconstruction profiles history\n",
    "\n",
    "Firstly, let's examine the solution for each iteration.\n",
    "To address negative values, we will plot solutions using the arcsinh scale."
   ]
  },
  {
   "cell_type": "code",
   "execution_count": null,
   "metadata": {
    "jupyter": {
     "source_hidden": true
    }
   },
   "outputs": [],
   "source": [
    "# Stored regularizer files\n",
    "reg_files = list(store_dir.glob(\"*.pickle\"))\n",
    "reg_files = sorted(reg_files, key=lambda x: int(x.stem.split(\"_\")[-1]))\n",
    "\n",
    "# Load each solution\n",
    "sols = []\n",
    "regs = []\n",
    "for file in reg_files:\n",
    "    with open(file, \"rb\") as f:\n",
    "        reg = pickle.load(f)\n",
    "\n",
    "    sols.append(reg.solution(reg.lambda_opt))\n",
    "    regs.append(reg)\n",
    "\n",
    "profiles = [phantom] + sols\n",
    "\n",
    "# set vmin and vmax for all solutions\n",
    "vmin = min(profile.min() for profile in profiles)\n",
    "vmax = max(profile.max() for profile in profiles)\n",
    "\n",
    "\n",
    "# Plot the solutions\n",
    "fig = plt.figure(figsize=(10, 5))\n",
    "axes = ImageGrid(\n",
    "    fig,\n",
    "    111,\n",
    "    nrows_ncols=(1, len(profiles)),\n",
    "    axes_pad=0.05,\n",
    "    cbar_mode=\"single\",\n",
    "    cbar_location=\"right\",\n",
    ")\n",
    "\n",
    "absolute = max(abs(vmax), abs(vmin))\n",
    "linear_width = absolute * 0.1  # quasi-linear region width\n",
    "norm = AsinhNorm(linear_width=linear_width, vmin=-1 * absolute, vmax=absolute)\n",
    "i = 0\n",
    "for ax, profile in zip(axes.axes_all, profiles, strict=True):\n",
    "    sol_2d = np.full(voxel_map.shape, np.nan)\n",
    "    sol_2d[mask] = profile\n",
    "\n",
    "    ax.pcolormesh(\n",
    "        grids[:, 0, 0],\n",
    "        grids[0, :, 1],\n",
    "        sol_2d.T,\n",
    "        cmap=\"RdBu_r\",\n",
    "        norm=norm,\n",
    "    )\n",
    "    if i == 0:\n",
    "        ax.set_title(\"Phantom\")\n",
    "    else:\n",
    "        ax.set_title(f\"MFR iteration {i}\")\n",
    "\n",
    "    ax.set_xlabel(\"$R$ [m]\")\n",
    "    i += 1\n",
    "\n",
    "    ax.tick_params(axis=\"both\", which=\"both\", direction=\"in\", top=True, right=True)\n",
    "\n",
    "axes[0].set_ylabel(\"$Z$ [m]\")\n",
    "mappable = ScalarMappable(norm=norm, cmap=\"RdBu_r\")\n",
    "cbar = plt.colorbar(mappable, cax=axes.cbar_axes[0])\n",
    "cbar.set_label(\"Emissivity [W/m$^3$]\")"
   ]
  },
  {
   "cell_type": "markdown",
   "metadata": {},
   "source": [
    "### Quantitative evaluation history\n",
    "\n",
    "The following plots show the quantitative evaluation changes during the iteration."
   ]
  },
  {
   "cell_type": "code",
   "execution_count": null,
   "metadata": {
    "jupyter": {
     "source_hidden": true
    }
   },
   "outputs": [],
   "source": [
    "relative_errors = []\n",
    "total_powers = []\n",
    "negative_powers = []\n",
    "ssims = []\n",
    "\n",
    "for sol in sols:\n",
    "    relative_errors.append(relative_error(sol, phantom))\n",
    "    total_powers.append(sol @ volumes)\n",
    "    negative_powers.append(sol[sol < 0] @ volumes[sol < 0])\n",
    "    ssims.append(ssim(phantom, sol))\n",
    "\n",
    "# Append nan value to the last iteration\n",
    "relative_errors.append(np.nan)\n",
    "negative_powers.append(np.nan)\n",
    "ssims.append(np.nan)\n",
    "\n",
    "# show each values as a bar plot\n",
    "fig, (ax1, ax2, ax3, ax4) = plt.subplots(4, 1, layout=\"constrained\", sharex=True, figsize=(4, 6))\n",
    "\n",
    "x = np.arange(1, len(relative_errors) + 1)  # the label locations\n",
    "rects = ax1.bar(x[:4], total_powers, color=\"C0\", label=\"Reconstruction\")\n",
    "ax1.bar_label(rects, padding=-15, fmt=\"{:.3f}\", color=\"w\")\n",
    "rects = ax1.bar(x[-1], np.sum(phantom * volumes), color=\"C1\", label=\"Phantom\")\n",
    "ax1.bar_label(rects, padding=-15, fmt=\"{:.3f}\", color=\"w\")\n",
    "ax1.set_ylabel(\"Total power [W]\")\n",
    "ax1.tick_params(axis=\"both\", which=\"both\", direction=\"in\", top=True, right=True)\n",
    "ax1.ticklabel_format(style=\"sci\", axis=\"y\", useMathText=True)\n",
    "\n",
    "\n",
    "rects = ax2.bar(x, negative_powers, color=\"C2\")\n",
    "ax2.bar_label(rects, padding=3, fmt=\"{:.3f}\")\n",
    "ax2.set_ylim(ymin=np.nanmin(negative_powers) * 1.3)\n",
    "ax2.set_ylabel(\"Negative power [W]\")\n",
    "ax2.tick_params(axis=\"both\", which=\"both\", direction=\"in\", top=True, right=True)\n",
    "ax2.ticklabel_format(style=\"sci\", axis=\"y\", useMathText=True)\n",
    "\n",
    "rects = ax3.bar(x, relative_errors, color=\"C3\")\n",
    "ax3.bar_label(rects, padding=3, fmt=\"{:.1%}\")\n",
    "ax3.set_ylim(ymax=np.nanmax(relative_errors) * 1.3)\n",
    "ax3.set_ylabel(\"Relative error\")\n",
    "ax3.tick_params(axis=\"both\", which=\"both\", direction=\"in\", top=True, right=True)\n",
    "ax3.yaxis.set_major_formatter(PercentFormatter(xmax=1))\n",
    "\n",
    "rects = ax4.bar(x, ssims, color=\"C4\")\n",
    "ax4.bar_label(rects, padding=3, fmt=\"{:.1%}\")\n",
    "ax4.set_ylim(ymax=np.nanmax(ssims) * 1.3)\n",
    "ax4.set_ylabel(\"SSIM\")\n",
    "ax4.set_xlabel(\"MFR iteration\")\n",
    "ax4.set_xticks(x)\n",
    "ax4.set_xticklabels(x.tolist()[:4] + [\"Phantom\"])\n",
    "ax4.tick_params(axis=\"both\", which=\"both\", direction=\"in\", top=True, right=True)\n",
    "ax4.yaxis.set_major_formatter(PercentFormatter(xmax=1))"
   ]
  },
  {
   "cell_type": "markdown",
   "metadata": {},
   "source": [
    "### Solution basis history\n",
    "\n",
    "Solution bases are altered and localized to specific regions during the iteration process.\n"
   ]
  },
  {
   "cell_type": "code",
   "execution_count": null,
   "metadata": {
    "jupyter": {
     "source_hidden": true
    }
   },
   "outputs": [],
   "source": [
    "# Plot solution bases\n",
    "fig = plt.figure(figsize=(16, 10))\n",
    "\n",
    "for j, reg in enumerate(regs):\n",
    "    axes = ImageGrid(\n",
    "        fig,\n",
    "        (len(sols), 1, j + 1),\n",
    "        nrows_ncols=(1, 6),\n",
    "        axes_pad=0.0,\n",
    "        cbar_mode=None,\n",
    "    )\n",
    "\n",
    "    axes[0].set_ylabel(f\"Iteration {j + 1}\")\n",
    "\n",
    "    for i, ax in enumerate(axes.axes_all):\n",
    "        profile2d = np.full(voxel_map.shape, np.nan)\n",
    "        profile2d[mask] = reg.basis[:, i]\n",
    "\n",
    "        absolute = max(abs(reg.basis[:, i].min()), abs(reg.basis[:, i].max()))\n",
    "        norm = AsinhNorm(vmin=-1 * absolute, vmax=absolute, linear_width=absolute * 1e-1)\n",
    "\n",
    "        ax.pcolormesh(\n",
    "            grids[:, 0, 0],\n",
    "            grids[0, :, 1],\n",
    "            profile2d.T,\n",
    "            cmap=\"RdBu_r\",\n",
    "            norm=norm,\n",
    "        )\n",
    "        ax.tick_params(left=False, bottom=False, labelleft=False, labelbottom=False)\n",
    "\n",
    "        ax.text(\n",
    "            0.5,\n",
    "            0.93,\n",
    "            f\"basis {i}\",\n",
    "            horizontalalignment=\"center\",\n",
    "            verticalalignment=\"center\",\n",
    "            transform=ax.transAxes,\n",
    "        )\n",
    "\n",
    "fig.subplots_adjust(hspace=0.1)"
   ]
  },
  {
   "cell_type": "markdown",
   "metadata": {},
   "source": [
    "## References\n"
   ]
  },
  {
   "cell_type": "raw",
   "metadata": {
    "raw_mimetype": "text/restructuredtext"
   },
   "source": [
    ".. footbibliography::"
   ]
  }
 ],
 "metadata": {
  "kernelspec": {
   "display_name": "Python 3 (ipykernel)",
   "language": "python",
   "name": "python3"
  },
  "language_info": {
   "codemirror_mode": {
    "name": "ipython",
    "version": 3
   },
   "file_extension": ".py",
   "mimetype": "text/x-python",
   "name": "python",
   "nbconvert_exporter": "python",
   "pygments_lexer": "ipython3",
   "version": "3.12.3"
  },
  "widgets": {
   "application/vnd.jupyter.widget-state+json": {
    "state": {},
    "version_major": 2,
    "version_minor": 0
   }
  }
 },
 "nbformat": 4,
 "nbformat_minor": 4
}
