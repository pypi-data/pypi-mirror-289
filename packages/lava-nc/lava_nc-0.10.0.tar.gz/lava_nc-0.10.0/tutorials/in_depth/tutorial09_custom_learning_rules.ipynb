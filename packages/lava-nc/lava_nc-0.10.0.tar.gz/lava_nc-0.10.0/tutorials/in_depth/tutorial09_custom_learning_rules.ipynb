{
 "cells": [
  {
   "cell_type": "markdown",
   "metadata": {
    "pycharm": {
     "name": "#%% md\n"
    }
   },
   "source": [
    "*Copyright (C) 2021 Intel Corporation*<br>\n",
    "*SPDX-License-Identifier: BSD-3-Clause*<br>\n",
    "*See: https://spdx.org/licenses/*\n",
    "\n",
    "---\n",
    "\n",
    "# Custom Learning Rules\n",
    "\n",
    "_**Motivation**: In this tutorial, we will demonstrate usage of a software model of Loihi's learning engine, exposed in Lava. This involves the LearningRule object for learning rule and other learning-related information encapsulation and the LearningDense Lava Process modelling learning-enabled connections._\n",
    "\n",
    "#### This tutorial assumes that you:\n",
    "- have the [Lava framework installed](../../in_depth/tutorial01_installing_lava.ipynb \"Tutorial on Installing Lava\")\n",
    "- are familiar with the [Process concept in Lava](../../in_depth/tutorial02_processes.ipynb \"Tutorial on Processes\")\n",
    "- are familiar with the [ProcessModel concept in Lava](../../in_depth/tutorial02_process_models.ipynb \"Tutorial on ProcessModels\")\n",
    "- are familiar with how to [connect Lava Processes](../../in_depth/tutorial05_connect_processes.ipynb \"Tutorial on connecting Processes\")\n",
    "\n",
    "This tutorial gives a bird's-eye view of how to develop custom learning rules for Loihi. For this purpose, we will create a network of LIF and Dense processes with one plastic connection and generate frozen patterns of activity. We can easily choose between a floating point simulation of the learning engine and a fixed point simulation, which approximates the behavior on the Loihi neuromorphic hardware. We also will create monitors to observe the behavior of the weights and activity traces of the neurons and learning rules."
   ]
  },
  {
   "cell_type": "markdown",
   "metadata": {
    "pycharm": {
     "name": "#%% md\n"
    }
   },
   "source": [
    "\n",
    "## 2. Loihi's learning engine\n",
    "Loihi provides a programmable learning engine that can evolve synaptic state variables over time as a function of several locally available parameters and the equations relating input terms to output synaptic target variables are called _learning rules_. These learning rule equations are highly configurable but are constrained to a sum of products form.\n",
    "\n",
    "#### Epoch-based updates\n",
    "For efficiency reasons, trace and synaptic variable updates proceed in learning epochs with a length of $t_{epoch}$ time steps. Within an epoch, spike events are recorded but trace and synaptic variable updates are only computed and applied with a slight delay at the end of the epoch. This delayed application will theoretically not have any impact as long as there is only one spike per synapse and per epoch.\n",
    "\n",
    "#### Synaptic variables\n",
    "For each synapse, Loihi's computational model defines a set of three synaptic state variables that can be modified by the learning engine. These are :\n",
    "- Weight $W$, representing _synaptic efficacy_.\n",
    "- Delay $D$, representing _synaptic delay_.\n",
    "- Tag $T$, which is an additional synaptic variable that allows for constructing more complex learning dynamics.\n",
    "\n",
    "#### Learning rules\n",
    "The amount of change by which a target synaptic variable is updated at the end of a learning epoch is given by the learning rule associated with said variable. The rules are specified in sum-of-products form:\n",
    "\n",
    "$$Z \\in \\{W, D, T\\}$$\n",
    "\n",
    "$$dZ = \\sum_{i = 1}^{N_P} D_i \\cdot \\left[ S_i \\cdot \\prod_{j = 1}^{N_F^i} F_{i, j} \\right]$$\n",
    "\n",
    "The learning rule consists in a _sum_ of $N_P$ _products_. Each $i$'th product is composed of a dependency operator $D_i$, a scaling factor $S_i$ and a sub-product of $N_F^i$ factors with $F_{i, j}$ denoting the $j$'th factor of the current product.\n",
    "\n",
    "#### Dependencies\n",
    "Each product is associated with a _dependency_ operator $D_i$ that conditions the evaluation of a product on the presence of a pre- or post-synaptic spike during the past epoch or evaluates a product unconditionally every other epoch. $D_i$ also determines at what time step during an epoch, all trace variables in the associated product are evaluated. The table below lists the various dependency operators and their behavior:\n",
    "\n",
    "| Dependency | $t_{eval}$ | Description |\n",
    "| :- | :- | :- |\n",
    "| $x_0$ | $t_x$ | Conditioned on at least one pre-synaptic spike during epoch. |\n",
    "| $y_0$ | $t_y$ | Conditioned on at least one post-synaptic spike during epoch. |\n",
    "| $u_{\\kappa}$ | $t_{epoch}$ | Unconditionally executed every $\\kappa \\cdot t_{epoch}$ time steps. |\n",
    "\n",
    "#### Scaling factors\n",
    "Each product is also associated with a _scaling factor_ (constant literal) that is given in mantissa/exponent form :\n",
    "\n",
    "$$S_i = S_i^{mant} \\cdot 2^{S_i^{exp}}$$\n",
    "\n",
    "#### Factors\n",
    "Furthermore, Loihi provides a set of locally available quantities which can be used in learning rule to derive synaptic variable updates. The table below lists the various types of variables whose value $F_{i, j}$ can assume:\n",
    "\n",
    "| Factor | Description |\n",
    "| :- | :- |\n",
    "| $$x_0 + C$$ | Pre-synaptic spike. |\n",
    "| $$x_1(t_{eval}) + C$$ | Pre-synaptic trace $x_1$. |\n",
    "| $$x_2(t_{eval}) + C$$ | Pre-synaptic trace $x_2$. |\n",
    "| $$y_0 + C$$ | Post-synaptic spike. |\n",
    "| $$y_1(t_{eval}) + C$$ | Post-synaptic trace $y_1$. |\n",
    "| $$y_2(t_{eval}) + C$$ | Post-synaptic trace $y_2$. |\n",
    "| $$y_3(t_{eval}) + C$$ | Post-synaptic trace $y_3$. |\n",
    "| $$W + C$$ | Weight synaptic variable $W$. |\n",
    "| $$D + C$$ | Delay synaptic variable $D$. |\n",
    "| $$T + C$$ | Tag synaptic variable $T$. |\n",
    "| $$sgn(W + C)$$ | Sign of $W$. |\n",
    "| $$sgn(D + C)$$ | Sign of $D$. |\n",
    "| $$sgn(T + C)$$ | Sign of $T$. |\n",
    "| $$C$$ | Constant term _(variant 1)_. |\n",
    "| $$C^{mant} \\cdot 2^{C^{exp}}$$ | Constant term _(variant 2)_. |\n",
    "\n",
    "#### Traces\n",
    "Traces are low-pass filtered versions of spike train that are typically used in online implementations of [Spike-Timing Dependent Plasticity (STDP)](http://www.scholarpedia.org/article/Spike-timing_dependent_plasticity \"Spike-Timing Dependent Plasticity\"). For each synapse, Loihi provides a set of **2 pre-synaptic traces** $\\{x_1, x_2\\}$ and **3 post-synaptic traces** $\\{y_1, y_2, y_3\\}$. The dynamics of an ideal spike trace is given by :\n",
    "\n",
    "$$z \\in \\{x_1, x_2, y_1, y_2, y_3\\}$$\n",
    "\n",
    "$$z(t) = z(t_{k-1}) \\cdot exp(- \\frac{t-t_{k-1}}{\\tau^z}) + \\xi^z \\cdot \\delta^{z}(t - t_k)$$\n",
    "\n",
    "Here, the set $\\{t_k\\}$ are successive spike times at which the trace accumulates the spike impulse value $\\xi^{z}$ while $\\tau^z$ governs the speed of exponential decay between spike events. Finally, $\\delta^z$ denotes the raw spike train associated with the trace $z$.\n",
    "\n",
    "#### Example: Basic pair-based STDP\n",
    "\n",
    "$$dW = S_1 \\cdot x_0 \\cdot y_1 + S_2 \\cdot y_0 \\cdot x_1$$\n",
    "\n",
    "where $S_1 < 0$ and $S_2 > 0$."
   ]
  },
  {
   "cell_type": "markdown",
   "metadata": {
    "pycharm": {
     "name": "#%% md\n"
    }
   },
   "source": [
    "### Create custom learning rule\n"
   ]
  },
  {
   "cell_type": "markdown",
   "metadata": {
    "pycharm": {
     "name": "#%% md\n"
    },
    "tags": []
   },
   "source": [
    "#### Instantiating LearningRule\n",
    "\n",
    "Next, we define a learning rule ($dw$) for the _weight_ synaptic variable. The learning rule is first written in string format and passed to the LearningRule object as instantiation argument. This string learning rule will get internally parsed, transformed into and stored as a _ProductSeries_, which is a custom data structure that is particularly well-suited for sum-of-products representation.\n",
    "\n",
    "Here, we use the basic pair-based STDP learning rule defined by :\n",
    "\n",
    "$$dw = -2 \\cdot x_0 \\cdot y_1 + 2 \\cdot y_0 \\cdot x_1$$\n",
    "\n",
    "### Parameters"
   ]
  },
  {
   "cell_type": "markdown",
   "metadata": {
    "pycharm": {
     "name": "#%% md\n"
    }
   },
   "source": [
    "As a reminder, the main function of the LearningRule object is not only to encapsulate learning rules, but also other learning-related such as trace impulse values and decay constants for all of the traces as well as the length of the learning epoch. The following table lists the different fields of the LearningRule class:\n",
    "\n",
    "| Field | Python type | Description |\n",
    "| :- | :- | :- |\n",
    "| `dw` | ProductSeries | Learning rule targetting the synaptic variable $W$. |\n",
    "| `dd` | ProductSeries | Learning rule targetting the synaptic variable $D$. |\n",
    "| `dt` | ProductSeries | Learning rule targetting the synaptic variable $T$. |\n",
    "| `x1_impulse` | float | Trace impulse value associated with $x_1$ trace. |\n",
    "| `x1_tau` | int | Trace decay constant associated with $x_1$ trace. |\n",
    "| `x2_impulse` | float | Trace impulse value associated with $x_2$ trace. |\n",
    "| `x2_tau` | int | Trace decay constant associated with $x_2$ trace. |\n",
    "| `y1_impulse` | float | Trace impulse value associated with $y_1$ trace. |\n",
    "| `y1_tau` | int | Trace decay constant associated with $y_1$ trace. |\n",
    "| `y2_impulse` | float | Trace impulse value associated with $y_2$ trace. |\n",
    "| `y2_tau` | int | Trace decay constant associated with $y_2$ trace. |\n",
    "| `y3_impulse` | float | Trace impulse value associated with $y_3$ trace. |\n",
    "| `y3_tau` | int | Trace decay constant associated with $y_3$ trace. |\n",
    "| `t_epoch` | int | Learning epoch length. |"
   ]
  },
  {
   "cell_type": "code",
   "execution_count": 1,
   "metadata": {
    "pycharm": {
     "name": "#%%\n"
    }
   },
   "outputs": [],
   "source": [
    "from lava.magma.core.learning.learning_rule import Loihi2FLearningRule\n",
    "\n",
    "# Learning rule coefficient\n",
    "on_pre_stdp = -2\n",
    "on_post_stdp = 2\n",
    "\n",
    "learning_rate = 1\n",
    "\n",
    "# Trace decay constants\n",
    "x1_tau = 10\n",
    "y1_tau = 10\n",
    "\n",
    "# Impulses\n",
    "x1_impulse = 16\n",
    "y1_impulse = 16\n",
    "\n",
    "# Epoch length\n",
    "t_epoch = 2\n",
    "\n",
    "# Define dw as string\n",
    "dw = f\"{learning_rate} * ({on_pre_stdp}) * x0 * y1 +\" \\\n",
    "     f\"{learning_rate} * {on_post_stdp} * y0 * x1\""
   ]
  },
  {
   "cell_type": "code",
   "execution_count": 2,
   "metadata": {
    "pycharm": {
     "name": "#%%\n"
    }
   },
   "outputs": [],
   "source": [
    "# Create custom LearningRule\n",
    "stdp = Loihi2FLearningRule(dw=dw,\n",
    "                           x1_impulse=x1_impulse,\n",
    "                           x1_tau=x1_tau,\n",
    "                           y1_impulse=y1_impulse,\n",
    "                           y1_tau=y1_tau,\n",
    "                           t_epoch=t_epoch)"
   ]
  },
  {
   "cell_type": "markdown",
   "metadata": {},
   "source": [
    "### Network parameters"
   ]
  },
  {
   "cell_type": "code",
   "execution_count": 3,
   "metadata": {
    "pycharm": {
     "name": "#%%\n"
    }
   },
   "outputs": [],
   "source": [
    "import numpy as np\n",
    "\n",
    "# Set this tag to \"fixed_pt\" or \"floating_pt\" to choose the corresponding models.\n",
    "SELECT_TAG = \"fixed_pt\"\n",
    "\n",
    "# LIF parameters\n",
    "if SELECT_TAG == \"fixed_pt\":\n",
    "    du = 4095\n",
    "    dv = 4095\n",
    "elif SELECT_TAG == \"floating_pt\":\n",
    "    du = 1\n",
    "    dv = 1\n",
    "vth = 240\n",
    "\n",
    "# Number of neurons per layer\n",
    "num_neurons = 1\n",
    "shape_lif = (num_neurons, )\n",
    "shape_conn = (num_neurons, num_neurons)\n",
    "\n",
    "# Connection parameters\n",
    "\n",
    "# SpikePattern -> LIF connection weight\n",
    "wgt_inp = np.eye(num_neurons) * 250\n",
    "\n",
    "# LIF -> LIF connection initial weight (learning-enabled)\n",
    "wgt_plast_conn = np.full(shape_conn, 50)\n",
    "    \n",
    "# Number of simulation time steps\n",
    "num_steps = 200\n",
    "time = list(range(1, num_steps + 1))\n",
    "\n",
    "# Spike times\n",
    "spike_prob = 0.03\n",
    "\n",
    "# Create spike rasters\n",
    "np.random.seed(123)\n",
    "spike_raster_pre = np.zeros((num_neurons, num_steps))\n",
    "np.place(spike_raster_pre, np.random.rand(num_neurons, num_steps) < spike_prob, 1)\n",
    "\n",
    "spike_raster_post = np.zeros((num_neurons, num_steps))\n",
    "np.place(spike_raster_post, np.random.rand(num_neurons, num_steps) < spike_prob, 1)"
   ]
  },
  {
   "cell_type": "markdown",
   "metadata": {
    "pycharm": {
     "name": "#%% md\n"
    }
   },
   "source": [
    "### Create Network\n",
    "The following diagram depics the Lava Process architecture used in this tutorial. It consists of:\n",
    "- 2 Constant pattern generators for injection spike trains to LIF neurons.\n",
    "- 2 _LIF_ Processes representing pre- and post-synaptic Leaky Integrate-and-Fire neurons.\n",
    "- 1 _Dense_ Process representing learning-enable connection between LIF neurons.\n",
    "\n",
    ">**Note:** \n",
    "All neuronal population (spike generator, LIF) are composed of only 1 neuron in this tutorial."
   ]
  },
  {
   "cell_type": "markdown",
   "metadata": {
    "pycharm": {
     "name": "#%% md\n"
    }
   },
   "source": [
    "<img src=\"https://raw.githubusercontent.com/lava-nc/lava-docs/main/_static/images/tutorial_learning/learning_tutorial_architecture.svg\" alt=\"Architecture.svg\" style=\"width: 70%;\"/>"
   ]
  },
  {
   "cell_type": "markdown",
   "metadata": {
    "pycharm": {
     "name": "#%% md\n"
    }
   },
   "source": [
    "#### The plastic connection Process\n",
    "We now instantiate our plastic Dense process. The Dense Process provides the following Vars and Ports relevant for plasticity:\n",
    "\n",
    "| Component | Name | Description |\n",
    "| :- | :- | :- |\n",
    "| **InPort** | `s_in_bap` | Receives spikes from post-synaptic neurons.\n",
    "| **Var** | `tag_2` | Delay synaptic variable.\n",
    "|         | `tag_1` | Tag synaptic variable.\n",
    "|         | `x0` | State of $x_0$ dependency.\n",
    "|         | `tx` | Within-epoch spike times of pre-synaptic neurons.\n",
    "|         | `x1` | State of $x_1$ trace.\n",
    "|         | `x2` | State of $x_2$ trace.\n",
    "|         | `y0` | State of $y_0$ dependency.\n",
    "|         | `ty` | Within-epoch spike times of post-synaptic neurons.\n",
    "|         | `y1` | State of $y_1$ trace.\n",
    "|         | `y2` | State of $y_2$ trace.\n",
    "|         | `y3` | State of $y_3$ trace.\n",
    "\n"
   ]
  },
  {
   "cell_type": "code",
   "execution_count": 4,
   "metadata": {
    "pycharm": {
     "name": "#%%\n"
    },
    "tags": []
   },
   "outputs": [],
   "source": [
    "from lava.proc.lif.process import LIF\n",
    "from lava.proc.io.source import RingBuffer\n",
    "from lava.proc.dense.process import LearningDense, Dense"
   ]
  },
  {
   "cell_type": "code",
   "execution_count": 5,
   "metadata": {
    "pycharm": {
     "name": "#%%\n"
    }
   },
   "outputs": [],
   "source": [
    "# Create input devices\n",
    "pattern_pre = RingBuffer(data=spike_raster_pre.astype(int))\n",
    "pattern_post = RingBuffer(data=spike_raster_post.astype(int))\n",
    "\n",
    "# Create input connectivity\n",
    "conn_inp_pre = Dense(weights=wgt_inp)\n",
    "conn_inp_post = Dense(weights=wgt_inp)\n",
    "\n",
    "# Create pre-synaptic neurons\n",
    "lif_pre = LIF(u=0,\n",
    "              v=0,\n",
    "              du=du,\n",
    "              dv=du,\n",
    "              bias_mant=0,\n",
    "              bias_exp=0,\n",
    "              vth=vth,\n",
    "              shape=shape_lif,\n",
    "              name='lif_pre')\n",
    "\n",
    "# Create plastic connection\n",
    "plast_conn = LearningDense(weights=wgt_plast_conn,\n",
    "                           learning_rule=stdp,\n",
    "                           name='plastic_dense')\n",
    "\n",
    "# Create post-synaptic neuron\n",
    "lif_post = LIF(u=0,\n",
    "               v=0,\n",
    "               du=du,\n",
    "               dv=du,\n",
    "               bias_mant=0,\n",
    "               bias_exp=0,\n",
    "               vth=vth,\n",
    "               shape=shape_lif,\n",
    "               name='lif_post')\n",
    "\n",
    "# Connect network\n",
    "pattern_pre.s_out.connect(conn_inp_pre.s_in)\n",
    "conn_inp_pre.a_out.connect(lif_pre.a_in)\n",
    "\n",
    "pattern_post.s_out.connect(conn_inp_post.s_in)\n",
    "conn_inp_post.a_out.connect(lif_post.a_in)\n",
    "\n",
    "lif_pre.s_out.connect(plast_conn.s_in)\n",
    "plast_conn.a_out.connect(lif_post.a_in)\n",
    "\n",
    "# Connect back-propagating actionpotential (BAP)\n",
    "lif_post.s_out.connect(plast_conn.s_in_bap)"
   ]
  },
  {
   "cell_type": "markdown",
   "metadata": {
    "pycharm": {
     "name": "#%% md\n"
    }
   },
   "source": [
    "### Create monitors to observe traces"
   ]
  },
  {
   "cell_type": "code",
   "execution_count": 6,
   "metadata": {
    "pycharm": {
     "name": "#%%\n"
    },
    "tags": []
   },
   "outputs": [],
   "source": [
    "from lava.proc.monitor.process import Monitor"
   ]
  },
  {
   "cell_type": "code",
   "execution_count": 7,
   "metadata": {
    "pycharm": {
     "name": "#%%\n"
    },
    "tags": []
   },
   "outputs": [],
   "source": [
    "# Create monitors\n",
    "mon_pre_trace = Monitor()\n",
    "mon_post_trace = Monitor()\n",
    "mon_pre_spikes = Monitor()\n",
    "mon_post_spikes = Monitor()\n",
    "mon_weight = Monitor()\n",
    "\n",
    "# Connect monitors\n",
    "mon_pre_trace.probe(plast_conn.x1, num_steps)\n",
    "mon_post_trace.probe(plast_conn.y1, num_steps)\n",
    "mon_pre_spikes.probe(lif_pre.s_out, num_steps)\n",
    "mon_post_spikes.probe(lif_post.s_out, num_steps)\n",
    "mon_weight.probe(plast_conn.weights, num_steps)"
   ]
  },
  {
   "cell_type": "markdown",
   "metadata": {
    "pycharm": {
     "name": "#%% md\n"
    },
    "tags": []
   },
   "source": [
    "### Running"
   ]
  },
  {
   "cell_type": "code",
   "execution_count": 8,
   "metadata": {
    "pycharm": {
     "name": "#%%\n"
    }
   },
   "outputs": [],
   "source": [
    "from lava.magma.core.run_conditions import RunSteps\n",
    "from lava.magma.core.run_configs import Loihi2SimCfg"
   ]
  },
  {
   "cell_type": "code",
   "execution_count": 9,
   "metadata": {
    "pycharm": {
     "name": "#%%\n"
    }
   },
   "outputs": [],
   "source": [
    "# Running\n",
    "pattern_pre.run(condition=RunSteps(num_steps=num_steps), run_cfg=Loihi2SimCfg(select_tag=SELECT_TAG))"
   ]
  },
  {
   "cell_type": "code",
   "execution_count": 10,
   "metadata": {
    "pycharm": {
     "name": "#%%\n"
    }
   },
   "outputs": [],
   "source": [
    "# Get data from monitors\n",
    "pre_trace = mon_pre_trace.get_data()['plastic_dense']['x1']\n",
    "post_trace = mon_post_trace.get_data()['plastic_dense']['y1']\n",
    "pre_spikes = mon_pre_spikes.get_data()['lif_pre']['s_out']\n",
    "post_spikes = mon_post_spikes.get_data()['lif_post']['s_out']\n",
    "weights = mon_weight.get_data()['plastic_dense']['weights'][:, :, 0]"
   ]
  },
  {
   "cell_type": "code",
   "execution_count": 11,
   "metadata": {
    "pycharm": {
     "name": "#%%\n"
    }
   },
   "outputs": [],
   "source": [
    "# Stopping\n",
    "pattern_pre.stop()"
   ]
  },
  {
   "cell_type": "markdown",
   "metadata": {
    "pycharm": {
     "name": "#%% md\n"
    }
   },
   "source": [
    "### Results\n",
    "\n",
    "Now, we can take a look at the results of the simulation. "
   ]
  },
  {
   "cell_type": "code",
   "execution_count": 12,
   "metadata": {
    "pycharm": {
     "name": "#%%\n"
    },
    "tags": []
   },
   "outputs": [],
   "source": [
    "import matplotlib.pyplot as plt"
   ]
  },
  {
   "cell_type": "markdown",
   "metadata": {
    "pycharm": {
     "name": "#%% md\n"
    }
   },
   "source": [
    "#### Plot spike trains"
   ]
  },
  {
   "cell_type": "code",
   "execution_count": 13,
   "metadata": {
    "pycharm": {
     "name": "#%%\n"
    }
   },
   "outputs": [
    {
     "data": {
      "image/png": "[encoded data removed]",
      "text/plain": [
       "<Figure size 1000x300 with 1 Axes>"
      ]
     },
     "metadata": {},
     "output_type": "display_data"
    }
   ],
   "source": [
    "# Plotting pre- and post- spike arrival\n",
    "def plot_spikes(spikes, legend, colors):\n",
    "    offsets = list(range(1, len(spikes) + 1))\n",
    "    \n",
    "    plt.figure(figsize=(10, 3))\n",
    "    \n",
    "    spikes_plot = plt.eventplot(positions=spikes, \n",
    "                                lineoffsets=offsets,\n",
    "                                linelength=0.9,\n",
    "                                colors=colors)\n",
    "    \n",
    "    plt.title(\"Spike arrival\")\n",
    "    plt.xlabel(\"Time steps\")\n",
    "    plt.ylabel(\"Neurons\")\n",
    "    plt.yticks(ticks=offsets, labels=legend)\n",
    "    \n",
    "    plt.show()\n",
    "\n",
    "# Plot spikes\n",
    "plot_spikes(spikes=[np.where(post_spikes[:, 0])[0], np.where(pre_spikes[:, 0])[0]], \n",
    "            legend=['Post', 'Pre'], \n",
    "            colors=['#370665', '#f14a16'])"
   ]
  },
  {
   "cell_type": "markdown",
   "metadata": {
    "pycharm": {
     "name": "#%% md\n"
    }
   },
   "source": [
    "#### Plot traces"
   ]
  },
  {
   "cell_type": "code",
   "execution_count": 14,
   "metadata": {
    "pycharm": {
     "name": "#%%\n"
    }
   },
   "outputs": [
    {
     "data": {
      "image/png": "[encoded data removed]",
      "text/plain": [
       "<Figure size 1000x100 with 1 Axes>"
      ]
     },
     "metadata": {},
     "output_type": "display_data"
    },
    {
     "data": {
      "image/png": "[encoded data removed]",
      "text/plain": [
       "<Figure size 1000x100 with 1 Axes>"
      ]
     },
     "metadata": {},
     "output_type": "display_data"
    },
    {
     "data": {
      "image/png": "[encoded data removed]",
      "text/plain": [
       "<Figure size 1000x100 with 1 Axes>"
      ]
     },
     "metadata": {},
     "output_type": "display_data"
    }
   ],
   "source": [
    "# Plotting trace dynamics\n",
    "    \n",
    "def plot_time_series(time, time_series, ylabel, title):\n",
    "    plt.figure(figsize=(10, 1))\n",
    "    \n",
    "    plt.step(time, time_series)\n",
    "    \n",
    "    plt.title(title)\n",
    "    plt.xlabel(\"Time steps\")\n",
    "    plt.ylabel(ylabel)\n",
    "    \n",
    "    plt.show()\n",
    "    \n",
    "# Plotting pre trace dynamics\n",
    "plot_time_series(time=time, time_series=pre_trace, ylabel=\"Trace value\", title=\"Pre trace\")\n",
    "# Plotting post trace dynamics\n",
    "plot_time_series(time=time, time_series=post_trace, ylabel=\"Trace value\", title=\"Post trace\")\n",
    "# Plotting weight dynamics\n",
    "plot_time_series(time=time, time_series=weights, ylabel=\"Weight value\", title=\"Weight dynamics\")"
   ]
  },
  {
   "cell_type": "markdown",
   "metadata": {
    "pycharm": {
     "name": "#%% md\n"
    }
   },
   "source": [
    "#### Plot STDP learning window and weight changes"
   ]
  },
  {
   "cell_type": "code",
   "execution_count": 15,
   "metadata": {
    "pycharm": {
     "name": "#%%\n"
    }
   },
   "outputs": [
    {
     "data": {
      "image/png": "[encoded data removed]",
      "text/plain": [
       "<Figure size 1000x500 with 1 Axes>"
      ]
     },
     "metadata": {},
     "output_type": "display_data"
    }
   ],
   "source": [
    "def extract_stdp_weight_changes(time, spikes_pre, spikes_post, wgt):\n",
    "    # Compute the weight changes for every weight change event\n",
    "    w_diff = np.zeros(wgt.shape)\n",
    "    w_diff[1:] = np.diff(wgt)\n",
    "\n",
    "    w_diff_non_zero = np.where(w_diff != 0)\n",
    "    dw = w_diff[w_diff_non_zero].tolist()\n",
    "\n",
    "    # Find the absolute time of every weight change event\n",
    "    time = np.array(time)\n",
    "    t_non_zero = time[w_diff_non_zero]\n",
    "\n",
    "    # Compute the difference between post and pre synaptic spike time for every weight change event\n",
    "    spikes_pre = np.array(spikes_pre)\n",
    "    spikes_post = np.array(spikes_post)\n",
    "    dt = []\n",
    "    for i in range(0, len(dw)):\n",
    "        time_stamp = t_non_zero[i]\n",
    "        t_post = (spikes_post[np.where(spikes_post <= time_stamp)])[-1]\n",
    "        t_pre = (spikes_pre[np.where(spikes_pre <= time_stamp)])[-1]\n",
    "        dt.append(t_post-t_pre)\n",
    "\n",
    "    return np.array(dt), np.array(dw)\n",
    "    \n",
    "def plot_stdp(time, spikes_pre, spikes_post, wgt, \n",
    "              on_pre_stdp, y1_impulse, y1_tau, \n",
    "              on_post_stdp, x1_impulse, x1_tau):\n",
    "    # Derive weight changes as a function of time differences\n",
    "    diff_t, diff_w = extract_stdp_weight_changes(time, spikes_pre, spikes_post, wgt)\n",
    "    \n",
    "    # Derive learning rule coefficients\n",
    "    on_pre_stdp = eval(str(on_pre_stdp).replace(\"^\", \"**\"))\n",
    "    a_neg = on_pre_stdp * y1_impulse\n",
    "    on_post_stdp = eval(str(on_post_stdp).replace(\"^\", \"**\"))\n",
    "    a_pos = on_post_stdp * x1_impulse\n",
    "    \n",
    "    # Derive x-axis limit (absolute value)\n",
    "    max_abs_dt = np.maximum(np.abs(np.max(diff_t)), np.abs(np.min(diff_t)))\n",
    "    \n",
    "    # Derive x-axis for learning window computation (negative part)\n",
    "    x_neg = np.linspace(-max_abs_dt, 0, 1000)\n",
    "    # Derive learning window (negative part)\n",
    "    w_neg = a_neg * np.exp(x_neg / y1_tau)\n",
    "    \n",
    "    # Derive x-axis for learning window computation (positive part)\n",
    "    x_pos = np.linspace(0, max_abs_dt, 1000)\n",
    "    # Derive learning window (positive part)\n",
    "    w_pos = a_pos * np.exp(- x_pos / x1_tau)\n",
    "    \n",
    "    plt.figure(figsize=(10, 5))\n",
    "    \n",
    "    plt.scatter(diff_t, diff_w, label=\"Weight changes\", color=\"b\")\n",
    "    \n",
    "    plt.plot(x_neg, w_neg, label=\"W-\", color=\"r\")\n",
    "    plt.plot(x_pos, w_pos, label=\"W+\", color=\"g\")\n",
    "    \n",
    "    plt.title(\"STDP weight changes - Learning window\")\n",
    "    plt.xlabel('t_post - t_pre')\n",
    "    plt.ylabel('Weight change')\n",
    "    plt.legend()\n",
    "    plt.grid()\n",
    "    \n",
    "    plt.show()\n",
    "\n",
    "# Plot STDP window\n",
    "plot_stdp(time, np.where(pre_spikes[:, 0]), np.where(post_spikes[:, 0]), weights[:, 0], \n",
    "          on_pre_stdp, stdp.y1_impulse, stdp.x1_tau, \n",
    "          on_post_stdp, stdp.x1_impulse, stdp.y1_tau)"
   ]
  },
  {
   "cell_type": "markdown",
   "metadata": {
    "pycharm": {
     "name": "#%% md\n"
    }
   },
   "source": [
    "### How to learn more?\n",
    "\n",
    "Find out how to use STDP from the Lava ProcessLibrary in the [STDP Tutorial](../../in_depth/tutorial09_custom_learning_rules.ipynb \"Tutorial on custom learning rules\").\n",
    "\n",
    "#### Follow the links below for deep-dive tutorials on the concepts in this tutorial:\n",
    "- [Processes](../../in_depth/tutorial02_processes.ipynb \"Tutorial on Processes\")\n",
    "- [ProcessModel](../../in_depth/tutorial03_process_models.ipynb \"Tutorial on ProcessModels\")\n",
    "- [Execution](../../in_depth/tutorial04_execution.ipynb \"Tutorial on Executing Processes\")\n",
    "- [Connecting Processes](../../in_depth/tutorial05_connect_processes.ipynb \"Tutorial on connecting Processes\")\n",
    "\n",
    "If you want to find out more about Lava, have a look at the [Lava documentation](https://lava-nc.org/ \"Lava Documentation\") or dive into the [source code](https://github.com/lava-nc/lava/ \"Lava Source Code\").\n",
    "\n",
    "To receive regular updates on the latest developments and releases of the Lava Software Framework please subscribe to the [INRC newsletter](http://eepurl.com/hJCyhb \"INRC Newsletter\")."
   ]
  }
 ],
 "metadata": {
  "kernelspec": {
   "display_name": "Python 3 (ipykernel)",
   "language": "python",
   "name": "python3"
  },
  "language_info": {
   "codemirror_mode": {
    "name": "ipython",
    "version": 3
   },
   "file_extension": ".py",
   "mimetype": "text/x-python",
   "name": "python",
   "nbconvert_exporter": "python",
   "pygments_lexer": "ipython3",
   "version": "3.8.10"
  }
 },
 "nbformat": 4,
 "nbformat_minor": 4
}
