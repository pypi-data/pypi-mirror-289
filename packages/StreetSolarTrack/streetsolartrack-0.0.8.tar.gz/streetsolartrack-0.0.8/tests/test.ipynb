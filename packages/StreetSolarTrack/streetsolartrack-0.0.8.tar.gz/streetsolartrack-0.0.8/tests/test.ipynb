{
 "cells": [
  {
   "cell_type": "code",
   "execution_count": null,
   "metadata": {},
   "outputs": [],
   "source": []
  },
  {
   "cell_type": "code",
   "execution_count": 10,
   "metadata": {},
   "outputs": [
    {
     "name": "stdout",
     "output_type": "stream",
     "text": [
      "Image R-C.jpg read successfully.\n",
      "Photo(file_path=R-C.jpg, size=(13312, 6656), file_size=5142592 bytes)\n",
      "Image size (width, height): (13312, 6656)\n",
      "File size (bytes): 5142592\n"
     ]
    }
   ],
   "source": [
    "import sys\n",
    "import os\n",
    "\n",
    "# 现在可以导入库了\n",
    "from StreetSolarTrack.utils.photo import Photo\n",
    "\n",
    "def main():\n",
    "    # 创建 Photo 实例并读取图像\n",
    "    photo = Photo('R-C.jpg')\n",
    "    print(photo)\n",
    "    \n",
    "    # 显示图像\n",
    "    # photo.show_image()\n",
    "\n",
    "    # 获取并打印图片大小\n",
    "    print(f\"Image size (width, height): {photo.get_image_size()}\")\n",
    "    \n",
    "    # 获取并打印文件大小\n",
    "    print(f\"File size (bytes): {photo.get_file_size()}\")\n",
    "\n",
    "if __name__ == \"__main__\":\n",
    "    main()\n"
   ]
  }
 ],
 "metadata": {
  "kernelspec": {
   "display_name": "base",
   "language": "python",
   "name": "python3"
  },
  "language_info": {
   "codemirror_mode": {
    "name": "ipython",
    "version": 3
   },
   "file_extension": ".py",
   "mimetype": "text/x-python",
   "name": "python",
   "nbconvert_exporter": "python",
   "pygments_lexer": "ipython3",
   "version": "3.8.18"
  }
 },
 "nbformat": 4,
 "nbformat_minor": 2
}
