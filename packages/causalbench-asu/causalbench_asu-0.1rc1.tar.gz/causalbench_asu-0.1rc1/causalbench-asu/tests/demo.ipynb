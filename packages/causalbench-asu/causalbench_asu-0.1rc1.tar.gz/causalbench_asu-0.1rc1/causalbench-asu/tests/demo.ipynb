{
 "cells": [
  {
   "cell_type": "markdown",
   "source": [
    "Import Causal Bench packages"
   ],
   "metadata": {
    "collapsed": false
   },
   "id": "83687961d1b83ccd"
  },
  {
   "cell_type": "code",
   "execution_count": 8,
   "id": "initial_id",
   "metadata": {
    "collapsed": true,
    "ExecuteTime": {
     "end_time": "2024-06-02T21:09:31.521279Z",
     "start_time": "2024-06-02T21:09:31.508511Z"
    }
   },
   "outputs": [],
   "source": [
    "from causalbench.modules import Dataset, Metric, Model, Pipeline, Run"
   ]
  },
  {
   "cell_type": "markdown",
   "source": [
    "Create and publish a dataset"
   ],
   "metadata": {
    "collapsed": false
   },
   "id": "3275f95b13356515"
  },
  {
   "cell_type": "code",
   "outputs": [
    {
     "name": "stderr",
     "output_type": "stream",
     "text": [
      "Dataset published: ID=53\n"
     ]
    }
   ],
   "source": [
    "dataset1: Dataset = Dataset(zip_file=\"data/abalone.zip\")\n",
    "dataset1.publish()"
   ],
   "metadata": {
    "collapsed": false,
    "ExecuteTime": {
     "end_time": "2024-06-02T21:09:34.319274Z",
     "start_time": "2024-06-02T21:09:31.879694Z"
    }
   },
   "id": "3ed71dd6ffaff1ec",
   "execution_count": 9
  },
  {
   "cell_type": "code",
   "outputs": [
    {
     "name": "stderr",
     "output_type": "stream",
     "text": [
      "Model published: ID=43\n"
     ]
    }
   ],
   "source": [
    "model1: Model = Model(zip_file='model/ges.zip')\n",
    "model1.publish()"
   ],
   "metadata": {
    "collapsed": false,
    "ExecuteTime": {
     "end_time": "2024-06-02T21:09:35.234514Z",
     "start_time": "2024-06-02T21:09:34.321497Z"
    }
   },
   "id": "f522cf8f175f2067",
   "execution_count": 10
  },
  {
   "cell_type": "markdown",
   "source": [
    "Create and publish a metric"
   ],
   "metadata": {
    "collapsed": false
   },
   "id": "ebbc20244147ff76"
  },
  {
   "cell_type": "code",
   "outputs": [
    {
     "name": "stderr",
     "output_type": "stream",
     "text": [
      "Metric published: ID=52\n"
     ]
    }
   ],
   "source": [
    "metric1: Metric = Metric(zip_file='metric/accuracy_static.zip')\n",
    "metric1.publish()"
   ],
   "metadata": {
    "collapsed": false,
    "ExecuteTime": {
     "end_time": "2024-06-02T21:09:36.120438Z",
     "start_time": "2024-06-02T21:09:35.237275Z"
    }
   },
   "id": "a32e9b9b6a0b6f37",
   "execution_count": 11
  },
  {
   "cell_type": "markdown",
   "source": [
    "Create and publish a scenario"
   ],
   "metadata": {
    "collapsed": false
   },
   "id": "7da746aa6b274028"
  },
  {
   "cell_type": "code",
   "outputs": [
    {
     "name": "stderr",
     "output_type": "stream",
     "text": [
      "Pipeline published: ID=50\n"
     ]
    }
   ],
   "source": [
    "scenario1: Pipeline = Pipeline.create(name='scenario1',\n",
    "                                description='Pipeline to evaluate GES algorithm on Abalone dataset',\n",
    "                                task='discovery.static',\n",
    "                                dataset=dataset1,\n",
    "                                model=(model1, {'data': 'file1'}),\n",
    "                                metrics=[(metric1, {'ground_truth': 'file2'})])\n",
    "scenario1.publish()"
   ],
   "metadata": {
    "collapsed": false,
    "ExecuteTime": {
     "end_time": "2024-06-02T21:09:36.959098Z",
     "start_time": "2024-06-02T21:09:36.124575Z"
    }
   },
   "id": "793ef0bc8d49a6ab",
   "execution_count": 12
  },
  {
   "cell_type": "markdown",
   "source": [
    "Execute the scenario and print the run"
   ],
   "metadata": {
    "collapsed": false
   },
   "id": "e4b2743d38dcc019"
  },
  {
   "cell_type": "code",
   "outputs": [
    {
     "name": "stdout",
     "output_type": "stream",
     "text": [
      "--------------------------------------------------------------------------------\n",
      "Task: discovery.static\n",
      "Dataset: abalone\n",
      "Model: ges\n",
      "\n",
      "Metrics:\n",
      "    accuracy_static: 0.6049382716049383\n",
      "--------------------------------------------------------------------------------\n"
     ]
    }
   ],
   "source": [
    "run1: Run = scenario1.execute()\n",
    "print(run1)"
   ],
   "metadata": {
    "collapsed": false,
    "ExecuteTime": {
     "end_time": "2024-06-02T21:09:48.641941Z",
     "start_time": "2024-06-02T21:09:36.963264Z"
    }
   },
   "id": "53ec4b911939bf3c",
   "execution_count": 13
  },
  {
   "cell_type": "markdown",
   "source": [
    "Publish the run"
   ],
   "metadata": {
    "collapsed": false
   },
   "id": "819ec237162c6502"
  },
  {
   "cell_type": "code",
   "outputs": [
    {
     "name": "stderr",
     "output_type": "stream",
     "text": [
      "Run published: ID=29\n"
     ]
    }
   ],
   "source": [
    "run1.publish()"
   ],
   "metadata": {
    "collapsed": false,
    "ExecuteTime": {
     "end_time": "2024-06-02T21:09:52.542934Z",
     "start_time": "2024-06-02T21:09:48.644604Z"
    }
   },
   "id": "549f16792d4c7a90",
   "execution_count": 14
  },
  {
   "cell_type": "code",
   "outputs": [],
   "source": [],
   "metadata": {
    "collapsed": false
   },
   "id": "be5824f1ea9f2d91"
  }
 ],
 "metadata": {
  "kernelspec": {
   "display_name": "Python 3",
   "language": "python",
   "name": "python3"
  },
  "language_info": {
   "codemirror_mode": {
    "name": "ipython",
    "version": 2
   },
   "file_extension": ".py",
   "mimetype": "text/x-python",
   "name": "python",
   "nbconvert_exporter": "python",
   "pygments_lexer": "ipython2",
   "version": "2.7.6"
  }
 },
 "nbformat": 4,
 "nbformat_minor": 5
}
