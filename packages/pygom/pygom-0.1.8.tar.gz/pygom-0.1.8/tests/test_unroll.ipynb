{
 "cells": [
  {
   "cell_type": "code",
   "execution_count": null,
   "metadata": {},
   "outputs": [],
   "source": [
    "from pygom import SimulateOde, Transition, TransitionType\n",
    "from pygom.model import _ode_composition, ode_utils, _model_verification\n",
    "\n",
    "odeList = [\n",
    "    Transition(transition_type=TransitionType.ODE, origin='S', equation='-beta*S*I/(S+I+R) + B*(S+I+R) - mu*S+G'),\n",
    "    Transition(transition_type=TransitionType.ODE, origin='I', equation='beta*S*I/(S+I+R) - gamma*I - mu*I'),\n",
    "    Transition(transition_type=TransitionType.ODE, origin='R', equation='gamma*I*p - mu*R'),\n",
    "    Transition(transition_type=TransitionType.ODE, origin='D', equation='gamma*I*(1-p)') \n",
    "]\n",
    "\n",
    "stateList = ['S', 'I', 'R']\n",
    "paramList = ['beta', 'gamma', 'B', 'mu', 'G', 'p']\n",
    "\n",
    "model = SimulateOde(state=stateList, param=paramList, ode=odeList)\n",
    "A=model._get_A()"
   ]
  },
  {
   "cell_type": "code",
   "execution_count": null,
   "metadata": {},
   "outputs": [],
   "source": [
    "bdList, _term = _ode_composition.getUnmatchedExpressionVector(A, True)"
   ]
  },
  {
   "cell_type": "code",
   "execution_count": null,
   "metadata": {},
   "outputs": [],
   "source": [
    "map(_ode_composition.getExpressions, A)"
   ]
  },
  {
   "cell_type": "code",
   "execution_count": null,
   "metadata": {},
   "outputs": [],
   "source": [
    "from functools import reduce\n",
    "\n",
    "print(A)\n",
    "transition = reduce(lambda x, y: x + y, map(_ode_composition.getExpressions, A))\n",
    "print(transition)\n"
   ]
  },
  {
   "cell_type": "code",
   "execution_count": null,
   "metadata": {},
   "outputs": [],
   "source": [
    "def _getBasis(expr):\n",
    "    \"\"\"\n",
    "    Given an expression, find the constituent terms.\n",
    "    e.g. expr=a+b*(c-d) returns [a, b*c, -b*d]\n",
    "\n",
    "    Parameters\n",
    "    ----------\n",
    "    expr: sympy type\n",
    "        An algebraic expression\n",
    "\n",
    "    Returns\n",
    "    -------\n",
    "    list:\n",
    "        Each element being a term of the expression\n",
    "    \"\"\"\n",
    "    args=expr.expand().args\n",
    "\n",
    "    #print(args)\n",
    "\n",
    "    for i in range(0, len(args)-1, 1):\n",
    "        for j in range(i+1, len(args), 1):\n",
    "            j=j\n",
    "            #print(args[i]/args[j])\n",
    "\n",
    "    return args\n",
    "\n",
    "x=_getBasis(A[3])\n",
    "\n",
    "import sympy\n",
    "print(x[0])\n",
    "g, I=sympy.symbols('gamma, I')\n",
    "print(g)\n",
    "(g+2).has(g)\n"
   ]
  },
  {
   "cell_type": "code",
   "execution_count": null,
   "metadata": {},
   "outputs": [],
   "source": [
    "# Find basis functions\n",
    "\n",
    "# x1, x2, x3, x4, x5\n",
    "\n",
    "# Coefficients in each equation\n",
    "\n",
    "# (a1, a2, a3, a4, a5)\n",
    "# (b1, b2, b3, b4, b5)\n",
    "# (c1, c2, c3, c4, c5)\n",
    "\n",
    "sympy.Symbol('G') in A[0].atoms(sympy.Symbol)"
   ]
  },
  {
   "cell_type": "code",
   "execution_count": null,
   "metadata": {},
   "outputs": [],
   "source": [
    "import sympy\n",
    "x = sympy.Symbol('x')\n",
    "y = sympy.Symbol('y')\n",
    "a = [4 + x**2 + y, 4 + y**2]\n",
    "\n",
    "x in a[0].free_symbols"
   ]
  },
  {
   "cell_type": "code",
   "execution_count": null,
   "metadata": {},
   "outputs": [],
   "source": [
    "param=\"hello there,how are, you\"\n",
    "\n",
    "import re\n",
    "\n",
    "re_split_string = re.compile(r',|\\s')  # split string into list at commas or spaces.\n",
    "\n",
    "print(param)\n",
    "if param is not None:\n",
    "    if isinstance(param, str):\n",
    "        param = re_split_string.split(param)\n",
    "        print(param)\n",
    "        param = filter(lambda x: not len(x.strip()) == 0, param)\n",
    "    param_list = list(param)\n",
    "\n",
    "print(param_list)\n",
    "\n"
   ]
  },
  {
   "cell_type": "code",
   "execution_count": 16,
   "metadata": {},
   "outputs": [
    {
     "data": {
      "text/plain": [
       "[('beta', 1), ('alpha', 1), ('gamma', 1)]"
      ]
     },
     "execution_count": 16,
     "metadata": {},
     "output_type": "execute_result"
    }
   ],
   "source": [
    "import re\n",
    "re_split_string = re.compile(r',|\\s')\n",
    "\n",
    "class Pets:\n",
    "    def __init__(self, param):\n",
    "        self.param=param\n",
    "        self._add_list_attr(\"param\")\n",
    "\n",
    "    def _add_list_attr(self, attr_name):\n",
    "        \"\"\"\n",
    "        Given an attribute (name attr_name), which is a string of comma\n",
    "        or space separated values, create a new attribute (name attr_name_list)\n",
    "        which is a list of those separated values.\n",
    "        e.g. \"a,b,c d ef\" returns [a, b, c, d, ef]\n",
    "        \"\"\"\n",
    "        attr=self.__getattribute__(attr_name)\n",
    "        if attr is not None:\n",
    "            if isinstance(attr, str):\n",
    "                attr = re_split_string.split(attr)\n",
    "                attr = filter(lambda x: not len(x.strip()) == 0, attr)\n",
    "            self.__setattr__(\"_\".join([attr_name, \"list\"]), list(attr))\n",
    "\n",
    "params=[('beta', 1), ('alpha', 1), ('gamma', 1)]\n",
    "\n",
    "x=Pets(params)\n",
    "\n",
    "x.param_list"
   ]
  },
  {
   "cell_type": "code",
   "execution_count": 4,
   "metadata": {},
   "outputs": [
    {
     "data": {
      "text/plain": [
       "'dog, cat, bird'"
      ]
     },
     "execution_count": 4,
     "metadata": {},
     "output_type": "execute_result"
    }
   ],
   "source": [
    "mypets.animals"
   ]
  },
  {
   "cell_type": "code",
   "execution_count": 5,
   "metadata": {},
   "outputs": [
    {
     "data": {
      "text/plain": [
       "['dog', 'cat', 'bird']"
      ]
     },
     "execution_count": 5,
     "metadata": {},
     "output_type": "execute_result"
    }
   ],
   "source": [
    "mypets.animals__list"
   ]
  }
 ],
 "metadata": {
  "kernelspec": {
   "display_name": "pygom_development",
   "language": "python",
   "name": "python3"
  },
  "language_info": {
   "codemirror_mode": {
    "name": "ipython",
    "version": 3
   },
   "file_extension": ".py",
   "mimetype": "text/x-python",
   "name": "python",
   "nbconvert_exporter": "python",
   "pygments_lexer": "ipython3",
   "version": "3.9.19"
  }
 },
 "nbformat": 4,
 "nbformat_minor": 2
}
