{
 "cells": [
  {
   "cell_type": "markdown",
   "metadata": {},
   "source": [
    "# Robertson\n",
    "\n",
    "{func}`.Robertson` - the Robertson problem {cite}`Robertson1966`\n",
    "\n",
    "$$\\begin{aligned}\n",
    "\\frac{dy_{1}}{dt} &= -0.04 y_{1} + 1 \\cdot 10^{4} y_{2} y_{3} \\\\\n",
    "\\frac{dy_{2}}{dt} &= 0.04 y_{1} - 1 \\cdot 10^{4} y_{2} y_{3} + 3 \\cdot 10^{7} y_{2}^{2} \\\\\n",
    "\\frac{dy_{3}}{dt} &= 3 \\cdot 10^{7} y_{2}^{2}.\n",
    "\\end{aligned}$$\n",
    "\n",
    "This is a problem that describes an autocatalytic reaction. One of those\n",
    "commonly used to test stiff ODE solvers. As the parameters in the\n",
    "literature are fixed, we show here how to define the states in a slightly more compact format."
   ]
  },
  {
   "cell_type": "code",
   "execution_count": null,
   "id": "33e99698",
   "metadata": {},
   "outputs": [],
   "source": [
    "from pygom import DeterministicOde, Transition, TransitionType\n",
    "\n",
    "import numpy\n",
    "\n",
    "import matplotlib.pyplot as plt\n",
    "\n",
    "t = numpy.append(0, 4*numpy.logspace(-6, 6, 1000))\n",
    "\n",
    "# note how we define the states\n",
    "\n",
    "stateList = ['y1:4']\n",
    "\n",
    "paramList = []\n",
    "\n",
    "transitionList = [Transition(origin='y1', destination='y2', equation='0.04*y1', transition_type=TransitionType.T), \n",
    "                  Transition(origin='y2', destination='y1', equation='1e4*y2*y3', transition_type=TransitionType.T), \n",
    "                  Transition(origin='y2', destination='y3', equation='3e7*y2*y2', transition_type=TransitionType.T)\n",
    "                  ]\n",
    "\n",
    "ode = DeterministicOde(stateList, paramList, transition=transitionList)\n",
    "\n",
    "ode.initial_values = ([1.0, 0.0, 0.0], t[0])\n",
    "\n",
    "solution, output = ode.integrate(t[1::], full_output=True)\n",
    "\n",
    "f, axarr = plt.subplots(1, 3)\n",
    "\n",
    "for i in range(3):\n",
    "    axarr[i].plot(t, solution[:,i])\n",
    "    axarr[i].set_xscale('log')\n",
    "\n",
    "f.tight_layout();\n",
    "\n",
    "plt.show()\n"
   ]
  },
  {
   "cell_type": "markdown",
   "id": "ea988ab7",
   "metadata": {},
   "source": [
    "\n",
    "To simplify even further, we can use <span class=\"title-ref\">y</span>\n",
    "with the corresponding subscript directly instead of <span\n",
    "class=\"title-ref\">y1,y2,y3</span>. Again, we do not have any parameters\n",
    "as they are hard coded into our models.\n"
   ]
  },
  {
   "cell_type": "code",
   "execution_count": null,
   "id": "df7214d3",
   "metadata": {},
   "outputs": [],
   "source": [
    "stateList = ['y1:4']\n",
    "\n",
    "transitionList = [Transition(origin='y[0]', destination='y[1]', equation='0.04*y[0]', transition_type=TransitionType.T),\n",
    "                  Transition(origin='y[1]', destination='y[0]', equation='1e4*y[1]*y[2]', transition_type=TransitionType.T), \n",
    "                  Transition(origin='y[1]', destination='y[2]', equation='3e7*y[1]*y[1]', transition_type=TransitionType.T)\n",
    "                  ]\n",
    "\n",
    "ode = DeterministicOde(stateList, paramList, transition=transitionList)\n",
    "\n",
    "ode.initial_values =([1.0, 0.0, 0.0], t[0])\n",
    "\n",
    "solution2 = ode.integrate(t[1::])\n",
    "\n",
    "numpy.max(solution - solution2)\n",
    "\n"
   ]
  },
  {
   "cell_type": "markdown",
   "id": "d7604b73",
   "metadata": {},
   "source": [
    "and we have the identical solution as shown in the last line above."
   ]
  }
 ],
 "metadata": {
  "kernelspec": {
   "display_name": "Python 3.9.15 ('sphinx-doc')",
   "language": "python",
   "name": "python3"
  },
  "language_info": {
   "name": "python",
   "version": "3.9.15"
  },
  "vscode": {
   "interpreter": {
    "hash": "4dc1e323c80fe09539c74ad5c5a7c7d8d9ff99e04f7b3dbd3680daf878629d6e"
   }
  }
 },
 "nbformat": 4,
 "nbformat_minor": 5
}
