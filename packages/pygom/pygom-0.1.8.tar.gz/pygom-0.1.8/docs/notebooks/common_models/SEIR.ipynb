{
 "cells": [
  {
   "cell_type": "markdown",
   "metadata": {},
   "source": [
    "# SEIR\n",
    "{func}`.SEIR`\n",
    "\n",
    "A Susceptible-Exposed-Infectious-Recovered (SEIR) model is a more realistic extension of the standard SIR model in which individuals do not become instantly infectious upon exposure, but undergo an incubation period, the timescale of which is governed by the parameter, $\\alpha$:\n",
    "\n",
    "$$\\begin{aligned}\n",
    "\\frac{\\mathrm{d}S}{\\mathrm{d}t} &= - \\frac{\\beta SI}{N} \\\\\n",
    "\\frac{\\mathrm{d}E}{\\mathrm{d}t} &= \\frac{\\beta SI}{N} - \\alpha E \\\\\n",
    "\\frac{\\mathrm{d}I}{\\mathrm{d}t} &= \\alpha E - \\gamma I \\\\\n",
    "\\frac{\\mathrm{d}R}{\\mathrm{d}t} &= \\gamma I\n",
    "\\end{aligned}$$\n",
    "\n",
    "We use the flu-like parameters of the SIR model demonstration with an incubation period of 2 days."
   ]
  },
  {
   "cell_type": "code",
   "execution_count": null,
   "id": "bd15619d",
   "metadata": {},
   "outputs": [],
   "source": [
    "from pygom import common_models\n",
    "import matplotlib.pyplot as plt\n",
    "import numpy as np\n",
    "import random\n",
    "import math\n",
    "\n",
    "#####################\n",
    "# Set up PyGOM object\n",
    "#####################\n",
    "\n",
    "# Parameters\n",
    "n_pop=1e4\n",
    "gamma=1/4\n",
    "alpha=1/2\n",
    "R0=1.3\n",
    "beta=R0*gamma\n",
    "\n",
    "ode = common_models.SEIR({'beta':beta, 'gamma':gamma, 'alpha':alpha, 'N':n_pop})\n",
    "\n",
    "# Time range and increments\n",
    "tmax=365                              # maximum time over which to run solver\n",
    "dt=0.1                                # timestep\n",
    "n_timestep=math.ceil(tmax/dt)         # number of iterations\n",
    "t = np.linspace(0, tmax, n_timestep)  # times at which solution will be evaluated\n",
    "\n",
    "# Initial conditions\n",
    "i0=1\n",
    "x0=[n_pop-i0, 0, i0, 0]\n",
    "ode.initial_values = (x0, t[0])\n",
    "\n",
    "# Deterministic evolution\n",
    "solution=ode.solve_determ(t[1::])"
   ]
  },
  {
   "cell_type": "markdown",
   "id": "abe9b989",
   "metadata": {},
   "source": [
    "We also run an SIR model with the same parameters to compare the outputs"
   ]
  },
  {
   "cell_type": "code",
   "execution_count": null,
   "id": "282ebfbd",
   "metadata": {},
   "outputs": [],
   "source": [
    "ode = common_models.SIR({'beta':beta, 'gamma':gamma, 'N':n_pop})\n",
    "\n",
    "x0=[n_pop-i0, i0, 0]\n",
    "ode.initial_values = (x0, t[0])\n",
    "\n",
    "solution2=ode.solve_determ(t[1::])"
   ]
  },
  {
   "cell_type": "markdown",
   "id": "2fab3cb6",
   "metadata": {},
   "source": [
    "We see that the SEIR model changes the profile of the epidemic as compared with an SIR model, but the overall final sizes are the same."
   ]
  },
  {
   "cell_type": "code",
   "execution_count": null,
   "id": "0403f7c2",
   "metadata": {
    "tags": [
     "hide-input"
    ]
   },
   "outputs": [],
   "source": [
    "# Plot\n",
    "\n",
    "f, axarr = plt.subplots(1,4, layout='constrained', figsize=(10, 4))\n",
    "\n",
    "# Plot colours\n",
    "colours=[\"C1\", \"C3\", \"C0\", \"C2\"]\n",
    "stateList=[\"S\", \"E\", \"I\", \"R\"]\n",
    "\n",
    "for i in range(0, 4):\n",
    "    axarr[i].plot(t, solution[:,i], color=colours[i])\n",
    "    if i in [0,2,3]:\n",
    "        if i in [2,3]:\n",
    "            axarr[i].plot(t, solution2[:,i-1], color=colours[i], linestyle=\"dashed\")\n",
    "        else:\n",
    "            axarr[i].plot(t, solution2[:,i], color=colours[i], linestyle=\"dashed\")\n",
    "    axarr[i].set_ylabel(stateList[i], rotation=0)\n",
    "    axarr[i].set_xlabel('Time')\n",
    "\n",
    "plt.show()"
   ]
  }
 ],
 "metadata": {
  "kernelspec": {
   "display_name": "pygom_development",
   "language": "python",
   "name": "python3"
  },
  "language_info": {
   "codemirror_mode": {
    "name": "ipython",
    "version": 3
   },
   "file_extension": ".py",
   "mimetype": "text/x-python",
   "name": "python",
   "nbconvert_exporter": "python",
   "pygments_lexer": "ipython3",
   "version": "3.9.19"
  }
 },
 "nbformat": 4,
 "nbformat_minor": 5
}
