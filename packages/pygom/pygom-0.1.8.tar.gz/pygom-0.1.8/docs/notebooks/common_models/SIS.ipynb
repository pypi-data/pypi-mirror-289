{
 "cells": [
  {
   "cell_type": "markdown",
   "metadata": {},
   "source": [
    "# SIS\n",
    "{func}`.SIS`\n",
    "\n",
    "Perhaps the simplest epidemic model is a Susceptible-Infected-Susceptible (SIS) system, in which susceptible individuals may be infected and then do not have any immunity upon recovery.\n",
    "\n",
    "$$\\begin{aligned}\n",
    "\\frac{\\mathrm{d}S}{\\mathrm{d}t} &=  -\\frac{\\beta S I}{N} + \\gamma I \\\\\n",
    "\\frac{\\mathrm{d}I}{\\mathrm{d}t} &=  \\frac{\\beta S I}{N} - \\gamma I.\n",
    "\\end{aligned}$$\n",
    "\n",
    "We see how this evolves deterministically:"
   ]
  },
  {
   "cell_type": "code",
   "execution_count": null,
   "id": "438844b8",
   "metadata": {},
   "outputs": [],
   "source": [
    "from pygom import common_models\n",
    "import matplotlib.pyplot as plt\n",
    "import numpy as np\n",
    "import math\n",
    "\n",
    "# Set up PyGOM object\n",
    "n_pop=1e4\n",
    "\n",
    "ode = common_models.SIS({'beta':0.5, 'gamma':0.2, 'N':n_pop})\n",
    "\n",
    "# Initial conditions\n",
    "i0=10\n",
    "x0 = [n_pop-i0, i0]\n",
    "\n",
    "# Time range and increments\n",
    "tmax=50                               # maximum time over which to run solver\n",
    "dt=0.1                                # timestep\n",
    "n_timestep=math.ceil(tmax/dt)         # number of iterations\n",
    "t = np.linspace(0, tmax, n_timestep)  # times at which solution will be evaluated\n",
    "\n",
    "ode.initial_values = (x0, t[0])\n",
    "solution=ode.solve_determ(t[1::])"
   ]
  },
  {
   "cell_type": "markdown",
   "id": "b272c27d",
   "metadata": {},
   "source": [
    "After sufficiently long time, the system reaches an equilibrium state:"
   ]
  },
  {
   "cell_type": "code",
   "execution_count": null,
   "id": "2bce7cd0",
   "metadata": {
    "tags": [
     "hide-input"
    ]
   },
   "outputs": [],
   "source": [
    "f, axarr = plt.subplots(1,2, layout='constrained', figsize=(10, 4))\n",
    "\n",
    "# Plot colours\n",
    "colours=[\"C1\", \"C0\"]\n",
    "stateList=[\"S\", \"I\"]\n",
    "\n",
    "for i in range(0, 2):\n",
    "    axarr[i].plot(t, solution[:,i], color=colours[i])\n",
    "    axarr[i].set_ylabel(stateList[i], rotation=0)\n",
    "    axarr[i].set_xlabel('Time')\n",
    "\n",
    "plt.show()"
   ]
  }
 ],
 "metadata": {
  "kernelspec": {
   "display_name": "pygom_development",
   "language": "python",
   "name": "python3"
  },
  "language_info": {
   "codemirror_mode": {
    "name": "ipython",
    "version": 3
   },
   "file_extension": ".py",
   "mimetype": "text/x-python",
   "name": "python",
   "nbconvert_exporter": "python",
   "pygments_lexer": "ipython3",
   "version": "3.9.19"
  }
 },
 "nbformat": 4,
 "nbformat_minor": 5
}
