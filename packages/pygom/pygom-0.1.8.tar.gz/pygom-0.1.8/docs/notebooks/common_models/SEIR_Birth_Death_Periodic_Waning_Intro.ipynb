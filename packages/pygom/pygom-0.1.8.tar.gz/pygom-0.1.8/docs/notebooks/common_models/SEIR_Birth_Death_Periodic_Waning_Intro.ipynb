{
 "cells": [
  {
   "cell_type": "markdown",
   "id": "e5455073",
   "metadata": {},
   "source": [
    "# SEIR, birth, death, periodic, waning and introductions\n",
    "{func}`.SEIR_Birth_Death_Periodic_Waning_Intro`\n",
    "\n",
    "This model includes relatively more detail than the other pre-defined models provided and may serve as a template for more complex models.\n",
    "\n",
    "In addition to the processes of births, deaths and seasonal driving, we have included (i) immune waning, which transitions recovered individuals back to susceptible at a rate $w$ and (ii) an external force of infection, which allows individuals to be infected from outside the population (analogous to case importation) at a rate $\\epsilon$.\n",
    "\n",
    "$$\\begin{aligned}\n",
    "\\frac{\\mathrm{d}S}{\\mathrm{d}t} &= - \\frac{\\beta(t) SI}{N} + w R + \\mu N - \\epsilon S - \\mu S\\\\\n",
    "\\frac{\\mathrm{d}E}{\\mathrm{d}t} &= \\frac{\\beta(t) SI}{N} + \\epsilon S - \\alpha E - \\mu E \\\\\n",
    "\\frac{\\mathrm{d}I}{\\mathrm{d}t} &= \\alpha E - \\gamma I - \\mu I \\\\\n",
    "\\frac{\\mathrm{d}R}{\\mathrm{d}t} &= \\gamma I - w R - \\mu R \\\\\n",
    "\\beta(t) &= \\beta_0 \\left(1+\\delta \\cos \\left(\\frac{2 \\pi t}{P} \\right) \\right)\n",
    "\\end{aligned}$$\n",
    "\n",
    "We solve this set of equations deterministically:"
   ]
  },
  {
   "cell_type": "code",
   "execution_count": 36,
   "id": "e7321259",
   "metadata": {},
   "outputs": [],
   "source": [
    "from pygom import common_models\n",
    "import matplotlib.pyplot as plt\n",
    "import numpy as np\n",
    "import math\n",
    "\n",
    "# Set up PyGOM object\n",
    "n_pop=1e5\n",
    "mu=0.01/365\n",
    "alpha=1/2\n",
    "gamma=1/4\n",
    "epsilon=100/(365*n_pop)  # approximately 100*n_sus*365/(365*n_pop)=100*frac_sus~30 infections from external sources per year\n",
    "w=1/(2*365)              # waning rate, immunity lasts ~ 2 years.\n",
    "beta0=1\n",
    "delta=0.2\n",
    "period=365\n",
    "\n",
    "ode = common_models.SEIR_Birth_Death_Periodic_Waning_Intro({'mu':mu,\n",
    "                                                            'alpha':alpha,\n",
    "                                                            'gamma':gamma,\n",
    "                                                            'epsilon':epsilon,\n",
    "                                                            'w':w,\n",
    "                                                            'beta0':beta0,\n",
    "                                                            'delta':delta,\n",
    "                                                            'period':period,\n",
    "                                                            'N':n_pop})\n",
    "\n",
    "# Time range and increments\n",
    "tmax=365*20                           # maximum time over which to run solver\n",
    "dt=0.1                                # timestep\n",
    "n_timestep=math.ceil(tmax/dt)         # number of iterations\n",
    "t = np.linspace(0, tmax, n_timestep)  # times at which solution will be evaluated\n",
    "\n",
    "# Initial conditions\n",
    "x0 = [n_pop, 0, 0, 0, t[0]]\n",
    "\n",
    "ode.initial_values = (x0, t[0])\n",
    "\n",
    "solution=ode.solve_determ(t[1::])"
   ]
  },
  {
   "cell_type": "markdown",
   "id": "5eefb897",
   "metadata": {},
   "source": [
    "Plotting the infection prevalence reveals that the system eventually reaches a state of annual epidemics."
   ]
  },
  {
   "cell_type": "code",
   "execution_count": null,
   "id": "30368b0d",
   "metadata": {
    "tags": [
     "hide-input"
    ]
   },
   "outputs": [],
   "source": [
    "f, ax = plt.subplots(figsize=(10, 2))\n",
    "\n",
    "ax.set_xlabel(\"Time\")\n",
    "ax.set_ylabel(\"Infection prevalence\")\n",
    "ax.plot(t[30000:]/365, solution[30000:,2])\n",
    "plt.show()"
   ]
  }
 ],
 "metadata": {
  "kernelspec": {
   "display_name": "Python 3.9.15 ('sphinx-doc')",
   "language": "python",
   "name": "python3"
  },
  "language_info": {
   "codemirror_mode": {
    "name": "ipython",
    "version": 3
   },
   "file_extension": ".py",
   "mimetype": "text/x-python",
   "name": "python",
   "nbconvert_exporter": "python",
   "pygments_lexer": "ipython3",
   "version": "3.9.19"
  },
  "vscode": {
   "interpreter": {
    "hash": "4dc1e323c80fe09539c74ad5c5a7c7d8d9ff99e04f7b3dbd3680daf878629d6e"
   }
  }
 },
 "nbformat": 4,
 "nbformat_minor": 5
}
