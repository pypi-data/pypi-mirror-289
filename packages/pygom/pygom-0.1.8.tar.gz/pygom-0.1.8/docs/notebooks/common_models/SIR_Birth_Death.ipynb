{
 "cells": [
  {
   "cell_type": "markdown",
   "metadata": {},
   "source": [
    "# SIR, birth and death \n",
    "{func}`.SIR_Birth_Death`\n",
    "\n",
    "Here we consider an SIR model in which individuals may be removed by death from each compartment at a uniform rate per person, $\\gamma$.\n",
    "The population is replenished via births into the susceptible compartment at the same rate, thus conserving the total population by design.\n",
    "For deterministic evolution, the population size remains constant whereas for stochastic evolution, the size fluctuates around this value.\n",
    "The equations are as follows:\n",
    "\n",
    "$$\\begin{aligned}\n",
    "\\frac{\\mathrm{d}S}{\\mathrm{d}t} &= \\mu N - \\frac{\\beta SI}{N} - \\mu S \\\\\n",
    "\\frac{\\mathrm{d}I}{\\mathrm{d}t} &= \\frac{\\beta SI}{N} - \\gamma I - \\mu I \\\\\n",
    "\\frac{\\mathrm{d}R}{\\mathrm{d}t} &= \\gamma I - \\mu R\n",
    "\\end{aligned}$$\n",
    "\n",
    "As an example, we study stochastic evolution of this system with measles-like parameters in 3 differently sized populations.\n",
    "This provides a demonstration of threshold population sizes in order to support endemic circulation of certain pathogens."
   ]
  },
  {
   "cell_type": "code",
   "execution_count": null,
   "id": "1e5a8099",
   "metadata": {},
   "outputs": [],
   "source": [
    "from pygom import common_models\n",
    "import matplotlib.pyplot as plt\n",
    "import numpy as np\n",
    "import math\n",
    "\n",
    "#####################\n",
    "# Set up PyGOM object\n",
    "#####################\n",
    "\n",
    "# Parameters\n",
    "n_pop=1e4\n",
    "mu=0.01/365    # birth/death rate 1% per year\n",
    "gamma=1/20 \n",
    "R0=15\n",
    "beta=R0*gamma\n",
    "\n",
    "ode = common_models.SIR_Birth_Death({'beta':beta, 'gamma':gamma, 'mu':mu, 'N':n_pop})\n",
    "\n",
    "# Time range and increments\n",
    "tmax=365*10                           # maximum time over which to run solver\n",
    "dt=1                                  # timestep\n",
    "n_timestep=math.ceil(tmax/dt)         # number of iterations\n",
    "t = np.linspace(0, tmax, n_timestep)  # times at which solution will be evaluated\n",
    "\n",
    "# Initial conditions (endemic equilibrium derived from stationary point)\n",
    "def sir_bd_endemic_eq(mu, beta, gamma, n_pop):\n",
    "    s0=math.floor((gamma+mu)*n_pop/beta)\n",
    "    i0=math.floor(mu*(n_pop-s0)*n_pop/(beta*s0))\n",
    "    r0=n_pop-(s0+i0)\n",
    "    return [s0, i0, r0]\n",
    "\n",
    "x0=sir_bd_endemic_eq(mu, beta, gamma, n_pop)\n",
    "ode.initial_values = (x0, t[0])\n",
    "\n",
    "##########\n",
    "# Simulate\n",
    "##########\n",
    "n_sim=10\n",
    "np.random.seed(1)\n",
    "\n",
    "solution, simT = ode.solve_stochast(t, n_sim, full_output=True)\n",
    "y=np.dstack(solution)\n",
    "\n",
    "############################\n",
    "# try larger population size\n",
    "############################\n",
    "n_pop=1e5\n",
    "ode = common_models.SIR_Birth_Death({'beta':beta, 'gamma':gamma, 'mu':mu, 'N':n_pop})  # update parameter\n",
    "x0=sir_bd_endemic_eq(mu, beta, gamma, n_pop)  # recalculate IC's\n",
    "ode.initial_values = (x0, t[0])\n",
    "solution_2, simT_2 = ode.solve_stochast(t, n_sim, full_output=True)  # simulate\n",
    "y_2=np.dstack(solution_2)\n",
    "\n",
    "#################################\n",
    "# try even larger population size\n",
    "#################################\n",
    "n_pop=1e6\n",
    "ode = common_models.SIR_Birth_Death({'beta':beta, 'gamma':gamma, 'mu':mu, 'N':n_pop})  # update parameter\n",
    "x0=sir_bd_endemic_eq(mu, beta, gamma, n_pop)  # recalculate IC's\n",
    "ode.initial_values = (x0, t[0])\n",
    "solution_3, simT_3 = ode.solve_stochast(t, n_sim, full_output=True)  # simulate\n",
    "y_3=np.dstack(solution_3)"
   ]
  },
  {
   "cell_type": "markdown",
   "id": "bbc9ac4f",
   "metadata": {},
   "source": [
    "Plotting the results, we see that for populations of sizes 10,000 and 100,000, the infected population is critically close to zero, such that stochastic fluctuations eventually lead to disease extinction.\n",
    "This is of course signified by the infected class reaching zero, but also by the recovered and susceptible classes undergoing stable linear growth due to population turnover.\n",
    "When the population size is 1,000,000, we see that the infected subset, of typical size 500, is able to persist for the full 10 years of the simulation."
   ]
  },
  {
   "cell_type": "code",
   "execution_count": null,
   "id": "0f5389b0",
   "metadata": {
    "tags": [
     "hide-input"
    ]
   },
   "outputs": [],
   "source": [
    "f, axarr = plt.subplots(3,3, layout='constrained', figsize=(10, 5))\n",
    "\n",
    "for i in range(0,3):\n",
    "    # Plot individual trajectories\n",
    "    for j in range(0, n_sim):\n",
    "        axarr[0][i].plot(t/365, y[:,i,j], alpha=0.4, color=\"C0\")\n",
    "        axarr[1][i].plot(t/365, y_2[:,i,j], alpha=0.4, color=\"C1\")\n",
    "        axarr[2][i].plot(t/365, y_3[:,i,j], alpha=0.4, color=\"C2\")\n",
    "\n",
    "# Add titles\n",
    "stateList = ['S', 'I', 'R']\n",
    "for idx, state in enumerate(stateList):\n",
    "    axarr[0][idx].set_ylabel(state, rotation=0)\n",
    "    axarr[1][idx].set_ylabel(state, rotation=0)\n",
    "    axarr[2][idx].set_ylabel(state, rotation=0)\n",
    "    axarr[0][idx].set_xlabel('Time (years)')\n",
    "    axarr[1][idx].set_xlabel('Time (years)')\n",
    "    axarr[2][idx].set_xlabel('Time (years)')\n",
    "\n",
    "axarr[0][1].set_title(\"Population size = 10,000\")\n",
    "axarr[1][1].set_title(\"Population size = 100,000\")\n",
    "axarr[2][1].set_title(\"Population size = 1,000,000\")\n",
    "\n",
    "plt.show()"
   ]
  }
 ],
 "metadata": {
  "kernelspec": {
   "display_name": "pygom_development",
   "language": "python",
   "name": "python3"
  },
  "language_info": {
   "codemirror_mode": {
    "name": "ipython",
    "version": 3
   },
   "file_extension": ".py",
   "mimetype": "text/x-python",
   "name": "python",
   "nbconvert_exporter": "python",
   "pygments_lexer": "ipython3",
   "version": "3.9.19"
  }
 },
 "nbformat": 4,
 "nbformat_minor": 5
}
