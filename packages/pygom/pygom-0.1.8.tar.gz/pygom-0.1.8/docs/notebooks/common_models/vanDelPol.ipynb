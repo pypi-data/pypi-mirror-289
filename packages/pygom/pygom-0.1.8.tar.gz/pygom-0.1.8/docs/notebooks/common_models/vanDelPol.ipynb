{
 "cells": [
  {
   "cell_type": "markdown",
   "metadata": {},
   "source": [
    "# vanDerPol\n",
    "\n",
    "{func}`.vanDerPol` - the van Del Pol oscillator {cite}`vanderpol1926`\n",
    "\n",
    "$$\\begin{aligned}\n",
    "\\frac{dx}{dt} &= \\sigma (y-x) \\\\\n",
    "\\frac{dy}{dt} &= x (\\rho - z) - y \\\\\n",
    "\\frac{dz}{dt} &= xy - \\beta z\n",
    "\\end{aligned}$$\n",
    "\n",
    "A classic example is given.\n"
   ]
  },
  {
   "cell_type": "code",
   "execution_count": null,
   "id": "ca59c8d3",
   "metadata": {},
   "outputs": [],
   "source": [
    "from pygom import common_models\n",
    "\n",
    "import numpy\n",
    "\n",
    "import matplotlib.pyplot as plt\n",
    "\n",
    "t = numpy.linspace(0, 20, 1000)\n",
    "\n",
    "ode = common_models.vanDelPol({'mu':1.0})\n",
    "\n",
    "ode.initial_values = ([2.0, 0.0], t[0])\n",
    "\n",
    "solution = ode.integrate(t[1::])\n",
    "\n",
    "ode.plot()"
   ]
  },
  {
   "cell_type": "code",
   "execution_count": null,
   "id": "e3e0bb15",
   "metadata": {},
   "outputs": [],
   "source": [
    "f = plt.figure()\n",
    "\n",
    "plt.plot(solution[:,0], solution[:,1]);\n",
    "\n",
    "plt.show()\n"
   ]
  },
  {
   "cell_type": "markdown",
   "id": "060b0043",
   "metadata": {},
   "source": [
    "\n",
    "And another example using alternative parameters  from\n",
    "[Wolfram](http://mathworld.wolfram.com/vanderPolEquation.html).\n"
   ]
  },
  {
   "cell_type": "code",
   "execution_count": null,
   "id": "44bc2007",
   "metadata": {},
   "outputs": [],
   "source": [
    "t = numpy.linspace(0, 100, 1000)\n",
    "\n",
    "ode.parameters = {'mu':1.0}\n",
    "\n",
    "ode.initial_values = ([0.0, 0.2], t[0])\n",
    "\n",
    "solution = ode.integrate(t[1::])\n",
    "\n",
    "f = plt.figure()\n",
    "\n",
    "plt.plot(solution[:,0],solution[:,1]);\n",
    "\n",
    "plt.show()\n"
   ]
  },
  {
   "cell_type": "code",
   "execution_count": null,
   "id": "99020274",
   "metadata": {},
   "outputs": [],
   "source": [
    "ode.parameters = {'mu':0.2}\n",
    "\n",
    "ode.initial_values = ([0.0, 0.2], t[0])\n",
    "\n",
    "solution = ode.integrate(t[1::])\n",
    "\n",
    "f = plt.figure()\n",
    "\n",
    "plt.plot(solution[:,0], solution[:,1]);\n",
    "\n",
    "plt.show()"
   ]
  }
 ],
 "metadata": {
  "kernelspec": {
   "display_name": "Python 3.9.15 ('sphinx-doc')",
   "language": "python",
   "name": "python3"
  },
  "language_info": {
   "name": "python",
   "version": "3.9.15"
  },
  "vscode": {
   "interpreter": {
    "hash": "4dc1e323c80fe09539c74ad5c5a7c7d8d9ff99e04f7b3dbd3680daf878629d6e"
   }
  }
 },
 "nbformat": 4,
 "nbformat_minor": 5
}
