{
 "cells": [
  {
   "cell_type": "markdown",
   "metadata": {},
   "source": [
    "# SEIR - birth, death and periodic\n",
    "\n",
    "{func}`SEIR_Birth_Death_Periodic`\n",
    "\n",
    "Now extending the SEIR to also have periodic contact, as in\n",
    "{cite}`Aron1984`.\n",
    "\n",
    "$$\\begin{aligned}\n",
    "\\frac{dS}{dt} &= \\mu - \\beta(t)SI - \\mu S \\\\\n",
    "\\frac{dE}{dt} &= \\beta(t)SI - (\\mu + \\alpha) E \\\\\n",
    "\\frac{dI}{dt} &= \\alpha E - (\\mu + \\gamma) I \\\\\n",
    "\\frac{dR}{dt} &= \\gamma I.\n",
    "\\end{aligned}$$\n"
   ]
  },
  {
   "cell_type": "code",
   "execution_count": null,
   "id": "cc27b5b3",
   "metadata": {},
   "outputs": [],
   "source": [
    "from pygom import common_models\n",
    "\n",
    "import numpy\n",
    "\n",
    "import matplotlib.pyplot as plt\n",
    "\n",
    "ode = common_models.SEIR_Birth_Death_Periodic({'beta_0':1800, 'beta_1':0.2, 'gamma':100, 'alpha':35.84, 'mu':0.02})\n",
    "\n",
    "t = numpy.linspace(0, 50, 1001)\n",
    "\n",
    "ode.initial_values = (x0, t[0])\n",
    "\n",
    "x0 = [0.0658, 0.0007, 0.0002, 0.0]\n",
    "\n",
    "solution = ode.integrate(t[1::])\n",
    "\n",
    "ode.plot()\n",
    "\n",
    "plt.close()\n"
   ]
  },
  {
   "cell_type": "markdown",
   "id": "5614972a",
   "metadata": {},
   "source": [
    "\n",
    "The periodicity is obvious when looking at the the plot between states\n",
    "$S$ and $E$, in logarithmic scale.\n",
    "\n"
   ]
  },
  {
   "cell_type": "markdown",
   "id": "29c5f471",
   "metadata": {},
   "source": [
    "fig = plt.figure();\n",
    "\n",
    "plt.plot(numpy.log(solution[:,0]), numpy.log(solution[:,1]));\n",
    "\n",
    "plt.xlabel('log of S');\n",
    "\n",
    "plt.ylabel('log of E');\n",
    "\n",
    "plt.show()\n",
    "\n",
    "plt.close()\n"
   ]
  },
  {
   "cell_type": "markdown",
   "id": "d639850d",
   "metadata": {},
   "source": [
    "\n",
    "Similarly, we can see the same thing between the states $E$ and $I$.\n"
   ]
  },
  {
   "cell_type": "code",
   "execution_count": null,
   "id": "8f259172",
   "metadata": {},
   "outputs": [],
   "source": [
    "fig = plt.figure();\n",
    "\n",
    "plt.plot(numpy.log(solution[:,1]), numpy.log(solution[:,2]));\n",
    "\n",
    "plt.xlabel('log of E');\n",
    "\n",
    "plt.ylabel('log of I');\n",
    "\n",
    "plt.show()\n",
    "\n",
    "plt.close()"
   ]
  }
 ],
 "metadata": {
  "kernelspec": {
   "display_name": "Python 3.9.15 ('sphinx-doc')",
   "language": "python",
   "name": "python3"
  },
  "language_info": {
   "name": "python",
   "version": "3.9.15"
  },
  "vscode": {
   "interpreter": {
    "hash": "4dc1e323c80fe09539c74ad5c5a7c7d8d9ff99e04f7b3dbd3680daf878629d6e"
   }
  }
 },
 "nbformat": 4,
 "nbformat_minor": 5
}
