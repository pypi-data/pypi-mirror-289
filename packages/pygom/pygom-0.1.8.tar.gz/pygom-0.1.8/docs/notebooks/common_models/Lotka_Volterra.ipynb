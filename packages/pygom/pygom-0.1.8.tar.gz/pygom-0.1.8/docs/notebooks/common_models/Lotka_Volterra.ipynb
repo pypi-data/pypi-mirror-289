{
 "cells": [
  {
   "cell_type": "markdown",
   "metadata": {},
   "source": [
    "# Lotka Volterra\n",
    "\n",
    "The model {func}`.Lotka_Volterra` is a basic predator and prey model {cite}`Lotka1920`.\n",
    "This is more commonly expressed in terms of predator and prey population area densities, $x$ and $y$ respectively, though we define the model in terms of absolute numbers, $X$ and $Y$, in a given area, $A$.\n",
    "This decision to define in terms of population numbers, rather than densities, permits us to perform stochastic simulations.\n",
    "\n",
    "$$\\begin{aligned}\n",
    "\\frac{\\mathrm{d} X}{\\mathrm{d} t} &= \\alpha X - \\frac{\\beta X Y}{A}  \\\\\n",
    "\\frac{\\mathrm{d} Y}{\\mathrm{d} t} &= -\\gamma Y + \\frac{\\delta X Y}{A}\n",
    "\\end{aligned}$$\n",
    "\n",
    "We first solve this model for the deterministic case:"
   ]
  },
  {
   "cell_type": "code",
   "execution_count": null,
   "id": "758e12e8",
   "metadata": {},
   "outputs": [],
   "source": [
    "from pygom import common_models\n",
    "import numpy as np\n",
    "import matplotlib.pyplot as plt\n",
    "import math\n",
    "\n",
    "# population density of predators and prey per square m\n",
    "x0 = [1, 0.5]\n",
    "\n",
    "# total area we wish to consider\n",
    "area=200\n",
    "\n",
    "# total animal populations\n",
    "x0 = [x * area for x in x0]\n",
    "\n",
    "ode = common_models.Lotka_Volterra({'alpha':0.1,\n",
    "                                    'beta':0.2,\n",
    "                                    'gamma':0.3,\n",
    "                                    'delta':0.25,\n",
    "                                    'A':area})\n",
    "\n",
    "tmax=200                              # maximum time over which to run solver\n",
    "dt=0.1                                # timestep\n",
    "n_timestep=math.ceil(tmax/dt)         # number of iterations\n",
    "t = np.linspace(0, tmax, n_timestep)  # times at which solution will be evaluated\n",
    "\n",
    "ode.initial_values = (x0, t[0])\n",
    "\n",
    "solution = ode.solve_determ(t[1::])"
   ]
  },
  {
   "cell_type": "markdown",
   "id": "4d951b55",
   "metadata": {},
   "source": [
    "We see that the predator and prey populations show periodic behaviour with a phase shift between them."
   ]
  },
  {
   "cell_type": "code",
   "execution_count": null,
   "id": "004de679",
   "metadata": {
    "tags": [
     "hide-input"
    ]
   },
   "outputs": [],
   "source": [
    "f, ax = plt.subplots(figsize=(10, 2))\n",
    "\n",
    "ax.set_xlabel(\"Time\")\n",
    "ax.set_ylabel(\"Population number\")\n",
    "ax.plot(t, solution[:,0], label=\"prey\")\n",
    "ax.plot(t, solution[:,1], label=\"predator\")\n",
    "ax.legend(loc=\"upper right\")\n",
    "plt.show()"
   ]
  },
  {
   "cell_type": "markdown",
   "id": "5918419c",
   "metadata": {},
   "source": [
    "We can also see how the system evolves stochastically"
   ]
  },
  {
   "cell_type": "code",
   "execution_count": null,
   "id": "9858cacf",
   "metadata": {},
   "outputs": [],
   "source": [
    "np.random.seed(1)\n",
    "\n",
    "n_sim=1\n",
    "solution, simT = ode.solve_stochast(t, n_sim, full_output=True)\n",
    "\n",
    "f, ax = plt.subplots(figsize=(10, 2))\n",
    "\n",
    "y=np.dstack(solution)\n",
    "\n",
    "ax.set_xlabel(\"Time\")\n",
    "ax.set_ylabel(\"Population number\")\n",
    "ax.plot(t, y[:,0], label=\"prey\")\n",
    "ax.plot(t, y[:,1], label=\"predator\")\n",
    "ax.legend(loc=\"upper right\")\n",
    "plt.show()"
   ]
  },
  {
   "cell_type": "markdown",
   "id": "39ce9a40",
   "metadata": {},
   "source": [
    "This appears to be unstable, since the populations undergo increasingly extreme peaks and troughs.\n",
    "This can be confirmed by examining a phase diagram, whereby the trajectory in state space spirals outwards."
   ]
  },
  {
   "cell_type": "code",
   "execution_count": null,
   "id": "b7717689",
   "metadata": {},
   "outputs": [],
   "source": [
    "f, ax = plt.subplots(figsize=(10, 6))\n",
    "ax.plot(y[:,0], y[:,1])\n",
    "ax.set_xlabel(\"Prey population\")\n",
    "ax.set_ylabel(\"Predator population\")\n",
    "plt.show()"
   ]
  }
 ],
 "metadata": {
  "kernelspec": {
   "display_name": "Python 3.9.15 ('sphinx-doc')",
   "language": "python",
   "name": "python3"
  },
  "language_info": {
   "codemirror_mode": {
    "name": "ipython",
    "version": 3
   },
   "file_extension": ".py",
   "mimetype": "text/x-python",
   "name": "python",
   "nbconvert_exporter": "python",
   "pygments_lexer": "ipython3",
   "version": "3.9.19"
  },
  "vscode": {
   "interpreter": {
    "hash": "4dc1e323c80fe09539c74ad5c5a7c7d8d9ff99e04f7b3dbd3680daf878629d6e"
   }
  }
 },
 "nbformat": 4,
 "nbformat_minor": 5
}
