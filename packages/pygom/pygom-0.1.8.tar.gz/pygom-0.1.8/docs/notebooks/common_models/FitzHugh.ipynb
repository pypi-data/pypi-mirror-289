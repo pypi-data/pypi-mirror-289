{
 "cells": [
  {
   "cell_type": "markdown",
   "metadata": {},
   "source": [
    "# FitzHugh\n",
    "\n",
    "{func}`.FitzHugh` - the {cite:t}`FitzHugh1961` model without external stimulus.\n",
    "\n",
    "The FitzHugh model is commonly used to test ODE software {cite:p}`Ramsay2007` {cite}`Girolami2011`, the model itself describes the excitation state of a neuron membrane as an excitation spike passes. PyGOM also includes other functions which are commonly used to test numerical integrators such as:\n",
    "{func}`.vanDerPol` - the Van der Pol oscillator {cite}`vanderPol1926` and\n",
    "{func}`.Robertson` - the Robertson reaction {cite}`Robertson1966`.\n",
    "The FitzHugh model equations are as follows:\n",
    "\n",
    "$$\\begin{aligned}\n",
    "\\frac{\\mathrm{d} V}{\\mathrm{d} t} &=  c ( V - \\frac{V^{3}}{3} + R) \\\\\n",
    "\\frac{\\mathrm{d} R}{\\mathrm{d} t} &= -\\frac{1}{c}(V - a + bR).\n",
    "\\end{aligned}$$\n",
    "\n",
    "We solve for the deterministic time evolution of the system:"
   ]
  },
  {
   "cell_type": "code",
   "execution_count": null,
   "id": "c751b93a",
   "metadata": {},
   "outputs": [],
   "source": [
    "import numpy as np\n",
    "from pygom import common_models\n",
    "import matplotlib.pyplot as plt\n",
    "\n",
    "ode = common_models.FitzHugh({'a':0.2, 'b':0.2, 'c':3.0})\n",
    "\n",
    "t = np.linspace(0, 20, 101)\n",
    "x0 = [1.0, -1.0]\n",
    "ode.initial_values = (x0, t[0])\n",
    "\n",
    "solution = ode.solve_determ(t[1::])"
   ]
  },
  {
   "cell_type": "markdown",
   "id": "a9061aff",
   "metadata": {},
   "source": [
    "Plotting the function reveals frequent sharp transitions, which makes it an appropriate system to test ODE solving methods."
   ]
  },
  {
   "cell_type": "code",
   "execution_count": null,
   "id": "ccee969d",
   "metadata": {
    "tags": [
     "hide-input"
    ]
   },
   "outputs": [],
   "source": [
    "ode.plot()"
   ]
  }
 ],
 "metadata": {
  "kernelspec": {
   "display_name": "Python 3.9.15 ('sphinx-doc')",
   "language": "python",
   "name": "python3"
  },
  "language_info": {
   "name": "python",
   "version": "3.9.15"
  },
  "vscode": {
   "interpreter": {
    "hash": "4dc1e323c80fe09539c74ad5c5a7c7d8d9ff99e04f7b3dbd3680daf878629d6e"
   }
  }
 },
 "nbformat": 4,
 "nbformat_minor": 5
}
