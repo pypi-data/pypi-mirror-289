{
 "cells": [
  {
   "cell_type": "markdown",
   "metadata": {},
   "source": [
    "# Lotka_Volterra (4 state)\n",
    "\n",
    "{func}`.Lotka_Volterra_4State`\n",
    "\n",
    "The Lotka-Volterra model with four states and three parameters\n",
    "{cite}`Lotka1920`, is explained by the following three equations.\n",
    "\n",
    "$$\\begin{aligned}\n",
    "\\frac{da}{dt} &= k_{0} a x \\\\\n",
    "\\frac{dx}{dt} &= k_{0} a x - k_{1} x y \\\\\n",
    "\\frac{dy}{dt} &= k_{1} x y - k_{2} y \\\\\n",
    "\\frac{db}{dt} &= k_{2} y.\n",
    "\\end{aligned}$$\n",
    "\n",
    "First, we show the deterministic approach. Then we also show the\n",
    "different process path using the parameters from {cite}`Press2007`. Note\n",
    "that although the model is defined in {class}`common_models`, it is based on\n",
    "outputting an {func}`.OperateOdeModel` rather than {func}`.SimulateOdeModel`.\n",
    "\n",
    "#TODO why is the predefined version not used?"
   ]
  },
  {
   "cell_type": "code",
   "execution_count": null,
   "id": "c33dd44b",
   "metadata": {},
   "outputs": [],
   "source": [
    "import matplotlib.pyplot as plt\n",
    "\n",
    "from pygom import Transition, TransitionType, ode_utils, SimulateOde\n",
    "\n",
    "import numpy\n",
    "\n",
    "stateList = ['a', 'x', 'y', 'b']\n",
    "\n",
    "paramList = ['k0', 'k1', 'k2']\n",
    "\n",
    "transitionList = [Transition(origin='a', destination='x', equation='k0*a*x', transition_type=TransitionType.T), \n",
    "                  Transition(origin='x', destination='y', equation='k1*x*y', transition_type=TransitionType.T),Transition(origin='y', destination='b', equation='k2*y', transition_type=TransitionType.T)]\n",
    "\n",
    "ode = SimulateOde(stateList, paramList, transition=transitionList)\n",
    "\n",
    "x0 = [150.0, 10.0, 10.0, 0.0]\n",
    "\n",
    "t = numpy.linspace(0, 15, 100)\n",
    "\n",
    "ode.initial_values = (x0, t[0])\n",
    "\n",
    "ode.parameters = [0.01, 0.1, 1.0]\n",
    "\n",
    "solution = ode.integrate(t[1::])\n",
    "\n",
    "ode.plot()\n"
   ]
  },
  {
   "cell_type": "code",
   "execution_count": null,
   "id": "478daeb9",
   "metadata": {},
   "outputs": [],
   "source": [
    "simX, simT = ode.simulate_jump(t[1::], 5, full_output=True)\n",
    "\n",
    "ode.plot(simX, simT)"
   ]
  }
 ],
 "metadata": {
  "kernelspec": {
   "display_name": "Python 3.9.15 ('sphinx-doc')",
   "language": "python",
   "name": "python3"
  },
  "language_info": {
   "name": "python",
   "version": "3.9.15"
  },
  "vscode": {
   "interpreter": {
    "hash": "4dc1e323c80fe09539c74ad5c5a7c7d8d9ff99e04f7b3dbd3680daf878629d6e"
   }
  }
 },
 "nbformat": 4,
 "nbformat_minor": 5
}
