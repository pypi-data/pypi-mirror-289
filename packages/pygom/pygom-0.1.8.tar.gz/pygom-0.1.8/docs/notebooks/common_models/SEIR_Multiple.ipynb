{
 "cells": [
  {
   "cell_type": "markdown",
   "metadata": {},
   "source": [
    "# SEIR, multiple\n",
    "{func}`.SEIR_Multiple`\n",
    "\n",
    "Multiple SEIR coupled together, without any birth death process.\n",
    "\n",
    "$$\\begin{aligned}\n",
    "\\frac{\\mathrm{d} S_{i}}{\\mathrm{d} t} &= dN_{i} - dS_{i} - \\lambda_{i}S_{i} \\\\\n",
    "\\frac{\\mathrm{d} E_{i}}{\\mathrm{d} t} &= \\lambda_{i}S_{i} - (d+\\epsilon)E_{i} \\\\\n",
    "\\frac{\\mathrm{d} I_{i}}{\\mathrm{d} t} &= \\epsilon E_{i} - (d+\\gamma) I_{i} \\\\\n",
    "\\frac{\\mathrm{d} R_{i}}{\\mathrm{d}t} &= \\gamma I_{i} - dR_{i}\n",
    "\\end{aligned}$$\n",
    "\n",
    "where\n",
    "\n",
    "$$\\lambda_{i} = \\sum_{j=1}^{n} \\beta_{i,j} I_{j} (1\\{i\\neq j\\} p)$$\n",
    "\n",
    "with $n$ being the number of patch and $p$ the coupled factor."
   ]
  },
  {
   "cell_type": "code",
   "execution_count": null,
   "id": "650477fb",
   "metadata": {},
   "outputs": [],
   "source": [
    "from pygom import common_models\n",
    "\n",
    "import numpy\n",
    "\n",
    "paramEval = {'beta_00':0.0010107, 'beta_01':0.0010107, 'beta_10':0.0010107, 'beta_11':0.0010107,\n",
    "             'd':0.02, 'epsilon':45.6, 'gamma':73.0, 'N_0':10**6,'N_1':10**6,'p':0.01}\n",
    "\n",
    "x0 = [36139.3224081278, 422.560577637822, 263.883351688369, 963174.233662546]\n",
    "\n",
    "ode = common_models.SEIR_Multiple(param=paramEval)\n",
    "\n",
    "t = numpy.linspace(0, 40, 100)\n",
    "\n",
    "x01 = []\n",
    "\n",
    "for s in x0:  \n",
    "    x01 += 2*[s]\n",
    "\n",
    "ode.initial_values = (numpy.array(x01, float),t[0])\n",
    "\n",
    "solution, output = ode.integrate(t[1::], full_output=True)\n",
    "\n",
    "ode.plot()\n"
   ]
  },
  {
   "cell_type": "markdown",
   "id": "e12bde20",
   "metadata": {},
   "source": [
    "\n",
    "The initial conditions are those derived by using the stability\n",
    "condition as stated in {cite:t}`Lloyd1996` while the notations is taken\n",
    "from {cite:t}`Brauer2008`."
   ]
  }
 ],
 "metadata": {
  "language_info": {
   "name": "python"
  }
 },
 "nbformat": 4,
 "nbformat_minor": 5
}
