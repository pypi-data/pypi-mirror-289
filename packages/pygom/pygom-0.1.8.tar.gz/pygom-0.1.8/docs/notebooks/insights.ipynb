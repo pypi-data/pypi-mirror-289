{
 "cells": [
  {
   "cell_type": "markdown",
   "id": "e395ad9b",
   "metadata": {},
   "source": [
    "# ODE Insights\n",
    "\n",
    "Now that our SIR model is encapsulated in the {class}`.SimulateOde` class, it is ready to be studied using PyGOM's various functionalities.\n",
    "Before moving on to more complex methods such as parameter fitting and simulation, we can take advantage of several useful features of PyGOM which provide us with more analytical insights - the sort we might commonly find ourselves calculating, requiring pen and paper to do so."
   ]
  }
 ],
 "metadata": {
  "kernelspec": {
   "display_name": "Python 3.9.15 ('sphinx-doc')",
   "language": "python",
   "name": "python3"
  },
  "language_info": {
   "codemirror_mode": {
    "name": "ipython",
    "version": 3
   },
   "file_extension": ".py",
   "mimetype": "text/x-python",
   "name": "python",
   "nbconvert_exporter": "python",
   "pygments_lexer": "ipython3",
   "version": "3.9.19"
  },
  "vscode": {
   "interpreter": {
    "hash": "4dc1e323c80fe09539c74ad5c5a7c7d8d9ff99e04f7b3dbd3680daf878629d6e"
   }
  }
 },
 "nbformat": 4,
 "nbformat_minor": 5
}
