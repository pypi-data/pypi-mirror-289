{
 "cells": [
  {
   "cell_type": "markdown",
   "metadata": {},
   "source": [
    "# Model set-up using the transition object\n",
    "\n",
    "The most important part of setting up the model is to correctly define the set ODEs, which is based solely on the classes defined in `transition`. These transitions describe how members of one state can move into another state. We choose to define the models using transitions because it enables the computer to do our book-keeping, therefore reducing the error of, for example, including a flow out of one state, but forgetting to include it in the recipient state. (This does not apply to birth and death processes.) \n",
    "\n",
    "\n",
    "All transitions that get fed into the ODE system need to be defined as a transition object, `Transition`. It takes a total of four input arguments:\n",
    "\n",
    "1.  The origin state\n",
    "2.  Equation that describe the process\n",
    "3.  The type of transition\n",
    "4.  The destination state\n",
    "\n",
    "where the first three are mandatory. To demonstrate, we go back to the SIR model defined previously in the section {doc}`sir`. Recall that the set of ODEs are\n",
    "\n",
    "$$\\begin{aligned}\n",
    " \\frac{d S}{d t} &= - beta SI \\\\\n",
    "\\frac{d I}{d t} &= beta SI - \\gamma I \\\\\n",
    "\\frac{d R}{d t} &= \\gamma I.\n",
    "\\end{aligned}$$\n",
    "\n",
    "We can define the set of ODEs, as seen previously, via"
   ]
  },
  {
   "cell_type": "code",
   "execution_count": null,
   "id": "68d41d64",
   "metadata": {},
   "outputs": [],
   "source": [
    "from pygom import Transition, TransitionType, common_models\n",
    "\n",
    "ode1 = Transition(origin='S', equation='-beta*S*I', transition_type=TransitionType.ODE)\n",
    "\n",
    "ode2 = Transition(origin='I', equation='beta*S*I - gamma*I', transition_type=TransitionType.ODE)\n",
    "\n",
    "ode3 = Transition(origin='R', equation='gamma*I', transition_type=TransitionType.ODE)"
   ]
  },
  {
   "cell_type": "markdown",
   "id": "d393a33a",
   "metadata": {},
   "source": [
    "\n",
    "Note that we need to state explicitly the type of equation we are\n",
    "inputting, which is simply of type **ODE** in this case. We can confirm\n",
    "this has been entered correctly by putting it into `DeterministicOde`,"
   ]
  },
  {
   "cell_type": "code",
   "execution_count": null,
   "id": "3b0801dd",
   "metadata": {},
   "outputs": [],
   "source": [
    "from pygom import DeterministicOde\n",
    "\n",
    "stateList = ['S', 'I', 'R']\n",
    "\n",
    "paramList = ['beta', 'gamma']\n",
    "\n",
    "model = DeterministicOde(stateList, paramList, ode=[ode1, ode2, ode3])"
   ]
  },
  {
   "cell_type": "markdown",
   "id": "6e764826",
   "metadata": {},
   "source": [
    "\n",
    "and then checking it.\n"
   ]
  },
  {
   "cell_type": "code",
   "execution_count": null,
   "id": "5782a96f",
   "metadata": {},
   "outputs": [],
   "source": [
    "model.get_ode_eqn()"
   ]
  },
  {
   "cell_type": "markdown",
   "id": "c693cbc7",
   "metadata": {},
   "source": [
    "Now we are going to show the different ways of defining the same set of\n",
    "ODEs.\n"
   ]
  },
  {
   "cell_type": "markdown",
   "id": "fa631d9f",
   "metadata": {},
   "source": [
    "(transition:defining-the-equations)=\n",
    "## Defining the equations\n",
    "\n",
    "We first recognize that the set of ODEs defining the SIR model are the result of\n",
    "two transitions,\n",
    "\n",
    "$$\\begin{aligned}\n",
    "S \\rightarrow I &= \\beta SI \\\\\n",
    "I \\rightarrow R &= \\gamma I\n",
    "\\end{aligned}$$\n",
    "\n",
    "where $S \\rightarrow I$ denotes a transition from state $S$ to state\n",
    "$I$. Therefore, we can define our model by these two transitions,\n",
    "but they need to be passed as the `transition`\n",
    "argument instead of the `ode` argument of `DeterministicOde` or `SimulateOde`.\n",
    "\n",
    "```{note}\n",
    "We are initializing the model using the `SimulateOde` class, rather than `DeterministicOde`, because the stochastic implementation has more available operations on transitions.\n",
    "```"
   ]
  },
  {
   "cell_type": "code",
   "execution_count": null,
   "id": "6966fc5e",
   "metadata": {},
   "outputs": [],
   "source": [
    "from pygom import SimulateOde\n",
    "\n",
    "t1 = Transition(origin='S', destination='I', equation='beta*S*I', transition_type=TransitionType.T)\n",
    "\n",
    "t2 = Transition(origin='I', destination='R', equation='gamma*I', transition_type=TransitionType.T)\n",
    "\n",
    "modelTrans = SimulateOde(stateList, paramList, transition=[t1, t2])\n",
    "\n",
    "modelTrans.get_ode_eqn()"
   ]
  },
  {
   "cell_type": "markdown",
   "id": "b896d5c9",
   "metadata": {},
   "source": [
    "\n",
    "We can see that the resulting ODE is exactly the same, as expected. The\n",
    "transition matrix that defines this process can be visualized\n",
    "using graphviz. Because only certain renderers permit the use of sub and\n",
    "superscript, operators such as $**$ are left as they are in the\n",
    "equation."
   ]
  },
  {
   "cell_type": "code",
   "execution_count": null,
   "id": "1e17eb7c",
   "metadata": {},
   "outputs": [],
   "source": [
    "modelTrans.get_transition_matrix()"
   ]
  },
  {
   "cell_type": "code",
   "execution_count": null,
   "id": "570ceed5",
   "metadata": {},
   "outputs": [],
   "source": [
    "import matplotlib.pyplot as plt\n",
    "# TODO why are two images produced? issue #75\n",
    "modelTrans.get_transition_graph(show=True)"
   ]
  },
  {
   "cell_type": "markdown",
   "id": "5d982b87",
   "metadata": {},
   "source": [
    "```{warning}\n",
    "The execution will error if the incorrect `TransitionType` is used against the wrong argument.\n",
    "\n",
    "`modelTrans = DeterministicOde(stateList, paramList, ode=[t1, t2])`\n",
    "\n",
    "Here the error occurs because `t1` and `t2` used `transition_type=TransitionType.T` argument, but `DeterministicOde` is expecting a `TransitionType.ODE` argument.\n",
    "\n",
    "Similarly `DeterministicOde(stateList, paramList, transition=[ode1, ode2, ode3])` would fail.\n",
    "\n",
    "This therefore forces us to construct our model carefully.\n",
    "```"
   ]
  },
  {
   "cell_type": "markdown",
   "id": "d590f4d5",
   "metadata": {},
   "source": [
    "The third option is to reframe the system as a set of birth processes, using `transition_type=TransitionType.B`. For this simple example, this formulation takes a similar form to defining using ODE equations.\n"
   ]
  },
  {
   "cell_type": "code",
   "execution_count": null,
   "id": "9f24cb0a",
   "metadata": {},
   "outputs": [],
   "source": [
    "birth1 = Transition(origin='S', equation='-beta*S*I', transition_type=TransitionType.B)\n",
    "\n",
    "birth2 = Transition(origin='I', equation='beta*S*I - gamma*I', transition_type=TransitionType.B)\n",
    "\n",
    "birth3 = Transition(origin='R', equation='gamma*I', transition_type=TransitionType.B)\n",
    "\n",
    "modelBirth = DeterministicOde(stateList, paramList, birth_death=[birth1, birth2, birth3])\n",
    "\n",
    "modelBirth.get_ode_eqn()\n"
   ]
  },
  {
   "cell_type": "markdown",
   "id": "f1d61012",
   "metadata": {},
   "source": [
    "Alternatively, we can use the negative of the equation to configure the ODEs to represent death processes. Since the death process is the removal of a flow, we take the negative of the birth process alongside using `transition_type=TransitionType.D`."
   ]
  },
  {
   "cell_type": "code",
   "execution_count": null,
   "id": "9a3b3758",
   "metadata": {},
   "outputs": [],
   "source": [
    "death1 = Transition(origin='S', equation='beta*S*I', transition_type=TransitionType.D)\n",
    "\n",
    "birth2 = Transition(origin='I', equation='beta*S*I - gamma*I', transition_type=TransitionType.B)\n",
    "\n",
    "death3 = Transition(origin='R', equation='-gamma*I', transition_type=TransitionType.D)\n",
    "\n",
    "modelBD = DeterministicOde(stateList, paramList, birth_death=[death1, birth2, death3])\n",
    "\n",
    "modelBD.get_ode_eqn()"
   ]
  },
  {
   "cell_type": "markdown",
   "id": "1c8d48b8",
   "metadata": {},
   "source": [
    "\n",
    "We can see that all four approaches have yielded the same set of ODEs at the end."
   ]
  },
  {
   "cell_type": "markdown",
   "id": "23a105af",
   "metadata": {},
   "source": [
    "\n",
    "## Model Addition\n",
    "\n",
    "Because we allow the separation of transitions between states and birth/death processes, the birth/death processes can be added later on. The following example takes the model that was defined using transitions (`modelTrans`) and includes a birth process to the $S$ state, and death processes to the $S$ and $I$ states."
   ]
  },
  {
   "cell_type": "code",
   "execution_count": null,
   "id": "3a6a15ea",
   "metadata": {},
   "outputs": [],
   "source": [
    "modelBD2 = modelTrans\n",
    "\n",
    "modelBD2.param_list = paramList + ['mu', 'B']\n",
    "\n",
    "birthDeathList = [Transition(origin='S', equation='B', transition_type=TransitionType.B),  \n",
    "                  Transition(origin='S', equation='mu*S', transition_type=TransitionType.D), \n",
    "                  Transition(origin='I', equation='mu*I', transition_type=TransitionType.D)\n",
    "                  ]\n",
    "\n",
    "modelBD2.birth_death_list = birthDeathList\n",
    "\n",
    "modelBD2.get_ode_eqn()"
   ]
  },
  {
   "cell_type": "markdown",
   "id": "076bdc12",
   "metadata": {},
   "source": [
    "\n",
    "This demonstrates that we can approach our in stages. Start off with a standard closed system using `TransitionType.T`, and then extend it with additional flows that interact with the populations' surrounding environments using `TransitionType.B` or `TransitionType.D`."
   ]
  },
  {
   "cell_type": "markdown",
   "id": "ec63c1e1",
   "metadata": {},
   "source": [
    "## Transition type summary\n",
    "\n",
    "In summary, there are four different types of transitions allowed. These are B, D, ODE and T, which are defined in an enum class also located in `transition`."
   ]
  },
  {
   "cell_type": "code",
   "execution_count": null,
   "id": "ce5787f8",
   "metadata": {},
   "outputs": [],
   "source": [
    "from pygom import transition\n",
    "\n",
    "for i in transition.TransitionType:  \n",
    "    print(str(i) + \" = \" + i.value)\n"
   ]
  },
  {
   "cell_type": "markdown",
   "id": "89607b7d",
   "metadata": {},
   "source": [
    "Each birth process is added to the origin state, while each death\n",
    "process is deducted from the origin state (alternatively added to the state after\n",
    "multiplying the flow with a negative sign). An ODE type is also added to the state, but we forbid the number of input ODEs to be greater than the number of states inputted. These strict definitions should help us to improve the bookeeping of states and flows when we have models of greater complexity."
   ]
  }
 ],
 "metadata": {
  "kernelspec": {
   "display_name": "Python 3.9.15 ('sphinx-doc')",
   "language": "python",
   "name": "python3"
  },
  "language_info": {
   "codemirror_mode": {
    "name": "ipython",
    "version": 3
   },
   "file_extension": ".py",
   "mimetype": "text/x-python",
   "name": "python",
   "nbconvert_exporter": "python",
   "pygments_lexer": "ipython3",
   "version": "3.9.15"
  },
  "vscode": {
   "interpreter": {
    "hash": "4dc1e323c80fe09539c74ad5c5a7c7d8d9ff99e04f7b3dbd3680daf878629d6e"
   }
  }
 },
 "nbformat": 4,
 "nbformat_minor": 5
}
