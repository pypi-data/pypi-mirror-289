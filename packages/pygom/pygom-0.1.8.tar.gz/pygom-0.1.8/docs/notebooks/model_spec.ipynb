{
 "cells": [
  {
   "cell_type": "markdown",
   "id": "5d9ccebd",
   "metadata": {},
   "source": [
    "# Defining an ODE system\n",
    "\n",
    "The starting point, when using PyGOM to study an ODE system, is to encapsulate the relevant information into a class {class}`.SimulateOde`.\n",
    "Once defined as an instance of this class, the ODE system is ready for the application of PyGOM's various features such as simulation and parameter fitting.\n",
    "\n",
    "## Equations vs Transitions\n",
    "\n",
    "Firstly, we outline the two main ways we might think about defining our ODE system.\n",
    "Typically, we may already know the set of equations which describes the rates of change of the dependent variables:\n",
    "\n",
    "$$\\frac{\\mathrm{d} \\mathbf{y}}{\\mathrm{d} t} = f(\\mathbf{y},\\boldsymbol{\\theta}, t)$$\n",
    "\n",
    "where $\\mathbf{y} = \\left(y_{1},\\ldots,y_{n}\\right)$ is a vector of the dependent variables, $\\boldsymbol{\\theta} = \\left(\\theta_{1},\\ldots, \\theta_{p}\\right)$ is the set of parameters and $f$ is a vector function giving the rates of change of each dependent variable.\n",
    "Typically, as we have used here, rates of change are with respect to time, $t$, though other variables such as position are also common.\n",
    "\n",
    "Compartmental models, whereby the dependent variables represent categories or states, have another interpretation in which we may instead consider transitions between the different groups:\n",
    "\n",
    "$$\\begin{aligned}\n",
    "y_i \\rightarrow y_j = f_{i,j}(\\mathbf{y},\\boldsymbol{\\theta}) \\\\\n",
    "\\end{aligned}$$\n",
    "\n",
    "where $i, j = \\{1,\\ldots, n\\}$ and $f_{i,j}$ are functions governing the rate at which members of group $i$ transition to group $j$.\n",
    "Since flows are symmetric ($f_{i,j}=-f_{j,i}$) and a group cannot flow into itself ($f_{i,i}=0$), we need only specify rates for one half of the transition matrix ($i>j$ or $j>i$).\n",
    "\n",
    "PyGOM allows the user flexibility in choosing which of these perspectives to use, or indeed combine, in order to build their models.\n",
    "If given transitions, PyGOM will automatically convert these into equations and, {doc}`as we'll see later <unroll/unrollSimple>`, it can also attempt to reverse engineer transitions from equations.\n",
    "\n",
    "## Example: SIR model\n",
    "\n",
    "Here we use a Susceptible-Infected-Recovered epidemic model (an SIR model, for short) to demonstrate the two different ways PyGOM supports model specification.\n",
    "Since we will frequently rely on the SIR model in examples throughout this tutorial, we take a moment here to outline its key features.\n",
    "\n",
    "```{warning}\n",
    "There is some ambiguity in the naming of the Recovered class which is also commonly referred to as Removed.\n",
    "In the latter sense, there is no distinction made between those who can no longer be infected due to infection acquired immunity and infection induced death.\n",
    "However, for more complex models, the recovered class may become susceptible again due to the effects of immune waning and deaths versus recoveries are typically important to distinguish in real world applications.\n",
    "Therefore, in this tutorial, the Recovered class will be reserved solely for those who survive infection.\n",
    "```\n",
    "\n",
    "The assumptions of the SIR model can be stated as:\n",
    "1) An average member of the population makes contact sufficient to transmit or receive infection with $c$ others per unit time. Each of these events carries a probability, $p$, of transmission such that each individual has an average of $cp = \\beta$ infectious contacts per unit time. This fixed contact rate reflects what is referred to as *standard* incidence, as opposed to *mass-action* incidence, where contacts per person are proportional to the total population size, $N$.\n",
    "2) The population interacts heterogeneously as if a well mixed continuum.\n",
    "For instance, a susceptible does not have contacts with other individuals, but with the entire population on average.\n",
    "3) The infective class recovers at a rate, $\\gamma$.\n",
    "4) No births, deaths (natural or from disease) or migration mean there is no entry into or departure from the population: $S(t)+I(t)+R(t)=N$.\n",
    "\n",
    "Under these assumptions, the rates of change of the population in each compartment (**S**usceptible, **I**nfected and **R**ecovered) are given by the following equations:\n",
    "\n",
    "$$\\begin{aligned}\n",
    "\\frac{\\mathrm{d} S}{\\mathrm{d} t} &= -\\frac{\\beta SI}{N} \\\\\n",
    "\\frac{\\mathrm{d} I}{\\mathrm{d} t} &= \\frac{\\beta SI}{N} - \\gamma I \\\\\n",
    "\\frac{\\mathrm{d} R}{\\mathrm{d} t} &= \\gamma I.\n",
    "\\end{aligned}$$\n",
    "\n",
    "However, it is equally valid to view this system as the result of two transitions; infection, which takes subjects from susceptible to infected and recovery, which takes them from infected to recovered:\n",
    "\n",
    "$$\\begin{aligned}\n",
    "S \\rightarrow I &= \\frac{\\beta SI}{N} \\\\\n",
    "I \\rightarrow R &= \\gamma I\n",
    "\\end{aligned}$$\n",
    "\n",
    "where the left hand side of each equation indicates the transition and the right hand side the rate at which it occurs.\n",
    "One advantage of specifying our system using the transition approach is that many will find transitions a more intuitive language when thinking about compartmental models.\n",
    "Perhaps more beneficial, though, is that when building models with transitions using PyGOM, it enables the computer to do our book-keeping when converting transitions to ODE equations.\n",
    "This reduces the error of, for example, including a flow out of one state, but forgetting to include it in the recipient state.\n",
    "For example, in the case above, when indicating infections with $-\\frac{\\beta SI}{N}$ in the $S$ equation, we had to remember to include the opposite sign in the $I$ equation.\n",
    "\n",
    "## Defining the model with PyGOM\n",
    "\n",
    "Defining the system is handled by feeding {class}`.Transition` objects into the central class, {class}`.SimulateOde`.\n",
    "An instance of the {class}`.Transition` class takes one of four types, which are specified by the `transition_type` argument, letting {class}`.SimulateOde` know which type of information it is being given.\n",
    "This type could be `Transition` or `ODE`, as we've just been discussing, or one of two other available options, namely `Birth` and `Death` processes.\n",
    "The {class}`.Transition` class accepts 3 or 4 parameters depending on which type is being defined, as summarised in the below table:\n",
    "\n",
    "|                 |          Transition             |            Equation               |                  Birth                 |                  Death                 |\n",
    "|:---------------:|:-------------------------------:|:---------------------------------:|:--------------------------------------:|:--------------------------------------:|\n",
    "| transition_type | T                               | ODE                               | B                                      | D                                      |\n",
    "| origin          | State transition is from, $y_i$ | State equation pertains to, $y_i$ | State birth process populates, $y_i$   | State death process depletes, $y_i$    |\n",
    "| destination     | State transition is to, $y_j$   | n/a                               | n/a                                    | n/a                                    |\n",
    "| equation        | $f_{i,j}$                       | $\\frac{dy_i}{dt}$                 | $\\frac{dy_i}{dt}$ due to birth process | $\\frac{dy_i}{dt}$ due to death process |\n",
    "\n",
    "```{note}\n",
    "Arguably, the state which the birth process populates could be defined as a destination rather than an origin, but this is not the convention adopted here.\n",
    "\n",
    "Furthermore, the {class}`.Transition` class may have been better named.\n",
    "One of the four possible input types is also called \"transition\", which would incorrectly imply that it has a special place within the class, given that it shares its name.\n",
    "```\n",
    "\n",
    "Let's see how this is implemented for our example SIR system.\n",
    "We import the relevant modules and then define our transitions:"
   ]
  },
  {
   "cell_type": "code",
   "execution_count": 1,
   "id": "4c80a36a",
   "metadata": {},
   "outputs": [],
   "source": [
    "from pygom import Transition, TransitionType\n",
    "\n",
    "# Define SIR model through a list of ODEs\n",
    "odeList = [\n",
    "    Transition(transition_type=TransitionType.ODE, origin='S', equation='-beta*S*I/N'),\n",
    "    Transition(transition_type=TransitionType.ODE, origin='I', equation='beta*S*I/N - gamma*I'),\n",
    "    Transition(transition_type=TransitionType.ODE, origin='R', equation='gamma*I') \n",
    "]\n",
    "\n",
    "# Define SIR model through a list of transitions\n",
    "transList = [\n",
    "    Transition(transition_type=TransitionType.T, origin='S', destination='I', equation='beta*S*I/N'),\n",
    "    Transition(transition_type=TransitionType.T, origin='I', destination='R', equation='gamma*I')\n",
    "]"
   ]
  },
  {
   "cell_type": "markdown",
   "id": "bc7ee766",
   "metadata": {},
   "source": [
    "We now initialise two {class}`.SimulateOde` objects using these different approaches.\n",
    "In addition to the ODE or transition information, we must specify which variables are parameters and which refer to states:"
   ]
  },
  {
   "cell_type": "code",
   "execution_count": 2,
   "id": "511317c9",
   "metadata": {},
   "outputs": [],
   "source": [
    "stateList = ['S', 'I', 'R']\n",
    "paramList = ['beta', 'gamma', 'N']"
   ]
  },
  {
   "cell_type": "markdown",
   "id": "b6a2bec7",
   "metadata": {},
   "source": [
    "We import the relevant module and define the model in two different ways:"
   ]
  },
  {
   "cell_type": "code",
   "execution_count": 3,
   "id": "aceb211a",
   "metadata": {},
   "outputs": [],
   "source": [
    "from pygom import SimulateOde\n",
    "model_ode = SimulateOde(state=stateList, param=paramList, ode=odeList)           # model defined via equations\n",
    "model_tra = SimulateOde(state=stateList, param=paramList, transition=transList)  # model defined via transitions"
   ]
  },
  {
   "cell_type": "markdown",
   "id": "8e38d76b",
   "metadata": {},
   "source": [
    "We can use the {func}`.get_ode_eqn` function to verify that the models are equivalent:"
   ]
  },
  {
   "cell_type": "code",
   "execution_count": 4,
   "id": "d0fb6c20",
   "metadata": {},
   "outputs": [
    {
     "data": {
      "text/latex": [
       "$\\displaystyle \\left[\\begin{matrix}- \\frac{I S \\beta}{N}\\\\- I \\gamma + \\frac{I S \\beta}{N}\\\\I \\gamma\\end{matrix}\\right]$"
      ],
      "text/plain": [
       "Matrix([\n",
       "[          -I*S*beta/N],\n",
       "[-I*gamma + I*S*beta/N],\n",
       "[              I*gamma]])"
      ]
     },
     "execution_count": 4,
     "metadata": {},
     "output_type": "execute_result"
    }
   ],
   "source": [
    "model_ode.get_ode_eqn()"
   ]
  },
  {
   "cell_type": "code",
   "execution_count": 5,
   "id": "4e8ec9a3",
   "metadata": {},
   "outputs": [
    {
     "data": {
      "text/latex": [
       "$\\displaystyle \\left[\\begin{matrix}- \\frac{I S \\beta}{N}\\\\- I \\gamma + \\frac{I S \\beta}{N}\\\\I \\gamma\\end{matrix}\\right]$"
      ],
      "text/plain": [
       "Matrix([\n",
       "[          -I*S*beta/N],\n",
       "[-I*gamma + I*S*beta/N],\n",
       "[              I*gamma]])"
      ]
     },
     "execution_count": 5,
     "metadata": {},
     "output_type": "execute_result"
    }
   ],
   "source": [
    "model_tra.get_ode_eqn()"
   ]
  },
  {
   "cell_type": "markdown",
   "id": "205dec3d",
   "metadata": {},
   "source": [
    "## Modifying models\n",
    "\n",
    "Once an instance of {class}`.SimulateOde` has been defined it may be modified.\n",
    "For example, let's say we wish to add birth and death processes to the the previously defined SIR model of `model_ode`.\n",
    "Time dependent parameters can be complicated in PyGOM, so here we will assume that birth and death rates cancel out so that $N$ remains a constant parameter.\n",
    "If we assume that the birth rate is proportional to the total population, $\\mu N$, then balance can be achieved with a death rate from each compartment also proportional to $\\mu$ giving a total death rate of $\\mu (S+I+R)=\\mu N$\n",
    "We must update the parameters of the class to reflect any additions:"
   ]
  },
  {
   "cell_type": "code",
   "execution_count": 6,
   "id": "0923151d",
   "metadata": {},
   "outputs": [],
   "source": [
    "model_ode.param_list = model_ode.param_list + ['mu']"
   ]
  },
  {
   "cell_type": "markdown",
   "id": "f9236e77",
   "metadata": {},
   "source": [
    "We then include the additional processes, where we assume that all new births enter the population as susceptibles:"
   ]
  },
  {
   "cell_type": "code",
   "execution_count": 7,
   "id": "9b1546f8",
   "metadata": {},
   "outputs": [],
   "source": [
    "birthDeathList = [Transition(origin='S', equation='mu*N', transition_type=TransitionType.B),  \n",
    "                  Transition(origin='S', equation='mu*S', transition_type=TransitionType.D), \n",
    "                  Transition(origin='I', equation='mu*I', transition_type=TransitionType.D), \n",
    "                  Transition(origin='R', equation='mu*R', transition_type=TransitionType.D)]\n",
    "\n",
    "model_ode.birth_death_list = birthDeathList"
   ]
  },
  {
   "cell_type": "markdown",
   "id": "3685b2e1",
   "metadata": {},
   "source": [
    "We can again use {func}`.get_ode_eqn` to verify that the equations are updated correctly:"
   ]
  },
  {
   "cell_type": "code",
   "execution_count": 8,
   "id": "6cc2ba1a",
   "metadata": {},
   "outputs": [
    {
     "data": {
      "text/latex": [
       "$\\displaystyle \\left[\\begin{matrix}- \\frac{I S \\beta}{N} + N \\mu - S \\mu\\\\- I \\gamma - I \\mu + \\frac{I S \\beta}{N}\\\\I \\gamma - R \\mu\\end{matrix}\\right]$"
      ],
      "text/plain": [
       "Matrix([\n",
       "[   -I*S*beta/N + N*mu - S*mu],\n",
       "[-I*gamma - I*mu + I*S*beta/N],\n",
       "[              I*gamma - R*mu]])"
      ]
     },
     "execution_count": 8,
     "metadata": {},
     "output_type": "execute_result"
    }
   ],
   "source": [
    "model_ode.get_ode_eqn()"
   ]
  }
 ],
 "metadata": {
  "kernelspec": {
   "display_name": "Python 3.9.15 ('sphinx-doc')",
   "language": "python",
   "name": "python3"
  },
  "language_info": {
   "codemirror_mode": {
    "name": "ipython",
    "version": 3
   },
   "file_extension": ".py",
   "mimetype": "text/x-python",
   "name": "python",
   "nbconvert_exporter": "python",
   "pygments_lexer": "ipython3",
   "version": "3.9.19"
  },
  "vscode": {
   "interpreter": {
    "hash": "4dc1e323c80fe09539c74ad5c5a7c7d8d9ff99e04f7b3dbd3680daf878629d6e"
   }
  }
 },
 "nbformat": 4,
 "nbformat_minor": 5
}
