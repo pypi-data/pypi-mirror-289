{
 "cells": [
  {
   "cell_type": "markdown",
   "metadata": {},
   "source": [
    "# Epidemic Analysis\n",
    "\n",
    "We demonstrate some of the simpler algebraic analysis that you may wish to undertake on a compartmental model.\n",
    "\n",
    "First, we initialize an SIR model, this time by importing it from {mod}`.common_models`, rather than constructing it ourselves:"
   ]
  },
  {
   "cell_type": "code",
   "execution_count": 1,
   "id": "8c84ea26",
   "metadata": {},
   "outputs": [],
   "source": [
    "from pygom import common_models\n",
    "\n",
    "ode = common_models.SIR_Birth_Death()"
   ]
  },
  {
   "cell_type": "markdown",
   "id": "8432a422",
   "metadata": {},
   "source": [
    "We can verify"
   ]
  },
  {
   "cell_type": "code",
   "execution_count": 2,
   "id": "f7610d25",
   "metadata": {},
   "outputs": [
    {
     "data": {
      "text/latex": [
       "$\\displaystyle \\left[\\begin{matrix}B - I S \\beta - S \\mu\\\\I S \\beta - I \\gamma - I \\mu\\\\I \\gamma\\end{matrix}\\right]$"
      ],
      "text/plain": [
       "Matrix([\n",
       "[      B - I*S*beta - S*mu],\n",
       "[I*S*beta - I*gamma - I*mu],\n",
       "[                  I*gamma]])"
      ]
     },
     "execution_count": 2,
     "metadata": {},
     "output_type": "execute_result"
    }
   ],
   "source": [
    "ode.get_ode_eqn()"
   ]
  },
  {
   "cell_type": "markdown",
   "id": "ea8c4b15",
   "metadata": {},
   "source": [
    "## Obtaining the reproduction number (R0)\n",
    "\n",
    "To obtain $R_{0}$, we need have to tell the {func}`.R0` function which states\n",
    "represent the *disease state*, which in this case is the state **I**.\n",
    "\n",
    "#TODO is this the disease state, or the infectious state?"
   ]
  },
  {
   "cell_type": "code",
   "execution_count": 3,
   "id": "d66498eb",
   "metadata": {},
   "outputs": [
    {
     "data": {
      "text/latex": [
       "$\\displaystyle \\frac{B \\beta}{\\mu \\left(\\gamma + \\mu\\right)}$"
      ],
      "text/plain": [
       "B*beta/(mu*(gamma + mu))"
      ]
     },
     "execution_count": 3,
     "metadata": {},
     "output_type": "execute_result"
    }
   ],
   "source": [
    "from pygom.model.epi_analysis import *\n",
    "\n",
    "R0(ode, 'I')"
   ]
  },
  {
   "cell_type": "markdown",
   "id": "0130ca70",
   "metadata": {},
   "source": [
    "\n",
    "## Algebraic R0\n",
    "\n",
    "We may also wish to get the $R_{0}$ in pure algebraic term. This can be\n",
    "achieved by the following few lines of code. Note that the result below is\n",
    "slightly different from the one above. The difference is due to the\n",
    "internal working of the functions, where {func}`.getR0` computes the\n",
    "disease-free equilibrium value for the states and substitutes them back\n",
    "into the equation."
   ]
  },
  {
   "cell_type": "code",
   "execution_count": 4,
   "id": "717c6868",
   "metadata": {},
   "outputs": [
    {
     "name": "stdout",
     "output_type": "stream",
     "text": [
      "[S*beta/(gamma + mu)]\n"
     ]
    }
   ],
   "source": [
    "F, V = disease_progression_matrices(ode, 'I')\n",
    "\n",
    "e = R0_from_matrix(F, V)\n",
    "\n",
    "print(e)"
   ]
  },
  {
   "cell_type": "markdown",
   "id": "a8c270b9",
   "metadata": {},
   "source": [
    "To replicate the output before, we have to find the values where the\n",
    "disease-free equilibrium will be achieved. Substitution can then be\n",
    "performed to retrieve $R_{0}$ in pure parameters."
   ]
  },
  {
   "cell_type": "code",
   "execution_count": null,
   "id": "fa0cc36c",
   "metadata": {
    "vscode": {
     "languageId": "javascript"
    }
   },
   "outputs": [],
   "source": [
    "dfe = DFE(ode, ['I'])\n",
    "\n",
    "print(dfe)\n",
    "\n",
    "print(e[0].subs(dfe))"
   ]
  }
 ],
 "metadata": {
  "kernelspec": {
   "display_name": "Python 3.9.15 ('sphinx-doc')",
   "language": "python",
   "name": "python3"
  },
  "language_info": {
   "codemirror_mode": {
    "name": "ipython",
    "version": 3
   },
   "file_extension": ".py",
   "mimetype": "text/x-python",
   "name": "python",
   "nbconvert_exporter": "python",
   "pygments_lexer": "ipython3",
   "version": "3.9.19"
  },
  "vscode": {
   "interpreter": {
    "hash": "4dc1e323c80fe09539c74ad5c5a7c7d8d9ff99e04f7b3dbd3680daf878629d6e"
   }
  }
 },
 "nbformat": 4,
 "nbformat_minor": 5
}
