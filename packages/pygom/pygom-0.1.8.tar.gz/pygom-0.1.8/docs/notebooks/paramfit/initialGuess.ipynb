{
 "cells": [
  {
   "cell_type": "markdown",
   "metadata": {},
   "source": [
    "# Obtaining good initial values for parameters\n",
    "\n",
    "## Function Interpolation\n",
    "\n",
    "When we want to fit the model to data, one of the necessary steps is to\n",
    "supply the optimization procedure a good set of initial guess for the\n",
    "parameters $\\theta$. This may be a challenge when we do have a good\n",
    "understanding of the process we are trying to model i.e. infectious\n",
    "diseases may all follow the same SIR process but with vastly different\n",
    "incubation period.\n",
    "\n",
    "A method to obtain such initial guess based on the collocation is\n",
    "available in this package. A restriction is that data must be present\n",
    "for all states. We demonstrate this using the FitzHugh-Nagumo model ({func}`.FitzHugh`).\n",
    "\n"
   ]
  },
  {
   "cell_type": "code",
   "execution_count": null,
   "id": "1c0c4de8",
   "metadata": {},
   "outputs": [],
   "source": [
    "from pygom import SquareLoss, common_models, get_init\n",
    "\n",
    "import numpy\n",
    "\n",
    "x0 = [-1.0, 1.0]\n",
    "\n",
    "t0 = 0\n",
    "\n",
    "# params\n",
    "\n",
    "paramEval = [('a',0.2), ('b',0.2), ('c',3.0)]\n",
    "\n",
    "ode = common_models.FitzHugh(paramEval)\n",
    "\n",
    "ode.initial_values = (x0, t0)\n",
    "\n",
    "t = numpy.linspace(1, 20, 30).astype('float64')\n",
    "\n",
    "solution = ode.integrate(t)\n"
   ]
  },
  {
   "cell_type": "markdown",
   "id": "08e8fe54",
   "metadata": {},
   "source": [
    "Below, we try to find the initial guess without supplying any further\n",
    "information. The underlying method fits a cubic spline against the\n",
    "observation and tries to minimize the difference between the first\n",
    "derivative of the spline and the function of the ode. Varying degree of\n",
    "smoothness penalty is applied to the spline and the best set of\n",
    "parameters is the ones that yields the smallest total error, combining\n",
    "both the fit of the spline against data and the spline against the ode.\n",
    "\n"
   ]
  },
  {
   "cell_type": "code",
   "execution_count": null,
   "id": "5766f56e",
   "metadata": {},
   "outputs": [],
   "source": [
    "theta, sInfo = get_init(solution[1::,:], t, ode, theta=None, full_output=True)\n",
    "\n",
    "print(theta)"
   ]
  },
  {
   "cell_type": "code",
   "execution_count": null,
   "id": "cf832fff",
   "metadata": {},
   "outputs": [],
   "source": [
    "print(sInfo)"
   ]
  },
  {
   "cell_type": "markdown",
   "id": "597d8480",
   "metadata": {},
   "source": [
    "\n",
    "As seen above, we have obtained a very good guess of the parameters, in\n",
    "fact almost the same as the generating process. The information\n",
    "regarding the smoothing factor shows that the amount of penalty used is\n",
    "small, which is expected given that we use the solution of the ode as\n",
    "observations."
   ]
  }
 ],
 "metadata": {
  "kernelspec": {
   "display_name": "Python 3.9.15 ('sphinx-doc')",
   "language": "python",
   "name": "python3"
  },
  "language_info": {
   "name": "python",
   "version": "3.9.15"
  },
  "vscode": {
   "interpreter": {
    "hash": "4dc1e323c80fe09539c74ad5c5a7c7d8d9ff99e04f7b3dbd3680daf878629d6e"
   }
  }
 },
 "nbformat": 4,
 "nbformat_minor": 5
}
