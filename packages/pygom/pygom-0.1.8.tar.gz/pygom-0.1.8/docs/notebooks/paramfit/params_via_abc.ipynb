{
 "cells": [
  {
   "cell_type": "markdown",
   "id": "cad1d1d4",
   "metadata": {},
   "source": [
    "# Parameter Estimation: Approximate Bayesian Computation"
   ]
  },
  {
   "cell_type": "markdown",
   "id": "05daf2f1",
   "metadata": {},
   "source": [
    "Here we demonstrate how PyGOM uses Approximate Bayesian Computation (ABC) to estimate posterior distributions for parameters given a candidate model and some data.\n",
    "As an example, we use synthetic data produced by PyGOM's {doc}`solve_stochast <../model_solver>` function, the result of a stochastic epidemic simulation of an SEIR model with parameters:\n",
    "\n",
    "$\\beta=0.35,\\quad \\alpha=0.5,\\quad \\gamma=0.25,\\quad n_{\\text{pop}}=10^4,\\quad I(t=0)=5$\n",
    "\n",
    "Loading in the data file:"
   ]
  },
  {
   "cell_type": "code",
   "execution_count": null,
   "id": "de300402",
   "metadata": {},
   "outputs": [],
   "source": [
    "import numpy as np\n",
    "\n",
    "out = np.loadtxt('seir_epi_data.txt')\n",
    "t=out[:,0]\n",
    "sol_i_r=out[:,1:3]"
   ]
  },
  {
   "cell_type": "markdown",
   "id": "0ba66de0",
   "metadata": {},
   "source": [
    "We inspect the time series of the daily infected and removed populations:"
   ]
  },
  {
   "cell_type": "code",
   "execution_count": null,
   "id": "7660a673",
   "metadata": {},
   "outputs": [],
   "source": [
    "import matplotlib.pyplot as plt\n",
    "plt.rcParams['figure.figsize'] = [10, 4]\n",
    "f, axarr = plt.subplots(1,2, layout='constrained')\n",
    "axarr[0].scatter(t, sol_i_r[:,0])\n",
    "axarr[1].scatter(t, sol_i_r[:,1])\n",
    "axarr[0].set_title('I')\n",
    "axarr[1].set_title('R')\n",
    "axarr[0].set_xlabel('Time')\n",
    "axarr[1].set_xlabel('Time');"
   ]
  },
  {
   "cell_type": "markdown",
   "id": "b6a77aab",
   "metadata": {},
   "source": [
    "```{note}\n",
    "We typically do not have access to information regarding the total infected population. More commonly reported is the number of new cases in a given time period (or infection times).\n",
    "Furthermore, we are unlikely to know the removed population, unless, for example, the disease results in death with high probability.\n",
    "Nevertheless, the purpose of this chapter is to demonstrate model fitting given a data set and so these departures from reality do not undermine the key messages.\n",
    "```\n",
    "\n",
    "In the next sections, we are going to use PyGOM to obtain estimates for unknown values $\\beta$, $\\alpha$ and $\\gamma$ (assuming that the total population, $N$, and initial number of infecteds, $I(t=0)$, are known).\n",
    "\n",
    "```{note}\n",
    "Again, it is rather unrealistic to know $I(t=0)$ or indeed $N$, but we proceed in this way for the sake of simplicity in our example.\n",
    "```"
   ]
  },
  {
   "cell_type": "markdown",
   "id": "31ebefaa",
   "metadata": {},
   "source": [
    "## Fitting an SEIR model (with Infected and Removed known)\n",
    "\n",
    "To obtain parameter estimates from data, we must provide a candidate model and specify the unknown parameters which we are interested in. Information regarding the candidate model is contained in {func}`abc.create_loss`, which requires:\n",
    "1) A {class}`.SimulateOde` object which describes the system of ODEs.\n",
    "2) The loss function, which describes how we assume observations are distributed about the mean value predicted by the {class}`SimulateOde` object.\n",
    "3) `abc.Parameter` which indicates which parameters we are interested in and their prior distributions.\n",
    "4) The data to which we are fitting the parameters.\n",
    "\n",
    "We start by specifying the ODE system. In this first example, we are going to assume (correctly) that the underlying process is an SEIR model.\n",
    "We need to let the model know the value of $N$, however, a feature of PyGOM is that we must pass values for all parameters.\n",
    "This usually acts to ensure that we do not under-specify the set of parameters when running simulations, however, in this case it requires us to overspecify what we actually know.\n",
    "Thus, even though the other parameters ($\\beta$, $\\alpha$ and $\\gamma$) are unknown, the model expects some values and so for now we can just pass some initial guess (in this case the half way points of our prior distributions defined below), which will be overrode later when we specify ABC parameters."
   ]
  },
  {
   "cell_type": "code",
   "execution_count": null,
   "id": "160c27ec",
   "metadata": {},
   "outputs": [],
   "source": [
    "# Set up pygom object from common models\n",
    "from pygom import common_models\n",
    "\n",
    "n_pop=1e4\n",
    "paramEval=[('beta', 0.5), ('alpha', 1), ('gamma', 0.5), ('N', n_pop)]\n",
    "\n",
    "ode_SEIR = common_models.SEIR_N(param=paramEval)"
   ]
  },
  {
   "cell_type": "markdown",
   "id": "da9675c6",
   "metadata": {},
   "source": [
    "The {class}`Parameter` class is used to specify the parameters we wish to infer and their prior probability distributions.\n",
    "We can choose from any of the distributions included in PyGOM, here taking uniform distributions."
   ]
  },
  {
   "cell_type": "code",
   "execution_count": null,
   "id": "42291b82",
   "metadata": {},
   "outputs": [],
   "source": [
    "from pygom import approximate_bayesian_computation as abc\n",
    "\n",
    "parameters = [abc.Parameter('beta', 'unif', 0, 1, logscale=False),\n",
    "              abc.Parameter('alpha', 'unif', 0, 2, logscale=False),\n",
    "              abc.Parameter('gamma', 'unif', 0, 1, logscale=False)]"
   ]
  },
  {
   "cell_type": "markdown",
   "id": "11aa81ca",
   "metadata": {},
   "source": [
    "Finally, we must specify how observations are produced from the underlying model.\n",
    "If we assume that each data point is the result of a random draw from a Poisson distribution with mean equal to the SEIR model output at that timepoint, we can use the option `PoissonLoss` as our loss function when calling `create_loss` below.\n",
    "Now we combine everything together, including the initial conditions which we are assuming to be known."
   ]
  },
  {
   "cell_type": "code",
   "execution_count": null,
   "id": "dd353fe2",
   "metadata": {},
   "outputs": [],
   "source": [
    "i0=5\n",
    "x0=[n_pop-i0, 0, i0, 0]\n",
    "\n",
    "from pygom import PoissonLoss\n",
    "\n",
    "objSEIR = abc.create_loss(\"PoissonLoss\",         # Loss function\n",
    "                          parameters,            # Unknown parameters and prior distributions\n",
    "                          ode_SEIR,              # Model\n",
    "                          x0, t[0],              # Initial conditions and timepoints\n",
    "                          t[1:], sol_i_r[1:,:],  # Data timepoints and I, R values\n",
    "                          ['I', 'R'])            # Names of compartments in data\n",
    "\n",
    "abcSEIR = abc.ABC(objSEIR, parameters)"
   ]
  },
  {
   "cell_type": "markdown",
   "id": "4009b7ba",
   "metadata": {},
   "source": [
    "A sequential Monte Carlo method (ABC-SMC) is used for parameter inference. This approach considers a series of generations, with each generation using a smaller threshold than the previous. The first generation is equivalent to the standard ABC algorithm, in the sense that parameters are sampled from prior distributions. In subsequent generations, candidate parameters are proposed by perturbing weighted samples from the previous generation. Here, we use a multivariate normal distribution with optimal local covariance matrix to perform the perturbation.\n",
    "\n",
    "The ABC-SMC method requires a couple of additional arguments to `get_posterior_sample`:\n",
    "- G - the number of generations.\n",
    "- q - a quantile (0 < q < 1). Whilst it is possible to specify a list of tolerances to use in each generation, it is difficult to know what these should be. When specifying q, the tolerance for the current generation is set to the q-th quantile of the distances from the previous generation. Larger values of q will result in smaller reductions in thresholds but a higher acceptance rate.\n",
    "\n",
    "We run for 6 generations on our data"
   ]
  },
  {
   "cell_type": "code",
   "execution_count": null,
   "id": "c3c235ba",
   "metadata": {},
   "outputs": [],
   "source": [
    "np.random.seed(1)\n",
    "\n",
    "abcSEIR.get_posterior_sample(N=250, tol=np.inf, G=6, q=0.25, progress=True)"
   ]
  },
  {
   "cell_type": "markdown",
   "id": "c950e11a",
   "metadata": {},
   "source": [
    "If we want to run the method for a few more generations, there is no need to start from the beginning.\n",
    "Instead, we can use {func}`continue_posterior_sample` along with the `next_tol` attribute to set the tolerance.\n",
    "Let's perform 2 additional iterations:"
   ]
  },
  {
   "cell_type": "code",
   "execution_count": null,
   "id": "52063687",
   "metadata": {},
   "outputs": [],
   "source": [
    "abcSEIR.continue_posterior_sample(N=250, tol=abcSEIR.next_tol, G=2, q=0.25, progress=True)"
   ]
  },
  {
   "cell_type": "markdown",
   "id": "83092942",
   "metadata": {},
   "source": [
    "There are built in methods to plot the posterior distribution and the corresponding fit to the data:"
   ]
  },
  {
   "cell_type": "code",
   "execution_count": null,
   "id": "e4dfa76f",
   "metadata": {},
   "outputs": [],
   "source": [
    "abcSEIR.plot_posterior_histograms();\n",
    "abcSEIR.plot_pointwise_predictions();"
   ]
  },
  {
   "cell_type": "markdown",
   "id": "614572bc",
   "metadata": {},
   "source": [
    "The posterior draws are contained within `abcSIR.res`.\n",
    "This can be useful if output needs to be saved, or for calculation credible intervals.\n",
    "We see here that the 95% credible intervals are consistent with the true parameter values."
   ]
  },
  {
   "cell_type": "code",
   "execution_count": null,
   "id": "0cea2db3",
   "metadata": {},
   "outputs": [],
   "source": [
    "print(f'beta={np.median(abcSEIR.res[:,0]):.3f} ({np.quantile(abcSEIR.res[:,0], 0.025):.3f}, {np.quantile(abcSEIR.res[:,0], 0.975):.3f})')\n",
    "print(f'alpha={np.median(abcSEIR.res[:,1]):.3f} ({np.quantile(abcSEIR.res[:,1], 0.025):.3f}, {np.quantile(abcSEIR.res[:,1], 0.975):.3f})')\n",
    "print(f'gamma={np.median(abcSEIR.res[:,2]):.3f} ({np.quantile(abcSEIR.res[:,2], 0.025):.3f}, {np.quantile(abcSEIR.res[:,2], 0.975):.3f})')"
   ]
  },
  {
   "cell_type": "markdown",
   "id": "5c7611b2",
   "metadata": {},
   "source": [
    "## Fitting an SEIR model (with only Infected known)\n",
    "\n",
    "We now fit the same model, but assume we only have access to data concerning the infected component.\n",
    "All that changes code-wise is that we omit the recovered time series when inputting the data and specify that we only have information for the infected population in the last argument of `create_loss`.\n",
    "We do this and run the ABC algorithm for 8 generations."
   ]
  },
  {
   "cell_type": "code",
   "execution_count": null,
   "id": "6132aacd",
   "metadata": {},
   "outputs": [],
   "source": [
    "objSEIR2 = abc.create_loss(\"PoissonLoss\",\n",
    "                          parameters,\n",
    "                          ode_SEIR,\n",
    "                          x0, t[0],\n",
    "                          t[1:], sol_i_r[1:,0],  # now we only pass one column of epi data\n",
    "                          ['I'])                 # now we only have information regarding the infected compartment\n",
    "\n",
    "abcSEIR2 = abc.ABC(objSEIR2, parameters)\n",
    "\n",
    "abcSEIR2.get_posterior_sample(N=250, tol=np.inf, G=8, q=0.25, progress=True)\n",
    "abcSEIR2.plot_posterior_histograms();\n",
    "abcSEIR2.plot_pointwise_predictions();"
   ]
  },
  {
   "cell_type": "code",
   "execution_count": null,
   "id": "b9fb499c",
   "metadata": {},
   "outputs": [],
   "source": [
    "print(f'beta={np.median(abcSEIR2.res[:,0]):.3f} ({np.quantile(abcSEIR2.res[:,0], 0.025):.3f}, {np.quantile(abcSEIR2.res[:,0], 0.975):.3f})')\n",
    "print(f'alpha={np.median(abcSEIR2.res[:,1]):.3f} ({np.quantile(abcSEIR2.res[:,1], 0.025):.3f}, {np.quantile(abcSEIR2.res[:,1], 0.975):.3f})')\n",
    "print(f'gamma={np.median(abcSEIR2.res[:,2]):.3f} ({np.quantile(abcSEIR2.res[:,2], 0.025):.3f}, {np.quantile(abcSEIR2.res[:,2], 0.975):.3f})')"
   ]
  },
  {
   "cell_type": "markdown",
   "id": "c6542afd",
   "metadata": {},
   "source": [
    "We still see estimates in agreement with the true parameter values, even though we have reduced the amount of data made available to the ABC algorithm.\n",
    "\n",
    "## Fitting an SIR model (with only Infected known)\n",
    "\n",
    "Of course, we may not know the underlying mechanisms and might instead attempt to fit an SIR model to the infected data.\n",
    "We follow similar steps as before, but now specifying an SIR model:"
   ]
  },
  {
   "cell_type": "code",
   "execution_count": null,
   "id": "d328eee8",
   "metadata": {},
   "outputs": [],
   "source": [
    "parameters = [abc.Parameter('beta', 'unif', 0, 1, logscale=False),\n",
    "              abc.Parameter('gamma', 'unif', 0, 1, logscale=False)]\n",
    "\n",
    "# Params\n",
    "paramEval=[('beta', 0), ('gamma', 0), ('N', n_pop)]\n",
    "\n",
    "# Initial conditions now doen't require E0\n",
    "x0=[n_pop-i0, i0, 0]\n",
    "\n",
    "# Set up pygom object\n",
    "ode_SIR = common_models.SIR(param=paramEval)\n",
    "\n",
    "objSIR = abc.create_loss(\"PoissonLoss\", parameters, ode_SIR, x0, t[0], t[1:], sol_i_r[1:,0], ['I'])\n",
    "abcSIR = abc.ABC(objSIR, parameters)\n",
    "\n",
    "abcSIR.get_posterior_sample(N=250, tol=np.inf, G=8, q=0.25, progress=True)\n",
    "\n",
    "abcSIR.plot_posterior_histograms();\n",
    "abcSIR.plot_pointwise_predictions();"
   ]
  },
  {
   "cell_type": "markdown",
   "id": "4f3d6704",
   "metadata": {},
   "source": [
    "Although we see smaller credible intervals, this actually reflects the restriction in model fitting, rather than increased precision.\n",
    "We see that our inappropriate model choice here results in poorer parameter estimates:"
   ]
  },
  {
   "cell_type": "code",
   "execution_count": null,
   "id": "b9bb60c9",
   "metadata": {},
   "outputs": [],
   "source": [
    "print(f'beta={np.median(abcSEIR.res[:,0]):.3f} ({np.quantile(abcSEIR.res[:,0], 0.025):.3f}, {np.quantile(abcSEIR.res[:,0], 0.975):.3f})')\n",
    "print(f'gamma={np.median(abcSEIR.res[:,1]):.3f} ({np.quantile(abcSEIR.res[:,1], 0.025):.3f}, {np.quantile(abcSEIR.res[:,1], 0.975):.3f})')"
   ]
  },
  {
   "cell_type": "markdown",
   "id": "68de3e94",
   "metadata": {},
   "source": [
    "## Initial conditions\n",
    "\n",
    "In addition to inferring model parameters, the ABC methods can be used to estimate initial conditions, after all, it is unlikely that $I(t=0)$ is known with certainty.\n",
    "To do this, the state that we wish to estimate the initial condition for should be included in the `parameters`:"
   ]
  },
  {
   "cell_type": "code",
   "execution_count": null,
   "id": "85dc7fa9",
   "metadata": {},
   "outputs": [],
   "source": [
    "parameters = [abc.Parameter('beta', 'unif', 0, 1, logscale=False),\n",
    "              abc.Parameter('alpha', 'unif', 0, 2, logscale=False),\n",
    "              abc.Parameter('gamma', 'unif', 0, 1, logscale=False),\n",
    "              abc.Parameter('I', 'unif', 0, 20, logscale=False)]"
   ]
  },
  {
   "cell_type": "markdown",
   "id": "061f2654",
   "metadata": {},
   "source": [
    "The remaining code is the same as before.\n",
    "Again, we still need to pass variables even if they are unknown - in this case the initial number of infected individuals."
   ]
  },
  {
   "cell_type": "code",
   "execution_count": null,
   "id": "ca613e08",
   "metadata": {},
   "outputs": [],
   "source": [
    "i0=5\n",
    "x0=[n_pop-i0, 0, i0, 0]\n",
    "\n",
    "objSEIR3 = abc.create_loss(\"PoissonLoss\",\n",
    "                          parameters,\n",
    "                          ode_SEIR,\n",
    "                          x0, t[0],\n",
    "                          t[1:], sol_i_r[1:,0],  # now we only pass one column of epi data\n",
    "                          ['I'])                 # now we only have information regarding the infected compartment\n",
    "\n",
    "abcSEIR3 = abc.ABC(objSEIR3, parameters)"
   ]
  },
  {
   "cell_type": "markdown",
   "id": "ca183311",
   "metadata": {},
   "source": [
    "We run the algorithm for 8 generations:"
   ]
  },
  {
   "cell_type": "code",
   "execution_count": null,
   "id": "2ba62e53",
   "metadata": {},
   "outputs": [],
   "source": [
    "abcSEIR3.get_posterior_sample(N=250, tol=np.inf, G=8, q=0.25, progress=True)\n",
    "\n",
    "abcSEIR3.plot_posterior_histograms();\n",
    "abcSEIR3.plot_pointwise_predictions();"
   ]
  },
  {
   "cell_type": "code",
   "execution_count": null,
   "id": "b22e6715",
   "metadata": {},
   "outputs": [],
   "source": [
    "print(f'beta={np.median(abcSEIR3.res[:,0]):.3f} ({np.quantile(abcSEIR3.res[:,0], 0.025):.3f}, {np.quantile(abcSEIR3.res[:,0], 0.975):.3f})')\n",
    "print(f'alpha={np.median(abcSEIR3.res[:,1]):.3f} ({np.quantile(abcSEIR3.res[:,1], 0.025):.3f}, {np.quantile(abcSEIR3.res[:,1], 0.975):.3f})')\n",
    "print(f'gamma={np.median(abcSEIR3.res[:,2]):.3f} ({np.quantile(abcSEIR3.res[:,2], 0.025):.3f}, {np.quantile(abcSEIR3.res[:,2], 0.975):.3f})')\n",
    "print(f'I0={np.median(abcSEIR3.res[:,3]):.3f} ({np.quantile(abcSEIR3.res[:,3], 0.025):.3f}, {np.quantile(abcSEIR3.res[:,3], 0.975):.3f})')"
   ]
  },
  {
   "cell_type": "markdown",
   "id": "c76a2d1b",
   "metadata": {},
   "source": [
    "Whilst credible intervals are consistent with our parameters, they are wider than before.\n",
    "This is because with increased numbers of parameters there are more ways for our model to fit the data."
   ]
  }
 ],
 "metadata": {
  "kernelspec": {
   "display_name": "Python 3 (ipykernel)",
   "language": "python",
   "name": "python3"
  },
  "language_info": {
   "codemirror_mode": {
    "name": "ipython",
    "version": 3
   },
   "file_extension": ".py",
   "mimetype": "text/x-python",
   "name": "python",
   "nbconvert_exporter": "python",
   "pygments_lexer": "ipython3",
   "version": "3.9.19"
  }
 },
 "nbformat": 4,
 "nbformat_minor": 5
}
