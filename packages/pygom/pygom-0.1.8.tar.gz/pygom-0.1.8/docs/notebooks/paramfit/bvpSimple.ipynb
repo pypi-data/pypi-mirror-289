{
 "cells": [
  {
   "cell_type": "markdown",
   "metadata": {},
   "source": [
    "# Solving Boundary Value Problems\n",
    "\n",
    "In addition to finding solutions for an initial value problem (IVP) and estimating unknown parameters, PyGOM also allows users to solve boundary value problems (BVPs) with a little bit of imagination.\n",
    "Here, we show how a BVP can be solved by treating it as a parameter estimation problem.\n",
    "Essentially, this is done via a shooting method where the first boundary condition defines the initial condition of an IVP and the second boundary condition is an observation.\n",
    "We use projectile motion as our example system, which we note is not relevant to disease modelling scenarios, but then BVPs are not commonly useful in this domain anyway."
   ]
  },
  {
   "cell_type": "markdown",
   "id": "1908ca0b",
   "metadata": {},
   "source": [
    "## Problem\n",
    "\n",
    "Imagine launching a ball straight up into the air from a starting height $y(t=0)=0$. Ignoring air resistance, the ball will be pulled back to it's starting position under gravity.\n",
    "\n",
    "$$\\begin{aligned}\n",
    "\\frac{\\mathrm{d}^2 y}{\\mathrm{d} t^2}=-g\n",
    "\\end{aligned}$$\n",
    "\n",
    "where $g$ is acceleration due to gravity. Reducing this equation to two first order ODEs in terms of position and velocity, $v$, yields:\n",
    "\n",
    "$$\\begin{aligned}\n",
    "\\frac{\\mathrm{d} y}{\\mathrm{d} t}&=v\\\\\n",
    "\\frac{\\mathrm{d} v}{\\mathrm{d} t}&=-g\n",
    "\\end{aligned}$$\n",
    "\n",
    "Let's suppose that the ball lands 3 seconds later (i.e. $y(t=3)=0$).\n",
    "We will now solve two related BVPs in which the initial speed is unknown and later, the parameter $g$.\n",
    "\n",
    "## Unknown initial conditions\n",
    "\n",
    "First, assuming we know that the acceleration due to gravity is $g=10ms^{-2}$, we must estimate the initial velocity ($v(t=0)$) required to ensure that the ball lands 3 seconds later.\n",
    "This could be trivially solved via a quick analytical solution of the above equations resulting in $v(0)=15ms^{-1}$.\n",
    "Here we focus on demonstrating PyGOM's functionality, so this value will instead serve as a target we hope to reproduce.\n",
    "Another artefact of PyGOM, which will soon require changing, is that model parameters are automatically treated as unknowns.\n",
    "For this example, it means that we must specify parameters (in this case $g$) numerically in our equations:"
   ]
  },
  {
   "cell_type": "code",
   "execution_count": null,
   "id": "f244ed16",
   "metadata": {},
   "outputs": [],
   "source": [
    "from pygom import Transition, TransitionType, SimulateOde\n",
    "\n",
    "stateList = ['y', 'v']\n",
    "paramList=[]\n",
    "\n",
    "ode1 = Transition(transition_type=TransitionType.ODE, origin='y', equation='v')\n",
    "ode2 = Transition(transition_type=TransitionType.ODE, origin='v', equation='-10')  # -g replaced explicitly by -10\n",
    "\n",
    "model = SimulateOde(stateList, paramList, ode=[ode1, ode2])"
   ]
  },
  {
   "cell_type": "markdown",
   "id": "9aa96bec",
   "metadata": {},
   "source": [
    "We first plot an example trajectory.\n",
    "Given we know that that the ball will land in 3 seconds if launched with speed $15ms^{-1}$, let's try a faster launch of $20ms^{-1}$ and the ball should still be in the air."
   ]
  },
  {
   "cell_type": "code",
   "execution_count": null,
   "id": "46ea09e8",
   "metadata": {},
   "outputs": [],
   "source": [
    "import numpy as np\n",
    "t = np.linspace(0, 3, 100)             # Time-points at which to find solutions\n",
    "\n",
    "theta = [0.0, 20.0]                    # Initial position and velocity\n",
    "model.initial_values = (theta, t[0])   # Initial position, velocity and t[0]\n",
    "solution = model.solve_determ(t[1::])  # Solve for subsequent timepoints\n",
    "\n",
    "import matplotlib.pyplot as plt\n",
    "\n",
    "f, axarr = plt.subplots(layout='constrained')\n",
    "axarr.plot(t, solution[:,0])\n",
    "axarr.set_title(\"Height, y\")\n",
    "axarr.set_xlabel(\"Time\");"
   ]
  },
  {
   "cell_type": "markdown",
   "id": "5c225208",
   "metadata": {},
   "source": [
    "Let's now use PyGOM to solve for the initial condition that satisfies the BVP, using $20ms^{-1}$ as our initial guess.\n",
    "It is admittedly a bit inefficient that we have to specify this initial guess twice both in the `theta` parameter and also the initial condition.\n",
    "We let the solver know which variable we are solving the initial condition for by specifying the `target_state`:"
   ]
  },
  {
   "cell_type": "code",
   "execution_count": null,
   "id": "f73ab2a2",
   "metadata": {},
   "outputs": [],
   "source": [
    "from scipy.optimize import minimize\n",
    "from pygom import SquareLoss\n",
    "\n",
    "theta = [20.0]\n",
    "\n",
    "initialState = [0.0, 20.0]\n",
    "\n",
    "obj = SquareLoss(theta=theta,\n",
    "                 ode=model,\n",
    "                 t0=t[0], x0=initialState,\n",
    "                 t=t[-1], y=[0],\n",
    "                 state_name=['y'], target_state=['v'])\n"
   ]
  },
  {
   "cell_type": "markdown",
   "id": "4734f011",
   "metadata": {},
   "source": [
    "And we use the {func}`costIV` function to let the solver know we are considering an initial value problem:"
   ]
  },
  {
   "cell_type": "code",
   "execution_count": null,
   "id": "b70c7c06",
   "metadata": {},
   "outputs": [],
   "source": [
    "thetaHat = minimize(fun=obj.costIV, x0=theta)\n",
    "print(thetaHat)"
   ]
  },
  {
   "cell_type": "markdown",
   "id": "b603595e",
   "metadata": {},
   "source": [
    "We see that the target value of $15ms^{-1}$ and when plotting the trajectory below we see that the ball lands after precisely 3 seconds."
   ]
  },
  {
   "cell_type": "code",
   "execution_count": null,
   "id": "cc728465",
   "metadata": {},
   "outputs": [],
   "source": [
    "model.initial_values = ([0.0] + thetaHat['x'].tolist(), t[0])\n",
    "\n",
    "solution = model.integrate(t[1::])\n",
    "\n",
    "f, axarr = plt.subplots(layout='constrained')\n",
    "axarr.plot(t, solution[:,0])\n",
    "axarr.set_title(\"Height, y\")\n",
    "axarr.set_xlabel(\"Time\");"
   ]
  },
  {
   "cell_type": "markdown",
   "id": "85032ca8",
   "metadata": {},
   "source": [
    "## Unknown parameters\n",
    "\n",
    "Now we consider the case where initial conditions are known, but we wish to estimate the unknown parameter $g$ which satisfies the BVP.\n",
    "Like before, we set up the second boundary condition by pretending that it is an observation.\n",
    "This time we omit the `target_state` argument to let the solver know that our initial conditions are fixed.\n",
    "We declare $g$ as a model parameter and then solve as before."
   ]
  },
  {
   "cell_type": "code",
   "execution_count": null,
   "id": "110edf3a",
   "metadata": {},
   "outputs": [],
   "source": [
    "stateList = ['y', 'v']\n",
    "paramList = ['g']\n",
    "\n",
    "ode1 = Transition(transition_type=TransitionType.ODE, origin='y', equation='v')\n",
    "ode2 = Transition(transition_type=TransitionType.ODE, origin='v', equation='-g')\n",
    "\n",
    "model = SimulateOde(stateList, paramList, ode=[ode1, ode2])\n",
    "\n",
    "model.parameters = [('g', 5.0)]\n",
    "theta = [5.0]\n",
    "initialState = [0.0, 15.0]\n",
    "\n",
    "t = np.linspace(0, 3, 100)\n",
    "\n",
    "obj = SquareLoss(theta=theta,\n",
    "                 ode=model,\n",
    "                 t0=t[0], x0=initialState,\n",
    "                 t=t[-1], y=[0],\n",
    "                 state_name=['y'])\n",
    "\n",
    "thetaHat = minimize(fun=obj.cost, x0=theta)"
   ]
  },
  {
   "cell_type": "markdown",
   "id": "f3719cf8",
   "metadata": {},
   "source": [
    "We see that the result of $g=10ms^{-2}$ is recovered:"
   ]
  },
  {
   "cell_type": "code",
   "execution_count": null,
   "id": "1be53116",
   "metadata": {},
   "outputs": [],
   "source": [
    "print(thetaHat)"
   ]
  }
 ],
 "metadata": {
  "kernelspec": {
   "display_name": "Python 3.9.15 ('sphinx-doc')",
   "language": "python",
   "name": "python3"
  },
  "language_info": {
   "codemirror_mode": {
    "name": "ipython",
    "version": 3
   },
   "file_extension": ".py",
   "mimetype": "text/x-python",
   "name": "python",
   "nbconvert_exporter": "python",
   "pygments_lexer": "ipython3",
   "version": "3.9.19"
  },
  "vscode": {
   "interpreter": {
    "hash": "4dc1e323c80fe09539c74ad5c5a7c7d8d9ff99e04f7b3dbd3680daf878629d6e"
   }
  }
 },
 "nbformat": 4,
 "nbformat_minor": 5
}
