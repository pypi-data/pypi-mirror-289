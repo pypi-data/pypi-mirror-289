{
 "cells": [
  {
   "cell_type": "markdown",
   "metadata": {},
   "source": [
    "# Confidence Interval of Estimated Parameters\n",
    "\n",
    "After obtaining the *best* fit, it is natural to report both the point\n",
    "estimate and the confidence level at the $\\alpha$ level. The easiest way\n",
    "to do this is by invoking the normality argument and use Fisher\n",
    "information of the likelihood. As explained previously at the bottom of\n",
    "{ref}`gradient:hessian`, we can find the Hessian, $\\mathbf{H}$, or the approximated\n",
    "Hessian for the estimated parameters. From the Cramer--Rao \n",
    "\n",
    "#TODO add ref\n",
    "\n",
    "inequality, we\n",
    "know that\n",
    "\n",
    "$$Var(\\hat{\\theta}) \\ge \\frac{1}{I(\\theta)},$$\n",
    "\n",
    "where $I(\\theta)$ is the Fisher information, which is the Hessian\n",
    "subject to regularity condition. Given the Hessian, computing the\n",
    "confidence intervals is trivial. Note that this is also known as the\n",
    "asymptotic confidence interval where the normality comes from invoking\n",
    "the CLT. There are other ways of obtaining a confidence intervals, we\n",
    "will the ones implemented in the package. First, we will set up a SIR\n",
    "model as seen in {doc}`sir` which will be used throughout this page."
   ]
  },
  {
   "cell_type": "code",
   "execution_count": 1,
   "id": "efed1abf",
   "metadata": {},
   "outputs": [],
   "source": [
    "from pygom import NormalLoss, common_models\n",
    "\n",
    "from pygom.utilR import qchisq\n",
    "\n",
    "import numpy\n",
    "\n",
    "import scipy.integrate\n",
    "\n",
    "import matplotlib.pyplot as plt\n",
    "\n",
    "import copy\n",
    "\n",
    "ode = common_models.SIR([('beta', 0.5), ('gamma', 1.0/3.0)])"
   ]
  },
  {
   "cell_type": "markdown",
   "id": "ad8659d7",
   "metadata": {},
   "source": [
    "\n",
    "and we assume that we only have observed realization from the $R$\n",
    "compartment"
   ]
  },
  {
   "cell_type": "code",
   "execution_count": 2,
   "id": "b8425085",
   "metadata": {},
   "outputs": [],
   "source": [
    "x0 = [1, 1.27e-6, 0]\n",
    "\n",
    "t = numpy.linspace(0, 150, 100).astype('float64')\n",
    "\n",
    "ode.initial_values = (x0, t[0])\n",
    "\n",
    "solution = ode.integrate(t[1::])\n",
    "\n",
    "theta = [0.2, 0.2]\n",
    "\n",
    "targetState = ['R']\n",
    "\n",
    "targetStateIndex = numpy.array(ode.get_state_index(targetState))\n",
    "\n",
    "y = solution[1::,targetStateIndex] + numpy.random.normal(0,0.01, (len(solution[1::,targetStateIndex]), 1))\n",
    "\n",
    "yObv = y.copy()\n",
    "\n",
    "objSIR = NormalLoss(theta, ode, x0, t[0], t[1::], y, targetState)\n",
    "\n",
    "boxBounds = [(1e-8, 2.0), (1e-8, 2.0)]\n",
    "\n",
    "boxBoundsArray = numpy.array(boxBounds)\n",
    "\n",
    "xhat = objSIR.fit(theta, lb=boxBoundsArray[:,0], ub=boxBoundsArray[:,1])\n",
    "\n"
   ]
  },
  {
   "cell_type": "markdown",
   "id": "f4d8f8c5",
   "metadata": {},
   "source": [
    "## Asymptotic\n",
    "\n",
    "When the estimate is obtained say, under a square loss or a normal\n",
    "assumption, the corresponding likelihood can be written down. In\n",
    "such a case, the likelihood ratio test under a Chi--squared distribution is\n",
    "\n",
    "$$2 (\\mathcal{L}(\\hat{\\boldsymbol{\\theta}}) - \\mathcal{L}(\\boldsymbol{\\theta})) \\le \\chi_{1 - \\alpha}^{2}(k)$$\n",
    "\n",
    "where $1-\\alpha$ is the size of the confidence region and $k$ is the\n",
    "degree of freedom. The corresponding asymptotic confidence interval for\n",
    "parameter $j$ can be derived as\n",
    "\n",
    "$$\\hat{\\theta}_{j} \\pm \\sqrt{\\chi_{1 - \\alpha}^{2}(k) H_{i,i}}.$$\n",
    "\n",
    "A point-wise confidence interval is obtained when $k = 1$. We assume in\n",
    "our package that a point-wise confidence interval is desired. This can be\n",
    "obtained with the following steps.\n"
   ]
  },
  {
   "cell_type": "code",
   "execution_count": 3,
   "id": "9f93e2ba",
   "metadata": {},
   "outputs": [
    {
     "name": "stdout",
     "output_type": "stream",
     "text": [
      "[0.30563305 0.15211495]\n",
      "[0.69392383 0.51349773]\n"
     ]
    }
   ],
   "source": [
    "from pygom import confidence_interval as ci\n",
    "\n",
    "alpha = 0.05\n",
    "\n",
    "xL, xU = ci.asymptotic(objSIR, alpha, xhat, lb=boxBoundsArray[:,0], ub=boxBoundsArray[:,1])\n",
    "\n",
    "print(xL)\n",
    "print(xU)"
   ]
  },
  {
   "cell_type": "markdown",
   "id": "5482b63c",
   "metadata": {},
   "source": [
    "'''{warning}\n",
    "Note that the set of bounds here is only used for check the validity of\n",
    "$\\hat{\\mathbf{x}}$ and not used in the calculation of the confidence\n",
    "intervals. Therefore the resulting output can be outside of the box\n",
    "constraints.\n",
    "```"
   ]
  },
  {
   "cell_type": "markdown",
   "id": "19e92acb",
   "metadata": {},
   "source": [
    "\n",
    "## Profile Likelihood\n",
    "\n",
    "Another approach to calculate the confidence interval is to tackle one\n",
    "parameter at a time, treating the rest of them as nuisance parameters,\n",
    "hence the term *profile*. Let $\\mathcal{L}(\\boldsymbol{\\theta})$ be our\n",
    "log--likelihood with parameter $\\boldsymbol{\\theta}$. Element\n",
    "$\\theta_{j}$ is our parameter of interest and $\\boldsymbol{\\theta}_{-j}$\n",
    "represents the complement such that\n",
    "$\\boldsymbol{\\theta} = \\theta_{j} \\cup \\boldsymbol{\\theta}_{-j}$. For\n",
    "simply models such as linear regression with only regression\n",
    "coefficients $\\boldsymbol{\\beta}$, then\n",
    "$\\boldsymbol{\\theta} = \\boldsymbol{\\beta}$.\n",
    "\n",
    "To shorten the notation, let\n",
    "\n",
    "$$\\mathcal{L}(\\boldsymbol{\\theta}_{-j} \\mid \\theta_{j}) = \\max \\mathcal{L}(\\boldsymbol{\\theta}_{-j} \\mid \\theta_{j})$$\n",
    "\n",
    "which is the maxima of $\\boldsymbol{\\theta}_{-j}$ given $\\theta_{j}$.\n",
    "$\\hat{\\boldsymbol{\\theta}}$ denotes the MLE of the parameters as usual.\n",
    "The profile--likelihood based confidence interval for $\\theta_{j}$ is\n",
    "defined as\n",
    "\n",
    "$$\\begin{aligned}\n",
    "\\theta_{j}^{U} &= \\sup \\left\\{ \\mathcal{L}(\\hat{\\boldsymbol{\\theta}}) - \\mathcal{L}(\\boldsymbol{\\theta} \\mid \\theta_{j}) \\le \\frac{1}{2} \\chi_{1 - \\alpha}^{2}(1) \\right\\} \\\\\n",
    "\\theta_{j}^{L} &= \\inf \\left\\{ \\mathcal{L}(\\hat{\\boldsymbol{\\theta}}) - \\mathcal{L}(\\boldsymbol{\\theta} \\mid \\theta_{j}) \\le \\frac{1}{2} \\chi_{1 - \\alpha}^{2}(1) \\right\\}\n",
    "\\end{aligned}$$\n",
    "\n",
    "where again we have made use of the normal approximation, but without\n",
    "imposing symmetry. The set of equations above automatically implies that\n",
    "the interval width is $\\theta_{j}^{U} - \\theta_{j}^{L}$ and\n",
    "\n",
    "$$\\mathcal{L}(\\hat{\\boldsymbol{\\theta}}) - \\frac{1}{2} \\chi_{1-\\alpha}^{2}(1) - \\mathcal{L}(\\boldsymbol{\\theta} \\mid \\theta_{j}) = 0.$$\n",
    "\n",
    "As mentioned previously, $\\boldsymbol{\\theta}_{-j}$ is the maximizer of\n",
    "the nuisance parameters, which has a gradient of zero. Combining this\n",
    "with the equation above yields a non-linear system of equations of size\n",
    "$p$,\n",
    "\n",
    "$$\\begin{aligned}\n",
    "g(\\boldsymbol{\\theta}) = \\left[ \\begin{array}{c} \\mathcal{L}(\\boldsymbol{\\theta} \\mid \\theta_{j}) - c \\\\ \\frac{\\partial \\mathcal{L}(\\boldsymbol{\\theta} \\mid \\theta_{j})}{\\partial \\boldsymbol{\\theta}_{-j}} \\end{array} \\right] = 0\n",
    "\\end{aligned}$$\n",
    "\n",
    "where\n",
    "$c = \\mathcal{L}(\\hat{\\boldsymbol{\\theta}}) + \\frac{1}{2} \\chi_{1-\\alpha}^{2}(1)$.\n",
    "Solving this set of system of equations only need simple Newton like\n",
    "steps, possibly with correction terms as per {cite:t}`Venzon1988`. We\n",
    "provide a function to obtain such estimate, {func}`ci.profile`"
   ]
  },
  {
   "cell_type": "code",
   "execution_count": 4,
   "id": "7dab2b66",
   "metadata": {},
   "outputs": [],
   "source": [
    "xLProfile, xUProfile, xLProfileList, xUProfileList = ci.profile(objSIR, alpha, xhat, lb=boxBoundsArray[:,0], ub=boxBoundsArray[:,1], full_output=True)"
   ]
  },
  {
   "cell_type": "markdown",
   "id": "ecd49905",
   "metadata": {},
   "source": [
    "but unfortunately this is not accurate most of the time due to the\n",
    "complicated surface at locations not around $\\hat{\\theta}$. This is a\n",
    "common scenario for non--linear least square problems because the\n",
    "Hessian is not guaranteed to be a PSD everywhere. Therefore, a safeguard\n",
    "is in place to obtain the $\\theta_{j}^{U},\\theta_{j}^{L}$ by iteratively updating $\\theta_{j}$ and find the solution to `nuisanceOptim`.\n",
    "\n",
    "#TODO what is nuisance optim?\n",
    "\n",
    "Furthermore, we also provide the functions necessary to obtain the\n",
    "estimates such as the four below."
   ]
  },
  {
   "cell_type": "code",
   "execution_count": 5,
   "id": "e58e47ee",
   "metadata": {},
   "outputs": [],
   "source": [
    "i = 0\n",
    "\n",
    "funcF = ci._profileF(xhat, i, 0.05, objSIR)\n",
    "\n",
    "funcG = ci._profileG(xhat, i, 0.05, objSIR)\n",
    "\n",
    "funcGC = ci._profileGSecondOrderCorrection(xhat, i, alpha, objSIR)\n",
    "\n",
    "funcH = ci._profileH(xhat, i, 0.05, objSIR)"
   ]
  },
  {
   "cell_type": "markdown",
   "id": "f2428994",
   "metadata": {},
   "source": [
    "Where $i$ is the index of the parameter of interest. {func}`_profileF` is the\n",
    "squared norm of {obj}`obj`, which easy the optimization process for solvers\n",
    "which requires a converted form from system of equations to non-linear\n",
    "least squares. {func}`_profileG` is the system of equations of {obj}`obj`,\n",
    "and {func}`_profileH` is the derivative of {obj}`obj`.\n",
    "\n",
    "$$\\begin{aligned}\n",
    "\\nabla g(\\boldsymbol{\\theta}) = \\left[ \\begin{array}{c} \\frac{\\partial \\mathcal{L}(\\boldsymbol{\\theta} \\mid \\theta_{j})}{\\partial \\theta_{j}} \\\\ \\frac{\\partial^{2} \\mathcal{L}(\\boldsymbol{\\theta} \\mid \\theta_{j})}{\\partial \\boldsymbol{\\beta}_{-j} \\partial \\theta_{j}} \\end{array} \\right]\n",
    "\\end{aligned}$$\n",
    "\n",
    "{func}`_profileGSecondOrderCorrection` is the second order correction {cite}Venzon1988.\n",
    "\n",
    "## Geometric profile likelihood\n",
    "\n",
    "Due to the difficulty in obtain a profile likelihood via the standard\n",
    "Newton like steps, we also provide a way to generate a similar result\n",
    "using the geometric structure of the likelihood surface. We follow the\n",
    "method in {cite:t}`Moolgavkar1987`, which involves solving a set of\n",
    "differential equations\n",
    "\n",
    "$$\\begin{aligned}\n",
    "\\frac{d\\beta_{j}}{dt} &= k g^{-1/2} \\\\\n",
    "\\frac{d\\boldsymbol{\\beta}_{-j}}{dt} &= \\frac{d\\boldsymbol{\\beta}_{-j}}{d\\beta_{j}} \\frac{d\\beta_{j}}{dt},\n",
    "\\end{aligned}$$\n",
    "\n",
    "where $k = \\Phi(1-\\alpha)$ is the quantile we want to obtain under a\n",
    "normal distribution, and\n",
    "\n",
    "$$\\begin{aligned}\n",
    "g = J_{\\beta_{j}}^{\\top} I^{\\boldsymbol{\\beta}} J_{\\beta_{j}}, \\quad J_{\\beta_{j}} = \\left( \\begin{array}{c} 1 \\\\ \\frac{d\\boldsymbol{\\beta}_{-j}}{d\\beta_{j}} \\end{array} \\right).\n",
    "\\end{aligned}$$\n",
    "\n",
    "Here, $J_{\\beta_{j}}$ is the Jacobian between $\\beta_{j}$ and\n",
    "$\\boldsymbol{\\beta}_{-j}$ with the term\n",
    "\n",
    "$$\\frac{d\\boldsymbol{\\beta}_{-j}}{d\\beta_{j}} = -\\left( \\frac{\\partial^{2} \\mathcal{L}}{\\partial \\boldsymbol{\\beta}_{-j}\\partial \\boldsymbol{\\beta}_{-j}^{\\top} } \\right)^{-1} \\frac{\\partial^{2} \\mathcal{L}}{\\partial \\beta_{j} \\partial \\beta_{-j}^{\\top}}$$\n",
    "\n",
    "and hence the first element is $1$ (identity transformation).\n",
    "$I^{\\boldsymbol{\\beta}}$ is the Fisher information of\n",
    "$\\boldsymbol{\\beta}$, which is\n",
    "\n",
    "$$I^{\\boldsymbol{\\beta}} = \\frac{\\partial \\boldsymbol{\\theta}}{\\partial \\boldsymbol{\\beta}^{\\top}} \\Sigma^{\\boldsymbol{\\theta}(\\boldsymbol{\\beta})} \\frac{\\partial \\boldsymbol{\\theta}}{\\partial \\boldsymbol{\\beta}}.$$\n",
    "\n",
    "It is simply $\\Sigma^{\\boldsymbol{\\beta}}$ if\n",
    "$\\boldsymbol{\\theta} = \\boldsymbol{\\beta}$. Different Fisher information\n",
    "can be used for $\\Sigma^{\\boldsymbol{\\beta}}$ such as the expected or\n",
    "observed, at $\\hat{\\boldsymbol{\\beta}}$ or $\\boldsymbol{\\beta}$. After\n",
    "some trivial algebraic manipulation, we can show that our ODE boils\n",
    "downs to\n",
    "\n",
    "$$\\begin{aligned}\n",
    "\\left[ \\begin{array}{c} \\frac{d\\beta_{j}}{dt} \\\\ \\frac{d\\boldsymbol{\\beta_{-j}}}{dt} \\end{array} \\right] = k \\left[ \\begin{array}{c} 1 \\\\ -A^{-1}w \\end{array} \\right] \\left( v - w^{\\top}A^{-1}w \\right)^{-1/2}\n",
    "\\end{aligned}$$\n",
    "\n",
    "where the symbols on the RHS above correspond to partitions in the\n",
    "Fisher information\n",
    "\n",
    "$$\\begin{aligned}\n",
    "I^{\\boldsymbol{\\beta}} = \\left[ \\begin{array}{cc} v & w^{\\top} \\\\ w & A \\end{array} \\right].\n",
    "\\end{aligned}$$\n",
    "\n",
    "The integration is perform from $t = 0$ to $1$ and is all handled\n",
    "internally via {class}`geometric`."
   ]
  },
  {
   "cell_type": "code",
   "execution_count": 6,
   "id": "eb9240d7",
   "metadata": {},
   "outputs": [
    {
     "name": "stdout",
     "output_type": "stream",
     "text": [
      "[0.21802959 0.04961695]\n",
      "[1.26151364 1.06296231]\n"
     ]
    }
   ],
   "source": [
    "xLGeometric, xUGeometric, xLList, xUList = ci.geometric(objSIR, alpha, xhat, full_output=True)\n",
    "\n",
    "print(xLGeometric)\n",
    "print(xUGeometric)"
   ]
  },
  {
   "cell_type": "markdown",
   "id": "75d6f904",
   "metadata": {},
   "source": [
    "\n",
    "## Bootstrap\n",
    "\n",
    "This is perhaps the favorite method to estimate confidence intervals for\n",
    "a lot of people. Although there are many ways to implement bootstrap,\n",
    "semi-parametric is the only logical choice (even though the underlying\n",
    "assumptions may be violated at times). As we have only implemented OLS\n",
    "type loss functions in this package, the parametric approach seem to be\n",
    "inappropriate when there is no self-efficiency guarantee.\n",
    "Non-parametric approaches requires at least a conditional independence\n",
    "assumption, something easily violated by our **ODE**. Block bootstrap is\n",
    "an option but we are also aware that the errors of an **ODE** can be\n",
    "rather rigid, and consistently over/under estimate at certain periods of\n",
    "time.\n",
    "\n",
    "#TODO refs for bootstrap?\n",
    "\n",
    "When we say semi-parametric, we mean the exchange of errors between the\n",
    "observations. Let our raw error be\n",
    "\n",
    "$$\\varepsilon_{i} = y_{i} - \\hat{y}_{i}$$\n",
    "\n",
    "where $\\hat{y}_{i}$ will be the prediction under\n",
    "$\\hat{\\boldsymbol{\\theta}}$ under our model. Then we construct a new set\n",
    "of observations via\n",
    "\n",
    "$$y_{i}^{\\ast} = \\hat{y}_{i} + \\varepsilon^{\\ast}, \\quad \\varepsilon^{\\ast} \\sim \\mathcal{F}$$\n",
    "\n",
    "with $\\mathcal{F}$ being the empirical distribution of the raw errors. A\n",
    "new set of parameters $\\theta^{\\ast}$ are then found for the\n",
    "bootstrapped samples, and we obtain the $\\alpha$ confidence interval by\n",
    "taking the $\\alpha/2$ quantiles. Invoking the corresponding python function\n",
    "yields our bootstrap estimates. Unlike {func}`asymptotic`, the bounds here are\n",
    "used when estimating the parameters of each bootstrap samples. An error\n",
    "may be returned if estimation failed for any of the bootstrap samples."
   ]
  },
  {
   "cell_type": "code",
   "execution_count": 7,
   "id": "d33c189c",
   "metadata": {},
   "outputs": [
    {
     "name": "stderr",
     "output_type": "stream",
     "text": [
      "WARNING:root:Number of iterations (10) is low. Consider using more.\n"
     ]
    },
    {
     "name": "stdout",
     "output_type": "stream",
     "text": [
      "[0.49842726 0.33142003]\n",
      "[0.50466089 0.33727478]\n"
     ]
    }
   ],
   "source": [
    "xLBootstrap, xUBootstrap, setX = ci.bootstrap(objSIR, alpha, xhat, iteration=10, lb=boxBoundsArray[:,0], ub=boxBoundsArray[:,1], full_output=True)\n",
    "\n",
    "print(xLBootstrap)\n",
    "print(xUBootstrap)"
   ]
  },
  {
   "cell_type": "markdown",
   "id": "0a8e31f0",
   "metadata": {},
   "source": [
    "The additional information here can be used to compute the bias, tail\n",
    "effects and test against the normality assumption. If desired, a\n",
    "simultaneous confidence interval can also be approximated empirically.\n",
    "Note however that because we are using a semi-parameter method here, if\n",
    "the model specification is wrong then the resulting estimates for the\n",
    "bias is also wrong. The confidence interval still has the normal\n",
    "approximation guarantee if the number of samples is large.\n",
    "\n",
    "In this case, because the error in the observation is extremely small,\n",
    "the confidence interval is narrow."
   ]
  },
  {
   "cell_type": "code",
   "execution_count": 8,
   "id": "c585db79",
   "metadata": {
    "vscode": {
     "languageId": "javascript"
    }
   },
   "outputs": [
    {
     "data": {
      "image/png": "[encoded data removed]",
      "text/plain": [
       "<Figure size 640x480 with 1 Axes>"
      ]
     },
     "metadata": {},
     "output_type": "display_data"
    }
   ],
   "source": [
    "import pylab as P\n",
    "\n",
    "f = plt.figure()\n",
    "\n",
    "n, bins, patches = P.hist(setX[:,0], 50)\n",
    "\n",
    "P.xlabel(r'Estimates of $beta$');\n",
    "\n",
    "P.ylabel('Frequency');\n",
    "\n",
    "P.title('Estimates under a semi-parametric bootstrap scheme');\n",
    "\n",
    "P.show()"
   ]
  },
  {
   "cell_type": "markdown",
   "id": "9edc8b6b",
   "metadata": {},
   "source": [
    "\n",
    "\n",
    "\n",
    "## Comparison Between Methods\n",
    "\n",
    "Although we have shown the numerical values for the confidence interval\n",
    "obtained using different methods, it can be hard to comprehend how they\n",
    "vary. As they say, a picture says a million word, and given that this\n",
    "particular model only has two parameters, we can obtain inspect and\n",
    "compare the methods visually via a contour plot. The code to perform\n",
    "this is shown below but the code block will not be run to save time and\n",
    "space.\n",
    "\n",
    "In the plot above, the bootstrap confidence interval were so close to\n",
    "the MLE, it is impossible to distinguish the two on such a coarse scale.\n",
    "\n",
    "Furthermore, because the geometric confidence interval is the result of\n",
    "an integration, we can trace the path that lead to the final output that\n",
    "was shown previously. Again, we are space conscious (and time\n",
    "constrained) so the code block below will not be run."
   ]
  },
  {
   "cell_type": "code",
   "execution_count": 10,
   "id": "6cef48a9",
   "metadata": {},
   "outputs": [
    {
     "data": {
      "image/png": "[encoded data removed]",
      "text/plain": [
       "<Figure size 640x480 with 1 Axes>"
      ]
     },
     "metadata": {},
     "output_type": "display_data"
    }
   ],
   "source": [
    "fig = plt.figure()\n",
    "\n",
    "#CS = plt.contour(xi, yi, zi, linewidth=0.5)\n",
    "\n",
    "#plt.clabel(CS, fontsize=10, inline=1)\n",
    "\n",
    "l1 = plt.scatter(xLList[0][:,0], xLList[0][:,1], marker='o', c='m', s=10);\n",
    "\n",
    "l2 = plt.scatter(xUList[0][:,0], xUList[0][:,1], marker='x', c='m', s=10);\n",
    "\n",
    "plt.legend((l1, l2), ('Lower CI path', 'Upper CI path'), loc='upper left');\n",
    "\n",
    "plt.ylabel(r'Estimates of $gamma$');\n",
    "\n",
    "plt.xlabel(r'Estimates of $beta$');\n",
    "\n",
    "plt.title('Integration path of the geometric confidence intervals on the likelihood surface');\n",
    "\n",
    "plt.tight_layout();\n",
    "\n",
    "plt.show()"
   ]
  },
  {
   "cell_type": "markdown",
   "id": "2b357c75",
   "metadata": {},
   "source": [
    "\n",
    "## Profile Likelihood Surface\n",
    "\n",
    "To investigate why it was hard to find the profile likelihood confidence\n",
    "interval, we can look at the surface (which is a line as\n",
    "we are profiling). We find the solution of {func}`nuisanceOptim` for each\n",
    "$\\boldsymbol{\\theta}_{-j}$ at various points of $\\boldsymbol{\\theta}$.\n",
    "Equivalently, we can minimize the original loss function as defined\n",
    "previously, and this is the approach below. We focus out attention to\n",
    "the parameter $\\beta$ of our SIR model. The results are not shown here\n",
    "but the existence of a solution to {obj}`obj` is evident by *eyeballing* the plots."
   ]
  },
  {
   "cell_type": "code",
   "execution_count": 11,
   "id": "dc31f543",
   "metadata": {},
   "outputs": [],
   "source": [
    "numIter = 100\n",
    "\n",
    "x2 = numpy.linspace(0.0, 2.0, numIter)\n",
    "\n",
    "funcOut = numpy.linspace(0.0, 2.0, numIter)\n",
    "\n",
    "ode.parameters = [('beta',0.5), ('gamma',1.0/3.0)]\n",
    "\n",
    "for i in range(numIter):\n",
    "    paramEval = [('beta',x2[i]), ('gamma',x2[i])]\n",
    "    ode2 = copy.deepcopy(ode) \n",
    "    ode2.parameters = paramEval\n",
    "    ode2.initial_values = (x0, t[0])\n",
    "    objSIR2 = NormalLoss(x2[i], ode2, x0, t[0], t[1::], yObv.copy(), targetState, target_param='gamma')\n",
    "    res = scipy.optimize.minimize(fun=objSIR2.cost, jac=objSIR2.gradient, x0=x2[i], bounds=[(0,2)], method='L-BFGS-B')\n",
    "    funcOut[i] = res['fun']\n",
    "\n",
    "fig = plt.figure()\n",
    "\n",
    "plt.plot(x2, objSIR.cost(xhat) - funcOut)\n",
    "\n",
    "l1 = plt.axhline(-0.5*qchisq(1 - alpha, df=1), 0, 2, color='r')\n",
    "\n",
    "plt.ylabel(r'\\$mathcal{L}(hat{theta}) - mathcal{L}(theta mid beta)$');\n",
    "\n",
    "plt.xlabel(r'Fixed value of $beta$');\n",
    "\n",
    "plt.title('Difference in objective function between MLEn and the maximization of the nuisance parameters given then parameter of interest, beta in this case');\n",
    "\n",
    "plt.tight_layout();\n",
    "\n",
    "plt.legend((l1,), (r'$-0.5mathcal{X}_{1 - alpha}^{2}(1)$',), loc='lower right');\n",
    "\n",
    "plt.show() "
   ]
  },
  {
   "cell_type": "markdown",
   "id": "99c84d17",
   "metadata": {},
   "source": [
    "\n",
    "\n",
    "Both the upper and lower confidence interval can be found in the\n",
    "profiling procedure, but the part between of\n",
    "$\\beta \\in \\left[0,\\hat{\\beta}\\right]$ is not convex, with $\\hat{\\beta}$\n",
    "being the MLE. This non--quadratic profile likelihood is due to the\n",
    "non-identifiability of the model given data {cite}`Raue2009`. For this\n",
    "particular case, we can fix it simply by introducing additional\n",
    "observations in the form of the $I$ state. We encourage the users to try\n",
    "it out for themselves to confirm."
   ]
  },
  {
   "cell_type": "code",
   "execution_count": null,
   "id": "67ae8521",
   "metadata": {},
   "outputs": [],
   "source": [
    "targetState = \\['I', 'R'\\]\n",
    "\n",
    "targetStateIndex = numpy.array(ode.get_state_index(targetState))\n",
    "\n",
    "y = solution[1::,targetStateIndex] + numpy.random.normal(0, 0.01, (len(solution[1::,targetStateIndex]), 1))\n",
    "\n",
    "objSIR = NormalLoss(theta, ode, x0, t[0], t[1::], y.copy(), targetState)\n",
    "\n",
    "xhat = objSIR.fit(theta, lb=boxBoundsArray[:,0], ub=boxBoundsArray[:,1])\n",
    "\n",
    "for i in range(numIter):  \n",
    "    paramEval = [('beta', x2[i]), ('gamma', x2[i])] \n",
    "    ode2 = copy.deepcopy(ode)\n",
    "    ode2.parameters = paramEval\n",
    "    ode2.initial_values = (x0, t[0]) \n",
    "    objSIR2 = NormalLoss(x2[i], ode2, x0, t[0], t[1::], y.copy(), targetState, target_param='gamma')\n",
    "    res = scipy.optimize.minimize(fun=objSIR2.cost, jac=objSIR2.gradient, x0=x2[i], bounds=[(0,2)], method='L-BFGS-B')\n",
    "    funcOut[i] = res['fun']\n",
    "\n",
    "fig = plt.figure()\n",
    "\n",
    "plt.plot(x2, objSIR.cost(xhat) - funcOut);\n",
    "\n",
    "l1 = plt.axhline(-0.5*qchisq(1 - alpha, df=1), 0, 2, color='r')\n",
    "\n",
    "plt.ylabel(r'$mathcal{L}(hat{theta}) - mathcal{L}(theta mid beta)$');\n",
    "\n",
    "plt.xlabel(r'Fixed value of $beta$');\n",
    "\n",
    "plt.title('Profile likelihood curve for the parameter of interest with more observations');\n",
    "\n",
    "plt.tight_layout();\n",
    "\n",
    "plt.legend((l1,), (r'$-0.5mathcal{X}_{1 - alpha}^{2}(1)$',), loc='lower right');\n",
    "\n",
    "plt.show()"
   ]
  }
 ],
 "metadata": {
  "kernelspec": {
   "display_name": "Python 3.9.15 ('sphinx-doc')",
   "language": "python",
   "name": "python3"
  },
  "language_info": {
   "codemirror_mode": {
    "name": "ipython",
    "version": 3
   },
   "file_extension": ".py",
   "mimetype": "text/x-python",
   "name": "python",
   "nbconvert_exporter": "python",
   "pygments_lexer": "ipython3",
   "version": "3.9.19"
  },
  "vscode": {
   "interpreter": {
    "hash": "4dc1e323c80fe09539c74ad5c5a7c7d8d9ff99e04f7b3dbd3680daf878629d6e"
   }
  }
 },
 "nbformat": 4,
 "nbformat_minor": 5
}
