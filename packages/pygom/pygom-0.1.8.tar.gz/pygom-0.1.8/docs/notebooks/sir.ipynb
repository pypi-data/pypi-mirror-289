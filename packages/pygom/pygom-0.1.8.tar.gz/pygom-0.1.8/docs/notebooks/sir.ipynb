{
 "cells": [
  {
   "cell_type": "markdown",
   "metadata": {},
   "source": [
    "# Defining an ODE system\n",
    "\n",
    "There are 2 ways to encapsulate an ODE system.\n",
    "\n",
    "We first demonstrate how to encapsulate the relevant equations in a class which will eventually be used to solve them.\n",
    "\n",
    "One useful feature of PyGom is the ability to define the system in a variety of intuitive ways.\n",
    "\n",
    "In compartmental models, where the states represent counts of certain categories, the changes in these quantities\n",
    "\n",
    "## Example: SIR model\n",
    "\n",
    "Here we use a Susceptible-Infected-Removed epidemic model (an SIR model, for short) to demonstrate the different ways to specify a system.\n",
    "The rates of change of each compartment are defined by the following equations\n",
    "\n",
    "$$\\begin{aligned}\n",
    "\\frac{\\mathrm{d} S}{\\mathrm{d} t} &= -\\beta SI \\\\\n",
    "\\frac{\\mathrm{d} I}{\\mathrm{d} t} &= \\beta SI- \\gamma I \\\\\n",
    "\\frac{\\mathrm{d} R}{\\mathrm{d} t} &= \\gamma I.\n",
    "\\end{aligned}$$\n",
    "\n",
    "However, it is also true that this is the result of two transitions:\n",
    "\n",
    "$$\\begin{aligned}\n",
    "S \\rightarrow I &= \\beta SI \\\\\n",
    "I \\rightarrow R &= \\gamma I\n",
    "\\end{aligned}$$\n",
    "\n",
    "\n",
    "We can set this up as follows:"
   ]
  },
  {
   "cell_type": "markdown",
   "id": "586834ab",
   "metadata": {},
   "source": [
    "1. Import the classes required to define the transitions"
   ]
  },
  {
   "cell_type": "code",
   "execution_count": null,
   "id": "4c80a36a",
   "metadata": {},
   "outputs": [],
   "source": [
    "from pygom import Transition, TransitionType"
   ]
  },
  {
   "cell_type": "markdown",
   "id": "0ec4c9d0",
   "metadata": {},
   "source": [
    "2. Define our states, in this case the population states of **S**usceptible, **I**nfected and **R**emoved"
   ]
  },
  {
   "cell_type": "code",
   "execution_count": null,
   "id": "3ce016f2",
   "metadata": {},
   "outputs": [],
   "source": [
    "stateList = ['S', 'I', 'R']"
   ]
  },
  {
   "cell_type": "markdown",
   "id": "021a1927",
   "metadata": {},
   "source": [
    "3. Define the set of parameters for our model"
   ]
  },
  {
   "cell_type": "code",
   "execution_count": null,
   "id": "441e2287",
   "metadata": {},
   "outputs": [],
   "source": [
    "paramList = ['beta', 'gamma']"
   ]
  },
  {
   "cell_type": "markdown",
   "id": "dfd736b2",
   "metadata": {},
   "source": [
    "4. \n",
    "  i. Specify the transitions of the modelled states; this will form our ODE system"
   ]
  },
  {
   "cell_type": "code",
   "execution_count": null,
   "id": "b5f80ab0",
   "metadata": {},
   "outputs": [],
   "source": [
    "odeList = [\n",
    "    Transition(origin='S', equation='-beta*S*I', transition_type=TransitionType.ODE),\n",
    "    Transition(origin='I',equation='beta*S*I - gamma*I', transition_type=TransitionType.ODE),\n",
    "    Transition(origin='R', equation='gamma*I', transition_type=TransitionType.ODE) \n",
    "]"
   ]
  },
  {
   "cell_type": "markdown",
   "id": "18c7fbac",
   "metadata": {},
   "source": [
    "ii. Specify the transitions of the modelled states; this will form our ODE system"
   ]
  },
  {
   "cell_type": "code",
   "execution_count": null,
   "id": "a2761de1",
   "metadata": {},
   "outputs": [],
   "source": [
    "odeList2 = [\n",
    "    Transition(origin='S', destination='I', equation='beta*S*I', transition_type=TransitionType.T),\n",
    "    Transition(origin='I', destination='R', equation='gamma*I', transition_type=TransitionType.T)\n",
    "]"
   ]
  },
  {
   "cell_type": "markdown",
   "id": "21629e7b",
   "metadata": {},
   "source": [
    "```{note}\n",
    "Here, we have invoked a class from {class}`.Transition` to define the ODE object. We proceed here and ignore the details for now. The details of defining a transition object will be covered later in {doc}`transition`. Both the set of states and parameters should be defined when constructing the object, even though not explicitly enforced, to help clarify what we are trying to model. Similarly, this holds for the rest, such as the derived parameters and transitions, where we force the end user to input the different type of transition/process via the correct argument. See {ref}`transition:defining-the-equations` for an example when the input is wrong.\n",
    "```"
   ]
  },
  {
   "cell_type": "markdown",
   "id": "69bfb7c3",
   "metadata": {},
   "source": [
    "\n",
    "5. Depending on if we want to run deterministic or stochastic solver, we create a class. For this case let's try depterministic. We import the relevant class."
   ]
  },
  {
   "cell_type": "code",
   "execution_count": null,
   "id": "f78c33d4",
   "metadata": {},
   "outputs": [],
   "source": [
    "from pygom import DeterministicOde"
   ]
  },
  {
   "cell_type": "markdown",
   "id": "477d6f84",
   "metadata": {},
   "source": [
    "6. And then initialize the model, which constructs our ODE system from all the information we have provided"
   ]
  },
  {
   "cell_type": "code",
   "execution_count": null,
   "id": "c9fbcce0",
   "metadata": {},
   "outputs": [],
   "source": [
    "model = DeterministicOde(stateList, paramList, ode=odeList)"
   ]
  },
  {
   "cell_type": "markdown",
   "id": "4bf43064",
   "metadata": {},
   "source": [
    "That is all the information required to define a simple SIR model. We can verify the model using"
   ]
  },
  {
   "cell_type": "code",
   "execution_count": null,
   "id": "6ad54e09",
   "metadata": {},
   "outputs": [],
   "source": [
    "model.get_ode_eqn()"
   ]
  },
  {
   "cell_type": "markdown",
   "id": "143a6871",
   "metadata": {},
   "source": [
    "where we can see the equations corresponding to their respective $S,I$ and $R$ state. "
   ]
  },
  {
   "cell_type": "markdown",
   "id": "08207474",
   "metadata": {},
   "source": [
    "```{note}\n",
    "The ordering of the equations is in the standard $S,I,R$ sequence because of how we defined the states initially. \n",
    "```"
   ]
  },
  {
   "cell_type": "markdown",
   "id": "7054e58a",
   "metadata": {},
   "source": [
    "We can rearrange the state list,"
   ]
  },
  {
   "cell_type": "code",
   "execution_count": null,
   "id": "07f81fd1",
   "metadata": {},
   "outputs": [],
   "source": [
    "# now we are going to define in a different order. note that the output ode changed with the input state\n",
    "stateList = ['R', 'S', 'I']\n",
    "\n",
    "model = DeterministicOde(stateList, paramList, ode=odeList)\n",
    "\n",
    "model.get_ode_eqn()\n"
   ]
  },
  {
   "cell_type": "markdown",
   "id": "d3f587d4",
   "metadata": {},
   "source": [
    "and find that the set of ODEs comes out in the order that we specified. "
   ]
  },
  {
   "cell_type": "markdown",
   "id": "1175c832",
   "metadata": {},
   "source": [
    "```{tip}\n",
    "In addition to showing the equation form of the ODEs, we can also display them as either symbols or latex code, which can save some extra typing when porting the equations to another document.\n",
    "```"
   ]
  },
  {
   "cell_type": "code",
   "execution_count": null,
   "id": "960fdc0c",
   "metadata": {},
   "outputs": [],
   "source": [
    "model.print_ode()"
   ]
  },
  {
   "cell_type": "code",
   "execution_count": null,
   "id": "93e32c75",
   "metadata": {},
   "outputs": [],
   "source": [
    "model.print_ode(True)"
   ]
  },
  {
   "cell_type": "markdown",
   "id": "79c154ba",
   "metadata": {},
   "source": [
    "Here the SIR model was provided to PyGOM as a set ODEs by using the {class}`.Transition` to define them.  \n",
    "We have also provided the capability to obtain a *best guess* transition matrix when only the ODEs are available. See the section {doc}`unrollOde` for more information, and in particular {doc}`unrollSimple` for the continuing demonstration of the SIR model."
   ]
  },
  {
   "cell_type": "markdown",
   "id": "51ed6fa2",
   "metadata": {},
   "source": [
    "## Extracting model information\n",
    "\n",
    "We may wish to determine if the set of ODEs are linear. "
   ]
  },
  {
   "cell_type": "code",
   "execution_count": null,
   "id": "61684654",
   "metadata": {},
   "outputs": [],
   "source": [
    "model.linear_ode()"
   ]
  },
  {
   "cell_type": "markdown",
   "id": "4cf58543",
   "metadata": {},
   "source": [
    "Since we know that the SIR model is not linear, we may want to have a look at the Jacobian.\n"
   ]
  },
  {
   "cell_type": "code",
   "execution_count": null,
   "id": "1c8ff090",
   "metadata": {},
   "outputs": [],
   "source": [
    "model.get_jacobian_eqn()"
   ]
  },
  {
   "cell_type": "markdown",
   "id": "bab79c98",
   "metadata": {},
   "source": [
    "Or maybe we want to know the gradient."
   ]
  },
  {
   "cell_type": "code",
   "execution_count": null,
   "id": "abb02502",
   "metadata": {},
   "outputs": [],
   "source": [
    "model.get_grad_eqn()"
   ]
  },
  {
   "cell_type": "markdown",
   "id": "9d0052ec",
   "metadata": {},
   "source": [
    "```{Warning}\n",
    "Invoking the functions that compute the derivatives, $f(x)$, `model.ode()` or `model.jacobian()`, will return an error\n",
    "\n",
    "These functions are used to solve the ODEs numerically, and require values of initial state values, time, and parameter values.\n",
    "```"
   ]
  },
  {
   "cell_type": "markdown",
   "id": "35abe902",
   "metadata": {},
   "source": [
    "For setting initial conditions, the numeric values of the states **must** be set in the same order that list of states appear. We can use the following to check the state ordering, as well as displaying all of the states that we have included."
   ]
  },
  {
   "cell_type": "code",
   "execution_count": null,
   "id": "e703c888",
   "metadata": {},
   "outputs": [],
   "source": [
    "model.state_list"
   ]
  },
  {
   "cell_type": "markdown",
   "id": "54e681d0",
   "metadata": {},
   "source": [
    "#TODO unsure if this is needed\n",
    "\n",
    "There is currently no mechanism to set the numeric initial conditions the states when the states are defined. This is because of an implementation issue with external package, such as solving an initial value problem."
   ]
  },
  {
   "cell_type": "markdown",
   "id": "13bed7f9",
   "metadata": {},
   "source": [
    "## Initial value problem\n",
    "\n",
    "By setting the state initial conditions, time, and parameters, we can evaluate our model."
   ]
  },
  {
   "cell_type": "markdown",
   "id": "04fb8dd9",
   "metadata": {},
   "source": [
    "1. Define the model parameters. (We can call the parameters to check what we must provide.)"
   ]
  },
  {
   "cell_type": "code",
   "execution_count": null,
   "id": "46042ebf",
   "metadata": {},
   "outputs": [],
   "source": [
    "model.parameters"
   ]
  },
  {
   "cell_type": "code",
   "execution_count": null,
   "id": "9ec016b5",
   "metadata": {},
   "outputs": [],
   "source": [
    "paramEval = [('beta',0.5), ('gamma',1.0/3.0)]\n",
    "\n",
    "model.parameters = paramEval\n",
    "\n",
    "model.parameters"
   ]
  },
  {
   "cell_type": "markdown",
   "id": "efcdac90",
   "metadata": {},
   "source": [
    "2. Provide initial conditions for the states."
   ]
  },
  {
   "cell_type": "code",
   "execution_count": null,
   "id": "c43074c6",
   "metadata": {},
   "outputs": [],
   "source": [
    "initialState = [0, 1, 1.27e-6]\n",
    "    \n",
    "model.ode(state=initialState, t=1)"
   ]
  },
  {
   "cell_type": "markdown",
   "id": "a8dc4681",
   "metadata": {},
   "source": [
    "\n",
    "3. Implement an ODE solver.\n",
    "\n",
    "We are well equipped to solve an initial value problem, using the standard numerical integrator such as `odeint <scipy.integrate.odeint>` from `scipy.integrate`. We also used `matplotlib.pyplot` for plotting and `linspace <numpy.linspace>` to create the time vector."
   ]
  },
  {
   "cell_type": "code",
   "execution_count": null,
   "id": "a14b9901",
   "metadata": {},
   "outputs": [],
   "source": [
    "import scipy.integrate\n",
    "import numpy\n",
    "\n",
    "t = numpy.linspace(0, 150, 100)\n",
    "\n",
    "solution = scipy.integrate.odeint(model.ode, initialState, t)"
   ]
  },
  {
   "cell_type": "markdown",
   "id": "c4feebae",
   "metadata": {},
   "source": [
    "We can plot our solution to observe a standard SIR shape."
   ]
  },
  {
   "cell_type": "code",
   "execution_count": null,
   "id": "8303885c",
   "metadata": {},
   "outputs": [],
   "source": [
    "import matplotlib.pyplot as plt\n",
    "\n",
    "plt.figure()\n",
    "\n",
    "plt.plot(t, solution[:,0], label='R')\n",
    "\n",
    "plt.plot(t, solution[:,1], label='S')\n",
    "\n",
    "plt.plot(t, solution[:,2], label='I')\n",
    "\n",
    "plt.xlabel('Time')\n",
    "\n",
    "plt.ylabel('Population proportion')\n",
    "\n",
    "plt.title('Standard SIR model')\n",
    "\n",
    "plt.legend(loc=0)\n",
    "\n",
    "#@savefig sir_plot.png In \n",
    "\n",
    "plt.show()\n",
    "\n",
    "#plt.close()\n"
   ]
  },
  {
   "cell_type": "markdown",
   "id": "ba849579",
   "metadata": {},
   "source": [
    "Alternatively, we can integrate and plot via the **ode** object which we initialized earlier."
   ]
  },
  {
   "cell_type": "code",
   "execution_count": null,
   "id": "efddd3a5",
   "metadata": {},
   "outputs": [],
   "source": [
    "model.initial_values = (initialState, t[0])\n",
    "\n",
    "model.parameters = paramEval\n",
    "\n",
    "solution = model.integrate(t[1::])\n",
    "\n",
    "model.plot()"
   ]
  },
  {
   "cell_type": "markdown",
   "id": "4dd6e250",
   "metadata": {},
   "source": [
    "We could solve the ODEs above using the Jacobian as well. Unfortunately, it does not help because the number of times the Jacobian was evaluated was zero, as expected given that our set of equations are not stiff."
   ]
  },
  {
   "cell_type": "code",
   "execution_count": null,
   "id": "7a7a568f",
   "metadata": {},
   "outputs": [],
   "source": [
    "#TODO what does this show?\n",
    "%timeit solution1, output1 = scipy.integrate.odeint(model.ode, initialState, t, full_output=True)\n"
   ]
  },
  {
   "cell_type": "code",
   "execution_count": null,
   "id": "91b7f9d4",
   "metadata": {},
   "outputs": [],
   "source": [
    "\n",
    "%timeit solution2, output2 = scipy.integrate.odeint(model.ode, initialState, t, Dfun=model.jacobian, mu=None, ml=None, full_output=True)\n"
   ]
  },
  {
   "cell_type": "code",
   "execution_count": null,
   "id": "3403884c",
   "metadata": {},
   "outputs": [],
   "source": [
    "\n",
    "%timeit solution3, output3 = model.integrate(t, full_output=True)"
   ]
  },
  {
   "cell_type": "markdown",
   "id": "b6b9ee47",
   "metadata": {},
   "source": [
    "It is important to note that we return our Jacobian as a dense square matrix. Hence, the two argument (mu,ml) for the ODE solver was set to `None` to let it know the output explicitly."
   ]
  },
  {
   "cell_type": "markdown",
   "id": "5ca18fa3",
   "metadata": {},
   "source": [
    "## Solving the forward sensitivity equation\n",
    "\n",
    "The sensitivity equations are also solved as an initial value problem. Let us redefine the model in the standard SIR order and we solve it with the sensitivity all set at zero, i.e. we do not wish to infer the initial value of the states."
   ]
  },
  {
   "cell_type": "code",
   "execution_count": null,
   "id": "87173626",
   "metadata": {},
   "outputs": [],
   "source": [
    "stateList = ['S', 'I', 'R']\n",
    "\n",
    "model = DeterministicOde(stateList, paramList, ode=odeList)\n",
    "\n",
    "initialState = [1, 1.27e-6, 0]\n",
    "\n",
    "paramEval = [('beta', 0.5), ('gamma', 1.0/3.0)]\n",
    "\n",
    "model.parameters = paramEval\n",
    "\n",
    "solution = scipy.integrate.odeint(model.ode_and_sensitivity, numpy.append(initialState, numpy.zeros(6)), t)"
   ]
  },
  {
   "cell_type": "code",
   "execution_count": null,
   "id": "8b63ba62",
   "metadata": {
    "tags": [
     "hide-output"
    ]
   },
   "outputs": [],
   "source": [
    "{\n",
    "    \"tags\": [\n",
    "        \"hide-input\",\n",
    "    ]\n",
    "}\n",
    "f,axarr = plt.subplots(3,3);\n",
    "\n",
    "f.text(0.5,0.975,'SIR with forward sensitivity solved via ode',fontsize=16,horizontalalignment='center',verticalalignment='top')\n",
    "\n",
    "axarr[0,0].plot(t, solution[:,0])\n",
    "\n",
    "axarr[0,0].set_title('S')\n",
    "\n",
    "axarr[0,1].plot(t, solution[:,1])\n",
    "\n",
    "axarr[0,1].set_title('I')\n",
    "\n",
    "axarr[0,2].plot(t, solution[:,2]);\n",
    "\n",
    "axarr[0,2].set_title('R')\n",
    "\n",
    "axarr[1,0].plot(t, solution[:,3])\n",
    "\n",
    "axarr[1,0].set_title(r'state S parameter $beta$')\n",
    "\n",
    "axarr[2,0].plot(t, solution[:,4])\n",
    "\n",
    "axarr[2,0].set_title(r'state S parameter $gamma$')\n",
    "\n",
    "axarr[1,1].plot(t, solution[:,5])\n",
    "\n",
    "axarr[1,1].set_title(r'state I parameter $beta$')\n",
    "\n",
    "axarr[2,1].plot(t, solution[:,6])\n",
    "\n",
    "axarr[2,1].set_title(r'state I parameter $gamma$')\n",
    "\n",
    "axarr[1,2].plot(t, solution[:,7])\n",
    "\n",
    "axarr[1,2].set_title(r'state R parameter $beta$')\n",
    "\n",
    "axarr[2,2].plot(t, solution[:,8])\n",
    "\n",
    "axarr[2,2].set_title(r'state R parameter $gamma$')\n",
    "\n",
    "plt.tight_layout()\n",
    "\n",
    "plt.show()"
   ]
  },
  {
   "cell_type": "markdown",
   "id": "2f64d869",
   "metadata": {},
   "source": [
    "This concludes the introductory example and we will be moving on to look at parameter estimation next in {doc}`estimate1` and the most important part in terms of setting up the ODE object; defining the equations in various different ways in {doc}`transition`."
   ]
  }
 ],
 "metadata": {
  "kernelspec": {
   "display_name": "Python 3.9.15 ('sphinx-doc')",
   "language": "python",
   "name": "python3"
  },
  "language_info": {
   "codemirror_mode": {
    "name": "ipython",
    "version": 3
   },
   "file_extension": ".py",
   "mimetype": "text/x-python",
   "name": "python",
   "nbconvert_exporter": "python",
   "pygments_lexer": "ipython3",
   "version": "3.9.15"
  },
  "vscode": {
   "interpreter": {
    "hash": "4dc1e323c80fe09539c74ad5c5a7c7d8d9ff99e04f7b3dbd3680daf878629d6e"
   }
  }
 },
 "nbformat": 4,
 "nbformat_minor": 5
}
