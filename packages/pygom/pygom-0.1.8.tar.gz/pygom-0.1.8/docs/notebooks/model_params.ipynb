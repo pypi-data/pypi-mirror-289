{
 "cells": [
  {
   "cell_type": "markdown",
   "id": "e395ad9b",
   "metadata": {},
   "source": [
    "# Parameterisation\n",
    "\n",
    "Until now, we have only dealt with parameters when it was necessary to inform PyGOM which of our symbols refer to states and which to parameters.\n",
    "However, before PyGOM can find numerical solutions to the equations, it must be fed numerical parameter values.\n",
    "PyGOM's ODE solvers accept parameters in two forms: fixed, where they remain constant, or random, where they are drawn from a given distribution.\n",
    "We demonstrate these features on our model system, the SIR compartmental model.\n",
    "We start, as always, by encapsulating our ODE system in a PyGOM object, in this case loading a previously defined model."
   ]
  },
  {
   "cell_type": "code",
   "execution_count": null,
   "id": "1679a48a",
   "metadata": {},
   "outputs": [],
   "source": [
    "from pygom import common_models\n",
    "ode = common_models.SIR()"
   ]
  },
  {
   "cell_type": "markdown",
   "id": "404cea05",
   "metadata": {},
   "source": [
    "## Fixed parameters\n",
    "\n",
    "Defining fixed parameters for $\\beta$, $\\gamma$ and $N$ is simply done via a list of tuples as follows:"
   ]
  },
  {
   "cell_type": "code",
   "execution_count": null,
   "id": "cc1bd57c",
   "metadata": {},
   "outputs": [],
   "source": [
    "fixed_param_set=[('beta', 0.3), ('gamma', 0.25), ('N', 1e4)]\n",
    "ode.parameters=fixed_param_set"
   ]
  },
  {
   "cell_type": "markdown",
   "id": "b7f1018f",
   "metadata": {},
   "source": [
    "<!-- Now we define two sets of parameters which we will plug into our model in turn. One (`fixed_param_set`), provides fixed vales for $\\gamma$ and $\\beta$ and another (`random_param_set`) specifies that $\\gamma$ and $\\beta$ are to be randomly drawn from a Gamma distribution (this choice of distribution ensuring that both parameters are positive as required). In both our sets of parameters, the total population, $N$, will be fixed, showing that a mixture of parameter types (fixed and random) is valid.\n",
    "\n",
    "First we define the mean values for $\\beta$ and $\\gamma$ which will be common to both parameter sets -->\n",
    "\n",
    "## Random parameters\n",
    "\n",
    "Instead, imagine that we have some prior uncertainty on the values of our model parameters.\n",
    "We may wish to reflect this by running model simulations over a variety of parameter values drawn randomly from a probability distribution.\n",
    "A suitable choice of distribution for $\\gamma$ and $\\beta$ is a gamma distribution, since it ensures that both parameters are positive as required.\n",
    "In this example, we'll keep the total population, $N$, fixed, showing that a mixture of parameter types (fixed and random) is possible.\n",
    "\n",
    "To define our random distributions, we make use of the familiar syntax from [R](http://www.r-project.org/).\n",
    "Slightly cumbersomely, we have to define it via a tuple, where the first item is the function handle (name) and the second the parameters. "
   ]
  },
  {
   "cell_type": "code",
   "execution_count": null,
   "id": "52734403",
   "metadata": {},
   "outputs": [],
   "source": [
    "from pygom.utilR import rgamma\n",
    "random_param_set = dict()  # container for random param set\n",
    "random_param_set['gamma'] = (rgamma,{'shape':100, 'rate':400})\n",
    "random_param_set['beta'] = (rgamma,{'shape':100, 'rate':333.33})\n",
    "random_param_set['N'] = 1e4"
   ]
  },
  {
   "cell_type": "markdown",
   "id": "a4c4ca97",
   "metadata": {},
   "source": [
    "The values of the shape and rate parameters mean that $\\gamma$ and $\\beta$ have means of 0.25 and 0.3 and standard deviations of 0.025 and 0.03 respectively.\n",
    "When changing parameters, it is a good idea to define a new {class}`.SimulateOde` object, since there may be some calculated variables leftover from the previous parameter set.\n",
    "We do not need to inform PyGOM that the parameters are random and define them in the same way as before:"
   ]
  },
  {
   "cell_type": "code",
   "execution_count": null,
   "id": "24447ca7",
   "metadata": {},
   "outputs": [],
   "source": [
    "ode = common_models.SIR()\n",
    "ode.parameters=random_param_set"
   ]
  },
  {
   "cell_type": "markdown",
   "id": "b05c629f",
   "metadata": {},
   "source": [
    "<!-- # Recovery rate, gamma\n",
    "gamma_var=(gamma_mn/10)**2  # Set the standard deviation to be 1/10th of the mean value\n",
    "gamma_shape=(gamma_mn**2)/gamma_var\n",
    "gamma_rate=gamma_mn/gamma_var\n",
    "\n",
    "# Infectivity parameter, beta\n",
    "beta_var=(beta_mn/10)**2  # Set the standard deviation to be 1/10th of the mean value\n",
    "beta_shape=(beta_mn**2)/beta_var\n",
    "beta_rate=beta_mn/beta_var\n",
    "\n",
    "print(gamma_shape)\n",
    "print(gamma_rate)\n",
    "print(beta_shape)\n",
    "print(beta_rate) -->"
   ]
  }
 ],
 "metadata": {
  "kernelspec": {
   "display_name": "Python 3.9.15 ('sphinx-doc')",
   "language": "python",
   "name": "python3"
  },
  "language_info": {
   "codemirror_mode": {
    "name": "ipython",
    "version": 3
   },
   "file_extension": ".py",
   "mimetype": "text/x-python",
   "name": "python",
   "nbconvert_exporter": "python",
   "pygments_lexer": "ipython3",
   "version": "3.9.19"
  },
  "vscode": {
   "interpreter": {
    "hash": "4dc1e323c80fe09539c74ad5c5a7c7d8d9ff99e04f7b3dbd3680daf878629d6e"
   }
  }
 },
 "nbformat": 4,
 "nbformat_minor": 5
}
