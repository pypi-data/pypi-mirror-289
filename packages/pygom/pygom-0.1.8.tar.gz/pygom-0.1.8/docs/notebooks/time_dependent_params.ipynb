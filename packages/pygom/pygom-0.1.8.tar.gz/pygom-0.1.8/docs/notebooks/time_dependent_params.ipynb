{
 "cells": [
  {
   "cell_type": "markdown",
   "id": "aeef8af5",
   "metadata": {},
   "source": [
    "# Time dependent parameters\n",
    "\n",
    "PyGOM may also be used to model systems with time dependent parameters.\n",
    "Such situations commonly enter epidemic modelling if, for example, the infectivity varies with time due to seasonal effects or interventions.\n",
    "As an example, let's consider an SIR model with periodic infectivity ($\\beta(t)$) and add in immune waning too (so we can witness multiple seasons):\n",
    "\n",
    "$$\\begin{aligned}\n",
    "\\frac{\\mathrm{d} S}{\\mathrm{d} t} &= -\\frac{\\beta(t) SI}{N} + w R \\\\\n",
    "\\frac{\\mathrm{d} I}{\\mathrm{d} t} &= \\frac{\\beta(t) SI}{N}- \\gamma I \\\\\n",
    "\\frac{\\mathrm{d} R}{\\mathrm{d} t} &= \\gamma I - w R \\\\\n",
    "\\beta(t) &= \\beta_0 \\left(1+\\delta \\cos \\left(\\frac{2 \\pi t}{P} \\right) \\right)\n",
    "\\end{aligned}$$\n",
    "\n",
    "where $\\beta_0$ is some baseline infection rate, $\\delta$ is the magnitude of oscillations from the baseline ($-1<\\delta<1$ so that $\\beta>0$), $P$ is the oscillation period and $w$ is the waning rate.\n",
    "PyGOM cannot handle the time dependence explicitly, instead we must define a dummy variable, $\\tau$, to play the same role.\n",
    "We append our set of equations with an extra one:\n",
    "\n",
    "$$\\begin{aligned}\n",
    "\\frac{\\mathrm{d} \\tau}{\\mathrm{d} t} &= 1\n",
    "\\end{aligned}$$\n",
    "\n",
    "This takes the place of an extra ``state'' in our system, so we need to treat it as such by:\n",
    "\n",
    "- Declaring it in our state list\n",
    "- Including the equation above in our ode list\n",
    "- Providing an initial condition (best set $\\tau_0=0$ if $t_0=0$ so that that $\\tau=t$)\n",
    "\n",
    "We must also provide the functional form of $\\beta$ which we do by including it as a `derived parameter`.\n",
    "In the following we put all of these requirements into code:"
   ]
  },
  {
   "cell_type": "code",
   "execution_count": null,
   "id": "1679a48a",
   "metadata": {},
   "outputs": [],
   "source": [
    "from pygom import SimulateOde, Transition, TransitionType\n",
    "import matplotlib.pyplot as plt\n",
    "import numpy as np\n",
    "\n",
    "# Define SIR model\n",
    "stateList = ['S', 'I', 'R', 'tau']                                    # now we have added tau to the states\n",
    "paramList = ['gamma', 'N', 'beta0', 'delta', 'period', 'w']\n",
    "derived_param = [('beta', 'beta0*(1+delta*cos(2*3.14*tau/period))')]  # beta (with tau instead of t)\n",
    "\n",
    "odeList=[Transition(origin='S', equation='-beta*S*I/N + w*R', transition_type=TransitionType.ODE),\n",
    "         Transition(origin='I', equation='beta*S*I/N - gamma*I', transition_type=TransitionType.ODE),\n",
    "         Transition(origin='R', equation='gamma*I - w*R', transition_type=TransitionType.ODE),\n",
    "         Transition(origin='tau', equation='1', transition_type=TransitionType.ODE)]  # d(tau)/dt = 1\n",
    "\n",
    "# Set parameter values\n",
    "gamma=0.25    # Recovery rate\n",
    "n_pop=1e4     # Total population\n",
    "beta0=0.3     # Baseline infectivity\n",
    "period=365    # Period 1 year\n",
    "delta=0.2     # beta varies between 0.8 and 1.2 times beta0\n",
    "w=2/(365)     # timescale of immune waning of order 0.5 year\n",
    "\n",
    "params=[('gamma', gamma),\n",
    "        ('N', n_pop),\n",
    "        ('beta0', beta0),\n",
    "        ('delta', delta),\n",
    "        ('period', period),\n",
    "        ('w', w)]\n",
    "\n",
    "# Initial conditions\n",
    "i0=1\n",
    "x0 = [n_pop-i0, i0, 0, 0]             # We specify tau0=0 in [s0, i0, r0, tau0]\n",
    "\n",
    "# Time range and increments\n",
    "tmax=10*365                           # run for 10 years\n",
    "dt=0.1                                # timestep\n",
    "n_timestep=int(tmax/dt)               # number of iterations\n",
    "t = np.linspace(0, tmax, n_timestep)  # times at which solution will be evaluated\n",
    "\n",
    "# Set up pygom object\n",
    "ode = SimulateOde(stateList,\n",
    "                  paramList,\n",
    "                  ode=odeList,\n",
    "                  derived_param=derived_param)\n",
    "\n",
    "ode.initial_values = (x0, t[0])  # (initial state conditions, initial timepoint)\n",
    "ode.parameters=params"
   ]
  },
  {
   "cell_type": "markdown",
   "id": "1dcdfcc4",
   "metadata": {},
   "source": [
    "We may then solve this deterministically and plot the result:"
   ]
  },
  {
   "cell_type": "code",
   "execution_count": null,
   "id": "a8057a58",
   "metadata": {},
   "outputs": [],
   "source": [
    "solution = ode.solve_determ(t[1::])\n",
    "\n",
    "f, axarr = plt.subplots(2,2, layout='constrained', figsize=(10, 4))\n",
    "\n",
    "axarr[0][0].plot(t/365, solution[:,0], color='C1')\n",
    "axarr[0][1].plot(t/365, solution[:,1], color='C0')\n",
    "axarr[1][0].plot(t/365, solution[:,2], color='C2')\n",
    "axarr[1][1].plot(t/365, solution[:,3]/365, color='C3')\n",
    "axarr[0][0].set_title(\"S\")\n",
    "axarr[0][0].set_xlabel(\"Time (years)\")\n",
    "axarr[0][1].set_title(\"I\")\n",
    "axarr[0][1].set_xlabel(\"Time (years)\")\n",
    "axarr[1][0].set_title(\"R\")\n",
    "axarr[1][0].set_xlabel(\"Time (years)\")\n",
    "axarr[1][1].set_title(\"tau (years)\")\n",
    "axarr[1][1].set_xlabel(\"Time (years)\")\n",
    "\n",
    "plt.show()"
   ]
  },
  {
   "cell_type": "markdown",
   "id": "dc691a8f",
   "metadata": {},
   "source": [
    "```{warning}\n",
    "PyGOM cannot be used to solve time dependent systems stochastically.\n",
    "This is because our dummy variable, $\\tau$, representing time will be treated the same as the other state variables and thus also evolves stochastically.\n",
    "Mathematically, the equation $\\frac{\\mathrm{d} \\tau}{\\mathrm{d} t} = 1$ implies stochastic evolution according to $\\mathrm{d} \\tau \\sim \\mathrm{Poisson}(\\mathrm{d} t)$.\n",
    "Whilst $\\tau$ might vaguely follow a similar trajectory to time, we will likely lose too much precision for most applications.\n",
    "```"
   ]
  }
 ],
 "metadata": {
  "kernelspec": {
   "display_name": "Python 3.9.15 ('sphinx-doc')",
   "language": "python",
   "name": "python3"
  },
  "language_info": {
   "codemirror_mode": {
    "name": "ipython",
    "version": 3
   },
   "file_extension": ".py",
   "mimetype": "text/x-python",
   "name": "python",
   "nbconvert_exporter": "python",
   "pygments_lexer": "ipython3",
   "version": "3.9.19"
  },
  "vscode": {
   "interpreter": {
    "hash": "4dc1e323c80fe09539c74ad5c5a7c7d8d9ff99e04f7b3dbd3680daf878629d6e"
   }
  }
 },
 "nbformat": 4,
 "nbformat_minor": 5
}
