{
 "cells": [
  {
   "cell_type": "markdown",
   "id": "e69f436b",
   "metadata": {},
   "source": [
    "# Extracting model information\n",
    "\n",
    "In the study of ODE systems, there are many calculations which are frequently performed and PyGOM has some functionality to provide assistance.\n",
    "We will again use the SIR model as our example system, but this time we will make use of the PyGOM `common_models` module, where many predefined models are stored.\n",
    "This means we avoid having to build the model from scratch again, saving time and lines of code.\n",
    "Here we initialise a `SIR` model:"
   ]
  },
  {
   "cell_type": "code",
   "execution_count": 1,
   "id": "d499587e",
   "metadata": {},
   "outputs": [],
   "source": [
    "from pygom import common_models\n",
    "ode = common_models.SIR()"
   ]
  },
  {
   "cell_type": "markdown",
   "id": "5defac16",
   "metadata": {},
   "source": [
    "## Verification\n",
    "\n",
    "As seen previously, the {func}`.get_ode_eqn` function allows us to verify that our ODE equations are as we'd expect:"
   ]
  },
  {
   "cell_type": "code",
   "execution_count": null,
   "id": "5a2be3c1",
   "metadata": {},
   "outputs": [],
   "source": [
    "ode.get_ode_eqn()"
   ]
  },
  {
   "cell_type": "markdown",
   "id": "d9f4249d",
   "metadata": {},
   "source": [
    "```{tip}\n",
    "In addition to showing the Python equation form of the ODEs, we can also display them as either symbols or latex code, which can save some extra typing when porting the equations to another document.\n",
    "```"
   ]
  },
  {
   "cell_type": "code",
   "execution_count": null,
   "id": "2089ef15",
   "metadata": {},
   "outputs": [],
   "source": [
    "ode.print_ode()\n",
    "ode.print_ode(True)"
   ]
  },
  {
   "cell_type": "markdown",
   "id": "d9d71015",
   "metadata": {},
   "source": [
    "We can check the model definition in terms of a transition matrix:"
   ]
  },
  {
   "cell_type": "code",
   "execution_count": null,
   "id": "0ea90388",
   "metadata": {},
   "outputs": [],
   "source": [
    "ode.get_transition_matrix()"
   ]
  },
  {
   "cell_type": "markdown",
   "id": "9c7b5c60",
   "metadata": {},
   "source": [
    "where only the upper off diagonal triangle is necessary to fully define the system.\n",
    "\n",
    "We can even inspect the transitions graphically:"
   ]
  },
  {
   "cell_type": "code",
   "execution_count": null,
   "id": "e04194ea",
   "metadata": {},
   "outputs": [],
   "source": [
    "ode.get_transition_graph();"
   ]
  },
  {
   "cell_type": "markdown",
   "id": "f77cfefa",
   "metadata": {},
   "source": [
    "## Algebraic insights\n",
    "\n",
    "We briefly outline some of the algebraic results which can be quickly accessed by PyGOM. Firstly, we can check if our system is linear:"
   ]
  },
  {
   "cell_type": "code",
   "execution_count": null,
   "id": "1d55ef11",
   "metadata": {},
   "outputs": [],
   "source": [
    "ode.linear_ode()"
   ]
  },
  {
   "cell_type": "markdown",
   "id": "c3fa0e62",
   "metadata": {},
   "source": [
    "For stability analysis and speeding up numerical integrators, it may be useful to know the Jacobian, Hessian (where three 2D arrays are returned, rather than one 3D array) or gradient which PyGOM has functions for respectively:\n",
    "\n",
    "```{warning}\n",
    "In different contexts it can be useful to know the derivatives with respect to the state variables or the parameters. Make sure you know which one you require and check that the PyGOM function you are using provides it.\n",
    "```"
   ]
  },
  {
   "cell_type": "code",
   "execution_count": null,
   "id": "9c6ec971",
   "metadata": {},
   "outputs": [],
   "source": [
    "ode.get_jacobian_eqn()"
   ]
  },
  {
   "cell_type": "code",
   "execution_count": null,
   "id": "0a8b4ff6",
   "metadata": {},
   "outputs": [],
   "source": [
    "ode.get_hessian_eqn()"
   ]
  },
  {
   "cell_type": "code",
   "execution_count": null,
   "id": "5e1c7dfb",
   "metadata": {},
   "outputs": [],
   "source": [
    "ode.get_grad_eqn()"
   ]
  },
  {
   "cell_type": "markdown",
   "id": "3f572e7c",
   "metadata": {},
   "source": [
    "## Epidemiology specific insights\n",
    "\n",
    "Under development are functions to obtain numeric and algebraic expressions for the basic reproduction number, $R_0$.\n",
    "Currently, these can be obtained in two steps, first by finding the next generation matrix and then calculating $R_0$ from this, assuming in the initial conditions that $S(0)=N$.\n",
    "We must specify which state represents the *infectious state*, which in this case is the state **I**."
   ]
  },
  {
   "cell_type": "code",
   "execution_count": 3,
   "id": "d099d92b",
   "metadata": {},
   "outputs": [
    {
     "name": "stdout",
     "output_type": "stream",
     "text": [
      "[S*beta/(N*gamma)]\n"
     ]
    }
   ],
   "source": [
    "from pygom.model.epi_analysis import *\n",
    "\n",
    "F, V = disease_progression_matrices(ode, 'I')\n",
    "e = R0_from_matrix(F, V)\n",
    "print(e)"
   ]
  }
 ],
 "metadata": {
  "kernelspec": {
   "display_name": "Python 3.9.15 ('sphinx-doc')",
   "language": "python",
   "name": "python3"
  },
  "language_info": {
   "codemirror_mode": {
    "name": "ipython",
    "version": 3
   },
   "file_extension": ".py",
   "mimetype": "text/x-python",
   "name": "python",
   "nbconvert_exporter": "python",
   "pygments_lexer": "ipython3",
   "version": "3.9.19"
  },
  "vscode": {
   "interpreter": {
    "hash": "4dc1e323c80fe09539c74ad5c5a7c7d8d9ff99e04f7b3dbd3680daf878629d6e"
   }
  }
 },
 "nbformat": 4,
 "nbformat_minor": 5
}
