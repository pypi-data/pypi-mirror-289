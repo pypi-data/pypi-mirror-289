{
 "cells": [
  {
   "cell_type": "markdown",
   "metadata": {},
   "source": [
    "# Deducing transitions from equations\n",
    "\n",
    "Deducing ODEs from transitions is as simple as adding up all the different flows in and out of each state.\n",
    "In this process, information is lost regarding the nature (origin and destination) of the constituent transitions and so the reverse problem, deducing transitions from ODEs, is more difficult.\n",
    "PyGOM includes some tools to attempt to distinguish the implied flows between compartments given a set of equations, but given that multiple underlying flow configurations can separately explain an ODE system, this functionality should be used with caution.\n",
    "Here we demonstrate how this works in practice for two potentially tricky problems, the first of which is a system where the total population count is not conserved and the second is a system where a flow out of some of the compartments is split between multiple destinations.\n",
    "\n",
    "## SIR with births and deaths\n",
    "\n",
    "For our first example, let's consider the SIR model with standard incidence mixing and births and deaths proportional to the total population count, but not necessarily balanced:\n",
    "\n",
    "$$\\begin{aligned}\n",
    "\\frac{\\mathrm{d} S}{\\mathrm{d} t} &= -\\frac{\\beta SI}{N} + B N - \\mu S \\\\\n",
    "\\frac{\\mathrm{d} I}{\\mathrm{d} t} &= \\frac{\\beta SI}{N} - \\gamma I - \\mu I \\\\\n",
    "\\frac{\\mathrm{d} R}{\\mathrm{d} t} &= \\gamma I - \\mu R \\\\\n",
    "\\frac{\\mathrm{d} N}{\\mathrm{d} t} &= (B-\\mu)N\n",
    "\\end{aligned}$$\n",
    "\n",
    "Given that the infection rate, $\\frac{\\beta SI}{N}$, depends on the total population, it is necessary to keep track of $N(t)$ in the final equation. \n",
    "Here we encounter an issue when thinking in terms of compartments:\n",
    "The total number of living individuals, $N$, is not a distinct category, rather, $S$, $I$ and $R$ are a subset of it.\n",
    "Thus, whilst valid to define a system of ODEs as we have done above, PyGOM will run into difficulties as it will interpret $N$ as a compartment.\n",
    "One solution could be to define $N$ as a time dependent parameter, however PyGOM does not currently have this functionality.\n",
    "\n",
    "Instead, we must be careful to ensure that we only pass state equations to PyGOM's transition calculating function, {func}`.get_unrolled_obj()`.\n",
    "The implication for the current example is that we eliminate the final equation and substitute $N=S+I+R$ everywhere else.\n",
    "\n",
    "Let's set up the {class}`.SimulateOde` object as usual:"
   ]
  },
  {
   "cell_type": "code",
   "execution_count": null,
   "id": "52daed16",
   "metadata": {},
   "outputs": [],
   "source": [
    "from pygom import SimulateOde, Transition, TransitionType\n",
    "\n",
    "odeList = [\n",
    "    Transition(transition_type=TransitionType.ODE, origin='S', equation='-beta*S*I/(S+I+R) + B*(S+I+R) - mu*S'),\n",
    "    Transition(transition_type=TransitionType.ODE, origin='I', equation='beta*S*I/(S+I+R) - gamma*I - mu*I'),\n",
    "    Transition(transition_type=TransitionType.ODE, origin='R', equation='gamma*I - mu*R') \n",
    "]\n",
    "\n",
    "stateList = ['S', 'I', 'R']\n",
    "paramList = ['beta', 'gamma', 'B', 'mu']\n",
    "\n",
    "model = SimulateOde(state=stateList, param=paramList, ode=odeList)"
   ]
  },
  {
   "cell_type": "markdown",
   "id": "d712e654",
   "metadata": {},
   "source": [
    "If we now inspect the transition matrix:"
   ]
  },
  {
   "cell_type": "code",
   "execution_count": null,
   "id": "16280343",
   "metadata": {},
   "outputs": [],
   "source": [
    "model.get_transition_matrix()"
   ]
  },
  {
   "cell_type": "markdown",
   "id": "669529c7",
   "metadata": {},
   "source": [
    "we see that it is empty.\n",
    "This is because {class}`.SimulateOde` was not initialized using transitions, but by ODEs.\n",
    "We can populate the transition matrix by calling an algorithm to extract the flow information:"
   ]
  },
  {
   "cell_type": "code",
   "execution_count": null,
   "id": "768a4cd0",
   "metadata": {},
   "outputs": [],
   "source": [
    "model = model.get_unrolled_obj()"
   ]
  },
  {
   "cell_type": "markdown",
   "id": "5e3c78c4",
   "metadata": {},
   "source": [
    "and can verify that the calculated transition matrix now matches what we would expect:"
   ]
  },
  {
   "cell_type": "code",
   "execution_count": null,
   "id": "5750fc80",
   "metadata": {},
   "outputs": [],
   "source": [
    "model.get_transition_matrix()"
   ]
  },
  {
   "cell_type": "markdown",
   "id": "a373d4c1",
   "metadata": {},
   "source": [
    "Birth and death processes are not between states, rather into and out of the system and so do not appear in the transition matrix.\n",
    "We could always get around this by defining another class (perhaps **U**nliving) as a limitless reservoir where births may come from and deaths may flow into.\n",
    "Alternatively, we can view the birth and death processes by inspecting a graph of the transitions."
   ]
  },
  {
   "cell_type": "code",
   "execution_count": null,
   "id": "8251b87f",
   "metadata": {},
   "outputs": [],
   "source": [
    "model.get_transition_graph();"
   ]
  },
  {
   "cell_type": "markdown",
   "id": "98da24d0",
   "metadata": {},
   "source": [
    "## SLIAR epidemic model\n",
    "\n",
    "Now we turn to a problem that does not have a one to one mapping between all the transitions and the terms in the ODEs.\n",
    "In this model, **S**usceptible individuals may be infected and enter a **L**atent phase.\n",
    "The rate at which individuals leave this state is $\\kappa$, after which a fraction, $p$, become **I**nfective and the remaining, $(1-p)$, become **A**symptomatic.\n",
    "Both these classes are capable of onward transmission, however, those in the **A** class have infectivity reduced by a factor $\\delta$ relative to the **I** class.\n",
    "All **A**symptomatics eventually become **R**emoved at a rate $\\eta$, whereas a fraction, $f$, of the infectives recover, the remaining $(1-f)$ going on to die (both at a rate $\\alpha$).\n",
    "\n",
    "The equations are as follows:\n",
    "\n",
    "$$\\begin{aligned}\n",
    "\\frac{\\mathrm{d}S}{\\mathrm{d}t} &= -\\beta S (I + \\delta A) \\\\    \n",
    "\\frac{\\mathrm{d}L}{\\mathrm{d}t} &= \\beta S (I + \\delta A) - \\kappa L \\\\  \n",
    "\\frac{\\mathrm{d}I}{\\mathrm{d}t} &= p \\kappa L - \\alpha I \\\\\n",
    "\\frac{\\mathrm{d}A}{\\mathrm{d}t} &= (1 - p) \\kappa L - \\eta A \\\\\n",
    "\\frac{\\mathrm{d}R}{\\mathrm{d}t} &= f \\alpha I + \\eta A \\\\\n",
    "\\end{aligned}$$\n",
    "\n",
    "In this case, the potential difficulty comes from the outflows of state **L** and **I**.\n",
    "For **L**, this is composed of two transitions, one to **I** and the other to **A** but the ODE of **L** only reflects the total flow going out of the state.\n",
    "Similarly for **I**, the outflow, $\\alpha I$, is partitioned as $f \\alpha I$ into state **R** with the rest assumed dead, though not explicitly stated in the equations.\n",
    "\n",
    "We set up the {class}`.SimulateOde` object for this case:"
   ]
  },
  {
   "cell_type": "code",
   "execution_count": null,
   "id": "280c4be4",
   "metadata": {},
   "outputs": [],
   "source": [
    "from pygom import SimulateOde, Transition, TransitionType\n",
    "\n",
    "stateList = ['S', 'L', 'I', 'A', 'R']\n",
    "paramList = ['beta', 'p', 'kappa', 'alpha', 'f', 'delta', 'eta']\n",
    "odeList = [Transition(origin='S', equation='- beta*S*(I + delta*A)', transition_type=TransitionType.ODE), \n",
    "           Transition(origin='L', equation='beta*S*(I + delta*A) - kappa*L', transition_type=TransitionType.ODE),\n",
    "           Transition(origin='I', equation='p*kappa*L - alpha*I', transition_type=TransitionType.ODE),\n",
    "           Transition(origin='A', equation='(1 - p)*kappa*L - eta*A', transition_type=TransitionType.ODE),\n",
    "           Transition(origin='R', equation='f*alpha*I + eta*A', transition_type=TransitionType.ODE)]\n",
    "model = SimulateOde(stateList, paramList, ode=odeList)"
   ]
  },
  {
   "cell_type": "markdown",
   "id": "690b0785",
   "metadata": {},
   "source": [
    "Deducing the transitions and inspecting the resulting transition graph:"
   ]
  },
  {
   "cell_type": "code",
   "execution_count": null,
   "id": "1b6cb187",
   "metadata": {},
   "outputs": [],
   "source": [
    "model = model.get_unrolled_obj()\n",
    "model.get_transition_graph();"
   ]
  },
  {
   "cell_type": "markdown",
   "id": "00742616",
   "metadata": {},
   "source": [
    "We notice that the **L** outflow has been captured, but the outflow from **I** is assumed to be a full death process of which a fraction are born into the recovered state.\n",
    "This appearance of an incorrect, but still consistent, configuration demonstrates the difficulty in performing such reverse engineering.\n",
    "One work-around is if we explicitly introduce a dead state, $D$:"
   ]
  },
  {
   "cell_type": "code",
   "execution_count": null,
   "id": "59ce2a8a",
   "metadata": {},
   "outputs": [],
   "source": [
    "stateList = ['S', 'L', 'I', 'A', 'R', 'D']\n",
    "paramList = ['beta', 'p', 'kappa', 'alpha', 'f', 'delta', 'eta']\n",
    "odeList = [Transition(origin='S', equation='- beta*S*(I + delta*A)', transition_type=TransitionType.ODE), \n",
    "           Transition(origin='L', equation='beta*S*(I + delta*A) - kappa*L', transition_type=TransitionType.ODE),\n",
    "           Transition(origin='I', equation='p*kappa*L - alpha*I', transition_type=TransitionType.ODE),\n",
    "           Transition(origin='A', equation='(1 - p)*kappa*L - eta*A', transition_type=TransitionType.ODE),\n",
    "           Transition(origin='R', equation='f*alpha*I + eta*A', transition_type=TransitionType.ODE),\n",
    "           Transition(origin='D', equation='(1-f)*alpha*I', transition_type=TransitionType.ODE)]\n",
    "model = SimulateOde(stateList, paramList, ode=odeList)\n",
    "model = model.get_unrolled_obj()\n",
    "model.get_transition_graph();"
   ]
  }
 ],
 "metadata": {
  "kernelspec": {
   "display_name": "Python 3.9.15 ('sphinx-doc')",
   "language": "python",
   "name": "python3"
  },
  "language_info": {
   "codemirror_mode": {
    "name": "ipython",
    "version": 3
   },
   "file_extension": ".py",
   "mimetype": "text/x-python",
   "name": "python",
   "nbconvert_exporter": "python",
   "pygments_lexer": "ipython3",
   "version": "3.9.19"
  },
  "vscode": {
   "interpreter": {
    "hash": "4dc1e323c80fe09539c74ad5c5a7c7d8d9ff99e04f7b3dbd3680daf878629d6e"
   }
  }
 },
 "nbformat": 4,
 "nbformat_minor": 5
}
