{
 "cells": [
  {
   "cell_type": "markdown",
   "metadata": {},
   "source": [
    "# ODE With Birth and Death Process\n",
    "\n",
    "We follow on from the SIR model of {doc}`unrollSimple` but now include additional\n",
    "birth and death processes.\n",
    "\n",
    "$$\\begin{aligned}\n",
    "\\frac{\\mathrm{d}S}{\\mathrm{d}t} &= -\\beta SI + B - \\mu S\\\\\n",
    "\\frac{\\mathrm{d}I}{\\mathrm{d}t} &= \\beta SI - \\gamma I - \\mu I\\\\\n",
    "\\frac{\\mathrm{d}R}{\\mathrm{d}t} &= \\gamma I - \\mu R\n",
    "\\end{aligned}$$\n",
    "\n",
    "which consists of two transitions, one birth process and three death processes.\n"
   ]
  },
  {
   "cell_type": "code",
   "execution_count": null,
   "id": "a17b8221",
   "metadata": {},
   "outputs": [],
   "source": [
    "digraph SIR_Model {rankdir=LR;\n",
    "                   size=\"8\" node \\[shape = circle\\];\n",
    "                   S -\\> I \\[ label = \"βSI\"\\];\n",
    "                   I -\\> R \\[ label = \"γI\" \\];\n",
    "                   B \\[height=0 margin=0 shape=plaintext width=0\\];\n",
    "                   B -\\> S; \"S\\**2*μ\" \\[height=0 margin=0 shape=plaintext width=0\\];\n",
    "                   S -\\> \"S\\**2*μ\"; \"I\\*μ\" \\[height=0 margin=0 shape=plaintext width=0\\];\n",
    "                   I -\\> \"I\\*μ\";\n",
    "}"
   ]
  },
  {
   "cell_type": "markdown",
   "id": "416dd324",
   "metadata": {},
   "source": [
    "\n",
    "Let's define this in terms of ODEs, and unroll it back to the individual\n",
    "processes.\n",
    "\n",
    "We can also assume standard mixing:\n",
    "\n",
    "$$\\begin{aligned}\n",
    "\\frac{\\mathrm{d}S}{\\mathrm{d}t} &= -\\frac{\\beta SI}{N} + B N - \\mu S\\\\\n",
    "\\frac{\\mathrm{d}I}{\\mathrm{d}t} &= \\frac{\\beta SI}{N} - \\gamma I - \\mu I\\\\\n",
    "\\frac{\\mathrm{d}R}{\\mathrm{d}t} &= \\gamma I - \\mu R \\\\\n",
    "\\frac{\\mathrm{d}N}{\\mathrm{d}t} &=  (B - \\mu) N\n",
    "\\end{aligned}$$\n",
    "\n",
    "$N=S+I+R$ which means that we can get rid of one equation"
   ]
  },
  {
   "cell_type": "code",
   "execution_count": null,
   "id": "eed075f5",
   "metadata": {},
   "outputs": [],
   "source": [
    "from pygom import Transition, TransitionType, SimulateOde, common_models\n",
    "\n",
    "import matplotlib.pyplot as plt\n",
    "\n",
    "stateList = ['S', 'I', 'R', 'N']\n",
    "paramList = ['beta', 'gamma', 'B', 'mu']\n",
    "\n",
    "odeList = [Transition(origin='S', equation='-beta*S*I + B - mu*S', transition_type=TransitionType.ODE),\n",
    "           Transition(origin='I', equation='beta*S*I - gamma*I - mu*I', transition_type=TransitionType.ODE),\n",
    "           Transition(origin='R', equation='gamma*I - mu*R', transition_type=TransitionType.ODE),\n",
    "           Transition(origin='N', equation='(B - mu)*N', transition_type=TransitionType.ODE)]\n",
    "\n",
    "model = SimulateOde(stateList, paramList, ode=odeList)\n"
   ]
  },
  {
   "cell_type": "markdown",
   "id": "73ba18bb",
   "metadata": {},
   "source": [
    "The transition matrix is empty"
   ]
  },
  {
   "cell_type": "code",
   "execution_count": null,
   "id": "8c6fc68a",
   "metadata": {},
   "outputs": [],
   "source": [
    "model.get_transition_matrix()"
   ]
  },
  {
   "cell_type": "markdown",
   "id": "2d52621b",
   "metadata": {},
   "source": [
    "Upon calculation, we get:"
   ]
  },
  {
   "cell_type": "code",
   "execution_count": null,
   "id": "738249fa",
   "metadata": {},
   "outputs": [],
   "source": [
    "model = model.get_unrolled_obj()\n",
    "model.get_transition_matrix()"
   ]
  },
  {
   "cell_type": "code",
   "execution_count": null,
   "id": "1759120d",
   "metadata": {},
   "outputs": [],
   "source": [
    "#model.get_transition_graph()"
   ]
  },
  {
   "cell_type": "code",
   "execution_count": null,
   "id": "14d00308",
   "metadata": {},
   "outputs": [],
   "source": [
    "from pygom import Transition, TransitionType, SimulateOde, common_models\n",
    "\n",
    "import matplotlib.pyplot as plt\n",
    "\n",
    "stateList = ['S', 'I', 'R', 'U']\n",
    "paramList = ['beta', 'gamma', 'B', 'mu']\n",
    "odeList = [Transition(origin='S', equation='-beta*S*I/(S+I+R) + B*(S+I+R) - mu*S', transition_type=TransitionType.ODE),\n",
    "           Transition(origin='I', equation='beta*S*I/(S+I+R) - gamma*I - mu*I', transition_type=TransitionType.ODE),\n",
    "           Transition(origin='R', equation='gamma*I - mu*R', transition_type=TransitionType.ODE),\n",
    "           Transition(origin='U', equation='(mu-B)*(S+I+R)', transition_type=TransitionType.ODE)]\n",
    "\n",
    "model = SimulateOde(stateList, paramList, ode=odeList)\n"
   ]
  },
  {
   "cell_type": "code",
   "execution_count": null,
   "id": "a9d064b4",
   "metadata": {},
   "outputs": [],
   "source": [
    "model.get_ode_eqn()"
   ]
  },
  {
   "cell_type": "code",
   "execution_count": null,
   "id": "65f1a19a",
   "metadata": {},
   "outputs": [],
   "source": [
    "\n",
    "model = model.get_unrolled_obj()"
   ]
  },
  {
   "cell_type": "code",
   "execution_count": null,
   "id": "ec11e160",
   "metadata": {},
   "outputs": [],
   "source": [
    "model.get_transition_matrix()"
   ]
  },
  {
   "cell_type": "code",
   "execution_count": null,
   "id": "2be9c993",
   "metadata": {},
   "outputs": [],
   "source": [
    "model.get_ode_eqn()"
   ]
  }
 ],
 "metadata": {
  "kernelspec": {
   "display_name": "Python 3.9.15 ('sphinx-doc')",
   "language": "python",
   "name": "python3"
  },
  "language_info": {
   "codemirror_mode": {
    "name": "ipython",
    "version": 3
   },
   "file_extension": ".py",
   "mimetype": "text/x-python",
   "name": "python",
   "nbconvert_exporter": "python",
   "pygments_lexer": "ipython3",
   "version": "3.12.2"
  },
  "vscode": {
   "interpreter": {
    "hash": "4dc1e323c80fe09539c74ad5c5a7c7d8d9ff99e04f7b3dbd3680daf878629d6e"
   }
  }
 },
 "nbformat": 4,
 "nbformat_minor": 5
}
