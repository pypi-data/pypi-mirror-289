{
 "cells": [
  {
   "cell_type": "markdown",
   "metadata": {},
   "source": [
    "# Hard Problem\n",
    "\n",
    "Now we turn to a harder problem that does not have a one to one mapping between all the transitions and the terms in the ODEs.\n",
    "\n",
    "We use a **S**usceptible, **L**atent, **I**nfective, **A**symptomatic and **R**emoved model.\n",
    "\n",
    "In this model, **S**usceptible individuals may be infected and enter a **L**atent phase after which they are capable of onward transmission as members of the **I**nfective or **A**symptomatic classes. Those in the **A** class have infectivity reduced by a factor $\\delta$ relative to the **I** class. These states are populated by the outflow of **L**atent individuals, where a fraction $p$ proceed to the **I**nfective group and the remainder instead become **A**symptomatic, both at a rate $\\kappa$. All **A**symptomatics eventually become **R**emoved, whereas a fraction, $1-f$, of **I**nfectives go on to die, thus reducing the total living population, **N**.\n",
    "\n",
    "The equations are as follows:\n",
    "\n",
    "under mass action $\\beta(N) \\propto N$\n",
    "$$\\begin{aligned}\n",
    "\\frac{\\mathrm{d}S}{\\mathrm{d}t} &= -\\beta S (I + \\delta A) \\\\    \n",
    "\\frac{\\mathrm{d}L}{\\mathrm{d}t} &= \\beta S (I + \\delta A) - \\kappa L \\\\  \n",
    "\\frac{\\mathrm{d}I}{\\mathrm{d}t} &= p \\kappa L - \\alpha I \\\\\n",
    "\\frac{\\mathrm{d}A}{\\mathrm{d}t} &= (1 - p) \\kappa L - \\eta A \\\\\n",
    "\\frac{\\mathrm{d}R}{\\mathrm{d}t} &= f \\alpha I + \\eta A \\\\\n",
    "\\frac{\\mathrm{d}N}{\\mathrm{d}t} &= -(1 - f) \\alpha I.\n",
    "\\end{aligned}$$\n",
    "\n",
    "where $N+D=N_0$, assuming we start when deaths are zero.\n",
    "\n",
    "under standard incidence $\\beta(N) = \\text{const}$\n",
    "$$\\begin{aligned}\n",
    "\\frac{\\mathrm{d}S}{\\mathrm{d}t} &= -\\beta S \\frac{(I + \\delta A)}{N} \\\\    \n",
    "\\frac{\\mathrm{d}L}{\\mathrm{d}t} &= \\beta S \\frac{(I + \\delta A)}{N} - \\kappa L \\\\  \n",
    "\\frac{\\mathrm{d}I}{\\mathrm{d}t} &= p \\kappa L - \\alpha I \\\\\n",
    "\\frac{\\mathrm{d}A}{\\mathrm{d}t} &= (1 - p) \\kappa L - \\eta A \\\\\n",
    "\\frac{\\mathrm{d}R}{\\mathrm{d}t} &= f \\alpha I + \\eta A \\\\\n",
    "\\frac{\\mathrm{d}N}{\\mathrm{d}t} &= -(1 - f) \\alpha I.\n",
    "\\end{aligned}$$\n",
    "\n",
    "We see the difficulty for finding the transitions:\n",
    "\n",
    "The outflow of state **L**, $\\kappa L$, is composed of two transitions, one to **I** and the other to **A** but the ode of **L** only reflects the total flow going out of the state.\n",
    "\n",
    "Also confusing things is the fact that the total number of living individuals **N** is not a distinct category, rather $N=S+L+I+A+R$ and thus it doesn't make sense to think of any of our groups flowing into it since they are a subset of it. We must instead identify how the leave the system, in this case **D**ead, so we replace the last equation with:\n",
    "\n",
    "$$\\begin{aligned}\n",
    "\\frac{\\mathrm{d}D}{\\mathrm{d}t} &= (1 - f) \\alpha I.\n",
    "\\end{aligned}$$\n",
    "and substitute N from the above equations\n",
    "\n",
    "The combination $S+L+I+A+R+D$ is constant, so all the flows on the LHS must add to zero and we have a closed system.\n",
    "\n",
    "TODO: Is this a necessary condition? If so, we could add a quick error message if sum!=0"
   ]
  },
  {
   "cell_type": "markdown",
   "id": "709d6c69",
   "metadata": {},
   "source": [
    "digraph SLIARD_Model {  \n",
    "labelloc = \"t\"; label = \"Original transitions\"; rankdir=LR; size=\"8\"\n",
    "node \\[shape = circle\\]; S -\\> L \\[ label = \"-Sβ(I + δA)/N\" \\]; L -\\> I\n",
    "\\[ label = \"κLp\" \\]; L -\\> A \\[ label = \"κL(1-p)\" \\]; I -\\> R \\[ label =\n",
    "\"αIf\" \\]; I -\\> D \\[ label = \"αI(1-f)\" \\]; A -\\> R \\[ label = \"ηA\" \\];\n",
    "\n",
    "}"
   ]
  },
  {
   "cell_type": "code",
   "execution_count": 1,
   "id": "df866435",
   "metadata": {},
   "outputs": [
    {
     "data": {
      "text/latex": [
       "$\\displaystyle \\left[\\begin{matrix}0 & 0 & 0 & 0 & 0 & 0\\\\0 & 0 & 0 & 0 & 0 & 0\\\\0 & 0 & 0 & 0 & 0 & 0\\\\0 & 0 & 0 & 0 & 0 & 0\\\\0 & 0 & 0 & 0 & 0 & 0\\\\0 & 0 & 0 & 0 & 0 & 0\\end{matrix}\\right]$"
      ],
      "text/plain": [
       "Matrix([\n",
       "[0, 0, 0, 0, 0, 0],\n",
       "[0, 0, 0, 0, 0, 0],\n",
       "[0, 0, 0, 0, 0, 0],\n",
       "[0, 0, 0, 0, 0, 0],\n",
       "[0, 0, 0, 0, 0, 0],\n",
       "[0, 0, 0, 0, 0, 0]])"
      ]
     },
     "execution_count": 1,
     "metadata": {},
     "output_type": "execute_result"
    }
   ],
   "source": [
    "from pygom import SimulateOde, Transition, TransitionType\n",
    "\n",
    "stateList = ['S', 'L', 'I', 'A', 'R', 'D']\n",
    "paramList = ['beta', 'p', 'kappa', 'alpha', 'f', 'delta', 'epsilon']\n",
    "odeList = [Transition(origin='S', equation='- beta*S*(I + delta*A)', transition_type=TransitionType.ODE), \n",
    "           Transition(origin='L', equation='beta*S*(I + delta*A) - kappa*L', transition_type=TransitionType.ODE),\n",
    "           Transition(origin='I', equation='p*kappa*L - alpha*I', transition_type=TransitionType.ODE),\n",
    "           Transition(origin='A', equation='(1 - p)*kappa*L - epsilon*A', transition_type=TransitionType.ODE),\n",
    "           Transition(origin='R', equation='f*alpha*I + epsilon*A', transition_type=TransitionType.ODE), \n",
    "           Transition(origin='D', equation='(1 - f)*alpha*I', transition_type=TransitionType.ODE)]\n",
    "model = SimulateOde(stateList, paramList, ode=odeList)\n",
    "#model.get_transition_matrix()\n",
    "model.get_ode_eqn()"
   ]
  },
  {
   "cell_type": "code",
   "execution_count": 2,
   "id": "39beaaaa",
   "metadata": {},
   "outputs": [
    {
     "data": {
      "text/latex": [
       "$\\displaystyle \\left[\\begin{matrix}0 & \\frac{A S \\beta \\delta}{N} + \\frac{I S \\beta}{N} & 0 & 0 & 0 & 0\\\\0 & 0 & L \\kappa p & - L \\kappa p + L \\kappa & 0 & 0\\\\0 & 0 & 0 & 0 & I \\alpha f & - I \\alpha f + I \\alpha\\\\0 & 0 & 0 & 0 & A \\epsilon & 0\\\\0 & 0 & 0 & 0 & 0 & 0\\\\0 & 0 & 0 & 0 & 0 & 0\\end{matrix}\\right]$"
      ],
      "text/plain": [
       "Matrix([\n",
       "[0, A*S*beta*delta/N + I*S*beta/N,         0,                    0,         0,                    0],\n",
       "[0,                             0, L*kappa*p, -L*kappa*p + L*kappa,         0,                    0],\n",
       "[0,                             0,         0,                    0, I*alpha*f, -I*alpha*f + I*alpha],\n",
       "[0,                             0,         0,                    0, A*epsilon,                    0],\n",
       "[0,                             0,         0,                    0,         0,                    0],\n",
       "[0,                             0,         0,                    0,         0,                    0]])"
      ]
     },
     "execution_count": 2,
     "metadata": {},
     "output_type": "execute_result"
    }
   ],
   "source": [
    "model = model.get_unrolled_obj()\n",
    "model.get_transition_matrix()"
   ]
  },
  {
   "cell_type": "code",
   "execution_count": 3,
   "id": "2bfa23c0",
   "metadata": {},
   "outputs": [
    {
     "data": {
      "text/latex": [
       "$\\displaystyle \\left[\\begin{matrix}- \\frac{A S \\beta \\delta}{N} - \\frac{I S \\beta}{N}\\\\\\frac{A S \\beta \\delta}{N} + \\frac{I S \\beta}{N} - L \\kappa\\\\- I \\alpha + L \\kappa p\\\\- A \\epsilon - L \\kappa p + L \\kappa\\\\A \\epsilon + I \\alpha f\\\\- I \\alpha f + I \\alpha\\end{matrix}\\right]$"
      ],
      "text/plain": [
       "Matrix([\n",
       "[         -A*S*beta*delta/N - I*S*beta/N],\n",
       "[A*S*beta*delta/N + I*S*beta/N - L*kappa],\n",
       "[                   -I*alpha + L*kappa*p],\n",
       "[       -A*epsilon - L*kappa*p + L*kappa],\n",
       "[                  A*epsilon + I*alpha*f],\n",
       "[                   -I*alpha*f + I*alpha]])"
      ]
     },
     "execution_count": 3,
     "metadata": {},
     "output_type": "execute_result"
    }
   ],
   "source": [
    "model.get_ode_eqn()"
   ]
  },
  {
   "cell_type": "code",
   "execution_count": null,
   "id": "1369c63a",
   "metadata": {},
   "outputs": [],
   "source": [
    "# Lets see what happens with standard\n",
    "\n",
    "#stateList = ['S', 'L', 'I', 'A', 'R', 'N']\n",
    "#paramList = ['beta', 'p', 'kappa', 'alpha', 'f', 'delta', 'epsilon']\n",
    "#odeList = [Transition(origin='S', equation='-beta*S/N*(I + delta*A)', transition_type=TransitionType.ODE), \n",
    "#           Transition(origin='L', equation='beta*S/N*(I + delta*A) - kappa*L', transition_type=TransitionType.ODE),\n",
    "#           Transition(origin='I', equation='p*kappa*L - alpha*I', transition_type=TransitionType.ODE),\n",
    "#           Transition(origin='A', equation='(1 - p)*kappa*L - epsilon*A', transition_type=TransitionType.ODE),\n",
    "#           Transition(origin='R', equation='f*alpha*I + epsilon*A', transition_type=TransitionType.ODE), \n",
    "#           Transition(origin='N', equation='-(1 - f)*alpha*I', transition_type=TransitionType.ODE)]\n",
    "#model = SimulateOde(stateList, paramList, ode=odeList)\n",
    "#model.get_transition_matrix()\n",
    "\n",
    "stateList = ['S', 'L', 'I', 'A', 'R', 'D']\n",
    "paramList = ['beta', 'p', 'kappa', 'alpha', 'f', 'delta', 'epsilon', 'tot']\n",
    "odeList = [Transition(origin='S', equation='- (beta*S/(tot-D))*(I + delta*A)', transition_type=TransitionType.ODE), \n",
    "           Transition(origin='L', equation='(beta*S/(tot-D))*(I + delta*A) - kappa*L', transition_type=TransitionType.ODE),\n",
    "           Transition(origin='I', equation='p*kappa*L - alpha*I', transition_type=TransitionType.ODE),\n",
    "           Transition(origin='A', equation='(1 - p)*kappa*L - epsilon*A', transition_type=TransitionType.ODE),\n",
    "           Transition(origin='R', equation='f*alpha*I + epsilon*A', transition_type=TransitionType.ODE), \n",
    "           Transition(origin='D', equation='(1 - f)*alpha*I', transition_type=TransitionType.ODE)]\n",
    "model = SimulateOde(stateList, paramList, ode=odeList)\n",
    "model.get_transition_matrix()\n",
    "\n"
   ]
  },
  {
   "cell_type": "code",
   "execution_count": null,
   "id": "21730a6c",
   "metadata": {},
   "outputs": [],
   "source": [
    "model = model.get_unrolled_obj()"
   ]
  },
  {
   "cell_type": "code",
   "execution_count": null,
   "id": "712c2776",
   "metadata": {},
   "outputs": [],
   "source": [
    "model.get_transition_matrix()"
   ]
  },
  {
   "cell_type": "code",
   "execution_count": null,
   "id": "24e88360",
   "metadata": {},
   "outputs": [],
   "source": [
    "model.get_ode_eqn()"
   ]
  },
  {
   "cell_type": "markdown",
   "id": "ee801c33",
   "metadata": {},
   "source": [
    "After unrolling the ODEs, we can extract the following transition graph."
   ]
  },
  {
   "cell_type": "code",
   "execution_count": 4,
   "id": "2361a071",
   "metadata": {},
   "outputs": [
    {
     "data": {
      "image/png": "[encoded data removed]",
      "text/plain": [
       "<Figure size 640x480 with 1 Axes>"
      ]
     },
     "metadata": {},
     "output_type": "display_data"
    },
    {
     "data": {
      "image/svg+xml": [
       "<?xml version=\"1.0\" encoding=\"UTF-8\" standalone=\"no\"?>\n",
       "<!DOCTYPE svg PUBLIC \"-//W3C//DTD SVG 1.1//EN\"\n",
       " \"http://www.w3.org/Graphics/SVG/1.1/DTD/svg11.dtd\">\n",
       "<!-- Generated by graphviz version 2.47.0 (20210316.0004)\n",
       " -->\n",
       "<!-- Pages: 1 -->\n",
       "<svg width=\"612pt\" height=\"120pt\"\n",
       " viewBox=\"0.00 0.00 612.00 120.00\" xmlns=\"http://www.w3.org/2000/svg\" xmlns:xlink=\"http://www.w3.org/1999/xlink\">\n",
       "<g id=\"graph0\" class=\"graph\" transform=\"scale(1 1) rotate(0) translate(4 116)\">\n",
       "<polygon fill=\"white\" stroke=\"transparent\" points=\"-4,4 -4,-116 608,-116 608,4 -4,4\"/>\n",
       "<!-- S -->\n",
       "<g id=\"node1\" class=\"node\">\n",
       "<title>S</title>\n",
       "<ellipse fill=\"none\" stroke=\"black\" cx=\"27\" cy=\"-45\" rx=\"27\" ry=\"18\"/>\n",
       "<text text-anchor=\"middle\" x=\"27\" y=\"-41.3\" font-family=\"Times New Roman,serif\" font-size=\"14.00\">S</text>\n",
       "</g>\n",
       "<!-- L -->\n",
       "<g id=\"node2\" class=\"node\">\n",
       "<title>L</title>\n",
       "<ellipse fill=\"none\" stroke=\"black\" cx=\"247\" cy=\"-45\" rx=\"27\" ry=\"18\"/>\n",
       "<text text-anchor=\"middle\" x=\"247\" y=\"-41.3\" font-family=\"Times New Roman,serif\" font-size=\"14.00\">L</text>\n",
       "</g>\n",
       "<!-- S&#45;&gt;L -->\n",
       "<g id=\"edge1\" class=\"edge\">\n",
       "<title>S&#45;&gt;L</title>\n",
       "<path fill=\"none\" stroke=\"black\" d=\"M54.3,-45C93.11,-45 165.86,-45 209.73,-45\"/>\n",
       "<polygon fill=\"black\" stroke=\"black\" points=\"209.95,-48.5 219.95,-45 209.95,-41.5 209.95,-48.5\"/>\n",
       "<text text-anchor=\"middle\" x=\"137\" y=\"-48.8\" font-family=\"Times New Roman,serif\" font-size=\"14.00\">A*S*β*δ/N + I*S*β/N</text>\n",
       "</g>\n",
       "<!-- I -->\n",
       "<g id=\"node3\" class=\"node\">\n",
       "<title>I</title>\n",
       "<ellipse fill=\"none\" stroke=\"black\" cx=\"417\" cy=\"-72\" rx=\"27\" ry=\"18\"/>\n",
       "<text text-anchor=\"middle\" x=\"417\" y=\"-68.3\" font-family=\"Times New Roman,serif\" font-size=\"14.00\">I</text>\n",
       "</g>\n",
       "<!-- L&#45;&gt;I -->\n",
       "<g id=\"edge2\" class=\"edge\">\n",
       "<title>L&#45;&gt;I</title>\n",
       "<path fill=\"none\" stroke=\"black\" d=\"M273.52,-49.1C301.97,-53.67 348.19,-61.1 380.24,-66.25\"/>\n",
       "<polygon fill=\"black\" stroke=\"black\" points=\"380.09,-69.77 390.52,-67.91 381.2,-62.86 380.09,-69.77\"/>\n",
       "<text text-anchor=\"middle\" x=\"332\" y=\"-67.8\" font-family=\"Times New Roman,serif\" font-size=\"14.00\">L*κ*p</text>\n",
       "</g>\n",
       "<!-- A -->\n",
       "<g id=\"node4\" class=\"node\">\n",
       "<title>A</title>\n",
       "<ellipse fill=\"none\" stroke=\"black\" cx=\"417\" cy=\"-18\" rx=\"27\" ry=\"18\"/>\n",
       "<text text-anchor=\"middle\" x=\"417\" y=\"-14.3\" font-family=\"Times New Roman,serif\" font-size=\"14.00\">A</text>\n",
       "</g>\n",
       "<!-- L&#45;&gt;A -->\n",
       "<g id=\"edge3\" class=\"edge\">\n",
       "<title>L&#45;&gt;A</title>\n",
       "<path fill=\"none\" stroke=\"black\" d=\"M272.06,-37.76C278.49,-36.01 285.47,-34.28 292,-33 321.23,-27.28 354.8,-23.38 379.63,-20.99\"/>\n",
       "<polygon fill=\"black\" stroke=\"black\" points=\"380.06,-24.47 389.7,-20.06 379.42,-17.5 380.06,-24.47\"/>\n",
       "<text text-anchor=\"middle\" x=\"332\" y=\"-36.8\" font-family=\"Times New Roman,serif\" font-size=\"14.00\">&#45;L*κ*p + L*κ</text>\n",
       "</g>\n",
       "<!-- R -->\n",
       "<g id=\"node5\" class=\"node\">\n",
       "<title>R</title>\n",
       "<ellipse fill=\"none\" stroke=\"black\" cx=\"577\" cy=\"-29\" rx=\"27\" ry=\"18\"/>\n",
       "<text text-anchor=\"middle\" x=\"577\" y=\"-25.3\" font-family=\"Times New Roman,serif\" font-size=\"14.00\">R</text>\n",
       "</g>\n",
       "<!-- I&#45;&gt;R -->\n",
       "<g id=\"edge4\" class=\"edge\">\n",
       "<title>I&#45;&gt;R</title>\n",
       "<path fill=\"none\" stroke=\"black\" d=\"M442.17,-64.72C448.6,-62.82 455.56,-60.8 462,-59 488.67,-51.55 518.98,-43.6 541.65,-37.75\"/>\n",
       "<polygon fill=\"black\" stroke=\"black\" points=\"542.67,-41.11 551.48,-35.23 540.92,-34.33 542.67,-41.11\"/>\n",
       "<text text-anchor=\"middle\" x=\"497\" y=\"-62.8\" font-family=\"Times New Roman,serif\" font-size=\"14.00\">I*α*f</text>\n",
       "</g>\n",
       "<!-- D -->\n",
       "<g id=\"node6\" class=\"node\">\n",
       "<title>D</title>\n",
       "<ellipse fill=\"none\" stroke=\"black\" cx=\"577\" cy=\"-94\" rx=\"27\" ry=\"18\"/>\n",
       "<text text-anchor=\"middle\" x=\"577\" y=\"-90.3\" font-family=\"Times New Roman,serif\" font-size=\"14.00\">D</text>\n",
       "</g>\n",
       "<!-- I&#45;&gt;D -->\n",
       "<g id=\"edge5\" class=\"edge\">\n",
       "<title>I&#45;&gt;D</title>\n",
       "<path fill=\"none\" stroke=\"black\" d=\"M443.74,-75.58C469.9,-79.23 510.67,-84.9 540.02,-88.99\"/>\n",
       "<polygon fill=\"black\" stroke=\"black\" points=\"539.89,-92.51 550.27,-90.42 540.85,-85.57 539.89,-92.51\"/>\n",
       "<text text-anchor=\"middle\" x=\"497\" y=\"-90.8\" font-family=\"Times New Roman,serif\" font-size=\"14.00\">&#45;I*α*f + I*α</text>\n",
       "</g>\n",
       "<!-- A&#45;&gt;R -->\n",
       "<g id=\"edge6\" class=\"edge\">\n",
       "<title>A&#45;&gt;R</title>\n",
       "<path fill=\"none\" stroke=\"black\" d=\"M444.36,-16.64C467.53,-15.82 502.12,-15.51 532,-19 535.09,-19.36 538.28,-19.85 541.47,-20.42\"/>\n",
       "<polygon fill=\"black\" stroke=\"black\" points=\"541,-23.9 551.49,-22.45 542.39,-17.04 541,-23.9\"/>\n",
       "<text text-anchor=\"middle\" x=\"497\" y=\"-22.8\" font-family=\"Times New Roman,serif\" font-size=\"14.00\">A*ε</text>\n",
       "</g>\n",
       "</g>\n",
       "</svg>\n"
      ],
      "text/plain": [
       "<graphviz.graphs.Digraph at 0x260d6c0e8e0>"
      ]
     },
     "execution_count": 4,
     "metadata": {},
     "output_type": "execute_result"
    }
   ],
   "source": [
    "model.get_transition_graph()"
   ]
  },
  {
   "cell_type": "markdown",
   "id": "599030a9",
   "metadata": {},
   "source": [
    "There is a slight difference in the arrangement of terms, but this matches what we were expecting our transition graph to look like. We can reaffirm this by algebraically comparing the two ODE systms."
   ]
  },
  {
   "cell_type": "code",
   "execution_count": 5,
   "id": "eeab1ca9",
   "metadata": {},
   "outputs": [
    {
     "name": "stdout",
     "output_type": "stream",
     "text": [
      "0\n"
     ]
    }
   ],
   "source": [
    "print(sum(ode.get_ode_eqn() - ode2.get_ode_eqn()).simplify())"
   ]
  }
 ],
 "metadata": {
  "kernelspec": {
   "display_name": "Python 3.9.15 ('sphinx-doc')",
   "language": "python",
   "name": "python3"
  },
  "language_info": {
   "codemirror_mode": {
    "name": "ipython",
    "version": 3
   },
   "file_extension": ".py",
   "mimetype": "text/x-python",
   "name": "python",
   "nbconvert_exporter": "python",
   "pygments_lexer": "ipython3",
   "version": "3.9.15"
  },
  "vscode": {
   "interpreter": {
    "hash": "4dc1e323c80fe09539c74ad5c5a7c7d8d9ff99e04f7b3dbd3680daf878629d6e"
   }
  }
 },
 "nbformat": 4,
 "nbformat_minor": 5
}
