{
 "cells": [
  {
   "cell_type": "markdown",
   "metadata": {},
   "source": [
    "# Testing Negativ Binomail and Gamma loss Data fitting and parameter estimation within PyGOM\n",
    "\n",
    "This is an example of parameter fitting with an SIR model."
   ]
  },
  {
   "cell_type": "code",
   "execution_count": 1,
   "metadata": {},
   "outputs": [],
   "source": [
    "from pygom import Transition, TransitionType, SimulateOde, SquareLoss, PoissonLoss, NormalLoss, NegBinomLoss, GammaLoss\n",
    "import numpy as np\n",
    "import scipy.integrate\n",
    "import matplotlib.pyplot as plt\n",
    "import copy\n",
    "\n",
    "from scipy.optimize import minimize"
   ]
  },
  {
   "cell_type": "code",
   "execution_count": 2,
   "metadata": {},
   "outputs": [],
   "source": [
    "# Generate some data for fitting\n",
    "\n",
    "# Standard SIR model with 2 parameters\n",
    "# construct model \n",
    "states = ['S', 'I', 'R']\n",
    "params = ['beta', 'gamma', 'N']\n",
    "transitions = [Transition(origin='S', destination='I', equation='beta*S*I/N', \n",
    "                          transition_type=TransitionType.T),\n",
    "               Transition(origin='I', destination='R', equation='gamma*I', \n",
    "                          transition_type=TransitionType.T)]\n",
    "model = SimulateOde(states, params, transition=transitions)"
   ]
  },
  {
   "cell_type": "code",
   "execution_count": 3,
   "metadata": {},
   "outputs": [],
   "source": [
    "# initial conditions \n",
    "N = 1e6\n",
    "in_inf = 1\n",
    "init_state = [N - in_inf, in_inf, 0.0]\n",
    "# time \n",
    "t = np.arange (0 , 51 , 0.25)\n",
    "# deterministic parameter values\n",
    "param_evals = [('beta', 3.6), ('gamma', 0.2), ('N', N)]\n",
    "model.parameters = param_evals\n",
    "model.initial_values = (init_state, t[0])"
   ]
  },
  {
   "cell_type": "code",
   "execution_count": 4,
   "metadata": {},
   "outputs": [],
   "source": [
    "# run 1 simulations\n",
    "data = model.integrate(t[1:])"
   ]
  },
  {
   "cell_type": "markdown",
   "metadata": {},
   "source": [
    "Data over 100 days, with observations from every day for infected and removed populations."
   ]
  },
  {
   "cell_type": "code",
   "execution_count": 5,
   "metadata": {
    "scrolled": true
   },
   "outputs": [
    {
     "data": {
      "image/png": "[encoded data removed]",
      "text/plain": [
       "<Figure size 432x288 with 1 Axes>"
      ]
     },
     "metadata": {
      "needs_background": "light"
     },
     "output_type": "display_data"
    }
   ],
   "source": [
    "plt.plot(t,data[:,0], 'bo') # infected observations\n",
    "plt.plot(t,data[:,1], 'ro') # infected observations\n",
    "plt.plot(t,data[:,2], 'go') # removed observations (recoverd/died)\n",
    "\n",
    "plt.show()"
   ]
  },
  {
   "cell_type": "markdown",
   "metadata": {},
   "source": [
    "# Adding random noise to produce Continuos Data"
   ]
  },
  {
   "cell_type": "markdown",
   "metadata": {},
   "source": [
    "Our data needs to be have some noise so lets put it through a function for randomisation using the gamma distribution."
   ]
  },
  {
   "cell_type": "code",
   "execution_count": 6,
   "metadata": {},
   "outputs": [],
   "source": [
    "np.random.seed(42)"
   ]
  },
  {
   "cell_type": "code",
   "execution_count": 7,
   "metadata": {},
   "outputs": [],
   "source": [
    "def runif_noise(x,noise_prop):\n",
    "    '''\n",
    "    Takes x and adds noise on the uniform distribution.\n",
    "    '''\n",
    "    i_len,j_len = x.shape\n",
    "    ans = copy.deepcopy(x)\n",
    "    for i in range(i_len):\n",
    "        for j in range(j_len):\n",
    "            ans[i,j]=x[i,j] + x[i,j]*np.random.uniform(low=-noise_prop,high=noise_prop,size=1)\n",
    "                   \n",
    "    return ans"
   ]
  },
  {
   "cell_type": "code",
   "execution_count": 8,
   "metadata": {},
   "outputs": [
    {
     "data": {
      "text/plain": [
       "array([9.99999e+05, 1.00000e+00, 0.00000e+00])"
      ]
     },
     "execution_count": 8,
     "metadata": {},
     "output_type": "execute_result"
    }
   ],
   "source": [
    "data[0,:]"
   ]
  },
  {
   "cell_type": "code",
   "execution_count": 9,
   "metadata": {},
   "outputs": [
    {
     "name": "stderr",
     "output_type": "stream",
     "text": [
      "<ipython-input-9-74bf619963ac>:4: RuntimeWarning: invalid value encountered in true_divide\n",
      "  (noised_data-data)/data\n"
     ]
    },
    {
     "data": {
      "text/plain": [
       "array([[ 0.        ,  0.        ,         nan],\n",
       "       [ 0.06577232, -0.22932091, -0.22933699],\n",
       "       [-0.29461093,  0.24411743,  0.06741001],\n",
       "       [ 0.13871505, -0.31961034,  0.31327323],\n",
       "       [ 0.22162843, -0.19177393, -0.21211669],\n",
       "       [-0.21106366, -0.13050517,  0.01650429],\n",
       "       [-0.04536999, -0.13918057,  0.0745686 ],\n",
       "       [-0.24033743, -0.13857023, -0.0890921 ],\n",
       "       [-0.02928668,  0.19011731, -0.20021748],\n",
       "       [ 0.00948963,  0.06160971, -0.30236639],\n",
       "       [ 0.07169657, -0.21965058, -0.2899656 ],\n",
       "       [ 0.29925702,  0.31042136,  0.20559823],\n",
       "       [-0.13025749, -0.26821859,  0.12282202],\n",
       "       [-0.03989834, -0.25197451, -0.00321539],\n",
       "       [-0.31040765,  0.27288027, -0.16081335],\n",
       "       [ 0.10834819, -0.12552595,  0.01337868],\n",
       "       [ 0.03114019, -0.21009703,  0.31305642],\n",
       "       [ 0.18342188,  0.29299929,  0.26321823],\n",
       "       [ 0.06526665,  0.28124949, -0.27433833],\n",
       "       [-0.20267809, -0.30318181, -0.11644645],\n",
       "       [-0.07421514, -0.15243398,  0.21915834],\n",
       "       [-0.09549778, -0.14604366,  0.02846406],\n",
       "       [-0.23938385,  0.20146465, -0.2836329 ],\n",
       "       [ 0.32459129,  0.18149651, -0.20085621],\n",
       "       [-0.32965192,  0.21030762,  0.1379049 ],\n",
       "       [ 0.15267145,  0.1808469 , -0.28397023],\n",
       "       [-0.09435618, -0.25608729,  0.24206895],\n",
       "       [ 0.08219875, -0.11273465, -0.2909611 ],\n",
       "       [-0.12601179, -0.11654445,  0.15307079],\n",
       "       [ 0.09170498,  0.25814183, -0.01852338],\n",
       "       [-0.25360384,  0.14216319,  0.1738567 ],\n",
       "       [ 0.04085147,  0.18064479, -0.00413627],\n",
       "       [ 0.01515522, -0.04830599, -0.31638725],\n",
       "       [-0.26140572, -0.31238054,  0.09094027],\n",
       "       [-0.12376268,  0.00571379,  0.27171098],\n",
       "       [-0.16713851, -0.05974472,  0.17036743],\n",
       "       [-0.18080122, -0.28201339, -0.1401657 ],\n",
       "       [-0.22585248,  0.2864651 ,  0.20541359],\n",
       "       [ 0.08893584,  0.24764039,  0.20244805],\n",
       "       [-0.20895329,  0.261706  ,  0.02622816],\n",
       "       [ 0.2049601 ,  0.26406087, -0.12133102],\n",
       "       [-0.25996538, -0.18137656, -0.04859481],\n",
       "       [ 0.21200984,  0.24048706, -0.32869858],\n",
       "       [ 0.00716487, -0.05505933, -0.18526146],\n",
       "       [-0.25342309, -0.10825655,  0.29527314],\n",
       "       [-0.11786471,  0.01252708,  0.13534597],\n",
       "       [-0.0909136 ,  0.31452139,  0.3082982 ],\n",
       "       [-0.16547847, -0.00183433, -0.13274779],\n",
       "       [-0.14343967, -0.30874204,  0.07304289],\n",
       "       [ 0.00178602, -0.29901417, -0.14756902],\n",
       "       [ 0.27217726, -0.17362541, -0.23673675],\n",
       "       [-0.00703149,  0.32376697, -0.17196315],\n",
       "       [ 0.11475703,  0.17441308, -0.1749083 ],\n",
       "       [ 0.15214423, -0.08814458,  0.08820389],\n",
       "       [ 0.08901981,  0.02384979, -0.27314015],\n",
       "       [ 0.223535  , -0.11947996, -0.20898766],\n",
       "       [-0.30614991,  0.0605953 ,  0.11837624],\n",
       "       [-0.32227478,  0.00806204, -0.18233615],\n",
       "       [ 0.09678186, -0.21708905,  0.12729183],\n",
       "       [-0.07550977,  0.29115333, -0.2416527 ],\n",
       "       [-0.10595577, -0.25768432,  0.28312908],\n",
       "       [ 0.25155957, -0.16137225,  0.10665603],\n",
       "       [ 0.21148147,  0.03680054,  0.01976705],\n",
       "       [-0.17209847, -0.27126482,  0.26481051],\n",
       "       [ 0.26694537,  0.0887343 , -0.10731347],\n",
       "       [-0.10052695,  0.15063712,  0.26474017],\n",
       "       [ 0.25805762,  0.1865837 ,  0.09468776],\n",
       "       [-0.27724002, -0.22558086,  0.26570279],\n",
       "       [ 0.07095271, -0.32720197, -0.26568564],\n",
       "       [ 0.10900118, -0.32995894, -0.22612797],\n",
       "       [ 0.03248919,  0.12793013,  0.10130751],\n",
       "       [-0.18382046,  0.14145281, -0.17516728],\n",
       "       [-0.1164002 ,  0.1643276 ,  0.09975527],\n",
       "       [ 0.23281561,  0.10507526,  0.04553907],\n",
       "       [-0.27088349, -0.08818946, -0.15653175],\n",
       "       [-0.17067357,  0.31534037, -0.07126818],\n",
       "       [ 0.26136437,  0.08742575,  0.19654087],\n",
       "       [ 0.00175806,  0.05126926, -0.0049882 ],\n",
       "       [-0.20317134,  0.14830141, -0.14615176],\n",
       "       [-0.31712269,  0.09698153, -0.21525955],\n",
       "       [ 0.29363906,  0.30261905,  0.27657626],\n",
       "       [-0.08656087, -0.32302892,  0.28554571],\n",
       "       [-0.04787723,  0.31110321,  0.30907998],\n",
       "       [ 0.23533964, -0.13703407, -0.07660151],\n",
       "       [ 0.23409111, -0.122052  , -0.22033817],\n",
       "       [ 0.03786751,  0.29076985,  0.13068653],\n",
       "       [ 0.04670745, -0.268549  ,  0.07667148],\n",
       "       [ 0.32670257, -0.23994399,  0.01221977],\n",
       "       [ 0.25158205,  0.16051241,  0.13134383],\n",
       "       [ 0.13498939, -0.09367257, -0.13760544],\n",
       "       [ 0.20624077,  0.20674226,  0.24471488],\n",
       "       [ 0.2754937 ,  0.0075616 ,  0.00101086],\n",
       "       [ 0.19886345,  0.09997595,  0.13464458],\n",
       "       [ 0.19719511,  0.26000356, -0.10800323],\n",
       "       [-0.0829447 , -0.27067871,  0.05218676],\n",
       "       [-0.30937182, -0.02293465,  0.02842976],\n",
       "       [-0.14230583,  0.06055551, -0.31299983],\n",
       "       [-0.30843454,  0.21506704, -0.09320624],\n",
       "       [-0.24862632,  0.01482884,  0.1799957 ],\n",
       "       [-0.18945265,  0.08192698, -0.27643502],\n",
       "       [-0.29887885,  0.02090309,  0.02709008],\n",
       "       [ 0.09161993,  0.15072756,  0.31723472],\n",
       "       [ 0.0108669 , -0.11802902,  0.1967908 ],\n",
       "       [-0.1527785 , -0.04068572, -0.28102908],\n",
       "       [-0.31643284,  0.30843228,  0.22398675],\n",
       "       [ 0.13064947, -0.06069804, -0.21780379],\n",
       "       [-0.22904197, -0.16650473,  0.03281778],\n",
       "       [ 0.14306395,  0.10679825, -0.14671074],\n",
       "       [ 0.30324352,  0.15859794,  0.03623604],\n",
       "       [ 0.0744805 , -0.05359996, -0.16817934],\n",
       "       [-0.09601821,  0.17189741, -0.32373767],\n",
       "       [-0.25595157, -0.30266491, -0.3061808 ],\n",
       "       [ 0.23697372,  0.13577191, -0.01721745],\n",
       "       [-0.26811056, -0.00558942, -0.01768549],\n",
       "       [-0.21786542, -0.0440989 , -0.06766351],\n",
       "       [ 0.0772334 ,  0.09006243, -0.30313066],\n",
       "       [-0.08359159,  0.08390661,  0.00209084],\n",
       "       [ 0.23765989,  0.10579575, -0.22471038],\n",
       "       [-0.2862875 ,  0.09494619, -0.31565913],\n",
       "       [ 0.05718372,  0.29348683,  0.05031612],\n",
       "       [-0.07455338,  0.09552548, -0.02783141],\n",
       "       [ 0.03041119,  0.29430987, -0.07593157],\n",
       "       [ 0.30746038,  0.27023376, -0.20280591],\n",
       "       [-0.28709247, -0.266148  , -0.32118545],\n",
       "       [-0.27037136,  0.12200452, -0.28587423],\n",
       "       [-0.12068291,  0.22991687, -0.31781871],\n",
       "       [ 0.20964566, -0.14543015, -0.25455678],\n",
       "       [ 0.13115811,  0.0859619 ,  0.25164801],\n",
       "       [ 0.15671403,  0.20232062, -0.14531028],\n",
       "       [-0.2150403 ,  0.1670765 ,  0.20455649],\n",
       "       [ 0.32700343, -0.05825488, -0.08532128],\n",
       "       [ 0.18427531, -0.10613097,  0.28717155],\n",
       "       [ 0.23894183, -0.04733732,  0.16724738],\n",
       "       [ 0.16969525, -0.26458409,  0.2683686 ],\n",
       "       [ 0.00350158,  0.21763831, -0.11996693],\n",
       "       [ 0.26368215, -0.07386555, -0.32610823],\n",
       "       [ 0.27025465, -0.27247555, -0.12045757],\n",
       "       [ 0.30004131,  0.30040476,  0.04895859],\n",
       "       [ 0.08789147, -0.03436965, -0.13785949],\n",
       "       [-0.11422364,  0.1150123 ,  0.16824969],\n",
       "       [ 0.19438603,  0.19307876, -0.27252926],\n",
       "       [-0.0037198 , -0.29496083,  0.03301925],\n",
       "       [-0.03897967,  0.25846946, -0.09938999],\n",
       "       [-0.25528866, -0.23800555,  0.17434042],\n",
       "       [ 0.07881204, -0.26591822, -0.27726213],\n",
       "       [ 0.13397942, -0.28482466,  0.21457337],\n",
       "       [ 0.13749482, -0.27910081, -0.27677486],\n",
       "       [ 0.32442639, -0.08381947, -0.08623857],\n",
       "       [ 0.20853304,  0.29816572,  0.32400071],\n",
       "       [ 0.16891879, -0.08249361, -0.27766619],\n",
       "       [ 0.18476461,  0.03893617, -0.05051866],\n",
       "       [ 0.27090292, -0.25920168, -0.0049166 ],\n",
       "       [-0.32576424, -0.02089291, -0.29579782],\n",
       "       [-0.25412139, -0.2549825 ,  0.09947353],\n",
       "       [ 0.16402992,  0.05557918,  0.30811503],\n",
       "       [-0.08341961, -0.14285861,  0.24573275],\n",
       "       [-0.18426944,  0.30881503, -0.32523035],\n",
       "       [ 0.31325255, -0.30456006,  0.26076208],\n",
       "       [ 0.01846741,  0.3286432 , -0.28413562],\n",
       "       [ 0.03590286,  0.31286836,  0.01539856],\n",
       "       [ 0.08626576,  0.13049913, -0.03030596],\n",
       "       [ 0.08503872,  0.05620954,  0.26743867],\n",
       "       [-0.30303575, -0.14602454,  0.30027432],\n",
       "       [ 0.26017586, -0.02956216,  0.0800884 ],\n",
       "       [-0.14841254, -0.20791923, -0.02420106],\n",
       "       [-0.09776518,  0.05577074, -0.28151024],\n",
       "       [ 0.31626321,  0.3241405 ,  0.13210781],\n",
       "       [ 0.02406424, -0.12698159,  0.20919668],\n",
       "       [ 0.12315412, -0.22492204,  0.27395146],\n",
       "       [ 0.21502483,  0.29986661,  0.15047967],\n",
       "       [ 0.07561013, -0.05450464,  0.28848566],\n",
       "       [ 0.24404259, -0.30318755, -0.31575535],\n",
       "       [-0.08235776,  0.20703555,  0.32485075],\n",
       "       [-0.23305541,  0.06275381, -0.0794061 ],\n",
       "       [ 0.31327627,  0.22807928,  0.22555247],\n",
       "       [-0.02087123, -0.056787  , -0.15106195],\n",
       "       [-0.29574967,  0.24314825,  0.20860067],\n",
       "       [ 0.33314512,  0.33109122,  0.03695447],\n",
       "       [ 0.17932494,  0.29651049,  0.23309826],\n",
       "       [-0.1684346 , -0.03297058, -0.24722706],\n",
       "       [ 0.30270068,  0.07078309, -0.1809048 ],\n",
       "       [ 0.11446712,  0.07875216, -0.09455819],\n",
       "       [-0.25762827,  0.11438213,  0.01353847],\n",
       "       [ 0.18154559,  0.01344233,  0.23478767],\n",
       "       [ 0.03460456,  0.04062531,  0.2511024 ],\n",
       "       [-0.06434476, -0.24398985, -0.31414488],\n",
       "       [ 0.1700915 ,  0.08020637,  0.13605318],\n",
       "       [-0.19135723, -0.24241902, -0.32363689],\n",
       "       [-0.09960829,  0.05994512, -0.0718373 ],\n",
       "       [-0.04168339,  0.26943913, -0.10116302],\n",
       "       [ 0.00932633,  0.18910201, -0.06897148],\n",
       "       [ 0.08139113,  0.24157581,  0.29968042],\n",
       "       [-0.23528435,  0.28439175, -0.0052558 ],\n",
       "       [-0.16117041, -0.02724283,  0.32002172],\n",
       "       [-0.00492127, -0.11416559,  0.0889339 ],\n",
       "       [-0.17323625, -0.28275778, -0.24741352],\n",
       "       [-0.24796944, -0.23206487, -0.24078188],\n",
       "       [ 0.0939165 , -0.21207994, -0.10288848],\n",
       "       [ 0.26452561, -0.01735891,  0.11170516],\n",
       "       [-0.21845342, -0.20514065, -0.30608759],\n",
       "       [-0.22070996, -0.14760644, -0.21532634],\n",
       "       [-0.27419831, -0.25290942, -0.02614749],\n",
       "       [-0.19577752, -0.09048676,  0.00227818],\n",
       "       [ 0.12692989, -0.30712524,  0.19960693]])"
      ]
     },
     "execution_count": 9,
     "metadata": {},
     "output_type": "execute_result"
    }
   ],
   "source": [
    "noised_data = runif_noise(data,1/3)\n",
    "#we stil want the first row from data\n",
    "noised_data[0,:] = data[0,:]\n",
    "(noised_data-data)/data"
   ]
  },
  {
   "cell_type": "code",
   "execution_count": 10,
   "metadata": {},
   "outputs": [
    {
     "data": {
      "image/png": "[encoded data removed]",
      "text/plain": [
       "<Figure size 432x288 with 1 Axes>"
      ]
     },
     "metadata": {
      "needs_background": "light"
     },
     "output_type": "display_data"
    }
   ],
   "source": [
    "plt.plot(t,noised_data[:,0], 'bo') # infected observations\n",
    "plt.plot(t,noised_data[:,1], 'ro') # infected observations\n",
    "plt.plot(t,noised_data[:,2], 'go') # removed observations (recoverd/died)\n",
    "\n",
    "plt.show()"
   ]
  },
  {
   "cell_type": "markdown",
   "metadata": {},
   "source": [
    "We provide a guess for $\\beta$ and $\\gamma$. \n",
    "\n",
    "This example assumes we have information about the infected and removed population, up to 50 days of the epidemic.\n"
   ]
  },
  {
   "cell_type": "code",
   "execution_count": 11,
   "metadata": {},
   "outputs": [
    {
     "data": {
      "text/plain": [
       "array([[1.80311437e+00, 6.07303299e-02],\n",
       "       [6.81020026e+00, 2.80913227e-01],\n",
       "       [8.71370750e+00, 9.12109018e-01],\n",
       "       [2.42169873e+01, 1.34235092e+00],\n",
       "       [6.09515924e+01, 4.13195572e+00],\n",
       "       [1.41167502e+02, 1.03036634e+01],\n",
       "       [3.30434916e+02, 2.05046119e+01],\n",
       "       [1.06747087e+03, 4.21719281e+01],\n",
       "       [2.22482987e+03, 8.60625179e+01],\n",
       "       [3.81422589e+03, 2.04668918e+02],\n",
       "       [1.48765175e+04, 8.10186678e+02],\n",
       "       [1.91106445e+04, 1.75057103e+03],\n",
       "       [4.39774187e+04, 3.56615139e+03],\n",
       "       [1.60839355e+05, 6.72761840e+03],\n",
       "       [2.17044554e+05, 1.73587509e+04],\n",
       "       [3.32782784e+05, 4.42793038e+04],\n",
       "       [7.71699789e+05, 7.49162385e+04],\n",
       "       [9.20245905e+05, 6.71030358e+04],\n",
       "       [5.39115320e+05, 1.14872807e+05],\n",
       "       [6.63856042e+05, 2.06130817e+05],\n",
       "       [6.56161244e+05, 2.13853805e+05],\n",
       "       [8.91814913e+05, 1.76033244e+05],\n",
       "       [8.40842445e+05, 2.25430023e+05],\n",
       "       [8.22754076e+05, 3.60576445e+05],\n",
       "       [7.65299910e+05, 2.50661953e+05],\n",
       "       [4.59188090e+05, 4.74099529e+05],\n",
       "       [5.21338606e+05, 2.91994510e+05],\n",
       "       [4.93992370e+05, 5.07905133e+05],\n",
       "       [6.69362638e+05, 4.59090307e+05],\n",
       "       [5.78114721e+05, 5.79537815e+05],\n",
       "       [5.68504538e+05, 5.16246775e+05],\n",
       "       [4.35938773e+05, 3.70433217e+05],\n",
       "       [2.99626522e+05, 6.15526472e+05],\n",
       "       [4.16873583e+05, 7.44546487e+05],\n",
       "       [3.70740213e+05, 7.08873040e+05],\n",
       "       [2.69297057e+05, 5.37322869e+05],\n",
       "       [4.58989639e+05, 7.75330500e+05],\n",
       "       [4.23431065e+05, 7.94346373e+05],\n",
       "       [4.07323106e+05, 6.94920369e+05],\n",
       "       [3.88182427e+05, 6.08833786e+05],\n",
       "       [2.39132524e+05, 6.73482288e+05],\n",
       "       [3.44693419e+05, 4.84765764e+05],\n",
       "       [2.49764871e+05, 5.99386996e+05],\n",
       "       [2.24208791e+05, 9.69604078e+05],\n",
       "       [2.42161516e+05, 8.63809138e+05],\n",
       "       [2.99055510e+05, 1.01065728e+06],\n",
       "       [2.16009266e+05, 6.79572780e+05],\n",
       "       [1.42296901e+05, 8.52154097e+05],\n",
       "       [1.37261908e+05, 6.85513749e+05],\n",
       "       [1.53922890e+05, 6.21095325e+05],\n",
       "       [2.34543405e+05, 6.81325991e+05],\n",
       "       [1.97932893e+05, 6.86032368e+05],\n",
       "       [1.46186905e+05, 9.13744839e+05],\n",
       "       [1.56136380e+05, 6.16014054e+05],\n",
       "       [1.27729870e+05, 6.76266460e+05],\n",
       "       [1.46348499e+05, 9.64054512e+05],\n",
       "       [1.32315639e+05, 7.10339257e+05],\n",
       "       [9.77510931e+04, 9.86542568e+05],\n",
       "       [1.53345982e+05, 6.68280814e+05],\n",
       "       [8.38626423e+04, 1.13816824e+06],\n",
       "       [9.01227543e+04, 9.87729621e+05],\n",
       "       [1.05985330e+05, 9.15522846e+05],\n",
       "       [7.08607245e+04, 1.14182280e+06],\n",
       "       [1.00703153e+05, 8.10116863e+05],\n",
       "       [1.01238301e+05, 1.15346247e+06],\n",
       "       [9.93093522e+04, 1.00306943e+06],\n",
       "       [6.16528494e+04, 1.16493792e+06],\n",
       "       [5.09503401e+04, 6.78705406e+05],\n",
       "       [4.82668644e+04, 7.18125591e+05],\n",
       "       [7.72885514e+04, 1.02584315e+06],\n",
       "       [7.44005640e+04, 7.71069604e+05],\n",
       "       [7.21902844e+04, 1.03156852e+06],\n",
       "       [6.51749505e+04, 9.83875388e+05],\n",
       "       [5.11539002e+04, 7.96148412e+05],\n",
       "       [7.01936114e+04, 8.79169672e+05],\n",
       "       [5.52006691e+04, 1.13580118e+06],\n",
       "       [5.07626146e+04, 9.46965648e+05],\n",
       "       [5.27437746e+04, 8.14629259e+05],\n",
       "       [4.79291706e+04, 7.50453652e+05],\n",
       "       [5.41381377e+04, 1.22352045e+06],\n",
       "       [2.67634003e+04, 1.23472286e+06],\n",
       "       [4.93052703e+04, 1.25985076e+06],\n",
       "       [3.08699126e+04, 8.90366760e+05],\n",
       "       [2.98741690e+04, 7.53132050e+05],\n",
       "       [4.17792978e+04, 1.09408874e+06],\n",
       "       [2.25207498e+04, 1.04352166e+06],\n",
       "       [2.22601709e+04, 9.82574315e+05],\n",
       "       [3.23309132e+04, 1.09982550e+06],\n",
       "       [2.40180970e+04, 8.39540686e+05],\n",
       "       [3.04195844e+04, 1.21333805e+06],\n",
       "       [2.41599286e+04, 9.77007989e+05],\n",
       "       [2.50895294e+04, 1.10876427e+06],\n",
       "       [2.73379775e+04, 8.72643324e+05],\n",
       "       [1.50521586e+04, 1.03047109e+06],\n",
       "       [1.91817748e+04, 1.00823957e+06],\n",
       "       [1.98054113e+04, 6.74170724e+05],\n",
       "       [2.15842015e+04, 8.90685644e+05],\n",
       "       [1.71480141e+04, 1.16005677e+06],\n",
       "       [1.73901876e+04, 7.11934851e+05],\n",
       "       [1.56090372e+04, 1.01138643e+06],\n",
       "       [1.67359124e+04, 1.29807714e+06],\n",
       "       [1.22015909e+04, 1.18023382e+06],\n",
       "       [1.26243306e+04, 7.09509434e+05],\n",
       "       [1.63788717e+04, 1.20866494e+06],\n",
       "       [1.11846718e+04, 7.72882252e+05],\n",
       "       [9.44074866e+03, 1.02111934e+06],\n",
       "       [1.19249632e+04, 8.44095665e+05],\n",
       "       [1.18742618e+04, 1.02561582e+06],\n",
       "       [9.22643440e+03, 8.23711242e+05],\n",
       "       [1.08676095e+04, 6.69990984e+05],\n",
       "       [6.15136129e+03, 6.87698842e+05],\n",
       "       [9.53029004e+03, 9.74535983e+05],\n",
       "       [7.93717611e+03, 9.74473869e+05],\n",
       "       [7.25769181e+03, 9.25257696e+05],\n",
       "       [7.87267307e+03, 6.91836383e+05],\n",
       "       [7.44642794e+03, 9.95206467e+05],\n",
       "       [7.22630565e+03, 7.70223136e+05],\n",
       "       [6.80643132e+03, 6.80086846e+05],\n",
       "       [7.64845973e+03, 1.04410552e+06],\n",
       "       [6.16197226e+03, 9.66700447e+05],\n",
       "       [6.92501634e+03, 9.19124316e+05],\n",
       "       [6.46474610e+03, 7.93136825e+05],\n",
       "       [3.55272495e+03, 6.75528262e+05],\n",
       "       [5.16693491e+03, 7.10837138e+05],\n",
       "       [5.38765066e+03, 6.79192984e+05],\n",
       "       [3.56087326e+03, 7.42337048e+05],\n",
       "       [4.30436231e+03, 1.24668691e+06],\n",
       "       [4.53314708e+03, 8.51467238e+05],\n",
       "       [4.18566167e+03, 1.20023639e+06],\n",
       "       [3.21279826e+03, 9.11558249e+05],\n",
       "       [2.90074298e+03, 1.28299446e+06],\n",
       "       [2.94076146e+03, 1.16364420e+06],\n",
       "       [2.15942909e+03, 1.26464423e+06],\n",
       "       [3.40102255e+03, 8.77575006e+05],\n",
       "       [2.46065388e+03, 6.72101289e+05],\n",
       "       [1.83869361e+03, 8.77319518e+05],\n",
       "       [3.12626369e+03, 1.04643681e+06],\n",
       "       [2.20822459e+03, 8.60168939e+05],\n",
       "       [2.42547765e+03, 1.16570838e+06],\n",
       "       [2.46872102e+03, 7.25965440e+05],\n",
       "       [1.38771867e+03, 1.03098596e+06],\n",
       "       [2.35622165e+03, 8.98923790e+05],\n",
       "       [1.35709596e+03, 1.17224893e+06],\n",
       "       [1.24362223e+03, 7.21513455e+05],\n",
       "       [1.15250240e+03, 1.21261607e+06],\n",
       "       [1.10506832e+03, 7.22116498e+05],\n",
       "       [1.33592148e+03, 9.12429023e+05],\n",
       "       [1.80059190e+03, 1.32216426e+06],\n",
       "       [1.21054109e+03, 7.21380766e+05],\n",
       "       [1.30390090e+03, 9.48289693e+05],\n",
       "       [8.84384233e+02, 9.93895431e+05],\n",
       "       [1.11187632e+03, 7.03402479e+05],\n",
       "       [8.04781600e+02, 1.09828585e+06],\n",
       "       [1.08464511e+03, 1.30677088e+06],\n",
       "       [8.37788890e+02, 1.24451513e+06],\n",
       "       [1.21687420e+03, 6.74142270e+05],\n",
       "       [6.15052691e+02, 1.25964703e+06],\n",
       "       [1.11775428e+03, 7.15262127e+05],\n",
       "       [1.05061703e+03, 1.01458598e+06],\n",
       "       [8.60555272e+02, 9.68955881e+05],\n",
       "       [7.64793005e+02, 1.26652091e+06],\n",
       "       [5.88199287e+02, 1.29937870e+06],\n",
       "       [6.35816955e+02, 1.07938072e+06],\n",
       "       [4.93649996e+02, 9.75190773e+05],\n",
       "       [6.25899451e+02, 7.18063800e+05],\n",
       "       [7.46714007e+02, 1.13146937e+06],\n",
       "       [4.68305129e+02, 1.20854802e+06],\n",
       "       [3.95490614e+02, 1.27330139e+06],\n",
       "       [6.30920826e+02, 1.14992124e+06],\n",
       "       [4.36536697e+02, 1.28789074e+06],\n",
       "       [3.06028969e+02, 6.83944130e+05],\n",
       "       [5.04257056e+02, 1.32429726e+06],\n",
       "       [4.22327998e+02, 9.20228055e+05],\n",
       "       [4.64225390e+02, 1.22508918e+06],\n",
       "       [3.39154470e+02, 8.48632779e+05],\n",
       "       [4.25202659e+02, 1.20818727e+06],\n",
       "       [4.33078028e+02, 1.03661708e+06],\n",
       "       [4.01254251e+02, 1.23271661e+06],\n",
       "       [2.84687620e+02, 7.52551320e+05],\n",
       "       [2.99858028e+02, 8.18865815e+05],\n",
       "       [2.87356573e+02, 9.05200608e+05],\n",
       "       [2.82370211e+02, 1.01328163e+06],\n",
       "       [2.44269399e+02, 1.23449003e+06],\n",
       "       [2.38588600e+02, 1.25081554e+06],\n",
       "       [1.64880089e+02, 6.85705527e+05],\n",
       "       [2.24095224e+02, 1.13581748e+06],\n",
       "       [1.49499663e+02, 6.76229628e+05],\n",
       "       [1.98966432e+02, 9.27988454e+05],\n",
       "       [2.26669764e+02, 8.98676469e+05],\n",
       "       [2.01969647e+02, 9.30870372e+05],\n",
       "       [2.00597500e+02, 1.29947041e+06],\n",
       "       [1.97394508e+02, 9.94591301e+05],\n",
       "       [1.42209065e+02, 1.31982872e+06],\n",
       "       [1.23185805e+02, 1.08878246e+06],\n",
       "       [9.48766296e+01, 7.52486918e+05],\n",
       "       [9.66280510e+01, 7.59122572e+05],\n",
       "       [9.43074761e+01, 8.97004132e+05],\n",
       "       [1.11877865e+02, 1.11157857e+06],\n",
       "       [8.60844711e+01, 6.93837248e+05],\n",
       "       [8.78132340e+01, 7.84592807e+05],\n",
       "       [7.32113399e+01, 9.73757064e+05],\n",
       "       [8.47811693e+01, 1.00218474e+06],\n",
       "       [6.14370563e+01, 1.19950055e+06]])"
      ]
     },
     "execution_count": 11,
     "metadata": {},
     "output_type": "execute_result"
    }
   ],
   "source": [
    "data_to_fit = noised_data[1::,1:3]\n",
    "data_to_fit"
   ]
  },
  {
   "cell_type": "markdown",
   "metadata": {},
   "source": [
    "## Fitting Square l loss"
   ]
  },
  {
   "cell_type": "code",
   "execution_count": 12,
   "metadata": {},
   "outputs": [
    {
     "data": {
      "text/plain": [
       "[('beta', 3.6), ('gamma', 0.2), ('N', 1000000.0)]"
      ]
     },
     "execution_count": 12,
     "metadata": {},
     "output_type": "execute_result"
    }
   ],
   "source": [
    "param_evals"
   ]
  },
  {
   "cell_type": "code",
   "execution_count": 13,
   "metadata": {},
   "outputs": [
    {
     "data": {
      "text/plain": [
       "9494886226076.777"
      ]
     },
     "execution_count": 13,
     "metadata": {},
     "output_type": "execute_result"
    }
   ],
   "source": [
    "# Initial guess of parameters, and bounding constraints\n",
    "theta = [3, 0.15,N]\n",
    "boxBounds = [(2,5),(0.0,1.0),(N,N)]\n",
    "\n",
    "objSIR = SquareLoss(theta, model, x0=data[0,:], t0=t[0], t=t[1::], y=data_to_fit, state_name=['I','R'])\n",
    "\n",
    "objSIR.cost()"
   ]
  },
  {
   "cell_type": "code",
   "execution_count": 14,
   "metadata": {},
   "outputs": [
    {
     "name": "stdout",
     "output_type": "stream",
     "text": [
      "      fun: 6793822783898.12\n",
      " hess_inv: <3x3 LbfgsInvHessProduct with dtype=float64>\n",
      "      jac: array([ 3.71447419e+06,  1.99495082e+07, -1.34416872e+01])\n",
      "  message: b'CONVERGENCE: REL_REDUCTION_OF_F_<=_FACTR*EPSMCH'\n",
      "     nfev: 13\n",
      "      nit: 9\n",
      "     njev: 13\n",
      "   status: 0\n",
      "  success: True\n",
      "        x: array([3.61873217e+00, 1.95448280e-01, 1.00000000e+06])\n"
     ]
    }
   ],
   "source": [
    "# perform optimization\n",
    "res = minimize(fun=objSIR.cost,\n",
    "                jac=objSIR.sensitivity,\n",
    "                x0=theta,\n",
    "                bounds=boxBounds,\n",
    "                method='L-BFGS-B')\n",
    "print(res)"
   ]
  },
  {
   "cell_type": "code",
   "execution_count": 15,
   "metadata": {},
   "outputs": [
    {
     "data": {
      "text/plain": [
       "[3, 0.15, 1000000.0]"
      ]
     },
     "metadata": {},
     "output_type": "display_data"
    },
    {
     "data": {
      "text/plain": [
       "[(2, 5), (0.0, 1.0), (1000000.0, 1000000.0)]"
      ]
     },
     "metadata": {},
     "output_type": "display_data"
    },
    {
     "data": {
      "text/plain": [
       "[('beta', 3.6), ('gamma', 0.2), ('N', 1000000.0)]"
      ]
     },
     "metadata": {},
     "output_type": "display_data"
    }
   ],
   "source": [
    "display(theta,boxBounds,param_evals)"
   ]
  },
  {
   "cell_type": "markdown",
   "metadata": {},
   "source": [
    "## Fitting Normal loss"
   ]
  },
  {
   "cell_type": "code",
   "execution_count": 16,
   "metadata": {},
   "outputs": [
    {
     "data": {
      "text/plain": [
       "4747443113411.479"
      ]
     },
     "execution_count": 16,
     "metadata": {},
     "output_type": "execute_result"
    }
   ],
   "source": [
    "# Initial guess of parameters, and bounding constraints\n",
    "objSIR = NormalLoss(theta, model, x0=data[0,:], t0=t[0], t=t[1::], y=data_to_fit, state_name=['I','R'])\n",
    "\n",
    "objSIR.cost()"
   ]
  },
  {
   "cell_type": "code",
   "execution_count": 17,
   "metadata": {},
   "outputs": [
    {
     "name": "stdout",
     "output_type": "stream",
     "text": [
      "      fun: 3396911392322.0205\n",
      " hess_inv: <3x3 LbfgsInvHessProduct with dtype=float64>\n",
      "      jac: array([ 1.85722536e+06,  9.97472077e+06, -6.72080114e+00])\n",
      "  message: b'CONVERGENCE: REL_REDUCTION_OF_F_<=_FACTR*EPSMCH'\n",
      "     nfev: 13\n",
      "      nit: 9\n",
      "     njev: 13\n",
      "   status: 0\n",
      "  success: True\n",
      "        x: array([3.61873217e+00, 1.95448280e-01, 1.00000000e+06])\n"
     ]
    }
   ],
   "source": [
    "# perform optimization\n",
    "res = minimize(fun=objSIR.cost,\n",
    "                jac=objSIR.sensitivity,\n",
    "                x0=theta,\n",
    "                bounds=boxBounds,\n",
    "                method='L-BFGS-B')\n",
    "print(res)"
   ]
  },
  {
   "cell_type": "code",
   "execution_count": 18,
   "metadata": {},
   "outputs": [
    {
     "data": {
      "text/plain": [
       "[3, 0.15, 1000000.0]"
      ]
     },
     "metadata": {},
     "output_type": "display_data"
    },
    {
     "data": {
      "text/plain": [
       "[(2, 5), (0.0, 1.0), (1000000.0, 1000000.0)]"
      ]
     },
     "metadata": {},
     "output_type": "display_data"
    },
    {
     "data": {
      "text/plain": [
       "[('beta', 3.6), ('gamma', 0.2), ('N', 1000000.0)]"
      ]
     },
     "metadata": {},
     "output_type": "display_data"
    }
   ],
   "source": [
    "display(theta,boxBounds,param_evals)"
   ]
  },
  {
   "cell_type": "code",
   "execution_count": 20,
   "metadata": {},
   "outputs": [
    {
     "data": {
      "text/plain": [
       "18989772452245.23"
      ]
     },
     "execution_count": 20,
     "metadata": {},
     "output_type": "execute_result"
    }
   ],
   "source": [
    "# Initial guess of parameters, and bounding constraints\n",
    "objSIR = NormalLoss(theta, model, x0=data[0,:], t0=t[0], t=t[1::], y=data_to_fit, state_name=['I','R'],sigma=0.5)\n",
    "\n",
    "objSIR.cost()"
   ]
  },
  {
   "cell_type": "code",
   "execution_count": 21,
   "metadata": {},
   "outputs": [
    {
     "data": {
      "text/plain": [
       "5804367986465.104"
      ]
     },
     "execution_count": 21,
     "metadata": {},
     "output_type": "execute_result"
    }
   ],
   "source": [
    "# Initial guess of parameters, and bounding constraints\n",
    "objSIR = NormalLoss(theta, model, x0=data[0,:], t0=t[0], t=t[1::], y=data_to_fit, state_name=['I','R'],sigma=[0.5,1.5])\n",
    "\n",
    "objSIR.cost()"
   ]
  },
  {
   "cell_type": "markdown",
   "metadata": {},
   "source": [
    "## Fitting Gamma loss"
   ]
  },
  {
   "cell_type": "code",
   "execution_count": 22,
   "metadata": {},
   "outputs": [
    {
     "data": {
      "text/plain": [
       "5066.230498539779"
      ]
     },
     "execution_count": 22,
     "metadata": {},
     "output_type": "execute_result"
    }
   ],
   "source": [
    "# Initial guess of parameters, and bounding constraints\n",
    "objSIR = GammaLoss(theta, model, x0=data[0,:], t0=t[0], t=t[1::], y=data_to_fit, state_name=['I','R'])\n",
    "\n",
    "objSIR.cost()"
   ]
  },
  {
   "cell_type": "code",
   "execution_count": 23,
   "metadata": {},
   "outputs": [
    {
     "name": "stderr",
     "output_type": "stream",
     "text": [
      "C:\\Users\\martin.grunnill\\AppData\\Roaming\\Python\\Python38\\site-packages\\pygom-0.1.7.dev11+g990f876.d20200702-py3.8-win-amd64.egg\\pygom\\utilR\\distn.py:108: RuntimeWarning: invalid value encountered in log\n",
      "  logpdf_p3= -shape*np.log(mu/shape)\n"
     ]
    },
    {
     "name": "stdout",
     "output_type": "stream",
     "text": [
      "      fun: 4699.518465235284\n",
      " hess_inv: <3x3 LbfgsInvHessProduct with dtype=float64>\n",
      "      jac: array([-2.55035382e-03,  1.18874416e-01,  9.14788362e-09])\n",
      "  message: b'CONVERGENCE: REL_REDUCTION_OF_F_<=_FACTR*EPSMCH'\n",
      "     nfev: 17\n",
      "      nit: 10\n",
      "     njev: 17\n",
      "   status: 0\n",
      "  success: True\n",
      "        x: array([3.58690764e+00, 1.99822701e-01, 1.00000000e+06])\n"
     ]
    }
   ],
   "source": [
    "# perform optimization\n",
    "res = minimize(fun=objSIR.cost,\n",
    "                jac=objSIR.sensitivity,\n",
    "                x0=theta,\n",
    "                bounds=boxBounds,\n",
    "                method='L-BFGS-B')\n",
    "print(res)"
   ]
  },
  {
   "cell_type": "code",
   "execution_count": 24,
   "metadata": {},
   "outputs": [
    {
     "data": {
      "text/plain": [
       "[3, 0.15, 1000000.0]"
      ]
     },
     "metadata": {},
     "output_type": "display_data"
    },
    {
     "data": {
      "text/plain": [
       "[(2, 5), (0.0, 1.0), (1000000.0, 1000000.0)]"
      ]
     },
     "metadata": {},
     "output_type": "display_data"
    },
    {
     "data": {
      "text/plain": [
       "[('beta', 3.6), ('gamma', 0.2), ('N', 1000000.0)]"
      ]
     },
     "metadata": {},
     "output_type": "display_data"
    }
   ],
   "source": [
    "display(theta,boxBounds,param_evals)"
   ]
  },
  {
   "cell_type": "code",
   "execution_count": 25,
   "metadata": {},
   "outputs": [
    {
     "data": {
      "text/plain": [
       "5105.389439344021"
      ]
     },
     "execution_count": 25,
     "metadata": {},
     "output_type": "execute_result"
    }
   ],
   "source": [
    "# Initial guess of parameters, and bounding constraints\n",
    "objSIR = GammaLoss(theta, model, x0=data[0,:], t0=t[0], t=t[1::], y=data_to_fit, state_name=['I','R'],shape=0.5)\n",
    "\n",
    "objSIR.cost()"
   ]
  },
  {
   "cell_type": "code",
   "execution_count": 26,
   "metadata": {},
   "outputs": [
    {
     "data": {
      "text/plain": [
       "5044.423929863387"
      ]
     },
     "execution_count": 26,
     "metadata": {},
     "output_type": "execute_result"
    }
   ],
   "source": [
    "# Initial guess of parameters, and bounding constraints\n",
    "objSIR = GammaLoss(theta, model, x0=data[0,:], t0=t[0], t=t[1::], y=data_to_fit, state_name=['I','R'],shape=[0.5,1])\n",
    "\n",
    "objSIR.cost()"
   ]
  },
  {
   "cell_type": "markdown",
   "metadata": {},
   "source": [
    "# Adding random noise to produce Count Data"
   ]
  },
  {
   "cell_type": "markdown",
   "metadata": {},
   "source": [
    "Our data needs to a be counts:"
   ]
  },
  {
   "cell_type": "code",
   "execution_count": 27,
   "metadata": {},
   "outputs": [
    {
     "data": {
      "text/plain": [
       "array([[2.000000e+00, 0.000000e+00],\n",
       "       [7.000000e+00, 0.000000e+00],\n",
       "       [9.000000e+00, 1.000000e+00],\n",
       "       [2.400000e+01, 1.000000e+00],\n",
       "       [6.100000e+01, 4.000000e+00],\n",
       "       [1.410000e+02, 1.000000e+01],\n",
       "       [3.300000e+02, 2.100000e+01],\n",
       "       [1.067000e+03, 4.200000e+01],\n",
       "       [2.225000e+03, 8.600000e+01],\n",
       "       [3.814000e+03, 2.050000e+02],\n",
       "       [1.487700e+04, 8.100000e+02],\n",
       "       [1.911100e+04, 1.751000e+03],\n",
       "       [4.397700e+04, 3.566000e+03],\n",
       "       [1.608390e+05, 6.728000e+03],\n",
       "       [2.170450e+05, 1.735900e+04],\n",
       "       [3.327830e+05, 4.427900e+04],\n",
       "       [7.717000e+05, 7.491600e+04],\n",
       "       [9.202460e+05, 6.710300e+04],\n",
       "       [5.391150e+05, 1.148730e+05],\n",
       "       [6.638560e+05, 2.061310e+05],\n",
       "       [6.561610e+05, 2.138540e+05],\n",
       "       [8.918150e+05, 1.760330e+05],\n",
       "       [8.408420e+05, 2.254300e+05],\n",
       "       [8.227540e+05, 3.605760e+05],\n",
       "       [7.653000e+05, 2.506620e+05],\n",
       "       [4.591880e+05, 4.741000e+05],\n",
       "       [5.213390e+05, 2.919950e+05],\n",
       "       [4.939920e+05, 5.079050e+05],\n",
       "       [6.693630e+05, 4.590900e+05],\n",
       "       [5.781150e+05, 5.795380e+05],\n",
       "       [5.685050e+05, 5.162470e+05],\n",
       "       [4.359390e+05, 3.704330e+05],\n",
       "       [2.996270e+05, 6.155260e+05],\n",
       "       [4.168740e+05, 7.445460e+05],\n",
       "       [3.707400e+05, 7.088730e+05],\n",
       "       [2.692970e+05, 5.373230e+05],\n",
       "       [4.589900e+05, 7.753300e+05],\n",
       "       [4.234310e+05, 7.943460e+05],\n",
       "       [4.073230e+05, 6.949200e+05],\n",
       "       [3.881820e+05, 6.088340e+05],\n",
       "       [2.391330e+05, 6.734820e+05],\n",
       "       [3.446930e+05, 4.847660e+05],\n",
       "       [2.497650e+05, 5.993870e+05],\n",
       "       [2.242090e+05, 9.696040e+05],\n",
       "       [2.421620e+05, 8.638090e+05],\n",
       "       [2.990560e+05, 1.010657e+06],\n",
       "       [2.160090e+05, 6.795730e+05],\n",
       "       [1.422970e+05, 8.521540e+05],\n",
       "       [1.372620e+05, 6.855140e+05],\n",
       "       [1.539230e+05, 6.210950e+05],\n",
       "       [2.345430e+05, 6.813260e+05],\n",
       "       [1.979330e+05, 6.860320e+05],\n",
       "       [1.461870e+05, 9.137450e+05],\n",
       "       [1.561360e+05, 6.160140e+05],\n",
       "       [1.277300e+05, 6.762660e+05],\n",
       "       [1.463480e+05, 9.640550e+05],\n",
       "       [1.323160e+05, 7.103390e+05],\n",
       "       [9.775100e+04, 9.865430e+05],\n",
       "       [1.533460e+05, 6.682810e+05],\n",
       "       [8.386300e+04, 1.138168e+06],\n",
       "       [9.012300e+04, 9.877300e+05],\n",
       "       [1.059850e+05, 9.155230e+05],\n",
       "       [7.086100e+04, 1.141823e+06],\n",
       "       [1.007030e+05, 8.101170e+05],\n",
       "       [1.012380e+05, 1.153462e+06],\n",
       "       [9.930900e+04, 1.003069e+06],\n",
       "       [6.165300e+04, 1.164938e+06],\n",
       "       [5.095000e+04, 6.787050e+05],\n",
       "       [4.826700e+04, 7.181260e+05],\n",
       "       [7.728900e+04, 1.025843e+06],\n",
       "       [7.440100e+04, 7.710700e+05],\n",
       "       [7.219000e+04, 1.031569e+06],\n",
       "       [6.517500e+04, 9.838750e+05],\n",
       "       [5.115400e+04, 7.961480e+05],\n",
       "       [7.019400e+04, 8.791700e+05],\n",
       "       [5.520100e+04, 1.135801e+06],\n",
       "       [5.076300e+04, 9.469660e+05],\n",
       "       [5.274400e+04, 8.146290e+05],\n",
       "       [4.792900e+04, 7.504540e+05],\n",
       "       [5.413800e+04, 1.223520e+06],\n",
       "       [2.676300e+04, 1.234723e+06],\n",
       "       [4.930500e+04, 1.259851e+06],\n",
       "       [3.087000e+04, 8.903670e+05],\n",
       "       [2.987400e+04, 7.531320e+05],\n",
       "       [4.177900e+04, 1.094089e+06],\n",
       "       [2.252100e+04, 1.043522e+06],\n",
       "       [2.226000e+04, 9.825740e+05],\n",
       "       [3.233100e+04, 1.099825e+06],\n",
       "       [2.401800e+04, 8.395410e+05],\n",
       "       [3.042000e+04, 1.213338e+06],\n",
       "       [2.416000e+04, 9.770080e+05],\n",
       "       [2.509000e+04, 1.108764e+06],\n",
       "       [2.733800e+04, 8.726430e+05],\n",
       "       [1.505200e+04, 1.030471e+06],\n",
       "       [1.918200e+04, 1.008240e+06],\n",
       "       [1.980500e+04, 6.741710e+05],\n",
       "       [2.158400e+04, 8.906860e+05],\n",
       "       [1.714800e+04, 1.160057e+06],\n",
       "       [1.739000e+04, 7.119350e+05],\n",
       "       [1.560900e+04, 1.011386e+06],\n",
       "       [1.673600e+04, 1.298077e+06],\n",
       "       [1.220200e+04, 1.180234e+06],\n",
       "       [1.262400e+04, 7.095090e+05],\n",
       "       [1.637900e+04, 1.208665e+06],\n",
       "       [1.118500e+04, 7.728820e+05],\n",
       "       [9.441000e+03, 1.021119e+06],\n",
       "       [1.192500e+04, 8.440960e+05],\n",
       "       [1.187400e+04, 1.025616e+06],\n",
       "       [9.226000e+03, 8.237110e+05],\n",
       "       [1.086800e+04, 6.699910e+05],\n",
       "       [6.151000e+03, 6.876990e+05],\n",
       "       [9.530000e+03, 9.745360e+05],\n",
       "       [7.937000e+03, 9.744740e+05],\n",
       "       [7.258000e+03, 9.252580e+05],\n",
       "       [7.873000e+03, 6.918360e+05],\n",
       "       [7.446000e+03, 9.952060e+05],\n",
       "       [7.226000e+03, 7.702230e+05],\n",
       "       [6.806000e+03, 6.800870e+05],\n",
       "       [7.648000e+03, 1.044106e+06],\n",
       "       [6.162000e+03, 9.667000e+05],\n",
       "       [6.925000e+03, 9.191240e+05],\n",
       "       [6.465000e+03, 7.931370e+05],\n",
       "       [3.553000e+03, 6.755280e+05],\n",
       "       [5.167000e+03, 7.108370e+05],\n",
       "       [5.388000e+03, 6.791930e+05],\n",
       "       [3.561000e+03, 7.423370e+05],\n",
       "       [4.304000e+03, 1.246687e+06],\n",
       "       [4.533000e+03, 8.514670e+05],\n",
       "       [4.186000e+03, 1.200236e+06],\n",
       "       [3.213000e+03, 9.115580e+05],\n",
       "       [2.901000e+03, 1.282994e+06],\n",
       "       [2.941000e+03, 1.163644e+06],\n",
       "       [2.159000e+03, 1.264644e+06],\n",
       "       [3.401000e+03, 8.775750e+05],\n",
       "       [2.461000e+03, 6.721010e+05],\n",
       "       [1.839000e+03, 8.773200e+05],\n",
       "       [3.126000e+03, 1.046437e+06],\n",
       "       [2.208000e+03, 8.601690e+05],\n",
       "       [2.425000e+03, 1.165708e+06],\n",
       "       [2.469000e+03, 7.259650e+05],\n",
       "       [1.388000e+03, 1.030986e+06],\n",
       "       [2.356000e+03, 8.989240e+05],\n",
       "       [1.357000e+03, 1.172249e+06],\n",
       "       [1.244000e+03, 7.215130e+05],\n",
       "       [1.153000e+03, 1.212616e+06],\n",
       "       [1.105000e+03, 7.221160e+05],\n",
       "       [1.336000e+03, 9.124290e+05],\n",
       "       [1.801000e+03, 1.322164e+06],\n",
       "       [1.211000e+03, 7.213810e+05],\n",
       "       [1.304000e+03, 9.482900e+05],\n",
       "       [8.840000e+02, 9.938950e+05],\n",
       "       [1.112000e+03, 7.034020e+05],\n",
       "       [8.050000e+02, 1.098286e+06],\n",
       "       [1.085000e+03, 1.306771e+06],\n",
       "       [8.380000e+02, 1.244515e+06],\n",
       "       [1.217000e+03, 6.741420e+05],\n",
       "       [6.150000e+02, 1.259647e+06],\n",
       "       [1.118000e+03, 7.152620e+05],\n",
       "       [1.051000e+03, 1.014586e+06],\n",
       "       [8.610000e+02, 9.689560e+05],\n",
       "       [7.650000e+02, 1.266521e+06],\n",
       "       [5.880000e+02, 1.299379e+06],\n",
       "       [6.360000e+02, 1.079381e+06],\n",
       "       [4.940000e+02, 9.751910e+05],\n",
       "       [6.260000e+02, 7.180640e+05],\n",
       "       [7.470000e+02, 1.131469e+06],\n",
       "       [4.680000e+02, 1.208548e+06],\n",
       "       [3.950000e+02, 1.273301e+06],\n",
       "       [6.310000e+02, 1.149921e+06],\n",
       "       [4.370000e+02, 1.287891e+06],\n",
       "       [3.060000e+02, 6.839440e+05],\n",
       "       [5.040000e+02, 1.324297e+06],\n",
       "       [4.220000e+02, 9.202280e+05],\n",
       "       [4.640000e+02, 1.225089e+06],\n",
       "       [3.390000e+02, 8.486330e+05],\n",
       "       [4.250000e+02, 1.208187e+06],\n",
       "       [4.330000e+02, 1.036617e+06],\n",
       "       [4.010000e+02, 1.232717e+06],\n",
       "       [2.850000e+02, 7.525510e+05],\n",
       "       [3.000000e+02, 8.188660e+05],\n",
       "       [2.870000e+02, 9.052010e+05],\n",
       "       [2.820000e+02, 1.013282e+06],\n",
       "       [2.440000e+02, 1.234490e+06],\n",
       "       [2.390000e+02, 1.250816e+06],\n",
       "       [1.650000e+02, 6.857060e+05],\n",
       "       [2.240000e+02, 1.135817e+06],\n",
       "       [1.490000e+02, 6.762300e+05],\n",
       "       [1.990000e+02, 9.279880e+05],\n",
       "       [2.270000e+02, 8.986760e+05],\n",
       "       [2.020000e+02, 9.308700e+05],\n",
       "       [2.010000e+02, 1.299470e+06],\n",
       "       [1.970000e+02, 9.945910e+05],\n",
       "       [1.420000e+02, 1.319829e+06],\n",
       "       [1.230000e+02, 1.088782e+06],\n",
       "       [9.500000e+01, 7.524870e+05],\n",
       "       [9.700000e+01, 7.591230e+05],\n",
       "       [9.400000e+01, 8.970040e+05],\n",
       "       [1.120000e+02, 1.111579e+06],\n",
       "       [8.600000e+01, 6.938370e+05],\n",
       "       [8.800000e+01, 7.845930e+05],\n",
       "       [7.300000e+01, 9.737570e+05],\n",
       "       [8.500000e+01, 1.002185e+06],\n",
       "       [6.100000e+01, 1.199501e+06]])"
      ]
     },
     "execution_count": 27,
     "metadata": {},
     "output_type": "execute_result"
    }
   ],
   "source": [
    "int_data_to_fit = np.around(data_to_fit)\n",
    "int_data_to_fit "
   ]
  },
  {
   "cell_type": "markdown",
   "metadata": {},
   "source": [
    "## Poisson loss"
   ]
  },
  {
   "cell_type": "code",
   "execution_count": 28,
   "metadata": {},
   "outputs": [
    {
     "data": {
      "text/plain": [
       "9531545.662791345"
      ]
     },
     "execution_count": 28,
     "metadata": {},
     "output_type": "execute_result"
    }
   ],
   "source": [
    "# Initial guess of parameters, and bounding constraints\n",
    "objSIR = PoissonLoss(theta, model, x0=data[0,:], t0=t[0], t=t[1::], y=int_data_to_fit, state_name=['I','R'])\n",
    "\n",
    "objSIR.cost()"
   ]
  },
  {
   "cell_type": "code",
   "execution_count": 29,
   "metadata": {},
   "outputs": [
    {
     "name": "stdout",
     "output_type": "stream",
     "text": [
      "      fun: 3907922.0850938573\n",
      " hess_inv: <3x3 LbfgsInvHessProduct with dtype=float64>\n",
      "      jac: array([-1.00647944e-01, -9.22317346e+01,  3.62277449e-07])\n",
      "  message: b'CONVERGENCE: REL_REDUCTION_OF_F_<=_FACTR*EPSMCH'\n",
      "     nfev: 14\n",
      "      nit: 10\n",
      "     njev: 14\n",
      "   status: 0\n",
      "  success: True\n",
      "        x: array([3.59945214e+00, 1.98189223e-01, 1.00000000e+06])\n"
     ]
    }
   ],
   "source": [
    "# perform optimization\n",
    "res = minimize(fun=objSIR.cost,\n",
    "                jac=objSIR.sensitivity,\n",
    "                x0=theta,\n",
    "                bounds=boxBounds,\n",
    "                method='L-BFGS-B')\n",
    "print(res)"
   ]
  },
  {
   "cell_type": "code",
   "execution_count": 30,
   "metadata": {},
   "outputs": [
    {
     "data": {
      "text/plain": [
       "[3, 0.15, 1000000.0]"
      ]
     },
     "metadata": {},
     "output_type": "display_data"
    },
    {
     "data": {
      "text/plain": [
       "[(2, 5), (0.0, 1.0), (1000000.0, 1000000.0)]"
      ]
     },
     "metadata": {},
     "output_type": "display_data"
    },
    {
     "data": {
      "text/plain": [
       "[('beta', 3.6), ('gamma', 0.2), ('N', 1000000.0)]"
      ]
     },
     "metadata": {},
     "output_type": "display_data"
    }
   ],
   "source": [
    "display(theta,boxBounds,param_evals)"
   ]
  },
  {
   "cell_type": "markdown",
   "metadata": {},
   "source": [
    "## NegBinom loss"
   ]
  },
  {
   "cell_type": "code",
   "execution_count": 31,
   "metadata": {},
   "outputs": [
    {
     "name": "stderr",
     "output_type": "stream",
     "text": [
      "C:\\Users\\martin.grunnill\\AppData\\Roaming\\Python\\Python38\\site-packages\\pygom-0.1.7.dev11+g990f876.d20200702-py3.8-win-amd64.egg\\pygom\\utilR\\distn.py:450: RuntimeWarning: divide by zero encountered in log\n",
      "  logpmf_p4= x*(np.log(mu) - np.log(k + mu))\n",
      "C:\\Users\\martin.grunnill\\AppData\\Roaming\\Python\\Python38\\site-packages\\pygom-0.1.7.dev11+g990f876.d20200702-py3.8-win-amd64.egg\\pygom\\utilR\\distn.py:450: RuntimeWarning: invalid value encountered in multiply\n",
      "  logpmf_p4= x*(np.log(mu) - np.log(k + mu))\n"
     ]
    },
    {
     "data": {
      "text/plain": [
       "5033.73795866175"
      ]
     },
     "execution_count": 31,
     "metadata": {},
     "output_type": "execute_result"
    }
   ],
   "source": [
    "# Initial guess of parameters, and bounding constraints\n",
    "objSIR = NegBinomLoss(theta, model, x0=data[0,:], t0=t[0], t=t[1::], y=int_data_to_fit, state_name=['I','R'])\n",
    "\n",
    "objSIR.cost()"
   ]
  },
  {
   "cell_type": "code",
   "execution_count": 32,
   "metadata": {},
   "outputs": [
    {
     "name": "stderr",
     "output_type": "stream",
     "text": [
      "C:\\Users\\martin.grunnill\\AppData\\Roaming\\Python\\Python38\\site-packages\\pygom-0.1.7.dev11+g990f876.d20200702-py3.8-win-amd64.egg\\pygom\\utilR\\distn.py:450: RuntimeWarning: invalid value encountered in log\n",
      "  logpmf_p4= x*(np.log(mu) - np.log(k + mu))\n"
     ]
    },
    {
     "name": "stdout",
     "output_type": "stream",
     "text": [
      "      fun: 4851.585921020361\n",
      " hess_inv: <3x3 LbfgsInvHessProduct with dtype=float64>\n",
      "      jac: array([-1.51180907e-03, -1.39068296e-02,  5.42136740e-09])\n",
      "  message: b'CONVERGENCE: REL_REDUCTION_OF_F_<=_FACTR*EPSMCH'\n",
      "     nfev: 17\n",
      "      nit: 11\n",
      "     njev: 17\n",
      "   status: 0\n",
      "  success: True\n",
      "        x: array([3.58601328e+00, 1.99815114e-01, 1.00000000e+06])\n"
     ]
    }
   ],
   "source": [
    "# perform optimization\n",
    "res = minimize(fun=objSIR.cost,\n",
    "                jac=objSIR.sensitivity,\n",
    "                x0=theta,\n",
    "                bounds=boxBounds,\n",
    "                method='L-BFGS-B')\n",
    "print(res)"
   ]
  },
  {
   "cell_type": "code",
   "execution_count": 33,
   "metadata": {},
   "outputs": [
    {
     "data": {
      "text/plain": [
       "[3, 0.15, 1000000.0]"
      ]
     },
     "metadata": {},
     "output_type": "display_data"
    },
    {
     "data": {
      "text/plain": [
       "[(2, 5), (0.0, 1.0), (1000000.0, 1000000.0)]"
      ]
     },
     "metadata": {},
     "output_type": "display_data"
    },
    {
     "data": {
      "text/plain": [
       "[('beta', 3.6), ('gamma', 0.2), ('N', 1000000.0)]"
      ]
     },
     "metadata": {},
     "output_type": "display_data"
    }
   ],
   "source": [
    "display(theta,boxBounds,param_evals)"
   ]
  },
  {
   "cell_type": "code",
   "execution_count": 34,
   "metadata": {},
   "outputs": [
    {
     "data": {
      "text/plain": [
       "5107.155188410919"
      ]
     },
     "execution_count": 34,
     "metadata": {},
     "output_type": "execute_result"
    }
   ],
   "source": [
    "# Initial guess of parameters, and bounding constraints\n",
    "objSIR = NegBinomLoss(theta, model, x0=data[0,:], t0=t[0], t=t[1::], y=int_data_to_fit, state_name=['I','R'],k=0.5)\n",
    "\n",
    "objSIR.cost()"
   ]
  },
  {
   "cell_type": "code",
   "execution_count": 35,
   "metadata": {},
   "outputs": [
    {
     "data": {
      "text/plain": [
       "5024.382571986069"
      ]
     },
     "execution_count": 35,
     "metadata": {},
     "output_type": "execute_result"
    }
   ],
   "source": [
    "# Initial guess of parameters, and bounding constraints\n",
    "objSIR = NegBinomLoss(theta, model, x0=data[0,:], t0=t[0], t=t[1::], y=int_data_to_fit, state_name=['I','R'],k=[0.5,1.5])\n",
    "\n",
    "objSIR.cost()"
   ]
  }
 ],
 "metadata": {
  "kernelspec": {
   "display_name": "Python 3",
   "language": "python",
   "name": "python3"
  },
  "language_info": {
   "codemirror_mode": {
    "name": "ipython",
    "version": 3
   },
   "file_extension": ".py",
   "mimetype": "text/x-python",
   "name": "python",
   "nbconvert_exporter": "python",
   "pygments_lexer": "ipython3",
   "version": "3.8.3"
  }
 },
 "nbformat": 4,
 "nbformat_minor": 2
}
