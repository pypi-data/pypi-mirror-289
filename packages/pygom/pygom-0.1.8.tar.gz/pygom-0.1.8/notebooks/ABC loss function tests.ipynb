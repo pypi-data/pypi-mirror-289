{
 "cells": [
  {
   "cell_type": "code",
   "execution_count": 1,
   "id": "e847f075-fdaa-4d6e-961c-02aaf1d7c112",
   "metadata": {},
   "outputs": [],
   "source": [
    "import numpy as np\n",
    "from unittest import main, TestCase\n",
    "\n",
    "from pygom import SquareLoss, NormalLoss\n",
    "from pygom.model import common_models\n",
    "from pygom import approximate_bayesian_computation as pgabc"
   ]
  },
  {
   "cell_type": "code",
   "execution_count": 2,
   "id": "533185c5-3671-4499-aba5-4d18f6a13a60",
   "metadata": {},
   "outputs": [],
   "source": [
    "class Expando: pass\n",
    "self = Expando()\n",
    "\n",
    "##    def setUp(self):\n",
    "# define the model and parameters\n",
    "self.ode = common_models.SIR({'beta':0.5, 'gamma':1.0/3.0})\n",
    "\n",
    "# the initial state, normalized to one\n",
    "self.x0 = [1, 1.27e-6, 0]\n",
    "# set the time sequence that we would like to observe\n",
    "self.t = np.linspace(0, 150, 100)\n",
    "self.ode.initial_values = (self.x0, self.t[0])\n",
    "# find the solution\n",
    "self.solution = self.ode.integrate(self.t[1::])\n",
    "\n",
    "# what the posterior median estimates should be close to\n",
    "self.target = np.array([0.5, 1.0/3.0])\n",
    " "
   ]
  },
  {
   "cell_type": "code",
   "execution_count": 7,
   "id": "ac7a5ac6-ec89-4308-a0ff-fdddf383c62b",
   "metadata": {},
   "outputs": [
    {
     "data": {
      "text/plain": [
       "True"
      ]
     },
     "execution_count": 7,
     "metadata": {},
     "output_type": "execute_result"
    }
   ],
   "source": [
    "        y = self.solution[1::, 1:3]\n",
    "        \n",
    "        # setting the parameters in the inference\n",
    "        parameters = [pgabc.Parameter('beta', 'unif', 0, 3, logscale=False),\n",
    "                      pgabc.Parameter('gamma', 'unif', 0, 3, logscale=False)]\n",
    "        \n",
    "        # creating the loss and abc objects\n",
    "        sir_obj = pgabc.create_loss(SquareLoss, parameters, self.ode, self.x0, self.t[0],\n",
    "                                  self.t[1::], y, ['I', 'R'])\n",
    "        sir_abc = pgabc.ABC(sir_obj, parameters)\n",
    "        \n",
    "        # getting the posterior sample\n",
    "        sir_abc.get_posterior_sample(N=100, tol=np.inf, G=10, q=0.5)\n",
    "        sir_abc.continue_posterior_sample(N=100, tol=sir_abc.next_tol, G=10, q=0.5)\n",
    "\n",
    "        # the estimate for beta must be between 0.485 and 0.515\n",
    "        # the estimate for gamma must be between 0.32 and 0.3466        \n",
    "        med_est = np.median(sir_abc.res, axis=0)\n",
    "        \n",
    "        np.allclose(med_est, self.target, 1e-2, 1e-2)"
   ]
  },
  {
   "cell_type": "code",
   "execution_count": 6,
   "id": "1badf36a-9a0c-4f09-a69a-84383a188711",
   "metadata": {},
   "outputs": [
    {
     "data": {
      "text/plain": [
       "True"
      ]
     },
     "execution_count": 6,
     "metadata": {},
     "output_type": "execute_result"
    }
   ],
   "source": [
    "        #    def test_SIR_abc_NormalLoss(self):\n",
    "        y = self.solution[1::, 1:3]\n",
    "        parameters = [pgabc.Parameter('beta', 'unif', 0, 3, logscale=False), \n",
    "                      pgabc.Parameter('gamma', 'unif', 0, 3, logscale=False)]\n",
    "        sir_obj = pgabc.create_loss(NormalLoss, parameters, self.ode, self.x0, self.t[0],\n",
    "                                  self.t[1::], y, ['I', 'R'], sigma=1.0)\n",
    "        sir_abc = pgabc.ABC(sir_obj, parameters)\n",
    "        sir_abc.get_posterior_sample(N=100, tol=np.inf, G=10, q=0.5)\n",
    "        sir_abc.continue_posterior_sample(N=100, tol=sir_abc.next_tol, G=10, q=0.5)\n",
    "        med_est = np.median(sir_abc.res, axis=0)\n",
    "        np.allclose(med_est, self.target, 1e-2, 1e-2)"
   ]
  },
  {
   "cell_type": "code",
   "execution_count": null,
   "id": "2e3c926e-a194-45e0-aade-7b6593be15e5",
   "metadata": {},
   "outputs": [],
   "source": []
  },
  {
   "cell_type": "code",
   "execution_count": 4,
   "id": "9cbf8b2a-5b64-4604-9a9a-fbe766a6ee04",
   "metadata": {},
   "outputs": [
    {
     "name": "stdout",
     "output_type": "stream",
     "text": [
      "> \u001b[0;32m/home/phe.gov.uk/thomas.finnie/git/pygom/pygom/loss/ode_loss.py\u001b[0m(59)\u001b[0;36m_setLossType\u001b[0;34m()\u001b[0m\n",
      "\u001b[0;32m     57 \u001b[0;31m\u001b[0;34m\u001b[0m\u001b[0m\n",
      "\u001b[0m\u001b[0;32m     58 \u001b[0;31m    \u001b[0;32mdef\u001b[0m \u001b[0m_setLossType\u001b[0m\u001b[0;34m(\u001b[0m\u001b[0mself\u001b[0m\u001b[0;34m)\u001b[0m\u001b[0;34m:\u001b[0m\u001b[0;34m\u001b[0m\u001b[0;34m\u001b[0m\u001b[0m\n",
      "\u001b[0m\u001b[0;32m---> 59 \u001b[0;31m        \u001b[0mself\u001b[0m\u001b[0;34m.\u001b[0m\u001b[0m_lossObj\u001b[0m \u001b[0;34m=\u001b[0m \u001b[0mNormal\u001b[0m\u001b[0;34m(\u001b[0m\u001b[0mself\u001b[0m\u001b[0;34m.\u001b[0m\u001b[0m_y\u001b[0m\u001b[0;34m,\u001b[0m \u001b[0mself\u001b[0m\u001b[0;34m.\u001b[0m\u001b[0m_weight\u001b[0m\u001b[0;34m,\u001b[0m \u001b[0mself\u001b[0m\u001b[0;34m.\u001b[0m\u001b[0m_spread_param\u001b[0m\u001b[0;34m)\u001b[0m\u001b[0;34m\u001b[0m\u001b[0;34m\u001b[0m\u001b[0m\n",
      "\u001b[0m\u001b[0;32m     60 \u001b[0;31m        \u001b[0;32mreturn\u001b[0m \u001b[0mself\u001b[0m\u001b[0;34m.\u001b[0m\u001b[0m_lossObj\u001b[0m\u001b[0;34m\u001b[0m\u001b[0;34m\u001b[0m\u001b[0m\n",
      "\u001b[0m\u001b[0;32m     61 \u001b[0;31m\u001b[0;34m\u001b[0m\u001b[0m\n",
      "\u001b[0m\n"
     ]
    },
    {
     "name": "stdin",
     "output_type": "stream",
     "text": [
      "ipdb>  u\n"
     ]
    },
    {
     "name": "stdout",
     "output_type": "stream",
     "text": [
      "> \u001b[0;32m/home/phe.gov.uk/thomas.finnie/git/pygom/pygom/loss/base_loss.py\u001b[0m(191)\u001b[0;36m__init__\u001b[0;34m()\u001b[0m\n",
      "\u001b[0;32m    189 \u001b[0;31m        \u001b[0;31m# TODO: optimal weight in terms of Pareto front from a\u001b[0m\u001b[0;34m\u001b[0m\u001b[0;34m\u001b[0m\u001b[0m\n",
      "\u001b[0m\u001b[0;32m    190 \u001b[0;31m        \u001b[0;31m# multiobjective optimization perspective\u001b[0m\u001b[0;34m\u001b[0m\u001b[0;34m\u001b[0m\u001b[0m\n",
      "\u001b[0m\u001b[0;32m--> 191 \u001b[0;31m        \u001b[0mself\u001b[0m\u001b[0;34m.\u001b[0m\u001b[0m_lossObj\u001b[0m \u001b[0;34m=\u001b[0m \u001b[0mself\u001b[0m\u001b[0;34m.\u001b[0m\u001b[0m_setLossType\u001b[0m\u001b[0;34m(\u001b[0m\u001b[0;34m)\u001b[0m\u001b[0;34m\u001b[0m\u001b[0;34m\u001b[0m\u001b[0m\n",
      "\u001b[0m\u001b[0;32m    192 \u001b[0;31m\u001b[0;34m\u001b[0m\u001b[0m\n",
      "\u001b[0m\u001b[0;32m    193 \u001b[0;31m        \u001b[0;31m# final check\u001b[0m\u001b[0;34m\u001b[0m\u001b[0;34m\u001b[0m\u001b[0m\n",
      "\u001b[0m\n"
     ]
    },
    {
     "name": "stdin",
     "output_type": "stream",
     "text": [
      "ipdb>  state_name\n"
     ]
    },
    {
     "name": "stdout",
     "output_type": "stream",
     "text": [
      "['I', 'R']\n"
     ]
    },
    {
     "name": "stdin",
     "output_type": "stream",
     "text": [
      "ipdb>  spread_param\n",
      "ipdb>  u\n"
     ]
    },
    {
     "name": "stdout",
     "output_type": "stream",
     "text": [
      "> \u001b[0;32m/home/phe.gov.uk/thomas.finnie/git/pygom/pygom/loss/ode_loss.py\u001b[0m(43)\u001b[0;36m__init__\u001b[0;34m()\u001b[0m\n",
      "\u001b[0;32m     41 \u001b[0;31m    def __init__(self, theta, ode, x0, t0, t, y, state_name, state_weight=None,\n",
      "\u001b[0m\u001b[0;32m     42 \u001b[0;31m                 sigma=1.0, target_param=None, target_state=None):\n",
      "\u001b[0m\u001b[0;32m---> 43 \u001b[0;31m        super().__init__(theta=theta, \n",
      "\u001b[0m\u001b[0;32m     44 \u001b[0;31m                         \u001b[0mode\u001b[0m\u001b[0;34m=\u001b[0m\u001b[0mode\u001b[0m\u001b[0;34m,\u001b[0m\u001b[0;34m\u001b[0m\u001b[0;34m\u001b[0m\u001b[0m\n",
      "\u001b[0m\u001b[0;32m     45 \u001b[0;31m                         \u001b[0mx0\u001b[0m\u001b[0;34m=\u001b[0m\u001b[0mx0\u001b[0m\u001b[0;34m,\u001b[0m\u001b[0;34m\u001b[0m\u001b[0;34m\u001b[0m\u001b[0m\n",
      "\u001b[0m\n"
     ]
    },
    {
     "name": "stdin",
     "output_type": "stream",
     "text": [
      "ipdb>  sigma\n",
      "ipdb>  u\n"
     ]
    },
    {
     "name": "stdout",
     "output_type": "stream",
     "text": [
      "> \u001b[0;32m/home/phe.gov.uk/thomas.finnie/git/pygom/pygom/approximate_bayesian_computation/approximate_bayesian_computation.py\u001b[0m(162)\u001b[0;36mcreate_loss\u001b[0;34m()\u001b[0m\n",
      "\u001b[0;32m    160 \u001b[0;31m\u001b[0;34m\u001b[0m\u001b[0m\n",
      "\u001b[0m\u001b[0;32m    161 \u001b[0;31m    \u001b[0;32melif\u001b[0m \u001b[0mloss_type\u001b[0m \u001b[0;34m==\u001b[0m \u001b[0mNormalLoss\u001b[0m\u001b[0;34m:\u001b[0m\u001b[0;34m\u001b[0m\u001b[0;34m\u001b[0m\u001b[0m\n",
      "\u001b[0m\u001b[0;32m--> 162 \u001b[0;31m        return NormalLoss(theta=theta, \n",
      "\u001b[0m\u001b[0;32m    163 \u001b[0;31m                          \u001b[0mode\u001b[0m\u001b[0;34m=\u001b[0m\u001b[0mode\u001b[0m\u001b[0;34m,\u001b[0m\u001b[0;34m\u001b[0m\u001b[0;34m\u001b[0m\u001b[0m\n",
      "\u001b[0m\u001b[0;32m    164 \u001b[0;31m                          \u001b[0mx0\u001b[0m\u001b[0;34m=\u001b[0m\u001b[0mx0\u001b[0m\u001b[0;34m,\u001b[0m\u001b[0;34m\u001b[0m\u001b[0;34m\u001b[0m\u001b[0m\n",
      "\u001b[0m\n"
     ]
    },
    {
     "name": "stdin",
     "output_type": "stream",
     "text": [
      "ipdb>  sigma\n",
      "ipdb>  q\n"
     ]
    }
   ],
   "source": [
    "debug"
   ]
  }
 ],
 "metadata": {
  "kernelspec": {
   "display_name": "Python 3 (ipykernel)",
   "language": "python",
   "name": "python3"
  },
  "language_info": {
   "codemirror_mode": {
    "name": "ipython",
    "version": 3
   },
   "file_extension": ".py",
   "mimetype": "text/x-python",
   "name": "python",
   "nbconvert_exporter": "python",
   "pygments_lexer": "ipython3",
   "version": "3.10.9"
  }
 },
 "nbformat": 4,
 "nbformat_minor": 5
}
