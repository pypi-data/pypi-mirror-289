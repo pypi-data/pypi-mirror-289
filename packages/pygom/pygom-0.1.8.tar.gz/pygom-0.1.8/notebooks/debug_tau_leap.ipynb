{
 "cells": [
  {
   "cell_type": "markdown",
   "metadata": {},
   "source": [
    "In this notebook, we debug the `_test_tau_leap_safety` function (old version written in python).\n",
    "Fixing this will help to understand and fix the Cython version.\n",
    "\n",
    "First load the relevant modules:"
   ]
  },
  {
   "cell_type": "code",
   "execution_count": 1,
   "metadata": {},
   "outputs": [],
   "source": [
    "from pygom import SimulateOde, Transition, TransitionType\n",
    "import numpy as np\n",
    "import math"
   ]
  },
  {
   "cell_type": "markdown",
   "metadata": {},
   "source": [
    "Set up PyGOM object. This will be an SIR model with births and deaths:"
   ]
  },
  {
   "cell_type": "code",
   "execution_count": 2,
   "metadata": {},
   "outputs": [
    {
     "data": {
      "text/plain": [
       "array([[1, 0, 0, 1, 0, 0],\n",
       "       [1, 1, 0, 0, 1, 0],\n",
       "       [0, 0, 0, 0, 0, 1]])"
      ]
     },
     "execution_count": 2,
     "metadata": {},
     "output_type": "execute_result"
    }
   ],
   "source": [
    "state = ['S', 'I', 'R']\n",
    "param_list = ['beta', 'gamma', 'mu', 'N']\n",
    "\n",
    "transition = [\n",
    "    Transition(origin='S',\n",
    "               destination='I',\n",
    "               equation='beta*S*I/N',\n",
    "               transition_type=TransitionType.T),\n",
    "    Transition(origin='I',\n",
    "               destination='R',\n",
    "               equation='gamma*I',\n",
    "               transition_type=TransitionType.T)\n",
    "]\n",
    "\n",
    "birth_death = [\n",
    "    Transition(origin='S',\n",
    "               equation='mu*N',\n",
    "               transition_type=TransitionType.B),\n",
    "    Transition(origin='S',\n",
    "               equation='mu*S',\n",
    "               transition_type=TransitionType.D),\n",
    "    Transition(origin='I',\n",
    "               equation='mu*I',\n",
    "               transition_type=TransitionType.D),\n",
    "    Transition(origin='R',\n",
    "               equation='mu*R',\n",
    "               transition_type=TransitionType.D)\n",
    "]\n",
    "\n",
    "# initialize the model\n",
    "ode = SimulateOde(state,\n",
    "                  param_list,\n",
    "                  birth_death=birth_death,\n",
    "                  transition=transition)\n",
    "\n",
    "#Params\n",
    "n_pop=1e4\n",
    "param_set=[('beta', 0.4), ('gamma', 0.25), ('mu', 0.01), ('N', n_pop)]\n",
    "ode.parameters=param_set\n",
    "\n",
    "# Initial conditions\n",
    "i0=10\n",
    "x0 = [n_pop-i0, i0, 0]\n",
    "ode.initial_values = (x0, 0)\n",
    "\n",
    "# Calculate reactant matrix\n",
    "ode._computeReactantMatrix()"
   ]
  },
  {
   "cell_type": "markdown",
   "metadata": {},
   "source": [
    "Define old python version of function here. I've added a few comments in"
   ]
  },
  {
   "cell_type": "code",
   "execution_count": 3,
   "metadata": {},
   "outputs": [],
   "source": [
    "## Python solution\n",
    "\n",
    "import scipy.stats as st\n",
    "\n",
    "def _ppois(q, mu=1.0):\n",
    "    '''\n",
    "    A cached and slightly faster and less safe version of the pygom.utilR.ppois\n",
    "    function\n",
    "    '''\n",
    "    return st.poisson._cdf(q, mu=mu)\n",
    "\n",
    "def _test_tau_leap_safety(x, reactant_mat, rates, tau_scale, epsilon):\n",
    "    \"\"\"\n",
    "    Additional safety test on :math:`\\\\tau`-leap, decrease the step size if\n",
    "    the original is not small enough.  Decrease a couple of times and then\n",
    "    bail out because we don't want to spend too long decreasing the\n",
    "    step size until we find a suitable one.\n",
    "\n",
    "    Parameters\n",
    "    ----------\n",
    "    x: array\n",
    "        Current populations of the states\n",
    "    reactant_mat: matrix\n",
    "        reactant_mat[i,j]=1 if state i involved in transition j and 0 if not\n",
    "    rates: array\n",
    "        rates of each of the transitions\n",
    "    tau_scale: float\n",
    "        initial value for timestep\n",
    "    epsilon: float\n",
    "        threshold value\n",
    "    \"\"\"\n",
    "\n",
    "    total_rate = sum(rates)  \n",
    "    safe = False             # when True, indicates that tau_scale is sufficiently small\n",
    "    count = 0                # number of attempts to find acceptable tau_scale\n",
    "\n",
    "    # Print output, first some titles\n",
    "    row=[\"Iteration\", \"tau_scale\", \"max_cdf\"]\n",
    "    print(\"{: <10} {: <10} {: <10}\".format(*row))\n",
    "\n",
    "    while safe is False:\n",
    "        cdf_val = 1.0\n",
    "        for i, r in enumerate(rates):\n",
    "            xi = x[reactant_mat[:, i]]         # reactant_mat[i,j]={0,1} so we only ever look at first 2 states. Seems wrong\n",
    "            mu=tau_scale*r                     # Expected number of events\n",
    "            new_cdf = _ppois(xi, mu=mu).min()  # prob(# transitions in jump < size of state)\n",
    "            if new_cdf < cdf_val:\n",
    "                cdf_val = new_cdf\n",
    "\n",
    "        max_cdf = 1.0 - cdf_val  # prob(# transmissions in jump > size of state)\n",
    "\n",
    "        # Print output\n",
    "        row=[count, tau_scale, max_cdf]\n",
    "        print(\"{: <10} {: <10.4g} {: <10.4g}\".format(*row))\n",
    "\n",
    "        # cannot allow it to exceed out epsilon\n",
    "        if max_cdf > epsilon:\n",
    "            tau_scale /= (max_cdf / epsilon)\n",
    "        else:\n",
    "            safe = True\n",
    "\n",
    "        # Abandon if we're taking too many attempts\n",
    "        if count > 256:\n",
    "            print(\"count error\")\n",
    "            return tau_scale, False\n",
    "        \n",
    "        # Abandon if tau_scale gets too small?\n",
    "        if tau_scale*total_rate <= 1.0:\n",
    "            print(\"scale error\")\n",
    "            return tau_scale, False\n",
    "        \n",
    "        count += 1\n",
    "\n",
    "    return tau_scale, True"
   ]
  },
  {
   "cell_type": "markdown",
   "metadata": {},
   "source": [
    "We provide the state of the system to prepare the function inputs:"
   ]
  },
  {
   "cell_type": "code",
   "execution_count": 4,
   "metadata": {},
   "outputs": [],
   "source": [
    "x=np.array([100.,  1., 0.])    # (S=100, I=1, R=0)\n",
    "\n",
    "reactant_mat=ode._lambdaMat  # Reactant_mat[i,j]=1 if state i involved in transition j and 0 if not\n",
    "\n",
    "# Rates of transitions at current state x and time t\n",
    "t=0  # No time dependence, so this is unimportant, just need to give something to function.\n",
    "transition_func=ode.transition_vector\n",
    "rates = transition_func(x, t)"
   ]
  },
  {
   "cell_type": "markdown",
   "metadata": {},
   "source": [
    "First, there seems to be an issue with the reactant matrix"
   ]
  },
  {
   "cell_type": "code",
   "execution_count": 5,
   "metadata": {},
   "outputs": [
    {
     "name": "stdout",
     "output_type": "stream",
     "text": [
      "[[1 0 0 1 0 0]\n",
      " [1 1 0 0 1 0]\n",
      " [0 0 0 0 0 1]]\n"
     ]
    }
   ],
   "source": [
    "print(reactant_mat)"
   ]
  },
  {
   "cell_type": "markdown",
   "metadata": {},
   "source": [
    "This correctly implies that states 0 and 1 ($S$ and $I$) are involved in infections (column 0).\n",
    "It then incorrectly implies that only state 1 ($I$) is involved in recovery (column 1) and that no state is involved in births (column 2).\n",
    "In the calculation of the reactant matrix, what is actually calculated is if the state appears as a variable in the equations.\n",
    "i.e. $S$ and $I$ appear in infection rate $\\frac{\\beta S I}{N}$, but only $I$ appears in recovery rate $\\gamma I$.\n",
    "\n",
    "The second issue is that in the function `_test_tau_leap_safety`, we try to find the populations, xi, of the states involved in transition, i, via\n",
    "\n",
    "```{python}\n",
    "xi = x[reactant_mat[:, i]]\n",
    "```\n",
    "\n",
    "However, since reactant_mat only takes values 0 and 1, we are mistakenly recycling our binary indicators as state indices.\n",
    "For example, let's look at the last transition, i=5, which should be a death rate from the recovereds:"
   ]
  },
  {
   "cell_type": "code",
   "execution_count": 6,
   "metadata": {},
   "outputs": [
    {
     "data": {
      "text/plain": [
       "array([100., 100.,   1.])"
      ]
     },
     "execution_count": 6,
     "metadata": {},
     "output_type": "execute_result"
    }
   ],
   "source": [
    "x[reactant_mat[:, 5]]"
   ]
  },
  {
   "cell_type": "markdown",
   "metadata": {},
   "source": [
    "We should just get $[N_R]$.\n",
    "Instead, we get $[N_S, N_S, N_I]$."
   ]
  },
  {
   "cell_type": "markdown",
   "metadata": {},
   "source": [
    "Perhaps we should instead use:\n",
    "\n",
    "```{python}\n",
    "xi = x[reactant_mat[:, i]==1]\n",
    "```"
   ]
  },
  {
   "cell_type": "code",
   "execution_count": 7,
   "metadata": {},
   "outputs": [
    {
     "data": {
      "text/plain": [
       "array([0.])"
      ]
     },
     "execution_count": 7,
     "metadata": {},
     "output_type": "execute_result"
    }
   ],
   "source": [
    "x[reactant_mat[:, 5]==1]"
   ]
  },
  {
   "cell_type": "markdown",
   "metadata": {},
   "source": [
    "Looks better, let's deifne a fixed version of the `_test_tau_leap_safety` function and compare them later:"
   ]
  },
  {
   "cell_type": "code",
   "execution_count": 8,
   "metadata": {},
   "outputs": [],
   "source": [
    "def _test_tau_leap_safety_fix(x, reactant_mat, rates, tau_scale, epsilon):\n",
    "    total_rate = sum(rates)  \n",
    "    safe = False             # when True, indicates that tau_scale is sufficiently small\n",
    "    count = 0                # number of attempts to find acceptable tau_scale\n",
    "\n",
    "    # Print output, first some titles\n",
    "    row=[\"Iteration\", \"tau_scale\", \"max_cdf\"]\n",
    "    print(\"{: <10} {: <10} {: <10}\".format(*row))\n",
    "\n",
    "    while safe is False:\n",
    "        cdf_val = 1.0\n",
    "        for i, r in enumerate(rates):\n",
    "            xi = x[reactant_mat[:, i]==1]      # Population of each state involved in the transitions\n",
    "            mu=tau_scale*r                     # Expected number of events\n",
    "            new_cdf = _ppois(xi, mu=mu).min()  # prob(# transitions in jump < size of state)\n",
    "\n",
    "            if new_cdf < cdf_val:\n",
    "                cdf_val = new_cdf\n",
    "\n",
    "        max_cdf = 1.0 - cdf_val  # prob(# transmissions in jump > size of state)\n",
    "\n",
    "        # Print output\n",
    "        row=[count, tau_scale, max_cdf]\n",
    "        print(\"{: <10} {: <10.4g} {: <10.4g}\".format(*row))\n",
    "\n",
    "        # cannot allow it to exceed out epsilon\n",
    "        if max_cdf > epsilon:\n",
    "            tau_scale /= (max_cdf / epsilon)\n",
    "        else:\n",
    "            safe = True\n",
    "\n",
    "        # Abandon if we're taking too many attempts\n",
    "        if count > 256:\n",
    "            print(\"count error\")\n",
    "            return tau_scale, False\n",
    "        \n",
    "        # Abandon if tau_scale gets too small?\n",
    "        if tau_scale*total_rate <= 1.0:\n",
    "            print(\"scale error\")\n",
    "            return tau_scale, False\n",
    "        \n",
    "        count += 1\n",
    "\n",
    "    return tau_scale, True"
   ]
  },
  {
   "cell_type": "markdown",
   "metadata": {},
   "source": [
    "We still have the issue that the `reactant_mat` which is input to the `_test_tau_leap_safety` function is not entirely correct.\n",
    "For now, let's manually edit it and see the difference:"
   ]
  },
  {
   "cell_type": "code",
   "execution_count": 9,
   "metadata": {},
   "outputs": [
    {
     "name": "stdout",
     "output_type": "stream",
     "text": [
      "[[1 0 1 1 0 0]\n",
      " [1 1 0 0 1 0]\n",
      " [0 1 0 0 0 1]]\n"
     ]
    }
   ],
   "source": [
    "reactant_mat_fix=reactant_mat\n",
    "reactant_mat_fix[2, 1]=1       # add the fact that R is involved in recovery\n",
    "reactant_mat_fix[0, 2]=1       # add the fact that S is involved in birth\n",
    "print(reactant_mat)"
   ]
  },
  {
   "cell_type": "markdown",
   "metadata": {},
   "source": [
    "We need a value of the parameter epsilon, which dictates how stringent we are with the step size.\n",
    "There is usually a preliminary calculation to obtain a first guess for `tau_scale`, for now we supply an overly large value so that the function has to do some work."
   ]
  },
  {
   "cell_type": "code",
   "execution_count": 10,
   "metadata": {},
   "outputs": [],
   "source": [
    "epsilon=0.1\n",
    "tau_scale=10   # Set a silly high value, which algorithm should iteratively cut down"
   ]
  },
  {
   "cell_type": "markdown",
   "metadata": {},
   "source": [
    "Let's compare the output of each function"
   ]
  },
  {
   "cell_type": "code",
   "execution_count": 11,
   "metadata": {},
   "outputs": [
    {
     "name": "stdout",
     "output_type": "stream",
     "text": [
      "Iteration  tau_scale  max_cdf   \n",
      "0          10         1         \n",
      "1          1          0.4734    \n",
      "2          0.2112     0.05144   \n",
      "(0.21122098761337782, True)\n",
      "\n",
      "\n",
      "Iteration  tau_scale  max_cdf   \n",
      "0          10         1         \n",
      "1          1          1         \n",
      "2          0.1        0.9995    \n",
      "3          0.01       0.2644    \n",
      "scale error\n",
      "(0.003783681272942391, False)\n"
     ]
    }
   ],
   "source": [
    "y1=_test_tau_leap_safety_fix(x.astype(np.float64, copy=False),\n",
    "                          reactant_mat_fix.astype(np.int64, copy=False),\n",
    "                          rates.astype(np.float64, copy=False),\n",
    "                          tau_scale=float(tau_scale),\n",
    "                          epsilon=float(epsilon))\n",
    "\n",
    "print(y1)\n",
    "print(\"\\n\")\n",
    "\n",
    "y2=_test_tau_leap_safety(x.astype(np.float64, copy=False),\n",
    "                      reactant_mat.astype(np.int64, copy=False),\n",
    "                      rates.astype(np.float64, copy=False),\n",
    "                      tau_scale=float(tau_scale),\n",
    "                      epsilon=float(epsilon))\n",
    "\n",
    "print(y2)"
   ]
  },
  {
   "cell_type": "markdown",
   "metadata": {},
   "source": [
    "We see that the old version fails due to the \"scale error\", namely\n",
    "\n",
    "```{python}\n",
    "tau_scale*total_rate <= 1.0:\n",
    "```\n",
    "\n",
    "It is worth pointing out that even if it didn't fail, it would not be returning correct values due to errors described above.\n",
    "\n",
    "The next question is why is this scale error useful?\n",
    "Is it that we don't want the step size getting so small that the probability of nothing happening becomes significant. "
   ]
  }
 ],
 "metadata": {
  "kernelspec": {
   "display_name": "base",
   "language": "python",
   "name": "python3"
  },
  "language_info": {
   "codemirror_mode": {
    "name": "ipython",
    "version": 3
   },
   "file_extension": ".py",
   "mimetype": "text/x-python",
   "name": "python",
   "nbconvert_exporter": "python",
   "pygments_lexer": "ipython3",
   "version": "3.9.19"
  }
 },
 "nbformat": 4,
 "nbformat_minor": 2
}
