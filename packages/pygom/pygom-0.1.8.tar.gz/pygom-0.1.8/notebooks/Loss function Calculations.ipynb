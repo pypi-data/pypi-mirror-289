{
 "cells": [
  {
   "cell_type": "markdown",
   "metadata": {},
   "source": [
    "# Deriving derivative of loss class and testing markdown conversion for equation.#"
   ]
  },
  {
   "cell_type": "code",
   "execution_count": 1,
   "metadata": {},
   "outputs": [],
   "source": [
    "import sympy as sym\n",
    "import numpy as np"
   ]
  },
  {
   "cell_type": "code",
   "execution_count": 2,
   "metadata": {},
   "outputs": [],
   "source": [
    "# Setting up residual for replacement, so that weighted residuals can be applied in code.\n",
    "r ,y, yhat = sym.symbols('r,y yhat')\n",
    "r_eq = y-yhat"
   ]
  },
  {
   "cell_type": "markdown",
   "metadata": {},
   "source": [
    "# 1. Square Loss class"
   ]
  },
  {
   "cell_type": "code",
   "execution_count": 3,
   "metadata": {},
   "outputs": [
    {
     "data": {
      "text/latex": [
       "$\\displaystyle \\left(y - \\hat{y}\\right)^{2}$"
      ],
      "text/plain": [
       "(y - yhat)**2"
      ]
     },
     "metadata": {},
     "output_type": "display_data"
    },
    {
     "data": {
      "text/latex": [
       "$\\displaystyle r^{2}$"
      ],
      "text/plain": [
       "r**2"
      ]
     },
     "metadata": {},
     "output_type": "display_data"
    }
   ],
   "source": [
    "square_loss=(y-yhat)**2\n",
    "display(square_loss,square_loss.subs(r_eq,r))"
   ]
  },
  {
   "cell_type": "code",
   "execution_count": 4,
   "metadata": {},
   "outputs": [
    {
     "data": {
      "text/latex": [
       "$\\displaystyle - 2 y + 2 \\hat{y}$"
      ],
      "text/plain": [
       "-2*y + 2*yhat"
      ]
     },
     "metadata": {},
     "output_type": "display_data"
    },
    {
     "data": {
      "text/latex": [
       "$\\displaystyle - 2 y + 2 \\hat{y}$"
      ],
      "text/plain": [
       "-2*y + 2*yhat"
      ]
     },
     "metadata": {},
     "output_type": "display_data"
    }
   ],
   "source": [
    "first_derv = sym.diff(square_loss,yhat).simplify()\n",
    "display(first_derv,first_derv.simplify().subs(r_eq,r))"
   ]
  },
  {
   "cell_type": "code",
   "execution_count": 5,
   "metadata": {},
   "outputs": [
    {
     "data": {
      "text/latex": [
       "$\\displaystyle - 2 r$"
      ],
      "text/plain": [
       "-2*r"
      ]
     },
     "execution_count": 5,
     "metadata": {},
     "output_type": "execute_result"
    }
   ],
   "source": [
    "-2*r"
   ]
  },
  {
   "cell_type": "code",
   "execution_count": 6,
   "metadata": {},
   "outputs": [
    {
     "data": {
      "text/latex": [
       "$\\displaystyle 2$"
      ],
      "text/plain": [
       "2"
      ]
     },
     "execution_count": 6,
     "metadata": {},
     "output_type": "execute_result"
    }
   ],
   "source": [
    "scnd_derv= sym.diff(first_derv,yhat).simplify()\n",
    "scnd_derv"
   ]
  },
  {
   "cell_type": "markdown",
   "metadata": {},
   "source": [
    "# 2. Normal Loss\n",
    "## 2.1 Logliklihood function"
   ]
  },
  {
   "cell_type": "code",
   "execution_count": 7,
   "metadata": {},
   "outputs": [],
   "source": [
    "sigma, pi = sym.symbols('sigma pi')"
   ]
  },
  {
   "cell_type": "markdown",
   "metadata": {},
   "source": [
    "Probability density function (PDF) of the normal distribution ${p}(y; \\hat{y},k) = \\frac{1}{\\sqrt {2 \\pi} \\sigma}e^{-\\frac {(y-\\hat{y}) ^{2}}{2 \\sigma ^{2}}$.\n",
    "See Bolker, B. M. (2008). Negative Binomial. In Ecological Models in R (pp. 129–130). Princeton University Press."
   ]
  },
  {
   "cell_type": "code",
   "execution_count": 9,
   "metadata": {},
   "outputs": [
    {
     "data": {
      "text/latex": [
       "$\\displaystyle \\frac{\\sqrt{2} e^{- \\frac{\\left(y - \\hat{y}\\right)^{2}}{2 \\sigma^{2}}}}{2 \\sqrt{\\pi} \\sigma}$"
      ],
      "text/plain": [
       "sqrt(2)*exp(-(y - yhat)**2/(2*sigma**2))/(2*sqrt(pi)*sigma)"
      ]
     },
     "metadata": {},
     "output_type": "display_data"
    },
    {
     "data": {
      "text/latex": [
       "$\\displaystyle \\frac{\\sqrt{2} e^{- \\frac{r^{2}}{2 \\sigma^{2}}}}{2 \\sqrt{\\pi} \\sigma}$"
      ],
      "text/plain": [
       "sqrt(2)*exp(-r**2/(2*sigma**2))/(2*sqrt(pi)*sigma)"
      ]
     },
     "metadata": {},
     "output_type": "display_data"
    }
   ],
   "source": [
    "normpdf=1/(sym.sqrt(2*pi)*sigma) * sym.E**(-((y-yhat)**2/(2*sigma**2)))\n",
    "display(normpdf,normpdf.subs(r_eq,r))"
   ]
  },
  {
   "cell_type": "code",
   "execution_count": 10,
   "metadata": {},
   "outputs": [
    {
     "data": {
      "text/plain": [
       "(1/2, sqrt(2), 1/sqrt(pi), 1/sigma, exp(-(y - yhat)**2/(2*sigma**2)))"
      ]
     },
     "execution_count": 10,
     "metadata": {},
     "output_type": "execute_result"
    }
   ],
   "source": [
    "normpdf.args"
   ]
  },
  {
   "cell_type": "code",
   "execution_count": 11,
   "metadata": {
    "scrolled": true
   },
   "outputs": [
    {
     "data": {
      "text/plain": [
       "[-log(2),\n",
       " log(2)/2,\n",
       " -log(pi)/2,\n",
       " log(1/sigma),\n",
       " log(exp(-(y - yhat)**2/(2*sigma**2)))]"
      ]
     },
     "execution_count": 11,
     "metadata": {},
     "output_type": "execute_result"
    }
   ],
   "source": [
    "#Our loss function is the negative of the logliklihood.\n",
    "loglike_args= []\n",
    "for arg in normpdf.args:\n",
    "    loglike_args.append(sym.ln(arg).simplify())\n",
    "    \n",
    "loglike_args"
   ]
  },
  {
   "cell_type": "code",
   "execution_count": 12,
   "metadata": {},
   "outputs": [
    {
     "data": {
      "text/latex": [
       "$\\displaystyle - \\frac{r^{2}}{2 \\sigma^{2}}$"
      ],
      "text/plain": [
       "-r**2/(2*sigma**2)"
      ]
     },
     "execution_count": 12,
     "metadata": {},
     "output_type": "execute_result"
    }
   ],
   "source": [
    "logpdf_p1= loglike_args[0]\n",
    "logpdf_p2= loglike_args[1]\n",
    "logpdf_p3= loglike_args[2]\n",
    "logpdf_p4= loglike_args[3]\n",
    "logpdf_p5= -(y - yhat)**2/(2*sigma**2)\n",
    "# logpdf_p5 has residual in:\n",
    "logpdf_p5_alt= -(r)**2/(2*sigma**2)\n",
    "logpdf_p5_alt"
   ]
  },
  {
   "cell_type": "code",
   "execution_count": 13,
   "metadata": {},
   "outputs": [
    {
     "data": {
      "text/latex": [
       "$\\displaystyle - \\frac{\\log{\\left(\\pi \\right)}}{2} + \\log{\\left(\\frac{1}{\\sigma} \\right)} - \\frac{\\log{\\left(2 \\right)}}{2} - \\frac{\\left(y - \\hat{y}\\right)^{2}}{2 \\sigma^{2}}$"
      ],
      "text/plain": [
       "-log(pi)/2 + log(1/sigma) - log(2)/2 - (y - yhat)**2/(2*sigma**2)"
      ]
     },
     "metadata": {},
     "output_type": "display_data"
    },
    {
     "data": {
      "text/latex": [
       "$\\displaystyle - \\frac{r^{2}}{2 \\sigma^{2}} - \\frac{\\log{\\left(\\pi \\right)}}{2} + \\log{\\left(\\frac{1}{\\sigma} \\right)} - \\frac{\\log{\\left(2 \\right)}}{2}$"
      ],
      "text/plain": [
       "-r**2/(2*sigma**2) - log(pi)/2 + log(1/sigma) - log(2)/2"
      ]
     },
     "metadata": {},
     "output_type": "display_data"
    }
   ],
   "source": [
    "logpdf = logpdf_p1+logpdf_p2+logpdf_p3+logpdf_p4+logpdf_p5\n",
    "logpdf_alt = logpdf_p1+logpdf_p2+logpdf_p3+logpdf_p4+logpdf_p5_alt\n",
    "display(logpdf,logpdf_alt)"
   ]
  },
  {
   "cell_type": "code",
   "execution_count": 14,
   "metadata": {},
   "outputs": [
    {
     "data": {
      "text/latex": [
       "$\\displaystyle \\frac{\\log{\\left(\\pi \\right)}}{2} - \\log{\\left(\\frac{1}{\\sigma} \\right)} + \\frac{\\log{\\left(2 \\right)}}{2} + \\frac{\\left(y - \\hat{y}\\right)^{2}}{2 \\sigma^{2}}$"
      ],
      "text/plain": [
       "log(pi)/2 - log(1/sigma) + log(2)/2 + (y - yhat)**2/(2*sigma**2)"
      ]
     },
     "execution_count": 14,
     "metadata": {},
     "output_type": "execute_result"
    }
   ],
   "source": [
    "normloss=-logpdf\n",
    "normloss"
   ]
  },
  {
   "cell_type": "code",
   "execution_count": 15,
   "metadata": {},
   "outputs": [
    {
     "data": {
      "text/latex": [
       "$\\displaystyle \\frac{- y + \\hat{y}}{\\sigma^{2}}$"
      ],
      "text/plain": [
       "(-y + yhat)/sigma**2"
      ]
     },
     "metadata": {},
     "output_type": "display_data"
    },
    {
     "data": {
      "text/latex": [
       "$\\displaystyle - \\frac{r}{\\sigma^{2}}$"
      ],
      "text/plain": [
       "-r/sigma**2"
      ]
     },
     "metadata": {},
     "output_type": "display_data"
    }
   ],
   "source": [
    "first_derv = sym.diff(normloss,yhat).simplify()\n",
    "display(first_derv,first_derv.subs(r_eq,r))"
   ]
  },
  {
   "cell_type": "code",
   "execution_count": 16,
   "metadata": {},
   "outputs": [
    {
     "data": {
      "text/latex": [
       "$\\displaystyle \\frac{1}{\\sigma^{2}}$"
      ],
      "text/plain": [
       "sigma**(-2)"
      ]
     },
     "execution_count": 16,
     "metadata": {},
     "output_type": "execute_result"
    }
   ],
   "source": [
    "scnd_derv = sym.diff(first_derv,yhat).simplify()\n",
    "scnd_derv"
   ]
  },
  {
   "cell_type": "markdown",
   "metadata": {},
   "source": [
    "# 3.  Gamma loss class in terms of mean and shape"
   ]
  },
  {
   "cell_type": "code",
   "execution_count": 17,
   "metadata": {},
   "outputs": [],
   "source": [
    " a, s, y, yhat= sym.symbols('a s y yhat')"
   ]
  },
  {
   "cell_type": "markdown",
   "metadata": {},
   "source": [
    "Probability density function (PDF) of the gamma distribution is $\\frac{1}{s^a\\Gamma(a)}x^{a-1}e^{-x/s}$. However we need this in terms of mean (here $\\mu$), luckily we can subistitute in $s=\\frac{\\mu}{a}$ to get our likelihood function. But lets start with a log tranformation of the pdf.\n",
    "\n",
    "See Bolker, B. M. (2008). Gamma. In Ecological Models in R (pp. 131–133). Princeton University Press."
   ]
  },
  {
   "cell_type": "code",
   "execution_count": 18,
   "metadata": {},
   "outputs": [
    {
     "data": {
      "text/latex": [
       "$\\displaystyle \\frac{s^{- a} y^{a - 1} e^{- \\frac{y}{s}}}{\\Gamma\\left(a\\right)}$"
      ],
      "text/plain": [
       "s**(-a)*y**(a - 1)*exp(-y/s)/gamma(a)"
      ]
     },
     "execution_count": 18,
     "metadata": {},
     "output_type": "execute_result"
    }
   ],
   "source": [
    "pdf_gamma = 1/(s**a*sym.gamma(a))*(y**(a-1)*sym.E**(-y/s))\n",
    "pdf_gamma"
   ]
  },
  {
   "cell_type": "code",
   "execution_count": 19,
   "metadata": {},
   "outputs": [
    {
     "data": {
      "text/plain": [
       "(s**(-a), y**(a - 1), 1/gamma(a), exp(-y/s))"
      ]
     },
     "execution_count": 19,
     "metadata": {},
     "output_type": "execute_result"
    }
   ],
   "source": [
    "pdf_gamma.args"
   ]
  },
  {
   "cell_type": "code",
   "execution_count": 20,
   "metadata": {},
   "outputs": [
    {
     "data": {
      "text/latex": [
       "$\\displaystyle - a \\log{\\left(s \\right)} + \\left(a - 1\\right) \\log{\\left(y \\right)} - \\log{\\left(\\Gamma\\left(a\\right) \\right)} - \\frac{y}{s}$"
      ],
      "text/plain": [
       "-a*log(s) + (a - 1)*log(y) - log(gamma(a)) - y/s"
      ]
     },
     "execution_count": 20,
     "metadata": {},
     "output_type": "execute_result"
    }
   ],
   "source": [
    "log_pdf_gamma_p1 = -a*sym.ln(s)\n",
    "log_pdf_gamma_p2 = (a-1)*sym.ln(y)\n",
    "log_pdf_gamma_p3 = -sym.ln(sym.gamma(a))\n",
    "log_pdf_gamma_p4 = -y/s\n",
    "log_pdf_gamma= log_pdf_gamma_p1+log_pdf_gamma_p2+log_pdf_gamma_p3+log_pdf_gamma_p4\n",
    "log_pdf_gamma"
   ]
  },
  {
   "cell_type": "code",
   "execution_count": 21,
   "metadata": {},
   "outputs": [
    {
     "data": {
      "text/latex": [
       "$\\displaystyle - \\frac{a y}{\\hat{y}} - a \\log{\\left(\\frac{\\hat{y}}{a} \\right)} + \\left(a - 1\\right) \\log{\\left(y \\right)} - \\log{\\left(\\Gamma\\left(a\\right) \\right)}$"
      ],
      "text/plain": [
       "-a*y/yhat - a*log(yhat/a) + (a - 1)*log(y) - log(gamma(a))"
      ]
     },
     "execution_count": 21,
     "metadata": {},
     "output_type": "execute_result"
    }
   ],
   "source": [
    "s_in_terms_mu_a = yhat/a\n",
    "log_pdf_mu_a_gamma = log_pdf_gamma.subs(s,s_in_terms_mu_a) \n",
    "log_pdf_mu_a_gamma"
   ]
  },
  {
   "cell_type": "code",
   "execution_count": 22,
   "metadata": {},
   "outputs": [
    {
     "data": {
      "text/plain": [
       "(-log(gamma(a)), (a - 1)*log(y), -a*log(yhat/a), -a*y/yhat)"
      ]
     },
     "execution_count": 22,
     "metadata": {},
     "output_type": "execute_result"
    }
   ],
   "source": [
    "log_pdf_mu_a_gamma.args"
   ]
  },
  {
   "cell_type": "code",
   "execution_count": 23,
   "metadata": {},
   "outputs": [
    {
     "name": "stdout",
     "output_type": "stream",
     "text": [
      "- \\frac{a y}{\\hat{y}} - a \\log{\\left(\\frac{\\hat{y}}{a} \\right)} + \\left(a - 1\\right) \\log{\\left(y \\right)} - \\log{\\left(\\Gamma\\left(a\\right) \\right)}\n"
     ]
    }
   ],
   "source": [
    "sym.print_latex(log_pdf_mu_a_gamma)"
   ]
  },
  {
   "cell_type": "code",
   "execution_count": 24,
   "metadata": {},
   "outputs": [],
   "source": [
    "from scipy.special import gamma, factorial, gammaln\n",
    "def gamma_mu_shape_logpdf(x, mu,shape):\n",
    "    '''\n",
    "    The log probability density function (pdf) of gamma distrbution in terms of mean and shape. \n",
    "\n",
    "    Parameters\n",
    "    ----------\n",
    "    x: array like observation.\n",
    "    mu: mean or prediction.\n",
    "    v: variance.\n",
    "    See Bolker, B. M. (2008). Gamma. In Ecological Models in R (pp. 131–133). Princeton University Press.\n",
    "\n",
    "\n",
    "    Returns\n",
    "    -------\n",
    "    log pdf, :math:`\\\\mathcal\\\\ln({p}(x; \\\\mu,a)) = - a \\log{\\left(\\frac{\\mu}{a} \\right)} - \\frac{a x}{\\mu} + \\left(a - 1\\right) \\log{\\left(x \\right)} - \\log{\\left(\\Gamma\\left(a\\right) \\right)}`\n",
    "`\n",
    "\n",
    "    '''\n",
    "\n",
    "    logpdf_p1= -gammaln(shape)\n",
    "    logpdf_p2= (shape - 1)*np.log(x)\n",
    "    logpdf_p3= -shape*np.log(mu/shape)\n",
    "    logpdf_p4= -shape*x/mu\n",
    "    logpdf = logpdf_p1+logpdf_p2+logpdf_p3+logpdf_p4\n",
    "    return logpdf"
   ]
  },
  {
   "cell_type": "code",
   "execution_count": 25,
   "metadata": {},
   "outputs": [
    {
     "data": {
      "text/latex": [
       "$\\displaystyle \\frac{a y}{\\hat{y}} + a \\log{\\left(\\frac{\\hat{y}}{a} \\right)} - \\left(a - 1\\right) \\log{\\left(y \\right)} + \\log{\\left(\\Gamma\\left(a\\right) \\right)}$"
      ],
      "text/plain": [
       "a*y/yhat + a*log(yhat/a) - (a - 1)*log(y) + log(gamma(a))"
      ]
     },
     "execution_count": 25,
     "metadata": {},
     "output_type": "execute_result"
    }
   ],
   "source": [
    "negloglikli_gamma_mu_a = -log_pdf_mu_a_gamma\n",
    "negloglikli_gamma_mu_a"
   ]
  },
  {
   "cell_type": "markdown",
   "metadata": {},
   "source": [
    "1st derivative of -Loglikelihood (gamma loss) with respect to $\\mu$."
   ]
  },
  {
   "cell_type": "code",
   "execution_count": 26,
   "metadata": {
    "scrolled": true
   },
   "outputs": [
    {
     "data": {
      "text/latex": [
       "$\\displaystyle - \\frac{a y}{\\hat{y}^{2}} + \\frac{a}{\\hat{y}}$"
      ],
      "text/plain": [
       "-a*y/yhat**2 + a/yhat"
      ]
     },
     "metadata": {},
     "output_type": "display_data"
    },
    {
     "data": {
      "text/latex": [
       "$\\displaystyle \\frac{a \\left(- y + \\hat{y}\\right)}{\\hat{y}^{2}}$"
      ],
      "text/plain": [
       "a*(-y + yhat)/yhat**2"
      ]
     },
     "metadata": {},
     "output_type": "display_data"
    }
   ],
   "source": [
    "gammafirstderv= sym.diff(negloglikli_gamma_mu_a,yhat)\n",
    "display(gammafirstderv,gammafirstderv.simplify())"
   ]
  },
  {
   "cell_type": "code",
   "execution_count": 27,
   "metadata": {},
   "outputs": [
    {
     "data": {
      "text/latex": [
       "$\\displaystyle - \\frac{a r}{\\hat{y}^{2}}$"
      ],
      "text/plain": [
       "-a*r/yhat**2"
      ]
     },
     "execution_count": 27,
     "metadata": {},
     "output_type": "execute_result"
    }
   ],
   "source": [
    "gammafirstderv=gammafirstderv.simplify()\n",
    "gammafirstderv.subs(r_eq,r)"
   ]
  },
  {
   "cell_type": "code",
   "execution_count": 28,
   "metadata": {},
   "outputs": [
    {
     "name": "stdout",
     "output_type": "stream",
     "text": [
      "- \\frac{a \\left(y - \\hat{y}\\right)}{\\hat{y}^{2}}\n"
     ]
    }
   ],
   "source": [
    "sym.print_latex(gammafirstderv.simplify())"
   ]
  },
  {
   "cell_type": "markdown",
   "metadata": {},
   "source": [
    "2nd derivative of -Loglikelihood (gamma loss) with respect to $\\mu$.: "
   ]
  },
  {
   "cell_type": "code",
   "execution_count": 29,
   "metadata": {},
   "outputs": [
    {
     "data": {
      "text/latex": [
       "$\\displaystyle \\frac{a \\left(2 y - \\hat{y}\\right)}{\\hat{y}^{3}}$"
      ],
      "text/plain": [
       "a*(2*y - yhat)/yhat**3"
      ]
     },
     "metadata": {},
     "output_type": "display_data"
    },
    {
     "data": {
      "text/latex": [
       "$\\displaystyle \\frac{a \\left(2 y - \\hat{y}\\right)}{\\hat{y}^{3}}$"
      ],
      "text/plain": [
       "a*(2*y - yhat)/yhat**3"
      ]
     },
     "metadata": {},
     "output_type": "display_data"
    }
   ],
   "source": [
    "gammasecderv = sym.diff(gammafirstderv,yhat).simplify()\n",
    "display(gammasecderv,gammasecderv.simplify())"
   ]
  },
  {
   "cell_type": "code",
   "execution_count": 30,
   "metadata": {},
   "outputs": [
    {
     "data": {
      "text/latex": [
       "$\\displaystyle \\frac{a \\left(2 y - \\hat{y}\\right)}{\\hat{y}^{3}}$"
      ],
      "text/plain": [
       "a*(2*y - yhat)/yhat**3"
      ]
     },
     "execution_count": 30,
     "metadata": {},
     "output_type": "execute_result"
    }
   ],
   "source": [
    "gammasecderv.subs(r_eq,r)"
   ]
  },
  {
   "cell_type": "code",
   "execution_count": 31,
   "metadata": {},
   "outputs": [
    {
     "data": {
      "text/latex": [
       "$\\displaystyle \\frac{a \\left(r + y\\right)}{y^{3}}$"
      ],
      "text/plain": [
       "a*(r + y)/y**3"
      ]
     },
     "execution_count": 31,
     "metadata": {},
     "output_type": "execute_result"
    }
   ],
   "source": [
    "a*(y+r)/y**3"
   ]
  },
  {
   "cell_type": "code",
   "execution_count": 32,
   "metadata": {},
   "outputs": [
    {
     "name": "stdout",
     "output_type": "stream",
     "text": [
      "\\frac{a \\left(2 y - \\hat{y}\\right)}{\\hat{y}^{3}}\n"
     ]
    }
   ],
   "source": [
    "sym.print_latex(gammasecderv)"
   ]
  },
  {
   "cell_type": "markdown",
   "metadata": {},
   "source": [
    "# 4. Poisson"
   ]
  },
  {
   "cell_type": "markdown",
   "metadata": {},
   "source": [
    "Probability density function (PDF) of the normal distribution ${p}(n;\\lambda) = \\frac{e^{-\\lambda}\\lambda^n}{n!}$.\n",
    "See Bolker, B. M. (2008). Negative Binomial. In Ecological Models in R (pp. 1222-123). Princeton University Press."
   ]
  },
  {
   "cell_type": "code",
   "execution_count": 33,
   "metadata": {},
   "outputs": [
    {
     "data": {
      "text/latex": [
       "$\\displaystyle \\frac{\\hat{y}^{y} e^{- \\hat{y}}}{y!}$"
      ],
      "text/plain": [
       "yhat**y*exp(-yhat)/factorial(y)"
      ]
     },
     "execution_count": 33,
     "metadata": {},
     "output_type": "execute_result"
    }
   ],
   "source": [
    "poissonpmf = (sym.E**-yhat*yhat**y)/sym.factorial(y)\n",
    "poissonpmf "
   ]
  },
  {
   "cell_type": "code",
   "execution_count": 34,
   "metadata": {},
   "outputs": [
    {
     "data": {
      "text/plain": [
       "(yhat**y, 1/factorial(y), exp(-yhat))"
      ]
     },
     "execution_count": 34,
     "metadata": {},
     "output_type": "execute_result"
    }
   ],
   "source": [
    "poissonpmf.args"
   ]
  },
  {
   "cell_type": "code",
   "execution_count": 35,
   "metadata": {},
   "outputs": [
    {
     "data": {
      "text/latex": [
       "$\\displaystyle - \\hat{y} + \\log{\\left(\\hat{y}^{y} \\right)} - y!$"
      ],
      "text/plain": [
       "-yhat + log(yhat**y) - factorial(y)"
      ]
     },
     "execution_count": 35,
     "metadata": {},
     "output_type": "execute_result"
    }
   ],
   "source": [
    "logpmf_p1 = sym.ln(yhat**y)\n",
    "logpmf_p2 = -yhat\n",
    "logpmf_p3 = -sym.factorial(y)\n",
    "logpmf = logpmf_p1+logpmf_p2+logpmf_p3\n",
    "logpmf"
   ]
  },
  {
   "cell_type": "code",
   "execution_count": 36,
   "metadata": {},
   "outputs": [],
   "source": [
    "possonloss=-logpmf"
   ]
  },
  {
   "cell_type": "code",
   "execution_count": 37,
   "metadata": {},
   "outputs": [
    {
     "data": {
      "text/latex": [
       "$\\displaystyle - \\frac{y}{\\hat{y}} + 1$"
      ],
      "text/plain": [
       "-y/yhat + 1"
      ]
     },
     "metadata": {},
     "output_type": "display_data"
    },
    {
     "data": {
      "text/latex": [
       "$\\displaystyle \\frac{- y + \\hat{y}}{\\hat{y}}$"
      ],
      "text/plain": [
       "(-y + yhat)/yhat"
      ]
     },
     "metadata": {},
     "output_type": "display_data"
    }
   ],
   "source": [
    "possonfirstderv= sym.diff(possonloss,yhat)\n",
    "display(possonfirstderv,possonfirstderv.simplify())"
   ]
  },
  {
   "cell_type": "code",
   "execution_count": 38,
   "metadata": {},
   "outputs": [
    {
     "data": {
      "text/latex": [
       "$\\displaystyle - \\frac{r}{\\hat{y}}$"
      ],
      "text/plain": [
       "-r/yhat"
      ]
     },
     "execution_count": 38,
     "metadata": {},
     "output_type": "execute_result"
    }
   ],
   "source": [
    "possonfirstderv.simplify().subs(r_eq,r)"
   ]
  },
  {
   "cell_type": "code",
   "execution_count": 39,
   "metadata": {},
   "outputs": [
    {
     "data": {
      "text/latex": [
       "$\\displaystyle \\frac{y}{\\hat{y}^{2}}$"
      ],
      "text/plain": [
       "y/yhat**2"
      ]
     },
     "metadata": {},
     "output_type": "display_data"
    },
    {
     "data": {
      "text/latex": [
       "$\\displaystyle \\frac{y}{\\hat{y}^{2}}$"
      ],
      "text/plain": [
       "y/yhat**2"
      ]
     },
     "metadata": {},
     "output_type": "display_data"
    }
   ],
   "source": [
    "possonsecderv= sym.diff(possonfirstderv,yhat)\n",
    "display(possonsecderv,possonsecderv.simplify())"
   ]
  },
  {
   "cell_type": "markdown",
   "metadata": {},
   "source": [
    "# 5. Negative binomial loss class ##"
   ]
  },
  {
   "cell_type": "code",
   "execution_count": 40,
   "metadata": {},
   "outputs": [],
   "source": [
    "k = sym.symbols('k')"
   ]
  },
  {
   "cell_type": "markdown",
   "metadata": {},
   "source": [
    "Probability mass function (PMF) of negative binomial distribution ${p}(x; \\mu,k) = \\frac{\\Gamma \\left(k+x\\right)}{\\Gamma \\left(k\\right)x!}(\\frac{k}{k+\\mu})^{k}(\\frac{\\mu}{k+\\mu})^{x}$ \n",
    "This definition of the negative binomial distribution is often refered to as negative binomial 2. This parameterisation takes the mean (usually refered as $\\mu$, but in pygom $\\hat{y}$ as we are looking at a prediction) and $k$ (an overdispersion parameter). The variance = $\\mu+\\frac{\\mu^2}{k}$, some notation uses $\\alpha$, ($k=\\alpha^{-1}$). \n",
    "See Bolker, B. M. (2008). Negative Binomial. In Ecological Models in R (pp. 124–126). Princeton University Press."
   ]
  },
  {
   "cell_type": "code",
   "execution_count": 41,
   "metadata": {},
   "outputs": [
    {
     "data": {
      "text/latex": [
       "$\\displaystyle \\frac{\\left(\\frac{k}{k + \\hat{y}}\\right)^{k} \\left(\\frac{\\hat{y}}{k + \\hat{y}}\\right)^{y} \\Gamma\\left(k + y\\right)}{y! \\Gamma\\left(k\\right)}$"
      ],
      "text/plain": [
       "(k/(k + yhat))**k*(yhat/(k + yhat))**y*gamma(k + y)/(factorial(y)*gamma(k))"
      ]
     },
     "execution_count": 41,
     "metadata": {},
     "output_type": "execute_result"
    }
   ],
   "source": [
    "nbpmf = (sym.gamma(k+y)/(sym.gamma(k)*sym.factorial(y)))*(k/(k+yhat))**k*(yhat/(k+yhat))**y\n",
    "nbpmf"
   ]
  },
  {
   "cell_type": "markdown",
   "metadata": {},
   "source": [
    "Due to the this PMF containing gamma functions and a factorial it is easier to calculate the sum of it's logged terms than to log it as one object (you end up with infinities otherwise).   "
   ]
  },
  {
   "cell_type": "code",
   "execution_count": 42,
   "metadata": {},
   "outputs": [
    {
     "data": {
      "text/plain": [
       "((k/(k + yhat))**k,\n",
       " (yhat/(k + yhat))**y,\n",
       " 1/factorial(y),\n",
       " 1/gamma(k),\n",
       " gamma(k + y))"
      ]
     },
     "execution_count": 42,
     "metadata": {},
     "output_type": "execute_result"
    }
   ],
   "source": [
    "nbpmf.args"
   ]
  },
  {
   "cell_type": "code",
   "execution_count": 43,
   "metadata": {},
   "outputs": [
    {
     "data": {
      "text/latex": [
       "$\\displaystyle k \\left(\\log{\\left(k \\right)} - \\log{\\left(k + \\hat{y} \\right)}\\right) + y \\left(\\log{\\left(\\hat{y} \\right)} - \\log{\\left(k + \\hat{y} \\right)}\\right) - \\log{\\left(y! \\right)} - \\log{\\left(\\Gamma\\left(k\\right) \\right)} + \\Gamma\\left(k + y\\right)$"
      ],
      "text/plain": [
       "k*(log(k) - log(k + yhat)) + y*(log(yhat) - log(k + yhat)) - log(factorial(y)) - log(gamma(k)) + gamma(k + y)"
      ]
     },
     "execution_count": 43,
     "metadata": {},
     "output_type": "execute_result"
    }
   ],
   "source": [
    "logpmf_p1= k*(sym.ln(k)-sym.ln(k+yhat))\n",
    "logpmf_p2= y*(sym.ln(yhat)-sym.ln(k+yhat))\n",
    "logpmf_p3= -sym.ln(sym.factorial(y))\n",
    "logpmf_p4= -sym.ln(sym.gamma(k))\n",
    "logpmf_p5= sym.gamma(k+y)\n",
    "logpmf = logpmf_p1+logpmf_p2+logpmf_p3+logpmf_p4+logpmf_p5\n",
    "logpmf"
   ]
  },
  {
   "cell_type": "code",
   "execution_count": 44,
   "metadata": {},
   "outputs": [
    {
     "data": {
      "text/plain": [
       "(-log(factorial(y)),\n",
       " -log(gamma(k)),\n",
       " k*(log(k) - log(k + yhat)),\n",
       " y*(log(yhat) - log(k + yhat)),\n",
       " gamma(k + y))"
      ]
     },
     "execution_count": 44,
     "metadata": {},
     "output_type": "execute_result"
    }
   ],
   "source": [
    "logpmf.args"
   ]
  },
  {
   "cell_type": "code",
   "execution_count": 45,
   "metadata": {},
   "outputs": [],
   "source": [
    "from scipy.special import gammaln\n",
    "def nb2logpmf(x, mu,k):\n",
    "    '''\n",
    "    The log probability mass function (pmf) of Negative Binomial 2 distribution. \n",
    "\n",
    "    Parameters\n",
    "    ----------\n",
    "    x: array like observation.\n",
    "    mu: mean or prediction.\n",
    "    k: overdispersion parameter (variance = mean(1+mean/k)). Note some notation uses $\\alpha$, ($k=\\alpha^{-1}$).\n",
    "    See Bolker, B. M. (2008). Negative Binomial. In Ecological Models in R (pp. 124–126). Princeton University Press.\n",
    "\n",
    "    Returns\n",
    "    -------\n",
    "    log pmf:\n",
    "    math:`\\\\mathcal\\\\ln({p}(x; \\\\mu,k)) = \\\\ln(\\\\frac{\\\\Gamma \\\\left(k+x\\\\right)}{\\\\Gamma \\\\left(k\\\\right)x!}(\\\\frac{k}{k+\\\\mu})^{k}(\\\\frac{\\\\mu}{k+\\\\mu})^{x})`\n",
    "\n",
    "    '''\n",
    "    # note that we input k the overdispersion parameter here\n",
    "\n",
    "\n",
    "    logpmf_p1= -gammaln(x+1) \n",
    "    logpmf_p2= -gammaln(k)\n",
    "    logpmf_p3= k*(np.log(k) - np.log(k + mu)) \n",
    "    logpmf_p4= x*(np.log(mu) - np.log(k + mu))\n",
    "    logpmf_p5= gammaln(k+x)\n",
    "    logpmf = logpmf_p1+logpmf_p2+logpmf_p3+logpmf_p4+logpmf_p5\n",
    "    return logpmf"
   ]
  },
  {
   "cell_type": "markdown",
   "metadata": {},
   "source": [
    "Our loss function is the negative of the logliklihood above."
   ]
  },
  {
   "cell_type": "code",
   "execution_count": 46,
   "metadata": {},
   "outputs": [],
   "source": [
    "negloglikli=-logpmf"
   ]
  },
  {
   "cell_type": "markdown",
   "metadata": {},
   "source": [
    "1st derivative of -Loglikelihood of negative binomial loss with respect to $\\mu$."
   ]
  },
  {
   "cell_type": "code",
   "execution_count": 47,
   "metadata": {},
   "outputs": [
    {
     "data": {
      "text/latex": [
       "$\\displaystyle \\frac{k \\left(- y + \\hat{y}\\right)}{\\hat{y} \\left(k + \\hat{y}\\right)}$"
      ],
      "text/plain": [
       "k*(-y + yhat)/(yhat*(k + yhat))"
      ]
     },
     "execution_count": 47,
     "metadata": {},
     "output_type": "execute_result"
    }
   ],
   "source": [
    "nbfirstderv= sym.diff(negloglikli,yhat).simplify()\n",
    "nbfirstderv"
   ]
  },
  {
   "cell_type": "code",
   "execution_count": 48,
   "metadata": {},
   "outputs": [
    {
     "data": {
      "text/latex": [
       "$\\displaystyle - \\frac{k r}{\\hat{y} \\left(k + \\hat{y}\\right)}$"
      ],
      "text/plain": [
       "-k*r/(yhat*(k + yhat))"
      ]
     },
     "execution_count": 48,
     "metadata": {},
     "output_type": "execute_result"
    }
   ],
   "source": [
    "nbfirstderv.subs(r_eq,r)"
   ]
  },
  {
   "cell_type": "markdown",
   "metadata": {},
   "source": [
    "1st derivative of -Loglikelihood of negative binomial loss with respect to yhat: \n",
    "$\\frac{k(\\mu-y)}{\\mu(k + \\mu)} $"
   ]
  },
  {
   "cell_type": "code",
   "execution_count": 49,
   "metadata": {},
   "outputs": [
    {
     "data": {
      "text/latex": [
       "$\\displaystyle \\frac{k \\left(\\hat{y} \\left(k + \\hat{y}\\right) + \\hat{y} \\left(y - \\hat{y}\\right) + \\left(k + \\hat{y}\\right) \\left(y - \\hat{y}\\right)\\right)}{\\hat{y}^{2} \\left(k + \\hat{y}\\right)^{2}}$"
      ],
      "text/plain": [
       "k*(yhat*(k + yhat) + yhat*(y - yhat) + (k + yhat)*(y - yhat))/(yhat**2*(k + yhat)**2)"
      ]
     },
     "execution_count": 49,
     "metadata": {},
     "output_type": "execute_result"
    }
   ],
   "source": [
    "nbsecderv = sym.diff(nbfirstderv,yhat).simplify()\n",
    "nbsecderv.simplify()"
   ]
  },
  {
   "cell_type": "markdown",
   "metadata": {},
   "source": [
    "2nd derivative of -Loglikelihood of negative binomial loss with respect to yhat: \n",
    "$\\frac{k(\\mu(k + \\mu) + \\mu(y -\\mu) + (k + \\mu)(y - \\mu)}{\\mu^{2}(k + \\mu)^{2}} $"
   ]
  },
  {
   "cell_type": "code",
   "execution_count": 50,
   "metadata": {},
   "outputs": [
    {
     "data": {
      "text/latex": [
       "$\\displaystyle \\frac{k \\left(r \\hat{y} + r \\left(k + \\hat{y}\\right) + \\hat{y} \\left(k + \\hat{y}\\right)\\right)}{\\hat{y}^{2} \\left(k + \\hat{y}\\right)^{2}}$"
      ],
      "text/plain": [
       "k*(r*yhat + r*(k + yhat) + yhat*(k + yhat))/(yhat**2*(k + yhat)**2)"
      ]
     },
     "execution_count": 50,
     "metadata": {},
     "output_type": "execute_result"
    }
   ],
   "source": [
    "nbsecderv_alt=nbsecderv.simplify().subs(r_eq,r)\n",
    "nbsecderv_alt"
   ]
  },
  {
   "cell_type": "code",
   "execution_count": 51,
   "metadata": {},
   "outputs": [
    {
     "data": {
      "text/plain": [
       "(k, yhat**(-2), (k + yhat)**(-2), r*yhat + r*(k + yhat) + yhat*(k + yhat))"
      ]
     },
     "execution_count": 51,
     "metadata": {},
     "output_type": "execute_result"
    }
   ],
   "source": [
    "nbsecderv_alt.args"
   ]
  },
  {
   "cell_type": "code",
   "execution_count": null,
   "metadata": {},
   "outputs": [],
   "source": []
  }
 ],
 "metadata": {
  "kernelspec": {
   "display_name": "Python 3",
   "language": "python",
   "name": "python3"
  },
  "language_info": {
   "codemirror_mode": {
    "name": "ipython",
    "version": 3
   },
   "file_extension": ".py",
   "mimetype": "text/x-python",
   "name": "python",
   "nbconvert_exporter": "python",
   "pygments_lexer": "ipython3",
   "version": "3.8.1"
  }
 },
 "nbformat": 4,
 "nbformat_minor": 4
}
