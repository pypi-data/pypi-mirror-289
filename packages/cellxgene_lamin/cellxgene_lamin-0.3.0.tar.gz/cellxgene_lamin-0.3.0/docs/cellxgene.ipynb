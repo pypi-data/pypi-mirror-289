{
 "cells": [
  {
   "cell_type": "markdown",
   "id": "c71502b7",
   "metadata": {},
   "source": [
    "[![hub](https://img.shields.io/badge/Source%20%26%20report%20on%20LaminHub-mediumseagreen)](https://lamin.ai/laminlabs/cellxgene/transform/5FUyJ6RkVk0Dz8)"
   ]
  },
  {
   "cell_type": "markdown",
   "id": "7f26a335-cf1c-4e69-be3b-0c26b154606a",
   "metadata": {},
   "source": [
    "# CELLxGENE: scRNA-seq"
   ]
  },
  {
   "cell_type": "markdown",
   "id": "47b1fa7f",
   "metadata": {},
   "source": [
    "[CZ CELLxGENE](https://cellxgene.cziscience.com/) hosts the globally largest standardized collection of scRNA-seq datasets.\n",
    "\n",
    "LaminDB makes it easy to query the CELLxGENE data and integrate it with in-house data of any kind (omics, phenotypes, pdfs, notebooks, ML models, ...).\n",
    "\n",
    "You can use the CELLxGENE data in two ways:\n",
    "\n",
    "1. Query collections of `AnnData` objects (this page).\n",
    "2. Query a big array store produced by concatenated `AnnData` objects via `tiledbsoma` ([see here](query-census)).\n",
    "\n",
    "If you are interested in building similar data assets in-house:\n",
    "\n",
    "1. See the [transfer guide](inv:docs#transfer) to zero-copy data to your own LaminDB instance.\n",
    "2. See the [scRNA guide](inv:docs#scrna) for how to create a growing versioned queryable scRNA-seq dataset.\n",
    "3. See the [Curate](./cellxgene-curate) for validating, curating and registering your own AnnData objects.\n",
    "\n",
    "```{dropdown} Show me a screenshot\n",
    "\n",
    "<img src=\"https://lamin-site-assets.s3.amazonaws.com/.lamindb/YHMYgXCfJTJvKPBmuh1S.png\" width=\"700px\">\n",
    "\n",
    "```\n"
   ]
  },
  {
   "cell_type": "markdown",
   "id": "5a021883",
   "metadata": {},
   "source": [
    "Load the public LaminDB instance that mirrors cellxgene:"
   ]
  },
  {
   "cell_type": "code",
   "execution_count": null,
   "id": "df1d93a7",
   "metadata": {
    "tags": [
     "hide-output"
    ]
   },
   "outputs": [],
   "source": [
    "# !pip install 'lamindb[bionty,jupyter]'\n",
    "!lamin load laminlabs/cellxgene"
   ]
  },
  {
   "cell_type": "code",
   "execution_count": null,
   "id": "d74e133a",
   "metadata": {
    "tags": [
     "hide-output"
    ]
   },
   "outputs": [],
   "source": [
    "import lamindb as ln\n",
    "import bionty as bt"
   ]
  },
  {
   "cell_type": "markdown",
   "id": "ff6ecae2",
   "metadata": {},
   "source": [
    "## Query & understand metadata"
   ]
  },
  {
   "cell_type": "markdown",
   "id": "2bb8060e",
   "metadata": {},
   "source": [
    "### Auto-complete metadata"
   ]
  },
  {
   "cell_type": "markdown",
   "id": "c380296b",
   "metadata": {},
   "source": [
    "You can create look-up objects for any registry in LaminDB, including [basic biological entities](https://lamin.ai/laminlabs/docs/bionty) and things like users or storage locations.\n",
    "\n",
    "Let's use auto-complete to look up cell types:\n",
    "\n",
    ":::{dropdown} Show me a screenshot\n",
    "\n",
    "<img src=\"https://lamin-site-assets.s3.amazonaws.com/.lamindb/lgRNHNtMxjU0y8nIagt7.png\" width=\"400px\">\n",
    "\n",
    ":::"
   ]
  },
  {
   "cell_type": "code",
   "execution_count": null,
   "id": "83069463",
   "metadata": {
    "tags": [
     "hide-output"
    ]
   },
   "outputs": [],
   "source": [
    "cell_types = bt.CellType.lookup()\n",
    "cell_types.effector_t_cell"
   ]
  },
  {
   "cell_type": "markdown",
   "id": "c639e444",
   "metadata": {},
   "source": [
    "You can also arbitrarily chain filters and create lookups from them:"
   ]
  },
  {
   "cell_type": "code",
   "execution_count": null,
   "id": "eb81f096",
   "metadata": {},
   "outputs": [],
   "source": [
    "users = ln.User.lookup()\n",
    "organisms = bt.Organism.lookup()\n",
    "experimental_factors = bt.ExperimentalFactor.lookup()  # labels for experimental factors\n",
    "tissues = bt.Tissue.lookup()  # tissue labels\n",
    "suspension_types = ln.ULabel.filter(name=\"is_suspension_type\").one().children.lookup()  # suspension types"
   ]
  },
  {
   "cell_type": "markdown",
   "id": "e75a5614",
   "metadata": {},
   "source": [
    "### Search & filter metadata"
   ]
  },
  {
   "cell_type": "markdown",
   "id": "fc2d105f",
   "metadata": {},
   "source": [
    "We can use search & filters for metadata:"
   ]
  },
  {
   "cell_type": "code",
   "execution_count": null,
   "id": "4424217f",
   "metadata": {
    "tags": [
     "hide-output"
    ]
   },
   "outputs": [],
   "source": [
    "bt.CellType.search(\"effector T cell\").df().head()"
   ]
  },
  {
   "cell_type": "markdown",
   "id": "3c949b27",
   "metadata": {},
   "source": [
    "And use a `uid` to filter exactly one metadata record:"
   ]
  },
  {
   "cell_type": "code",
   "execution_count": null,
   "id": "1de3c95c",
   "metadata": {
    "tags": [
     "hide-output"
    ]
   },
   "outputs": [],
   "source": [
    "effector_t_cell = bt.CellType.get(\"3nfZTVV4\")\n",
    "effector_t_cell"
   ]
  },
  {
   "cell_type": "markdown",
   "id": "b3da2a35",
   "metadata": {},
   "source": [
    "### Understand ontologies"
   ]
  },
  {
   "cell_type": "markdown",
   "id": "0851981a",
   "metadata": {},
   "source": [
    "View the related ontology terms: "
   ]
  },
  {
   "cell_type": "code",
   "execution_count": null,
   "id": "07937c21",
   "metadata": {
    "tags": [
     "hide-output"
    ]
   },
   "outputs": [],
   "source": [
    "effector_t_cell.view_parents(distance=2, with_children=True)"
   ]
  },
  {
   "cell_type": "markdown",
   "id": "d8b3d075",
   "metadata": {},
   "source": [
    "Or access them programmatically:"
   ]
  },
  {
   "cell_type": "code",
   "execution_count": null,
   "id": "1077892b",
   "metadata": {
    "tags": [
     "hide-output"
    ]
   },
   "outputs": [],
   "source": [
    "effector_t_cell.children.df()"
   ]
  },
  {
   "cell_type": "markdown",
   "id": "e81be489",
   "metadata": {},
   "source": [
    "## Query artifacts"
   ]
  },
  {
   "cell_type": "markdown",
   "id": "78cd7e54",
   "metadata": {},
   "source": [
    "Unlike in the [tiledbsoma guide](query-census), here, we'll query sets of `.h5ad` files, which correspond to `AnnData` objects.\n",
    "\n",
    "To see what you can query for, simply look at the registry representation:"
   ]
  },
  {
   "cell_type": "code",
   "execution_count": null,
   "id": "d002bc25",
   "metadata": {
    "tags": [
     "hide-output"
    ]
   },
   "outputs": [],
   "source": [
    "ln.Artifact"
   ]
  },
  {
   "cell_type": "markdown",
   "id": "e07315f6",
   "metadata": {},
   "source": [
    "Here is an exemplary string query:"
   ]
  },
  {
   "cell_type": "code",
   "execution_count": null,
   "id": "ea561881",
   "metadata": {
    "tags": [
     "hide-output"
    ]
   },
   "outputs": [],
   "source": [
    "ln.Artifact.filter(\n",
    "    suffix=\".h5ad\",  # filename suffix\n",
    "    description__contains=\"immune\",\n",
    "    size__gt=1e9,  # size > 1GB\n",
    "    cell_types__name__in=[\"B cell\", \"T cell\"],  # cell types measured in AnnData\n",
    "    created_by__handle=\"sunnyosun\"  # creator\n",
    ").order_by(\n",
    "    \"created_at\"\n",
    ").df(\n",
    "    include=[\"cell_types__name\", \"created_by__handle\"]  # join with additional info\n",
    ").head()"
   ]
  },
  {
   "cell_type": "markdown",
   "id": "e483776d",
   "metadata": {},
   "source": [
    "```{dropdown} What happens under the hood?\n",
    "\n",
    "As you saw from inspecting `ln.Artifact`, `ln.Artifact.cell_types` relates artifacts with `bt.CellType`.\n",
    "\n",
    "The expression `cell_types__name__in` performs the join of the underlying registries and matches `bt.CellType.name` to `[\"B cell\", \"T cell\"]`.\n",
    "\n",
    "Similar for `created_by`, which relates artifacts with `ln.User`.\n",
    "\n",
    "```"
   ]
  },
  {
   "cell_type": "markdown",
   "id": "12495f94",
   "metadata": {},
   "source": [
    "Queries by string are prone to typos. Let's query with auto-completed records instead."
   ]
  },
  {
   "cell_type": "code",
   "execution_count": null,
   "id": "9cd17406",
   "metadata": {
    "tags": [
     "hide-output"
    ]
   },
   "outputs": [],
   "source": [
    "ln.Artifact.filter(\n",
    "    suffix=\".h5ad\",  # filename suffix\n",
    "    description__contains=\"immune\",\n",
    "    size__gt=1e9,  # size > 1GB\n",
    "    cell_types__in=[cell_types.b_cell, cell_types.t_cell],  # cell types measured in AnnData\n",
    "    created_by=users.sunnyosun   # creator\n",
    ").order_by(\n",
    "    \"created_at\"\n",
    ").df(\n",
    "    include=[\"cell_types__name\", \"created_by__handle\"]  # join with additional info\n",
    ").head()"
   ]
  },
  {
   "cell_type": "markdown",
   "id": "87f70886",
   "metadata": {},
   "source": [
    "## Query collections"
   ]
  },
  {
   "cell_type": "markdown",
   "id": "c2384c0e",
   "metadata": {},
   "source": [
    "Often, you work with collections of artifacts, which {class}`~lamindb.Collection` helps managing.\n",
    "\n",
    "Let's look at the collection that corresponds to the `cellxgene-census` release of `.h5ad` artifacts:"
   ]
  },
  {
   "cell_type": "code",
   "execution_count": null,
   "id": "0884ba0a",
   "metadata": {
    "tags": [
     "hide-output"
    ]
   },
   "outputs": [],
   "source": [
    "collection = ln.Collection.filter(name=\"cellxgene-census\", version=\"2024-07-01\").one()\n",
    "collection"
   ]
  },
  {
   "cell_type": "markdown",
   "id": "8fa78cce",
   "metadata": {},
   "source": [
    "You can count all contained artifacts or get them as a dataframe."
   ]
  },
  {
   "cell_type": "code",
   "execution_count": null,
   "id": "b60003a3",
   "metadata": {
    "tags": [
     "hide-output"
    ]
   },
   "outputs": [],
   "source": [
    "collection.artifacts.count()"
   ]
  },
  {
   "cell_type": "code",
   "execution_count": null,
   "id": "bd413016",
   "metadata": {
    "tags": [
     "hide-output"
    ]
   },
   "outputs": [],
   "source": [
    "collection.artifacts.df().head()  # not tracking run & transform because read-only instance"
   ]
  },
  {
   "cell_type": "markdown",
   "id": "9ef4133d",
   "metadata": {},
   "source": [
    "You can query across artifacts by arbitrary metadata combinations, for instance:"
   ]
  },
  {
   "cell_type": "code",
   "execution_count": null,
   "id": "fa6437ee",
   "metadata": {
    "tags": [
     "hide-output"
    ]
   },
   "outputs": [],
   "source": [
    "query = collection.artifacts.filter(\n",
    "    organisms=organisms.human,\n",
    "    cell_types__in=[cell_types.dendritic_cell, cell_types.neutrophil],\n",
    "    tissues=tissues.kidney,\n",
    "    ulabels=suspension_types.cell,\n",
    "    experimental_factors=experimental_factors.ln_10x_3_v2,\n",
    ")\n",
    "query = query.order_by(\"size\")  # order by size\n",
    "query.df().head()  # convert to DataFrame"
   ]
  },
  {
   "cell_type": "markdown",
   "id": "c7d1ee67",
   "metadata": {},
   "source": [
    "## Query arrays"
   ]
  },
  {
   "cell_type": "markdown",
   "id": "ba8914bc",
   "metadata": {},
   "source": [
    "```{note}\n",
    "\n",
    "Here, we discuss slicing individual `AnnData` arrays. If you want to slice a large concatenated array store, see the [tiledbsoma guide](query-census).\n",
    "\n",
    "```\n",
    "\n",
    "In the query above, each artifact stores an array in form of an `.h5ad` file, which corresponds to an `AnnData` object.\n",
    "\n",
    "Let's look at the first array in the query and show its metadata using `.describe()`."
   ]
  },
  {
   "cell_type": "code",
   "execution_count": null,
   "id": "524ed16e",
   "metadata": {
    "tags": [
     "hide-output"
    ]
   },
   "outputs": [],
   "source": [
    "artifact = query.first()\n",
    "artifact.describe()"
   ]
  },
  {
   "cell_type": "markdown",
   "id": "3e53f2fd",
   "metadata": {},
   "source": [
    ":::{dropdown} More ways of accessing metadata\n",
    "\n",
    "Access just features:\n",
    "\n",
    "```\n",
    "artifact.features\n",
    "```\n",
    "\n",
    "Or get labels given a feature:\n",
    "\n",
    "```\n",
    "artifact.labels.get(features.tissue).df()\n",
    "```\n",
    "\n",
    "```\n",
    "artifact.labels.get(features.collection).one()\n",
    "```\n",
    "\n",
    ":::\n",
    "\n"
   ]
  },
  {
   "cell_type": "markdown",
   "id": "7e0e9d16",
   "metadata": {},
   "source": [
    "If you want to query a slice of the array data, you have two options:\n",
    "1. Cache & load the entire array into memory via `artifact.load() -> AnnData` (caches the h5ad on disk, so that you only download once)\n",
    "2. Stream the array using a (cloud-backed) accessor `artifact.open() -> AnnDataAccessor`\n",
    "\n",
    "Both options will run much faster if you run them close to the data (AWS S3 on the US West Coast, consider logging into hosted compute there)."
   ]
  },
  {
   "cell_type": "markdown",
   "id": "e3b104c9",
   "metadata": {},
   "source": [
    "Cache & load:"
   ]
  },
  {
   "cell_type": "code",
   "execution_count": null,
   "id": "271f05ea",
   "metadata": {
    "tags": [
     "hide-output"
    ]
   },
   "outputs": [],
   "source": [
    "adata = artifact.load()\n",
    "adata"
   ]
  },
  {
   "cell_type": "markdown",
   "id": "9290545c",
   "metadata": {},
   "source": [
    "Now we have an `AnnData` object, which stores observation annotations matching our artifact-level query in the `.obs` slot, and we can re-use almost the same query on the array-level.\n",
    "\n",
    ":::{dropdown} See the array-level query\n",
    "\n",
    "```\n",
    "adata_slice = adata[\n",
    "    adata.obs.cell_type.isin(\n",
    "        [cell_types.dendritic_cell.name, cell_types.neutrophil.name]\n",
    "    )\n",
    "    & (adata.obs.tissue == tissues.kidney.name)\n",
    "    & (adata.obs.suspension_type == suspension_types.cell.name)\n",
    "    & (adata.obs.assay == experimental_factors.ln_10x_3_v2.name)\n",
    "]\n",
    "adata_slice\n",
    "```\n",
    "\n",
    ":::\n",
    "\n",
    "\n",
    ":::{dropdown} See the artifact-level query\n",
    "\n",
    "```\n",
    "query = collection.artifacts.filter(\n",
    "    organism=organisms.human,\n",
    "    cell_types__in=[cell_types.dendritic_cell, cell_types.neutrophil],\n",
    "    tissues=tissues.kidney,\n",
    "    ulabels=suspension_types.cell,\n",
    "    experimental_factors=experimental_factors.ln_10x_3_v2,\n",
    ")\n",
    "```\n",
    "\n",
    "`AnnData` uses pandas to manage metadata and the syntax differs slightly. However, the same metadata records are used.\n",
    "\n",
    ":::"
   ]
  },
  {
   "cell_type": "markdown",
   "id": "618aea87",
   "metadata": {},
   "source": [
    "Stream:"
   ]
  },
  {
   "cell_type": "code",
   "execution_count": null,
   "id": "963f51c0",
   "metadata": {
    "tags": [
     "hide-output"
    ]
   },
   "outputs": [],
   "source": [
    "adata_backed = artifact.open()\n",
    "adata_backed"
   ]
  },
  {
   "cell_type": "markdown",
   "id": "53cb9209",
   "metadata": {},
   "source": [
    "We now have an `AnnDataAccessor` object, which behaves much like an `AnnData`, and the query looks the same.\n",
    "\n",
    ":::{dropdown} See the query\n",
    "\n",
    "```\n",
    "adata_backed_slice = adata_backed[\n",
    "    adata_backed.obs.cell_type.isin(\n",
    "        [cell_types.dendritic_cell.name, cell_types.neutrophil.name]\n",
    "    )\n",
    "    & (adata_backed.obs.tissue == tissues.kidney.name)\n",
    "    & (adata_backed.obs.suspension_type == suspension_types.cell.name)\n",
    "    & (adata_backed.obs.assay == experimental_factors.ln_10x_3_v2.name)\n",
    "]\n",
    "\n",
    "adata_backed_slice.to_memory()\n",
    "```\n",
    "\n",
    ":::"
   ]
  },
  {
   "cell_type": "markdown",
   "id": "8ba42847",
   "metadata": {},
   "source": [
    "## Train ML models"
   ]
  },
  {
   "cell_type": "markdown",
   "id": "73b06fe6",
   "metadata": {},
   "source": [
    "You can directly train ML models on very large collections of AnnData objects.\n",
    "\n",
    "See {doc}`docs:scrna5`."
   ]
  },
  {
   "cell_type": "markdown",
   "id": "0d40b93e",
   "metadata": {},
   "source": [
    "## Exploring data by collection"
   ]
  },
  {
   "cell_type": "markdown",
   "id": "8299ecdc",
   "metadata": {},
   "source": [
    "Alternatively, \n",
    "\n",
    "- [you can search a file on the LaminHub UI](https://lamin.ai/laminlabs/cellxgene/artifacts) and fetch it through: \n",
    "`ln.Artifact.get(uid)`\n",
    "- or query for a collection you found on [CZ CELLxGENE Discover](https://cellxgene.cziscience.com/collections)"
   ]
  },
  {
   "cell_type": "markdown",
   "id": "8b537df8",
   "metadata": {},
   "source": [
    "Let's search the collections from CELLxGENE within the 2023-12-15 release:"
   ]
  },
  {
   "cell_type": "code",
   "execution_count": null,
   "id": "3710084a",
   "metadata": {
    "tags": [
     "hide-output"
    ]
   },
   "outputs": [],
   "source": [
    "ln.Collection.filter(version=\"2024-07-01\").search(\"immune human kidney\", limit=10)"
   ]
  },
  {
   "cell_type": "markdown",
   "id": "0a707588",
   "metadata": {},
   "source": [
    "Let's get the record of the top hit collection:"
   ]
  },
  {
   "cell_type": "code",
   "execution_count": null,
   "id": "c49c302d",
   "metadata": {
    "tags": [
     "hide-output"
    ]
   },
   "outputs": [],
   "source": [
    "collection = ln.Collection.get(\"kqiPjpzpK9H9rdtnV67f\")\n",
    "collection"
   ]
  },
  {
   "cell_type": "markdown",
   "id": "5a36be6f",
   "metadata": {},
   "source": [
    "We see it's a Science paper and we could find more information using the [DOI](https://doi.org/10.1126/science.aat5031) or CELLxGENE [collection id](https://cellxgene.cziscience.com/collections/120e86b4-1195-48c5-845b-b98054105eec)."
   ]
  },
  {
   "cell_type": "markdown",
   "id": "11bce898",
   "metadata": {},
   "source": [
    "Check different versions of this collection:"
   ]
  },
  {
   "cell_type": "code",
   "execution_count": null,
   "id": "f97538e2",
   "metadata": {
    "tags": [
     "hide-output"
    ]
   },
   "outputs": [],
   "source": [
    "collection.versions.df()"
   ]
  },
  {
   "cell_type": "markdown",
   "id": "19f32e23",
   "metadata": {},
   "source": [
    "Each collection has at least one {class}`~lamindb.Artifact` file associated to it. Let's get the associated artifacts:"
   ]
  },
  {
   "cell_type": "code",
   "execution_count": null,
   "id": "744ca3d8",
   "metadata": {
    "tags": [
     "hide-output"
    ]
   },
   "outputs": [],
   "source": [
    "collection.artifacts.df()"
   ]
  },
  {
   "cell_type": "markdown",
   "id": "6bd94803",
   "metadata": {},
   "source": [
    "```{toctree}\n",
    ":maxdepth: 1\n",
    ":hidden:\n",
    "\n",
    "query-census\n",
    "cellxgene-curate\n",
    "```"
   ]
  }
 ],
 "metadata": {
  "kernelspec": {
   "display_name": "Python 3 (ipykernel)",
   "language": "python",
   "name": "python3"
  },
  "language_info": {
   "codemirror_mode": {
    "name": "ipython",
    "version": 3
   },
   "file_extension": ".py",
   "mimetype": "text/x-python",
   "name": "python",
   "nbconvert_exporter": "python",
   "pygments_lexer": "ipython3",
   "version": "3.10.13"
  },
  "nbproject": {
   "id": "5FUyJ6RkVk0D",
   "parent": null,
   "pypackage": null,
   "time_init": "2023-09-05T14:45:21.919899+00:00",
   "user_handle": "sunnyosun",
   "user_id": "kmvZDIX9",
   "user_name": "Sunny Sun",
   "version": "0"
  }
 },
 "nbformat": 4,
 "nbformat_minor": 5
}
