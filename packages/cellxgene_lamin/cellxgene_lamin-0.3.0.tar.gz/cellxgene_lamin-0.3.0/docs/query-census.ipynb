{
 "cells": [
  {
   "cell_type": "markdown",
   "metadata": {},
   "source": [
    "# Query using `tiledbsoma`"
   ]
  },
  {
   "cell_type": "markdown",
   "metadata": {},
   "source": [
    "The [first guide](cellxgene) showed how to query for `AnnData` objects.\n",
    "\n",
    "This guide queries \"Census\", i.e., a `tiledbsoma` array store that concatenates many `AnnData` objects."
   ]
  },
  {
   "cell_type": "markdown",
   "metadata": {},
   "source": [
    "Load your LaminDB instance for quering data:"
   ]
  },
  {
   "cell_type": "code",
   "execution_count": null,
   "metadata": {},
   "outputs": [],
   "source": [
    "!lamin load laminlabs/cellxgene"
   ]
  },
  {
   "cell_type": "code",
   "execution_count": null,
   "metadata": {},
   "outputs": [],
   "source": [
    "import lamindb as ln\n",
    "import bionty as bt\n",
    "import tiledbsoma\n",
    "\n",
    "census_version = \"2024-07-01\""
   ]
  },
  {
   "cell_type": "markdown",
   "metadata": {},
   "source": [
    "## Query data"
   ]
  },
  {
   "cell_type": "markdown",
   "metadata": {},
   "source": [
    "Create look ups so that we can auto-complete valid values:"
   ]
  },
  {
   "cell_type": "code",
   "execution_count": null,
   "metadata": {},
   "outputs": [],
   "source": [
    "features = ln.Feature.lookup(return_field=\"name\")\n",
    "assays = bt.ExperimentalFactor.lookup(return_field=\"name\")\n",
    "cell_types = bt.CellType.lookup(return_field=\"name\")\n",
    "tissues = bt.Tissue.lookup(return_field=\"name\")\n",
    "ulabels = ln.ULabel.lookup()\n",
    "suspension_types = ulabels.is_suspension_type.children.all().lookup(return_field=\"name\")"
   ]
  },
  {
   "cell_type": "markdown",
   "metadata": {},
   "source": [
    "Create a query expression for a `tiledbsoma` array store."
   ]
  },
  {
   "cell_type": "code",
   "execution_count": null,
   "metadata": {},
   "outputs": [],
   "source": [
    "value_filter = (\n",
    "    f'{features.tissue} == \"{tissues.brain}\" and {features.cell_type} in'\n",
    "    f' [\"{cell_types.microglial_cell}\", \"{cell_types.neuron}\"] and'\n",
    "    f' {features.suspension_type} == \"{suspension_types.cell}\" and {features.assay} =='\n",
    "    f' \"{assays.ln_10x_3_v3}\"'\n",
    ")\n",
    "value_filter"
   ]
  },
  {
   "cell_type": "markdown",
   "metadata": {},
   "source": [
    "Query for the `tiledbsoma` array store that contains all concatenated expression data."
   ]
  },
  {
   "cell_type": "code",
   "execution_count": null,
   "metadata": {},
   "outputs": [],
   "source": [
    "census = ln.Artifact.filter(description=f\"Census {census_version}\").one()"
   ]
  },
  {
   "cell_type": "markdown",
   "metadata": {},
   "source": [
    "Query slices within the array store. (This will run a lot faster from within the AWS `us-west-2` data center.)"
   ]
  },
  {
   "cell_type": "code",
   "execution_count": null,
   "metadata": {
    "tags": [
     "hide-output"
    ]
   },
   "outputs": [],
   "source": [
    "human = \"homo_sapiens\"  # subset to human data\n",
    "\n",
    "# open the array store for queries\n",
    "with census.open() as store:\n",
    "    # read SOMADataFrame as a slice\n",
    "    cell_metadata = store[\"census_data\"][human].obs.read(value_filter=value_filter)\n",
    "    # concatenate results to pyarrow.Table\n",
    "    cell_metadata = cell_metadata.concat()\n",
    "    # convert to pandas.DataFrame\n",
    "    cell_metadata = cell_metadata.to_pandas()\n",
    "\n",
    "cell_metadata.shape"
   ]
  },
  {
   "cell_type": "code",
   "execution_count": null,
   "metadata": {
    "tags": [
     "hide-output"
    ]
   },
   "outputs": [],
   "source": [
    "cell_metadata.head()"
   ]
  },
  {
   "cell_type": "markdown",
   "metadata": {},
   "source": [
    "## Create an `AnnData`"
   ]
  },
  {
   "cell_type": "code",
   "execution_count": null,
   "metadata": {},
   "outputs": [],
   "source": [
    "with census.open() as store:\n",
    "    \n",
    "    experiment = store[\"census_data\"][human]\n",
    "    \n",
    "    adata = experiment.axis_query(\n",
    "        \"RNA\",\n",
    "        obs_query=tiledbsoma.AxisQuery(value_filter=value_filter)\n",
    "    ).to_anndata(\n",
    "        X_name=\"raw\",\n",
    "        column_names={\n",
    "            \"obs\": [\n",
    "                features.assay,\n",
    "                features.cell_type,\n",
    "                features.tissue,\n",
    "                features.disease,\n",
    "                features.suspension_type,\n",
    "            ]\n",
    "        }\n",
    "    )"
   ]
  },
  {
   "cell_type": "code",
   "execution_count": null,
   "metadata": {
    "tags": [
     "hide-output"
    ]
   },
   "outputs": [],
   "source": [
    "adata.var = adata.var.set_index(\"feature_id\")\n",
    "adata"
   ]
  },
  {
   "cell_type": "code",
   "execution_count": null,
   "metadata": {
    "tags": [
     "hide-output"
    ]
   },
   "outputs": [],
   "source": [
    "adata.var.head()"
   ]
  },
  {
   "cell_type": "code",
   "execution_count": null,
   "metadata": {
    "tags": [
     "hide-output"
    ]
   },
   "outputs": [],
   "source": [
    "adata.obs.head()"
   ]
  }
 ],
 "metadata": {
  "kernelspec": {
   "display_name": "Python 3 (ipykernel)",
   "language": "python",
   "name": "python3"
  },
  "language_info": {
   "codemirror_mode": {
    "name": "ipython",
    "version": 3
   },
   "file_extension": ".py",
   "mimetype": "text/x-python",
   "name": "python",
   "nbconvert_exporter": "python",
   "pygments_lexer": "ipython3",
   "version": "3.10.13"
  },
  "nbproject": {
   "id": "6oq3VJy5yxIU",
   "parent": null,
   "pypackage": null,
   "time_init": "2023-10-20T10:11:29.463150+00:00",
   "user_handle": null,
   "user_id": null,
   "user_name": null,
   "version": "0"
  }
 },
 "nbformat": 4,
 "nbformat_minor": 2
}
