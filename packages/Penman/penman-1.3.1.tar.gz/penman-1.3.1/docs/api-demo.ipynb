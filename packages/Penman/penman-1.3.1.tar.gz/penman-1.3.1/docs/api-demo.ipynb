{
 "cells": [
  {
   "cell_type": "markdown",
   "metadata": {},
   "source": [
    "# Penman API Demo\n",
    "\n",
    "This notebook demonstrates the basic usage of the Penman API. For an overview of what Penman does, see the [project page](https://github.com/goodmami/penman). For API documentation, see [here](https://penman.readthedocs.io/en/latest/api/penman.html).\n",
    "\n",
    "To start, import the `penman` module."
   ]
  },
  {
   "cell_type": "code",
   "execution_count": 1,
   "metadata": {},
   "outputs": [
    {
     "data": {
      "text/plain": [
       "'1.0.0'"
      ]
     },
     "execution_count": 1,
     "metadata": {},
     "output_type": "execute_result"
    }
   ],
   "source": [
    "import penman\n",
    "penman.__version__"
   ]
  },
  {
   "cell_type": "markdown",
   "metadata": {},
   "source": [
    "## Basic Decoding and Encoding\n",
    "\n",
    "A common task is reading a PENMAN string into a graph object. The simplest way to do this is with [penman.decode()](https://penman.readthedocs.io/en/latest/api/penman.html#penman.decode):"
   ]
  },
  {
   "cell_type": "code",
   "execution_count": 2,
   "metadata": {},
   "outputs": [
    {
     "data": {
      "text/plain": [
       "<Graph object (top=b) at 140670460826048>"
      ]
     },
     "execution_count": 2,
     "metadata": {},
     "output_type": "execute_result"
    }
   ],
   "source": [
    "g = penman.decode('''\n",
    "  # ::snt The dog didn't bark\n",
    "  (b / bark-01\n",
    "     :polarity -\n",
    "     :ARG0 (d / dog))''')\n",
    "g"
   ]
  },
  {
   "cell_type": "markdown",
   "metadata": {},
   "source": [
    "The [penman.encode()](https://penman.readthedocs.io/en/latest/api/penman.html#penman.encode) function can serialize a graph back to PENMAN notation (note that the metadata is also printed):"
   ]
  },
  {
   "cell_type": "code",
   "execution_count": 3,
   "metadata": {},
   "outputs": [
    {
     "name": "stdout",
     "output_type": "stream",
     "text": [
      "# ::snt The dog didn't bark\n",
      "(b / bark-01\n",
      "   :polarity -\n",
      "   :ARG0 (d / dog))\n"
     ]
    }
   ],
   "source": [
    "print(penman.encode(g))"
   ]
  },
  {
   "cell_type": "markdown",
   "metadata": {},
   "source": [
    "You may customize things like indentation:"
   ]
  },
  {
   "cell_type": "code",
   "execution_count": 4,
   "metadata": {},
   "outputs": [
    {
     "name": "stdout",
     "output_type": "stream",
     "text": [
      "# ::snt The dog didn't bark\n",
      "(b / bark-01 :polarity - :ARG0 (d / dog))\n"
     ]
    }
   ],
   "source": [
    "print(penman.encode(g, indent=None))  # single-line"
   ]
  },
  {
   "cell_type": "code",
   "execution_count": 5,
   "metadata": {},
   "outputs": [
    {
     "name": "stdout",
     "output_type": "stream",
     "text": [
      "# ::snt The dog didn't bark\n",
      "(b / bark-01 :polarity -\n",
      "      :ARG0 (d / dog))\n"
     ]
    }
   ],
   "source": [
    "print(penman.encode(g, indent=6, compact=True))  # attributes following concepts printed on same line"
   ]
  },
  {
   "cell_type": "markdown",
   "metadata": {},
   "source": [
    "## Graph Introspection and Manipulation"
   ]
  },
  {
   "cell_type": "markdown",
   "metadata": {},
   "source": [
    "The [Graph](https://penman.readthedocs.io/en/latest/api/penman.graph.html#penman.graph.Graph) object returned by `decode()` has methods for inspecting things like the variables and different types of edges."
   ]
  },
  {
   "cell_type": "code",
   "execution_count": 6,
   "metadata": {},
   "outputs": [
    {
     "data": {
      "text/plain": [
       "{'b', 'd'}"
      ]
     },
     "execution_count": 6,
     "metadata": {},
     "output_type": "execute_result"
    }
   ],
   "source": [
    "g.variables()"
   ]
  },
  {
   "cell_type": "code",
   "execution_count": 7,
   "metadata": {},
   "outputs": [
    {
     "data": {
      "text/plain": [
       "[Instance(source='b', role=':instance', target='bark-01'),\n",
       " Instance(source='d', role=':instance', target='dog')]"
      ]
     },
     "execution_count": 7,
     "metadata": {},
     "output_type": "execute_result"
    }
   ],
   "source": [
    "g.instances()"
   ]
  },
  {
   "cell_type": "code",
   "execution_count": 8,
   "metadata": {},
   "outputs": [
    {
     "data": {
      "text/plain": [
       "[Attribute(source='b', role=':polarity', target='-')]"
      ]
     },
     "execution_count": 8,
     "metadata": {},
     "output_type": "execute_result"
    }
   ],
   "source": [
    "g.attributes()"
   ]
  },
  {
   "cell_type": "code",
   "execution_count": 9,
   "metadata": {},
   "outputs": [
    {
     "data": {
      "text/plain": [
       "[Edge(source='b', role=':ARG0', target='d')]"
      ]
     },
     "execution_count": 9,
     "metadata": {},
     "output_type": "execute_result"
    }
   ],
   "source": [
    "g.edges()"
   ]
  },
  {
   "cell_type": "code",
   "execution_count": 10,
   "metadata": {},
   "outputs": [
    {
     "data": {
      "text/plain": [
       "{'snt': \"The dog didn't bark\"}"
      ]
     },
     "execution_count": 10,
     "metadata": {},
     "output_type": "execute_result"
    }
   ],
   "source": [
    "g.metadata"
   ]
  },
  {
   "cell_type": "markdown",
   "metadata": {},
   "source": [
    "You may also view and modify the full list of triples and the metadata directly:"
   ]
  },
  {
   "cell_type": "code",
   "execution_count": 11,
   "metadata": {},
   "outputs": [
    {
     "data": {
      "text/plain": [
       "[('b', ':instance', 'bark-01'),\n",
       " ('b', ':polarity', '-'),\n",
       " ('b', ':ARG0', 'd'),\n",
       " ('d', ':instance', 'dog')]"
      ]
     },
     "execution_count": 11,
     "metadata": {},
     "output_type": "execute_result"
    }
   ],
   "source": [
    "g.triples"
   ]
  },
  {
   "cell_type": "code",
   "execution_count": 12,
   "metadata": {},
   "outputs": [
    {
     "data": {
      "text/plain": [
       "[('b', ':instance', 'bark-01'),\n",
       " ('b', ':polarity', '-'),\n",
       " ('b', ':ARG0', 'd'),\n",
       " ('d', ':instance', 'dog'),\n",
       " ('b', ':location', 'g'),\n",
       " ('g', ':instance', 'garden')]"
      ]
     },
     "execution_count": 12,
     "metadata": {},
     "output_type": "execute_result"
    }
   ],
   "source": [
    "g.triples.extend([('b', ':location', 'g'), ('g', ':instance', 'garden')])\n",
    "g.triples"
   ]
  },
  {
   "cell_type": "code",
   "execution_count": 13,
   "metadata": {},
   "outputs": [],
   "source": [
    "g.metadata['snt'] = \"The dog didn't bark in the garden.\""
   ]
  },
  {
   "cell_type": "code",
   "execution_count": 14,
   "metadata": {},
   "outputs": [
    {
     "name": "stdout",
     "output_type": "stream",
     "text": [
      "# ::snt The dog didn't bark in the garden.\n",
      "(b / bark-01\n",
      "   :polarity -\n",
      "   :ARG0 (d / dog)\n",
      "   :location (g / garden))\n"
     ]
    }
   ],
   "source": [
    "print(penman.encode(g))"
   ]
  },
  {
   "cell_type": "markdown",
   "metadata": {},
   "source": [
    "## Advanced Decoding and Encoding\n",
    "\n",
    "Penman's decoding strategy has 3 stages: first it starts with a PENMAN string and parses it to a tree structure, then it interprets the tree structure to produce a pure graph. Earlier when we called the [penman.decode()](https://penman.readthedocs.io/en/latest/api/penman.html#penman.decode) function, we performed the tree-parsing and graph-interpretation in one call. It is also possible to perform these steps separately with the [penman.parse()](https://penman.readthedocs.io/en/latest/api/penman.html#penman.parse) and [penman.interpret()](https://penman.readthedocs.io/en/latest/api/penman.html#penman.interpret), or to parse to a tree without ever interpreting the graph. This is useful if you prefer to work with AMR data as trees than as pure graphs, or if you wish to use some of Penman's tree [transformations](#Transformations)."
   ]
  },
  {
   "cell_type": "code",
   "execution_count": 15,
   "metadata": {},
   "outputs": [
    {
     "data": {
      "text/plain": [
       "Tree(('b', [('/', 'bark-01'), (':polarity', '-'), (':ARG0', ('d', [('/', 'dog')]))]))"
      ]
     },
     "execution_count": 15,
     "metadata": {},
     "output_type": "execute_result"
    }
   ],
   "source": [
    "t = penman.parse('''\n",
    "  # ::snt The dog didn't bark\n",
    "  (b / bark-01\n",
    "     :polarity -\n",
    "     :ARG0 (d / dog))''')\n",
    "t"
   ]
  },
  {
   "cell_type": "markdown",
   "metadata": {},
   "source": [
    "Getting the graph from the tree then requires a separate call to [penman.interpret()](https://penman.readthedocs.io/en/latest/api/penman.html#penman.interpret):"
   ]
  },
  {
   "cell_type": "code",
   "execution_count": 16,
   "metadata": {},
   "outputs": [
    {
     "data": {
      "text/plain": [
       "<Graph object (top=b) at 140670460395632>"
      ]
     },
     "execution_count": 16,
     "metadata": {},
     "output_type": "execute_result"
    }
   ],
   "source": [
    "g = penman.interpret(t)\n",
    "g"
   ]
  },
  {
   "cell_type": "markdown",
   "metadata": {},
   "source": [
    "We can also go the other way; call [penman.configure()](https://penman.readthedocs.io/en/latest/api/penman.html#penman.configure) to get a tree from a graph, and finally [penman.format()](https://penman.readthedocs.io/en/latest/api/penman.html#penman.format) to get a string again:"
   ]
  },
  {
   "cell_type": "code",
   "execution_count": 17,
   "metadata": {},
   "outputs": [
    {
     "name": "stdout",
     "output_type": "stream",
     "text": [
      "# ::snt The dog didn't bark\n",
      "(b / bark-01\n",
      "   :polarity -\n",
      "   :ARG0 (d / dog))\n"
     ]
    }
   ],
   "source": [
    "t2 = penman.configure(g)\n",
    "print(penman.format(t2))"
   ]
  },
  {
   "cell_type": "markdown",
   "metadata": {},
   "source": [
    "The interface between trees and graphs is defined in the [penman.layout](https://penman.readthedocs.io/en/latest/api/penman.layout.html) module. Both [penman.interpret()](https://penman.readthedocs.io/en/latest/api/penman.html#penman.interpret) and [penman.configure()](https://penman.readthedocs.io/en/latest/api/penman.html#penman.configure) are just aliases for [penman.layout.interpret()](https://penman.readthedocs.io/en/latest/api/penman.layout.html#penman.layout.interpret) and [penman.layout.configure()](https://penman.readthedocs.io/en/latest/api/penman.layout.html#penman.layout.configure)."
   ]
  },
  {
   "cell_type": "markdown",
   "metadata": {},
   "source": [
    "## Tree Inspection and Manipulation\n",
    "\n",
    "[Tree](https://penman.readthedocs.io/en/latest/api/penman.tree.html#penman.tree.Tree) objects are simple structures that contain a `node` data attribute as a `(var, branches)` pair, where `var` is the node's variable and `branches` is a list of `(branch_label, target)` pairs. `branch_label` is like a graph role, but it is not normalized for inversion and concept branches use the `/` label instead of the `:instance` role. `target` is either an atomic type (e.g., a string) or, recursively, another node. Tree objects also contain metadata."
   ]
  },
  {
   "cell_type": "code",
   "execution_count": 18,
   "metadata": {},
   "outputs": [
    {
     "data": {
      "text/plain": [
       "('b', [('/', 'bark-01'), (':polarity', '-'), (':ARG0', ('d', [('/', 'dog')]))])"
      ]
     },
     "execution_count": 18,
     "metadata": {},
     "output_type": "execute_result"
    }
   ],
   "source": [
    "t.node"
   ]
  },
  {
   "cell_type": "code",
   "execution_count": 19,
   "metadata": {},
   "outputs": [
    {
     "data": {
      "text/plain": [
       "{'snt': \"The dog didn't bark\"}"
      ]
     },
     "execution_count": 19,
     "metadata": {},
     "output_type": "execute_result"
    }
   ],
   "source": [
    "t.metadata"
   ]
  },
  {
   "cell_type": "markdown",
   "metadata": {},
   "source": [
    "[Tree.nodes()](https://penman.readthedocs.io/en/latest/api/penman.tree.html#penman.tree.Tree.nodes) traverses the tree and returns a flat list of the nodes in the tree (but the nodes themselves are not flat):"
   ]
  },
  {
   "cell_type": "code",
   "execution_count": 20,
   "metadata": {},
   "outputs": [
    {
     "data": {
      "text/plain": [
       "[('b',\n",
       "  [('/', 'bark-01'), (':polarity', '-'), (':ARG0', ('d', [('/', 'dog')]))]),\n",
       " ('d', [('/', 'dog')])]"
      ]
     },
     "execution_count": 20,
     "metadata": {},
     "output_type": "execute_result"
    }
   ],
   "source": [
    "t.nodes()"
   ]
  },
  {
   "cell_type": "markdown",
   "metadata": {},
   "source": [
    "[Tree.reset_variables()](https://penman.readthedocs.io/en/latest/api/penman.tree.html#penman.tree.Tree.reset_variables) reassigns the node variables based on their appearance in the tree. It takes a formatting parameter with a few possible replacements (see the documentation for details):"
   ]
  },
  {
   "cell_type": "code",
   "execution_count": 21,
   "metadata": {},
   "outputs": [
    {
     "data": {
      "text/plain": [
       "Tree(('a0', [('/', 'bark-01'), (':polarity', '-'), (':ARG0', ('a1', [('/', 'dog')]))]))"
      ]
     },
     "execution_count": 21,
     "metadata": {},
     "output_type": "execute_result"
    }
   ],
   "source": [
    "t.reset_variables('a{i}')\n",
    "t"
   ]
  },
  {
   "cell_type": "code",
   "execution_count": 22,
   "metadata": {},
   "outputs": [
    {
     "data": {
      "text/plain": [
       "Tree(('b', [('/', 'bark-01'), (':polarity', '-'), (':ARG0', ('d', [('/', 'dog')]))]))"
      ]
     },
     "execution_count": 22,
     "metadata": {},
     "output_type": "execute_result"
    }
   ],
   "source": [
    "t.reset_variables('{prefix}{j}')\n",
    "t"
   ]
  },
  {
   "cell_type": "markdown",
   "metadata": {},
   "source": [
    "## Using Models\n",
    "\n",
    "In Penman, the interpretation of a graph from a tree relies on a [Model](https://penman.readthedocs.io/en/latest/api/penman.model.html) to determine things like whether a role is inverted. By default, a basic model with no special roles defined is used, and this is often enough:"
   ]
  },
  {
   "cell_type": "code",
   "execution_count": 23,
   "metadata": {},
   "outputs": [
    {
     "data": {
      "text/plain": [
       "[Edge(source='s', role=':ARG0', target='d'),\n",
       " Edge(source='b', role=':ARG0', target='d')]"
      ]
     },
     "execution_count": 23,
     "metadata": {},
     "output_type": "execute_result"
    }
   ],
   "source": [
    "g = penman.decode('''\n",
    "  # ::snt The dog that barked slept.\n",
    "  (s / sleep-01\n",
    "     :ARG0 (d / dog\n",
    "              :ARG0-of (b / bark-01)))''')\n",
    "g.edges()  # note that edge directions are normalized"
   ]
  },
  {
   "cell_type": "markdown",
   "metadata": {},
   "source": [
    "AMR, however, has some roles that use `-of` in their primary, or non-inverted, form, which can lead to invalid graphs:"
   ]
  },
  {
   "cell_type": "code",
   "execution_count": 24,
   "metadata": {},
   "outputs": [
    {
     "data": {
      "text/plain": [
       "[Edge(source='b', role=':ARG0', target='i'),\n",
       " Edge(source='b', role=':ARG1', target='k'),\n",
       " Edge(source='c', role=':consist', target='k')]"
      ]
     },
     "execution_count": 24,
     "metadata": {},
     "output_type": "execute_result"
    }
   ],
   "source": [
    "g = penman.decode('''\n",
    "  # ::snt I bought a ceramic knife\n",
    "  (b / buy-01\n",
    "     :ARG0 (i / i)\n",
    "     :ARG1 (k / knife\n",
    "              :consist-of (c / ceramic)))''')\n",
    "g.edges()"
   ]
  },
  {
   "cell_type": "markdown",
   "metadata": {},
   "source": [
    "Instead, by using the AMR-specific model, these edges are correctly interpreted:"
   ]
  },
  {
   "cell_type": "code",
   "execution_count": 25,
   "metadata": {},
   "outputs": [
    {
     "data": {
      "text/plain": [
       "[Edge(source='b', role=':ARG0', target='i'),\n",
       " Edge(source='b', role=':ARG1', target='k'),\n",
       " Edge(source='k', role=':consist-of', target='c')]"
      ]
     },
     "execution_count": 25,
     "metadata": {},
     "output_type": "execute_result"
    }
   ],
   "source": [
    "from penman.models import amr\n",
    "g = penman.decode('''\n",
    "  # ::snt I bought a ceramic knife\n",
    "  (b / buy-01\n",
    "     :ARG0 (i / i)\n",
    "     :ARG1 (k / knife\n",
    "              :consist-of (c / ceramic)))''',\n",
    "          model=amr.model)\n",
    "g.edges()"
   ]
  },
  {
   "cell_type": "markdown",
   "metadata": {},
   "source": [
    "If you don't want to pass in the model object each time, you can create a [PENMANCodec](https://penman.readthedocs.io/en/latest/api/penman.html#penman.PENMANCodec) object with a model, then it can decode and encode using the model. The only difference between using the codec object or the module functions is how the model is specified, as shown above."
   ]
  },
  {
   "cell_type": "code",
   "execution_count": 26,
   "metadata": {},
   "outputs": [
    {
     "data": {
      "text/plain": [
       "[Edge(source='k', role=':consist-of', target='c')]"
      ]
     },
     "execution_count": 26,
     "metadata": {},
     "output_type": "execute_result"
    }
   ],
   "source": [
    "amrcodec = penman.PENMANCodec(model=amr.model)\n",
    "amrcodec.decode('(k / knife :consist-of (c / ceramic))').edges()"
   ]
  },
  {
   "cell_type": "markdown",
   "metadata": {},
   "source": [
    "Models are also useful as a source of information for transformations, as shown in the next section."
   ]
  },
  {
   "cell_type": "markdown",
   "metadata": {},
   "source": [
    "## Transformations\n",
    "\n",
    "Penman's transformations sometimes modify the content of the graph and other times only restructure how the graph is displayed. They rely on a [Model](https://penman.readthedocs.io/en/latest/api/penman.model.html#penman.model.Model) for information on how to apply the transformations."
   ]
  },
  {
   "cell_type": "code",
   "execution_count": 27,
   "metadata": {},
   "outputs": [],
   "source": [
    "from penman import transform"
   ]
  },
  {
   "cell_type": "markdown",
   "metadata": {},
   "source": [
    "Consider the following graph which is erroneous because an inverted relation specifies a constant (meaning the source of the normalized relation is not a node):"
   ]
  },
  {
   "cell_type": "code",
   "execution_count": 28,
   "metadata": {},
   "outputs": [
    {
     "name": "stderr",
     "output_type": "stream",
     "text": [
      "WARNING:penman.layout:cannot deinvert attribute: ('c', ':domain-of', '7')\n"
     ]
    }
   ],
   "source": [
    "g = amrcodec.decode('''\n",
    "  (c / chapter\n",
    "     :domain-of 7)''')  # this will log a warning"
   ]
  },
  {
   "cell_type": "code",
   "execution_count": 29,
   "metadata": {},
   "outputs": [
    {
     "data": {
      "text/plain": [
       "[Attribute(source='c', role=':domain-of', target='7')]"
      ]
     },
     "execution_count": 29,
     "metadata": {},
     "output_type": "execute_result"
    }
   ],
   "source": [
    "g.attributes()  # note that it is not normalized"
   ]
  },
  {
   "cell_type": "markdown",
   "metadata": {},
   "source": [
    "In AMR, the inverted `:domain-of` relation has the canonical form `:mod` which is not inverted and thus eligible for specifying attributes. Note, however, that even decoding with the AMR model above did not convert the `:domain-of` into the more canonical `:mod` automatically as doing so would change the triples. To fix the error, you can use [transform.canonicalize_roles()](https://penman.readthedocs.io/en/latest/api/penman.transform.html#penman.transform.canonicalize_roles) with the AMR model. It works on the tree structure, so we first reparse it as a tree:"
   ]
  },
  {
   "cell_type": "code",
   "execution_count": 30,
   "metadata": {},
   "outputs": [
    {
     "name": "stdout",
     "output_type": "stream",
     "text": [
      "(c / chapter\n",
      "   :mod 7)\n"
     ]
    }
   ],
   "source": [
    "t = penman.parse('''\n",
    "  (c / chapter\n",
    "     :domain-of 7)''')\n",
    "t2 = transform.canonicalize_roles(t, model=amr.model)\n",
    "print(penman.format(t2))"
   ]
  },
  {
   "cell_type": "markdown",
   "metadata": {},
   "source": [
    "Reification is another kind of transformation. It works on graphs. There are two kinds of reification in Penman, and the first is [transform.reify_edges()](https://penman.readthedocs.io/en/latest/api/penman.transform.html#penman.transform.reify_edges), which does reification as defined by the AMR guidelines:"
   ]
  },
  {
   "cell_type": "code",
   "execution_count": 31,
   "metadata": {},
   "outputs": [
    {
     "name": "stdout",
     "output_type": "stream",
     "text": [
      "(c / chapter\n",
      "   :ARG1-of (_ / have-mod-91\n",
      "               :ARG2 7))\n"
     ]
    }
   ],
   "source": [
    "g = penman.interpret(t2, model=amr.model)  # get a graph from the tree\n",
    "g2 = transform.reify_edges(g, model=amr.model)  # :mod -> have-mod-91 is defined by the AMR model\n",
    "print(amrcodec.encode(g2))"
   ]
  },
  {
   "cell_type": "markdown",
   "metadata": {},
   "source": [
    "There is also [transform.reify_attributes()](https://penman.readthedocs.io/en/latest/api/penman.transform.html#penman.transform.reify_attributes) which replaces attribute values with nodes. This is another way one could deal with the warning above about interpretation being unable to deinvert an attribute. As this procedure is not defined by a model, the function does not take one:"
   ]
  },
  {
   "cell_type": "code",
   "execution_count": 32,
   "metadata": {},
   "outputs": [
    {
     "name": "stdout",
     "output_type": "stream",
     "text": [
      "(c / chapter\n",
      "   :mod (_ / 7))\n"
     ]
    }
   ],
   "source": [
    "g3 = transform.reify_attributes(g)\n",
    "print(amrcodec.encode(g3))"
   ]
  },
  {
   "cell_type": "markdown",
   "metadata": {},
   "source": [
    "Finally, there are some transformations defined by other parts of Penman. We've already seen [Tree.reset_variables()](https://penman.readthedocs.io/en/latest/api/penman.tree.html#penman.tree.Tree.reset_variables). Two others are defined in the [penman.layout](https://penman.readthedocs.io/en/latest/api/penman.layout.html) module.\n",
    "\n",
    "First, [layout.rearrange()](https://penman.readthedocs.io/en/latest/api/penman.layout.html#penman.layout.rearrange) will reorder branches in the tree without otherwise changing its structure. For example:"
   ]
  },
  {
   "cell_type": "code",
   "execution_count": 33,
   "metadata": {},
   "outputs": [
    {
     "name": "stdout",
     "output_type": "stream",
     "text": [
      "(t / try-01\n",
      "   :ARG0 d\n",
      "   :ARG1 (c / chase-01\n",
      "            :ARG0 (d / dog)\n",
      "            :ARG1 (c2 / cat)))\n"
     ]
    }
   ],
   "source": [
    "from penman import layout\n",
    "t = penman.parse('''\n",
    "  (t / try-01\n",
    "     :ARG1 (c / chase-01\n",
    "              :ARG1 (c2 / cat)\n",
    "              :ARG0 (d / dog))\n",
    "     :ARG0 d)''')\n",
    "layout.rearrange(t, key=amr.model.canonical_order)\n",
    "print(penman.format(t))"
   ]
  },
  {
   "cell_type": "markdown",
   "metadata": {},
   "source": [
    "Next, [layout.reconfigure()](https://penman.readthedocs.io/en/latest/api/penman.layout.html#penman.layout.reconfigure) performs more significant structure changes to the graph."
   ]
  },
  {
   "cell_type": "code",
   "execution_count": 34,
   "metadata": {},
   "outputs": [
    {
     "name": "stdout",
     "output_type": "stream",
     "text": [
      "(t / try-01\n",
      "   :ARG0 (d / dog\n",
      "            :ARG0-of (c / chase-01\n",
      "                        :ARG1 (c2 / cat)))\n",
      "   :ARG1 c)\n"
     ]
    }
   ],
   "source": [
    "g = penman.interpret(t)  # or layout.interpret()\n",
    "t2 = layout.reconfigure(g, key=amr.model.canonical_order)\n",
    "print(penman.format(t2))"
   ]
  },
  {
   "cell_type": "markdown",
   "metadata": {},
   "source": [
    "## Command-line Utility\n",
    "\n",
    "Many of the operations described above are available via the command-line `penman` utility. For more information, see [the documentation](https://penman.readthedocs.io/en/latest/command.html)."
   ]
  }
 ],
 "metadata": {
  "kernelspec": {
   "display_name": "Python 3",
   "language": "python",
   "name": "python3"
  },
  "language_info": {
   "codemirror_mode": {
    "name": "ipython",
    "version": 3
   },
   "file_extension": ".py",
   "mimetype": "text/x-python",
   "name": "python",
   "nbconvert_exporter": "python",
   "pygments_lexer": "ipython3",
   "version": "3.8.2"
  }
 },
 "nbformat": 4,
 "nbformat_minor": 4
}
