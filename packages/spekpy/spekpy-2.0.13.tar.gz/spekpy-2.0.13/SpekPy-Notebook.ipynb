{
 "cells": [
  {
   "cell_type": "markdown",
   "metadata": {},
   "source": [
    "# The SpekPy notebook\n",
    "An interactive Python session using SpekPy. Click on **Run** to run a code block."
   ]
  },
  {
   "cell_type": "markdown",
   "metadata": {},
   "source": [
    "An example: calculating a first half-value-layer and plotting a spectrum"
   ]
  },
  {
   "cell_type": "code",
   "execution_count": null,
   "metadata": {},
   "outputs": [],
   "source": [
    "import spekpy as sp # Import SpekPy\n",
    "import matplotlib.pyplot as plt # Import library for plotting\n",
    "\n",
    "s = sp.Spek(kvp=80,th=12) # Create a spectrum\n",
    "s.filter('Al',4) # Filter the spectrum\n",
    "\n",
    "hvl = s.get_hvl1() # Get the 1st half-value-layer\n",
    "print(hvl,'mm') # Print value to screen\n",
    "\n",
    "k, f = s.get_spectrum(edges=True) # Get the spectrum\n",
    "\n",
    "plt.plot(k, f) # Plot the spectrum\n",
    "plt.xlabel('Energy [keV]')\n",
    "plt.ylabel('Fluence per mAs per unit energy [photons/cm2/mAs/keV]')\n",
    "plt.title('An example x-ray spectrum')\n",
    "plt.show()"
   ]
  },
  {
   "cell_type": "markdown",
   "metadata": {},
   "source": [
    "Now it's your turn. Enter your code below. Or open a new notebook."
   ]
  },
  {
   "cell_type": "code",
   "execution_count": null,
   "metadata": {},
   "outputs": [],
   "source": []
  }
 ],
 "metadata": {
  "kernelspec": {
   "display_name": "Python 3",
   "language": "python",
   "name": "python3"
  },
  "language_info": {
   "codemirror_mode": {
    "name": "ipython",
    "version": 3
   },
   "file_extension": ".py",
   "mimetype": "text/x-python",
   "name": "python",
   "nbconvert_exporter": "python",
   "pygments_lexer": "ipython3",
   "version": "3.8.8"
  }
 },
 "nbformat": 4,
 "nbformat_minor": 2
}
