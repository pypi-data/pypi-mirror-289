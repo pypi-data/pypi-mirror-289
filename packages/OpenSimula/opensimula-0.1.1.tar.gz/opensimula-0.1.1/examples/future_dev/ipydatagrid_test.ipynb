{
 "cells": [
  {
   "cell_type": "code",
   "execution_count": 1,
   "metadata": {},
   "outputs": [
    {
     "data": {
      "application/vnd.jupyter.widget-view+json": {
       "model_id": "e72e6dcb22254d678fed734978578bd6",
       "version_major": 2,
       "version_minor": 0
      },
      "text/plain": [
       "DataGrid(auto_fit_params={'area': 'all', 'padding': 30, 'numCols': None}, corner_renderer=None, default_render…"
      ]
     },
     "execution_count": 1,
     "metadata": {},
     "output_type": "execute_result"
    },
    {
     "name": "stdout",
     "output_type": "stream",
     "text": [
      "Cell at primary key 2 and column 'Horsepower'(0) changed to 34\n",
      "Cell at primary key 1 and column 'Weight_in_lbs'(7) changed to 4500\n"
     ]
    }
   ],
   "source": [
    "from ipydatagrid import DataGrid\n",
    "from json import load\n",
    "import pandas as pd\n",
    "\n",
    "with open(\"./cars.json\") as fobj:\n",
    "    data = load(fobj)\n",
    "df = pd.DataFrame(data[\"data\"]).drop(\"index\", axis=1)\n",
    "\n",
    "datagrid = DataGrid(df, editable=True, layout={\"height\": \"200px\"})\n",
    "datagrid"
   ]
  },
  {
   "cell_type": "code",
   "execution_count": 2,
   "metadata": {},
   "outputs": [],
   "source": [
    "def on_cell_changed(cell):\n",
    "    #track_changed_cell(cell)\n",
    "    print(\n",
    "        \"Cell at primary key {row} and column '{column}'({column_index}) changed to {value}\".format(\n",
    "            row=cell[\"row\"],\n",
    "            column=cell[\"column\"],\n",
    "            column_index=cell[\"column_index\"],\n",
    "            value=cell[\"value\"],\n",
    "        )\n",
    "    )\n",
    "\n",
    "datagrid.on_cell_change(on_cell_changed)"
   ]
  }
 ],
 "metadata": {
  "kernelspec": {
   "display_name": "venv",
   "language": "python",
   "name": "python3"
  },
  "language_info": {
   "codemirror_mode": {
    "name": "ipython",
    "version": 3
   },
   "file_extension": ".py",
   "mimetype": "text/x-python",
   "name": "python",
   "nbconvert_exporter": "python",
   "pygments_lexer": "ipython3",
   "version": "3.11.4"
  }
 },
 "nbformat": 4,
 "nbformat_minor": 2
}
